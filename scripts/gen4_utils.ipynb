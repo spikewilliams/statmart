{
 "metadata": {
  "name": ""
 },
 "nbformat": 3,
 "nbformat_minor": 0,
 "worksheets": [
  {
   "cells": [
    {
     "cell_type": "heading",
     "level": 1,
     "metadata": {},
     "source": [
      "Generation 4 graph builder library"
     ]
    },
    {
     "cell_type": "code",
     "collapsed": false,
     "input": [
      "import json\n",
      "import pymysql\n",
      "import pandas.io.sql as psql\n",
      "import unittest\n",
      "\n",
      "from settings_statmart import *\n",
      "import utils_statmart as us\n",
      "import gen4_html as html\n",
      "import gen4_d3js_parts as d3\n"
     ],
     "language": "python",
     "metadata": {},
     "outputs": [],
     "prompt_number": 4
    },
    {
     "cell_type": "code",
     "collapsed": false,
     "input": [
      "def build_file_name(config):\n",
      "    return \"%s_%s.php\" % (config[\"prefix\"], config[\"suffix\"]);"
     ],
     "language": "python",
     "metadata": {},
     "outputs": [],
     "prompt_number": 2
    },
    {
     "cell_type": "code",
     "collapsed": false,
     "input": [
      "def get_all_series_json(config):\n",
      "    df = \"\"\n",
      "    with statmart_utils.get_db_connection() as cursor:\n",
      "        query = \"\"\"\n",
      "                SELECT identifier, description\n",
      "                FROM series as S \n",
      "                WHERE S.identifier like '%s%s%s'\n",
      "                \"\"\" % (config(\"prefix\"), \"\\_%\\_\", config(\"suffix\"))\n",
      "        df = psql.frame_query(query, con=cursor.connection)\n",
      "    return json.dumps(df.as_matrix().tolist(),indent=4)"
     ],
     "language": "python",
     "metadata": {},
     "outputs": [],
     "prompt_number": 2
    },
    {
     "cell_type": "code",
     "collapsed": false,
     "input": [
      "def build_d3_head(title, include_path=\"../../inc/\",style_include=\"style_basic.php\"):\n",
      "    meta = html.meta([(\"http-equiv\", \"content-type\"), (\"content\",\"text/html; charset=UTF-8\")])\n",
      "    titl = html.title(title)\n",
      "    scrp = html.script_ext(statmart_d3_path)\n",
      "    styl = html.style(html.php_include(include_path + style_include))\n",
      "    head = (\"\\n\").join([meta,titl,scrp,styl])\n",
      "    return html.head(head)"
     ],
     "language": "python",
     "metadata": {},
     "outputs": [],
     "prompt_number": 28
    },
    {
     "cell_type": "code",
     "collapsed": false,
     "input": [
      "def build_d3_line_graph(config):\n",
      "    script = []\n",
      "    script.append(d3.metadata_iso3_map % (config[\"iso3_map\"]))   \n",
      "    script.append(d3.metadata_series_info_map % (config[\"series_info_map\"]))   \n",
      "    \n",
      "    if \"currency_year\" in config:\n",
      "        script.append(util_currency_converter_2005)\n",
      "    \n",
      "    if config[\"series_source\"] == \"params\":\n",
      "        script.append(d3.util_function_get_parameters_by_name)\n",
      "        if config[\"series_param\"] == \"iso3\":\n",
      "            script.append(d3.js_series_name_from_iso3_parameter % (config[\"prefix\"],config[\"suffix\"]))\n",
      "        elif config[\"series_param\"] == \"s\":\n",
      "            script.append(d3.js_series_name_from_s_parameter)\n",
      "    \n",
      "    if config[\"data_source\"] == \"local\":\n",
      "        script.append(d3.js_dataset_list % get_all_series_json(config))\n",
      "    elif config[\"data_source\"] == \"query\":\n",
      "        script.append(d3.js_data_url_series_query)\n",
      "    \n",
      "    script.append(d3.graph_set_title % (config[\"title\"])) \n",
      "    if config[\"subtitle\"] == \"countryname\":   \n",
      "        script.append(d3.graph_set_subtitle_country)\n",
      "    else:\n",
      "        script.append(d3.graph_set_subtitle % (config[\"subtitle\"])) \n",
      "        \n",
      "    script.append(d3.graph_default_size)\n",
      "    script.append(d3.graph_title_location)\n",
      "    script.append(d3.graph_default_header)\n",
      "    \n",
      "    script.append(d3.include_js_d3_basic_axis)\n",
      "    script.append(d3.js_d3_start_csv)\n",
      "    \n",
      "    if config[\"unit\"] == \"guess\":\n",
      "        script.append(d3.js_unit_guess)\n",
      "    else:\n",
      "        script.append(d3.js_unit_set % (config[\"unit\"], str(config[\"multiplier\"])))\n",
      "    \n",
      "    script.append(d3.js_d3_process_annual_csv_data)\n",
      "    script.append(d3.js_d3_build_simple_xy_domains)\n",
      "    script.append(d3.js_d3_svg_build_x_axis)\n",
      "    \n",
      "    if config[\"y_axis_label\"] == \"unit\":\n",
      "        script.append(d3.js_d3_svg_build_y_axis_unit_label)\n",
      "    else:\n",
      "        script.append(d3.js_d3_svg_build_y_axis_label % config[\"y_axis_label\"])\n",
      "        \n",
      "    script.append(d3.js_d3_svg_draw_line)\n",
      "    script.append(d3.svg_draw_title)\n",
      "    script.append(d3.svg_draw_subtitle)\n",
      "    script.append(d3.svg_draw_source)\n",
      "    script.append(d3.js_d3_end_csv)\n",
      "    \n",
      "    head = build_d3_head(config[\"indicator\"])\n",
      "    body = html.body(html.script(\"\\n\".join(script)))\n",
      "    page = html.html(head + \"\\n\" + body)\n",
      "    page_name = build_file_name(config)\n",
      "    page_file = open(config[\"gen_4_dir\"] + page_name, \"w\", encoding=\"utf8\")\n",
      "    page_file.write(page)\n",
      "    page_file.close()    \n",
      "    return page"
     ],
     "language": "python",
     "metadata": {},
     "outputs": [],
     "prompt_number": 9
    },
    {
     "cell_type": "code",
     "collapsed": false,
     "input": [
      "import imp\n",
      "imp.reload(d3)\n",
      "#imp.reload(html)"
     ],
     "language": "python",
     "metadata": {},
     "outputs": [
      {
       "ename": "NameError",
       "evalue": "name 'd3' is not defined",
       "output_type": "pyerr",
       "traceback": [
        "\u001b[1;31m---------------------------------------------------------------------------\u001b[0m\n\u001b[1;31mNameError\u001b[0m                                 Traceback (most recent call last)",
        "\u001b[1;32m<ipython-input-3-4aec84023db9>\u001b[0m in \u001b[0;36m<module>\u001b[1;34m()\u001b[0m\n\u001b[0;32m      1\u001b[0m \u001b[1;32mimport\u001b[0m \u001b[0mimp\u001b[0m\u001b[1;33m\u001b[0m\u001b[0m\n\u001b[1;32m----> 2\u001b[1;33m \u001b[0mimp\u001b[0m\u001b[1;33m.\u001b[0m\u001b[0mreload\u001b[0m\u001b[1;33m(\u001b[0m\u001b[0md3\u001b[0m\u001b[1;33m)\u001b[0m\u001b[1;33m\u001b[0m\u001b[0m\n\u001b[0m\u001b[0;32m      3\u001b[0m \u001b[1;31m#imp.reload(html)\u001b[0m\u001b[1;33m\u001b[0m\u001b[1;33m\u001b[0m\u001b[0m\n",
        "\u001b[1;31mNameError\u001b[0m: name 'd3' is not defined"
       ]
      }
     ],
     "prompt_number": 3
    },
    {
     "cell_type": "code",
     "collapsed": false,
     "input": [
      "def get_iso3_map_json(config):\n",
      "    df = \"\"\n",
      "    with us.get_db_connection() as cursor:\n",
      "        query = \"\"\"\n",
      "                SELECT L.iso3, L.countryname, O.series, COUNT(O.dateid) as numberyears\n",
      "                FROM observation as O\n",
      "                INNER JOIN location as L ON O.locationid = L.id\n",
      "                WHERE O.series like '%s\\_%s\\_%s'\n",
      "                GROUP BY L.iso3\n",
      "                \"\"\" % (config[\"prefix\"], \"%\", config[\"suffix\"])\n",
      "        df = psql.frame_query(query, con=cursor.connection)\n",
      "        df = df.set_index(\"iso3\")\n",
      "    return df.to_json(orient=\"index\")"
     ],
     "language": "python",
     "metadata": {},
     "outputs": [],
     "prompt_number": 44
    },
    {
     "cell_type": "code",
     "collapsed": false,
     "input": [
      "def get_series_info_map_json(config):\n",
      "    df = \"\"\n",
      "    with us.get_db_connection() as cursor:\n",
      "        query = \"\"\"\n",
      "                SELECT identifier, originalsource, proximatesource\n",
      "                FROM series\n",
      "                WHERE series.identifier like '%s\\_%s\\_%s'\n",
      "                \"\"\" % (config[\"prefix\"], \"%\", config[\"suffix\"])\n",
      "        df = psql.frame_query(query, con=cursor.connection)\n",
      "        df = df.set_index(\"identifier\")\n",
      "    return df.to_json(orient=\"index\")"
     ],
     "language": "python",
     "metadata": {},
     "outputs": [],
     "prompt_number": 2
    },
    {
     "cell_type": "code",
     "collapsed": false,
     "input": [
      "def build_gen4_config(config, \n",
      "                      title=\"indicator\", \n",
      "                      subtitle=\"countryname\",\n",
      "                      y_axis_label=\"unit\",\n",
      "                      data_source=\"query\", \n",
      "                      series_source=\"params\", \n",
      "                      series_param=\"iso3\",\n",
      "                      unit=\"guess\"):\n",
      "    config[\"iso3_map\"] = get_iso3_map_json(config)\n",
      "    config[\"series_info_map\"] = get_series_info_map_json(config)\n",
      "    config[\"title\"] = title\n",
      "    if title == \"indicator\":\n",
      "        config[\"title\"] = config[\"indicator\"]\n",
      "    config[\"subtitle\"] = subtitle\n",
      "    config[\"y_axis_label\"] = y_axis_label\n",
      "    config[\"data_source\"] = data_source\n",
      "    config[\"series_source\"] = series_source\n",
      "    config[\"series_param\"] = series_param\n",
      "    config[\"unit\"] = unit\n",
      "    return config"
     ],
     "language": "python",
     "metadata": {},
     "outputs": [],
     "prompt_number": 1
    },
    {
     "cell_type": "code",
     "collapsed": false,
     "input": [],
     "language": "python",
     "metadata": {},
     "outputs": []
    }
   ],
   "metadata": {}
  }
 ]
}