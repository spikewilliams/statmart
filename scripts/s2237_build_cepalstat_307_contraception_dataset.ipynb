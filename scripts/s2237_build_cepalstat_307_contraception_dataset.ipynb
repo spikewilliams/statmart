{
 "metadata": {
  "name": ""
 },
 "nbformat": 3,
 "nbformat_minor": 0,
 "worksheets": [
  {
   "cells": [
    {
     "cell_type": "heading",
     "level": 1,
     "metadata": {},
     "source": [
      "Build script for CEPALStat indicator #307: Contraception usage"
     ]
    },
    {
     "cell_type": "markdown",
     "metadata": {},
     "source": [
      "This script creates csv files out of CEPALStat data, in  a format suitable for subsequent loading to the Statmart database. Each country with an available time series will have two csv files representing their data. The first contains the time series data, and the second will contain metadata about the time series. Additionally, the file \"\\_contraception.csv\" will be created to list all the created files."
     ]
    },
    {
     "cell_type": "code",
     "collapsed": false,
     "input": [
      "import os, imp\n",
      "import pandas as pd\n",
      "\n",
      "from s0000_statmart_settings import *\n",
      "import s0001_statmart_utils as statmart_utils\n",
      "import s2201_cepalstat_utils as cepalstat_utils"
     ],
     "language": "python",
     "metadata": {},
     "outputs": [],
     "prompt_number": 15
    },
    {
     "cell_type": "markdown",
     "metadata": {},
     "source": [
      "Settings:"
     ]
    },
    {
     "cell_type": "code",
     "collapsed": false,
     "input": [
      "gen_1_dir = statmart_facts_gen1 + \"cepalstat/\"\n",
      "gen_2_dir = statmart_facts_gen2 + \"cepalstat/contraception/\"\n",
      "\n",
      "prefix = \"contraception\"\n",
      "suffix = \"cepalstat\"\n",
      "indicator_id = \"307\""
     ],
     "language": "python",
     "metadata": {},
     "outputs": [],
     "prompt_number": 16
    },
    {
     "cell_type": "markdown",
     "metadata": {},
     "source": [
      "We have two csv files pulled down from CEPALStat by an outside script. Lets take a look at what is in these files. First, the data file:"
     ]
    },
    {
     "cell_type": "code",
     "collapsed": false,
     "input": [
      "statfile = gen_1_dir + indicator_id + \"_all.csv\"\n",
      "df = pd.read_csv(statfile, encoding=\"utf-8\", index_col=[\"ISO3\"])\n",
      "df[:10] # have a look at a sample of the data"
     ],
     "language": "python",
     "metadata": {},
     "outputs": [
      {
       "html": [
        "<div style=\"max-height:1000px;max-width:1500px;overflow:auto;\">\n",
        "<table border=\"1\" class=\"dataframe\">\n",
        "  <thead>\n",
        "    <tr style=\"text-align: right;\">\n",
        "      <th></th>\n",
        "      <th>Year</th>\n",
        "      <th>Country</th>\n",
        "      <th>Value</th>\n",
        "      <th>Source</th>\n",
        "      <th>Notes</th>\n",
        "    </tr>\n",
        "    <tr>\n",
        "      <th>ISO3</th>\n",
        "      <th></th>\n",
        "      <th></th>\n",
        "      <th></th>\n",
        "      <th></th>\n",
        "      <th></th>\n",
        "    </tr>\n",
        "  </thead>\n",
        "  <tbody>\n",
        "    <tr>\n",
        "      <th>GRD</th>\n",
        "      <td> 1990</td>\n",
        "      <td>            Grenada</td>\n",
        "      <td> 54.3</td>\n",
        "      <td> 51</td>\n",
        "      <td>     4421,5169,1658</td>\n",
        "    </tr>\n",
        "    <tr>\n",
        "      <th>DOM</th>\n",
        "      <td> 1991</td>\n",
        "      <td> Dominican Republic</td>\n",
        "      <td> 56.4</td>\n",
        "      <td> 51</td>\n",
        "      <td>               1658</td>\n",
        "    </tr>\n",
        "    <tr>\n",
        "      <th>BLZ</th>\n",
        "      <td> 1991</td>\n",
        "      <td>             Belize</td>\n",
        "      <td> 46.7</td>\n",
        "      <td> 51</td>\n",
        "      <td>          4421,1658</td>\n",
        "    </tr>\n",
        "    <tr>\n",
        "      <th>SUR</th>\n",
        "      <td> 1992</td>\n",
        "      <td>           Suriname</td>\n",
        "      <td> 48.0</td>\n",
        "      <td> 51</td>\n",
        "      <td>     4421,5170,1658</td>\n",
        "    </tr>\n",
        "    <tr>\n",
        "      <th>GUY</th>\n",
        "      <td> 1992</td>\n",
        "      <td>             Guyana</td>\n",
        "      <td> 38.2</td>\n",
        "      <td> 51</td>\n",
        "      <td> 280,4421,5169,1658</td>\n",
        "    </tr>\n",
        "    <tr>\n",
        "      <th>JAM</th>\n",
        "      <td> 1993</td>\n",
        "      <td>            Jamaica</td>\n",
        "      <td> 62.0</td>\n",
        "      <td> 51</td>\n",
        "      <td>          4421,1658</td>\n",
        "    </tr>\n",
        "    <tr>\n",
        "      <th>HTI</th>\n",
        "      <td> 1995</td>\n",
        "      <td>              Haiti</td>\n",
        "      <td> 18.0</td>\n",
        "      <td> 51</td>\n",
        "      <td>          2651,1658</td>\n",
        "    </tr>\n",
        "    <tr>\n",
        "      <th>DOM</th>\n",
        "      <td> 1996</td>\n",
        "      <td> Dominican Republic</td>\n",
        "      <td> 63.7</td>\n",
        "      <td> 51</td>\n",
        "      <td>               1658</td>\n",
        "    </tr>\n",
        "    <tr>\n",
        "      <th>PRI</th>\n",
        "      <td> 1996</td>\n",
        "      <td>        Puerto Rico</td>\n",
        "      <td> 77.7</td>\n",
        "      <td> 51</td>\n",
        "      <td> 405,6683,5169,1658</td>\n",
        "    </tr>\n",
        "    <tr>\n",
        "      <th>JAM</th>\n",
        "      <td> 1997</td>\n",
        "      <td>            Jamaica</td>\n",
        "      <td> 65.9</td>\n",
        "      <td> 51</td>\n",
        "      <td>               1658</td>\n",
        "    </tr>\n",
        "  </tbody>\n",
        "</table>\n",
        "<p>10 rows \u00d7 5 columns</p>\n",
        "</div>"
       ],
       "metadata": {},
       "output_type": "pyout",
       "prompt_number": 17,
       "text": [
        "      Year             Country  Value  Source               Notes\n",
        "ISO3                                                             \n",
        "GRD   1990             Grenada   54.3      51      4421,5169,1658\n",
        "DOM   1991  Dominican Republic   56.4      51                1658\n",
        "BLZ   1991              Belize   46.7      51           4421,1658\n",
        "SUR   1992            Suriname   48.0      51      4421,5170,1658\n",
        "GUY   1992              Guyana   38.2      51  280,4421,5169,1658\n",
        "JAM   1993             Jamaica   62.0      51           4421,1658\n",
        "HTI   1995               Haiti   18.0      51           2651,1658\n",
        "DOM   1996  Dominican Republic   63.7      51                1658\n",
        "PRI   1996         Puerto Rico   77.7      51  405,6683,5169,1658\n",
        "JAM   1997             Jamaica   65.9      51                1658\n",
        "\n",
        "[10 rows x 5 columns]"
       ]
      }
     ],
     "prompt_number": 17
    },
    {
     "cell_type": "markdown",
     "metadata": {},
     "source": [
      "Here is the metadata:"
     ]
    },
    {
     "cell_type": "code",
     "collapsed": false,
     "input": [
      "metafile = gen_1_dir + indicator_id + \"_meta.csv\"\n",
      "metamap = cepalstat_utils.parse_meta_file(metafile)\n",
      "metamap"
     ],
     "language": "python",
     "metadata": {},
     "outputs": [
      {
       "metadata": {},
       "output_type": "pyout",
       "prompt_number": 20,
       "text": [
        "{'definition': 'Corresponds to the percentage of women who are practising, or whose sexual partners are practising any form of contraception. It is usually reported for women ages 15-49 in marital or consensual unions',\n",
        " 2651: 'Years of survey: 1994-1995',\n",
        " 4419: 'Years of survey: 2002-2003',\n",
        " 4420: 'Years of survey: 2005-2006',\n",
        " 4421: 'Ages 15-44',\n",
        " 4422: 'Ages 15-45',\n",
        " 4424: 'Ages 18-44',\n",
        " 'source': 'United Nations Statistics Division: Millennium Indicators Database',\n",
        " 5169: 'Adjusted',\n",
        " 5170: 'Data pertain to all women of reproductive age, irrespective of marital status',\n",
        " 'indicator': 'Contraceptive prevalence rate among married women aged 15-49, any method',\n",
        " 405: 'Years of survey: 1995-1996',\n",
        " 5173: 'Data pertain to sexually active women of reproductive age',\n",
        " 280: 'Years of survey: 1991-1992',\n",
        " 4452: 'Years of survey: 2006-2007',\n",
        " 90: 'Preliminary figures',\n",
        " 6683: 'Figures by method do not add up to the total',\n",
        " 6684: 'Years of the survey 2010-2011',\n",
        " 1658: 'The figure is the one produced and disseminated by the country (including data adjusted by the country to meet international standards)',\n",
        " 4447: 'Methods used during the last two months'}"
       ]
      }
     ],
     "prompt_number": 20
    },
    {
     "cell_type": "markdown",
     "metadata": {},
     "source": [
      "And here we build a csv file containing a yearly series of values for each country/sector combination. We create a metadata file for each one as well."
     ]
    },
    {
     "cell_type": "code",
     "collapsed": false,
     "input": [
      "imp.reload(cepalstat_utils) # just to ensure we have any recent updates to the module loaded into memory\n",
      "\n",
      "def get_metadata(iso3, meta_map):\n",
      "    country = statmart_utils.get_country_by_iso3(iso3)    \n",
      "    return [(\"name\", \"%s - Contraceptive use [CEPALStat]\" % (country)),\n",
      "                (\"originalsource\", meta_map[\"source\"]),\n",
      "                (\"proximatesource\", \"CEPALStat\"),\n",
      "                (\"dataset\", meta_map[\"indicator\"] + \" [\" + indicator_id + \"]\"),\n",
      "                (\"description\", meta_map[\"definition\"]),\n",
      "                (\"category\", \"Social\"),\n",
      "                (\"type\", \"Health\")\n",
      "                ]\n",
      "\n",
      "report = cepalstat_utils.build_files(df, get_metadata, metamap, gen_2_dir, prefix, suffix)\n",
      "\n",
      "print(\"%i series saved to %s\" % (len(report), gen_2_dir))\n",
      "report"
     ],
     "language": "python",
     "metadata": {},
     "outputs": [
      {
       "output_type": "stream",
       "stream": "stdout",
       "text": [
        "12 series saved to C:/portal/statmart/data/facts/gen2/cepalstat/contraception/\n"
       ]
      },
      {
       "html": [
        "<div style=\"max-height:1000px;max-width:1500px;overflow:auto;\">\n",
        "<table border=\"1\" class=\"dataframe\">\n",
        "  <thead>\n",
        "    <tr style=\"text-align: right;\">\n",
        "      <th></th>\n",
        "      <th>0</th>\n",
        "    </tr>\n",
        "  </thead>\n",
        "  <tbody>\n",
        "    <tr>\n",
        "      <th>Anguilla</th>\n",
        "      <td> contraception_aia_cepalstat</td>\n",
        "    </tr>\n",
        "    <tr>\n",
        "      <th>Belize</th>\n",
        "      <td> contraception_blz_cepalstat</td>\n",
        "    </tr>\n",
        "    <tr>\n",
        "      <th>Cuba</th>\n",
        "      <td> contraception_cub_cepalstat</td>\n",
        "    </tr>\n",
        "    <tr>\n",
        "      <th>Dominican Republic</th>\n",
        "      <td> contraception_dom_cepalstat</td>\n",
        "    </tr>\n",
        "    <tr>\n",
        "      <th>Grenada</th>\n",
        "      <td> contraception_grd_cepalstat</td>\n",
        "    </tr>\n",
        "    <tr>\n",
        "      <th>Guyana</th>\n",
        "      <td> contraception_guy_cepalstat</td>\n",
        "    </tr>\n",
        "    <tr>\n",
        "      <th>Haiti</th>\n",
        "      <td> contraception_hti_cepalstat</td>\n",
        "    </tr>\n",
        "    <tr>\n",
        "      <th>Jamaica</th>\n",
        "      <td> contraception_jam_cepalstat</td>\n",
        "    </tr>\n",
        "    <tr>\n",
        "      <th>Puerto Rico</th>\n",
        "      <td> contraception_pri_cepalstat</td>\n",
        "    </tr>\n",
        "    <tr>\n",
        "      <th>Suriname</th>\n",
        "      <td> contraception_sur_cepalstat</td>\n",
        "    </tr>\n",
        "    <tr>\n",
        "      <th>Trinidad and Tobago</th>\n",
        "      <td> contraception_tto_cepalstat</td>\n",
        "    </tr>\n",
        "    <tr>\n",
        "      <th>U.S. Virgin Islands</th>\n",
        "      <td> contraception_vir_cepalstat</td>\n",
        "    </tr>\n",
        "  </tbody>\n",
        "</table>\n",
        "<p>12 rows \u00d7 1 columns</p>\n",
        "</div>"
       ],
       "metadata": {},
       "output_type": "pyout",
       "prompt_number": 21,
       "text": [
        "                                               0\n",
        "Anguilla             contraception_aia_cepalstat\n",
        "Belize               contraception_blz_cepalstat\n",
        "Cuba                 contraception_cub_cepalstat\n",
        "Dominican Republic   contraception_dom_cepalstat\n",
        "Grenada              contraception_grd_cepalstat\n",
        "Guyana               contraception_guy_cepalstat\n",
        "Haiti                contraception_hti_cepalstat\n",
        "Jamaica              contraception_jam_cepalstat\n",
        "Puerto Rico          contraception_pri_cepalstat\n",
        "Suriname             contraception_sur_cepalstat\n",
        "Trinidad and Tobago  contraception_tto_cepalstat\n",
        "U.S. Virgin Islands  contraception_vir_cepalstat\n",
        "\n",
        "[12 rows x 1 columns]"
       ]
      }
     ],
     "prompt_number": 21
    },
    {
     "cell_type": "code",
     "collapsed": false,
     "input": [
      "import imp\n",
      "imp.reload(cepalstat_utils)"
     ],
     "language": "python",
     "metadata": {},
     "outputs": [
      {
       "metadata": {},
       "output_type": "pyout",
       "prompt_number": 22,
       "text": [
        "<module 's2201_cepalstat_utils' from '.\\\\s2201_cepalstat_utils.py'>"
       ]
      }
     ],
     "prompt_number": 22
    },
    {
     "cell_type": "code",
     "collapsed": false,
     "input": [],
     "language": "python",
     "metadata": {},
     "outputs": []
    }
   ],
   "metadata": {}
  }
 ]
}