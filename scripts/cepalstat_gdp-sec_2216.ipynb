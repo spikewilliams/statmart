{
 "metadata": {
  "name": ""
 },
 "nbformat": 3,
 "nbformat_minor": 0,
 "worksheets": [
  {
   "cells": [
    {
     "cell_type": "heading",
     "level": 1,
     "metadata": {},
     "source": [
      "Build script for CEPALStat indicator #2216: Sectoral GDP"
     ]
    },
    {
     "cell_type": "code",
     "collapsed": false,
     "input": [
      "import os, imp\n",
      "import pandas as pd\n",
      "\n",
      "from settings_statmart import *\n",
      "import utils_statmart as us\n",
      "\n",
      "import gen1_cepalstat\n",
      "import gen2_cepalstat\n",
      "import gen3_utils\n",
      "import gen4_utils\n",
      "\n",
      "us.verbose = True"
     ],
     "language": "python",
     "metadata": {},
     "outputs": [],
     "prompt_number": 1
    },
    {
     "cell_type": "markdown",
     "metadata": {},
     "source": [
      "Customize the below per this specfic dataset...."
     ]
    },
    {
     "cell_type": "code",
     "collapsed": false,
     "input": [
      "prefix = \"gdp-sec\"\n",
      "suffix = \"cepalstat\"\n",
      "indicator_id = \"2216\"\n",
      "indicator_name = \"Gross Domestic Product\"\n",
      "indicator_category = \"Economic\"\n",
      "indicator_type = \"GDP\"\n",
      "\n",
      "config = us.build_config(suffix,prefix,indicator_id,indicator_name,indicator_category,indicator_type)\n",
      "config[\"source\"] = \"Economic Commission for Latin America and the Caribbean\"\n",
      "config[\"multiplier\"] = 1000000\n",
      "#config[\"multiplier\"] = 0.01\n",
      "\n",
      "config"
     ],
     "language": "python",
     "metadata": {},
     "outputs": [
      {
       "metadata": {},
       "output_type": "pyout",
       "prompt_number": 2,
       "text": [
        "{'gen_1_dir': 'C:/portal/statmart/data/facts/gen1/cepalstat/',\n",
        " 'gen_2_dir': 'C:/portal/statmart/data/facts/gen2/cepalstat/gdp-sec/',\n",
        " 'gen_4_dir': 'C:/portal/statmart/view/gen4/cepalstat/',\n",
        " 'indicator': 'Gross Domestic Product',\n",
        " 'indicator_category': 'Economic',\n",
        " 'indicator_id': '2216',\n",
        " 'indicator_type': 'GDP',\n",
        " 'multiplier': 1000000,\n",
        " 'prefix': 'gdp-sec',\n",
        " 'source': 'Economic Commission for Latin America and the Caribbean',\n",
        " 'suffix': 'cepalstat'}"
       ]
      }
     ],
     "prompt_number": 2
    },
    {
     "cell_type": "markdown",
     "metadata": {},
     "source": [
      "Generation 1 - Downloads XML through the CEPALStat web service and dumps the enclosed data to a csv file."
     ]
    },
    {
     "cell_type": "code",
     "collapsed": false,
     "input": [
      "gen1_cepalstat.download(config)"
     ],
     "language": "python",
     "metadata": {},
     "outputs": [
      {
       "output_type": "stream",
       "stream": "stdout",
       "text": [
        "http://interwp.cepal.org/sisgen/ws/cepalstat/getDataMeta.asp?idIndicator=2216&dim_208=214,218,219,220,228,234,237,238,246,249,256,257,260,262,263,264&dim_21004=21117,21165,21166,21167,21168,21170,21171,21173,21174,21176,21178,21180,21181,21183,21194,21195,21196,21197,21890,21891&dim_29117=29160,29161,29162,29163,29164,29165,29166,29167,29168,29169,29170,29171,29172,29173,29174,29175,29176,29177,29178,29179,29180,29181,29182&language=english&password=ripken8\n",
        "{'208': {'labels': {'263': 'Suriname', '262': 'Saint Lucia', '214': 'Antigua and Barbuda', '260': 'Saint Vincent and the Grenadines', '238': 'Haiti', '264': 'Dominican Republic', '234': 'Grenada', '220': 'Belize', '237': 'Guyana', '218': 'Bahamas', '219': 'Barbados', '249': 'Cuba', '228': 'Dominica', '246': 'Jamaica', '256': 'Trinidad and Tobago', '257': 'Saint Kitts and Nevis'}, 'name': 'Countries'}, '21004': {'labels': {'21117': 'Agriculture, hunting, forestry and fishing', '21166': 'Gross domestic product (GDP)', '21891': 'Fishing', '21196': 'Transport and supporting and auxiliary activities', '21173': 'Transport, storage and communications', '21180': 'Total value added', '21174': 'Financial intermediation, real estate, renting and business activities', '21176': 'Public administration, defence, compulsory social security, education, health and social work, and other community, social and personal service activities', '21170': 'Construction', '21171': 'Wholesale and retail trade, repair of goods, and hotels and restaurants', '21165': 'Mining and quarrying', '21890': 'Agriculture, hunting and forestry', '21181': 'Taxes on products less subsidies on products', '21167': 'Manufacturing', '21183': 'Statistical discrepancy of GDP by economic activity', '21168': 'Electricity, gas and water supply', '21178': 'Financial intermediation services indirectly measured (FISIM)', '21197': 'Post and telecommunications', '21194': 'Wholesale and retail trade, and repair of goods', '21195': 'Hotels and restaurants'}, 'name': 'Item'}, '29117': {'labels': {'29161': '1991', '29163': '1993', '29181': '2011', '29180': '2010', '29169': '1999', '29168': '1998', '29178': '2008', '29179': '2009', '29162': '1992', '29174': '2004', '29175': '2005', '29176': '2006', '29177': '2007', '29167': '1997', '29171': '2001', '29172': '2002', '29173': '2003', '29160': '1990', '29170': '2000', '29166': '1996', '29182': '2012', '29165': '1995', '29164': '1994'}, 'name': 'Years'}}\n"
       ]
      }
     ],
     "prompt_number": 3
    },
    {
     "cell_type": "markdown",
     "metadata": {},
     "source": [
      "Generation 2 - Refines the rough csv data from Generation 1 into a standardized csv format common to all data sets. Prepares this data for importing to the database."
     ]
    },
    {
     "cell_type": "code",
     "collapsed": false,
     "input": [
      "statfile = config[\"gen_1_dir\"] + indicator_id + \"_all.csv\"\n",
      "df = pd.read_csv(statfile, encoding=\"utf-8\", index_col=[\"Item\"])\n",
      "df = df.transpose()\n",
      "sample = df[\"Construction\"].transpose()\n",
      "sample[11:20]"
     ],
     "language": "python",
     "metadata": {},
     "outputs": [
      {
       "html": [
        "<div style=\"max-height:1000px;max-width:1500px;overflow:auto;\">\n",
        "<table border=\"1\" class=\"dataframe\">\n",
        "  <thead>\n",
        "    <tr style=\"text-align: right;\">\n",
        "      <th></th>\n",
        "      <th>Year</th>\n",
        "      <th>Value</th>\n",
        "      <th>Source</th>\n",
        "      <th>Notes</th>\n",
        "      <th>ISO3</th>\n",
        "      <th>Country</th>\n",
        "    </tr>\n",
        "    <tr>\n",
        "      <th>Item</th>\n",
        "      <th></th>\n",
        "      <th></th>\n",
        "      <th></th>\n",
        "      <th></th>\n",
        "      <th></th>\n",
        "      <th></th>\n",
        "    </tr>\n",
        "  </thead>\n",
        "  <tbody>\n",
        "    <tr>\n",
        "      <th>Construction</th>\n",
        "      <td> 1990</td>\n",
        "      <td> 810.5291</td>\n",
        "      <td> 733</td>\n",
        "      <td> 6432,6495</td>\n",
        "      <td> JAM</td>\n",
        "      <td>             Jamaica</td>\n",
        "    </tr>\n",
        "    <tr>\n",
        "      <th>Construction</th>\n",
        "      <td> 1990</td>\n",
        "      <td> 51.37965</td>\n",
        "      <td> 733</td>\n",
        "      <td> 6495,6432</td>\n",
        "      <td> LCA</td>\n",
        "      <td>         Saint Lucia</td>\n",
        "    </tr>\n",
        "    <tr>\n",
        "      <th>Construction</th>\n",
        "      <td> 1990</td>\n",
        "      <td> 8.361705</td>\n",
        "      <td> 733</td>\n",
        "      <td> 6432,6495</td>\n",
        "      <td> DMA</td>\n",
        "      <td>            Dominica</td>\n",
        "    </tr>\n",
        "    <tr>\n",
        "      <th>Construction</th>\n",
        "      <td> 1990</td>\n",
        "      <td> 29.34741</td>\n",
        "      <td> 733</td>\n",
        "      <td> 6432,6495</td>\n",
        "      <td> BLZ</td>\n",
        "      <td>              Belize</td>\n",
        "    </tr>\n",
        "    <tr>\n",
        "      <th>Construction</th>\n",
        "      <td> 1991</td>\n",
        "      <td> 31.61016</td>\n",
        "      <td> 733</td>\n",
        "      <td> 6432,6495</td>\n",
        "      <td> BLZ</td>\n",
        "      <td>              Belize</td>\n",
        "    </tr>\n",
        "    <tr>\n",
        "      <th>Construction</th>\n",
        "      <td> 1991</td>\n",
        "      <td> 54.77535</td>\n",
        "      <td> 733</td>\n",
        "      <td> 6432,6495</td>\n",
        "      <td> ATG</td>\n",
        "      <td> Antigua and Barbuda</td>\n",
        "    </tr>\n",
        "    <tr>\n",
        "      <th>Construction</th>\n",
        "      <td> 1991</td>\n",
        "      <td> 473.2429</td>\n",
        "      <td> 733</td>\n",
        "      <td> 6495,6432</td>\n",
        "      <td> TTO</td>\n",
        "      <td> Trinidad and Tobago</td>\n",
        "    </tr>\n",
        "    <tr>\n",
        "      <th>Construction</th>\n",
        "      <td> 1991</td>\n",
        "      <td> 8.509962</td>\n",
        "      <td> 733</td>\n",
        "      <td> 6432,6495</td>\n",
        "      <td> DMA</td>\n",
        "      <td>            Dominica</td>\n",
        "    </tr>\n",
        "    <tr>\n",
        "      <th>Construction</th>\n",
        "      <td> 1991</td>\n",
        "      <td> 29.98271</td>\n",
        "      <td> 733</td>\n",
        "      <td> 6432,6495</td>\n",
        "      <td> GRD</td>\n",
        "      <td>             Grenada</td>\n",
        "    </tr>\n",
        "  </tbody>\n",
        "</table>\n",
        "<p>9 rows \u00d7 6 columns</p>\n",
        "</div>"
       ],
       "metadata": {},
       "output_type": "pyout",
       "prompt_number": 4,
       "text": [
        "              Year     Value Source      Notes ISO3              Country\n",
        "Item                                                                    \n",
        "Construction  1990  810.5291    733  6432,6495  JAM              Jamaica\n",
        "Construction  1990  51.37965    733  6495,6432  LCA          Saint Lucia\n",
        "Construction  1990  8.361705    733  6432,6495  DMA             Dominica\n",
        "Construction  1990  29.34741    733  6432,6495  BLZ               Belize\n",
        "Construction  1991  31.61016    733  6432,6495  BLZ               Belize\n",
        "Construction  1991  54.77535    733  6432,6495  ATG  Antigua and Barbuda\n",
        "Construction  1991  473.2429    733  6495,6432  TTO  Trinidad and Tobago\n",
        "Construction  1991  8.509962    733  6432,6495  DMA             Dominica\n",
        "Construction  1991  29.98271    733  6432,6495  GRD              Grenada\n",
        "\n",
        "[9 rows x 6 columns]"
       ]
      }
     ],
     "prompt_number": 4
    },
    {
     "cell_type": "markdown",
     "metadata": {},
     "source": [
      "We need a list of sectors so we can build a map out of them. __Should any sectors be added to the data in the future, the additional fields will need to be added in the sectorMap, below.__ If the additional sector fields are not added, an error will occur during the file generation step, when the sector name is not found in sector_map."
     ]
    },
    {
     "cell_type": "code",
     "collapsed": false,
     "input": [
      "sectors = us.get_index_set(df.transpose())\n",
      "sectors"
     ],
     "language": "python",
     "metadata": {},
     "outputs": [
      {
       "metadata": {},
       "output_type": "pyout",
       "prompt_number": 5,
       "text": [
        "{'Agriculture, hunting and forestry',\n",
        " 'Agriculture, hunting, forestry and fishing',\n",
        " 'Construction',\n",
        " 'Electricity, gas and water supply',\n",
        " 'Financial intermediation services indirectly measured (FISIM)',\n",
        " 'Financial intermediation, real estate, renting and business activities',\n",
        " 'Fishing',\n",
        " 'Gross domestic product (GDP)',\n",
        " 'Hotels and restaurants',\n",
        " 'Manufacturing',\n",
        " 'Mining and quarrying',\n",
        " 'Post and telecommunications',\n",
        " 'Public administration, defence, compulsory social security, education, health and social work, and other community, social and personal service activities',\n",
        " 'Statistical discrepancy of GDP by economic activity',\n",
        " 'Taxes on products less subsidies on products',\n",
        " 'Total value added',\n",
        " 'Transport and supporting and auxiliary activities',\n",
        " 'Transport, storage and communications',\n",
        " 'Wholesale and retail trade, and repair of goods',\n",
        " 'Wholesale and retail trade, repair of goods, and hotels and restaurants'}"
       ]
      }
     ],
     "prompt_number": 5
    },
    {
     "cell_type": "markdown",
     "metadata": {},
     "source": [
      "Here is the sector_map, which maps every long name of a sector (see set listing above) to a short one for use in the file system. We also ensure that a directory exists to corresponding to each sector in the map."
     ]
    },
    {
     "cell_type": "code",
     "collapsed": false,
     "input": [
      "sector_map = {'Agriculture, hunting and forestry':'aghufo',\n",
      " 'Agriculture, hunting, forestry and fishing':'aghufofi',\n",
      " 'Construction':'cstrn',\n",
      " 'Electricity, gas and water supply':'egws',\n",
      " 'Financial intermediation services indirectly measured (FISIM)':'fisim',\n",
      " 'Financial intermediation, real estate, renting and business activities':'firerba',\n",
      " 'Fishing':'fish',\n",
      " 'Gross domestic product (GDP)':'gdp',\n",
      " 'Hotels and restaurants':'hr',\n",
      " 'Manufacturing':'mfg',\n",
      " 'Mining and quarrying':'mq',\n",
      " 'Post and telecommunications':'pt',\n",
      " 'Public administration, defence; compulsory social security, education, ' +\n",
      "     'health and social work, and other community, social and personal service activities': 'public',\n",
      " 'Statistical discrepancy of GDP by economic activity': 'discrep',\n",
      " 'Taxes on products less subsidies on products': 'taxes',\n",
      " 'Total value added': 'tva',\n",
      " 'Transport and supporting and auxiliary activities': 'tsaa',\n",
      " 'Transport, storage and communications': 'tsc',\n",
      " 'Wholesale and retail trade, and repair of goods': 'wrtrg',\n",
      " 'Wholesale and retail trade, repair of goods, and hotels and restaurants': 'wrtrghr'}\n",
      "                                                                                \n",
      "for val in sector_map.values(): # ensure there is a directory for each of the above sets\n",
      "    directory = config['gen_2_dir'] + val + \"/\"\n",
      "    us.mkdirs(directory)"
     ],
     "language": "python",
     "metadata": {},
     "outputs": [],
     "prompt_number": 6
    },
    {
     "cell_type": "code",
     "collapsed": false,
     "input": [
      "metafile = config[\"gen_1_dir\"] + config[\"indicator_id\"] + \"_meta.csv\"\n",
      "metamap = gen2_cepalstat.parse_meta_file(metafile)\n",
      "metamap"
     ],
     "language": "python",
     "metadata": {},
     "outputs": [
      {
       "metadata": {},
       "output_type": "pyout",
       "prompt_number": 7,
       "text": [
        "{'6432': 'At 2005 prices',\n",
        " '6495': 'The sum of the subcomponents does not necessarily match the total owing to the retropolation method used',\n",
        " 'definition': 'El producto interno bruto (PIB) es el valor del flujo de bienes y servicios producidos en un pa\u00eds durante un per\u00edodo de referencia determinado. (Translation in progress ...)',\n",
        " 'indicator': 'Annual Gross Domestic Product (GDP) by activity at constant prices',\n",
        " 'source': 'Economic Commission for Latin America and the Caribbean :  Estimaciones propias con base en fuentes oficiales  (Translation in progress ...)'}"
       ]
      }
     ],
     "prompt_number": 7
    },
    {
     "cell_type": "code",
     "collapsed": false,
     "input": [
      "metamap.update(config)\n",
      "metamap[\"note\"] = metamap[\"6495\"]\n",
      "metamap[\"unit\"] = \"USD2005\"\n",
      "del metamap[\"6432\"]\n",
      "del metamap[\"6495\"]\n",
      "metamap"
     ],
     "language": "python",
     "metadata": {},
     "outputs": [
      {
       "metadata": {},
       "output_type": "pyout",
       "prompt_number": 8,
       "text": [
        "{'definition': 'El producto interno bruto (PIB) es el valor del flujo de bienes y servicios producidos en un pa\u00eds durante un per\u00edodo de referencia determinado. (Translation in progress ...)',\n",
        " 'gen_1_dir': 'C:/portal/statmart/data/facts/gen1/cepalstat/',\n",
        " 'gen_2_dir': 'C:/portal/statmart/data/facts/gen2/cepalstat/gdp-sec/',\n",
        " 'gen_4_dir': 'C:/portal/statmart/view/gen4/cepalstat/',\n",
        " 'indicator': 'Gross Domestic Product',\n",
        " 'indicator_category': 'Economic',\n",
        " 'indicator_id': '2216',\n",
        " 'indicator_type': 'GDP',\n",
        " 'multiplier': 1000000,\n",
        " 'note': 'The sum of the subcomponents does not necessarily match the total owing to the retropolation method used',\n",
        " 'prefix': 'gdp-sec',\n",
        " 'source': 'Economic Commission for Latin America and the Caribbean',\n",
        " 'suffix': 'cepalstat',\n",
        " 'unit': 'USD2005'}"
       ]
      }
     ],
     "prompt_number": 8
    },
    {
     "cell_type": "code",
     "collapsed": false,
     "input": [
      "import imp\n",
      "imp.reload(gen2_cepalstat)\n",
      "configs = []\n",
      "for sector in sectors:\n",
      "    qf = df[sector].transpose().set_index([\"ISO3\"])\n",
      "    sconfig = dict(metamap)\n",
      "    sec = sector_map[sector]\n",
      "    sconfig[\"prefix\"] = prefix + \"--\" + sec\n",
      "    sconfig[\"indicator\"] = sector\n",
      "    sconfig[\"definition\"] = \"Sectoral GDP: \" + sector\n",
      "    sconfig[\"gen_2_dir\"] = config[\"gen_2_dir\"] + sec + \"/\"\n",
      "    print(sconfig[\"gen_2_dir\"])\n",
      "    gen2_cepalstat.build_files(qf, sconfig)\n",
      "    configs.append(sconfig)"
     ],
     "language": "python",
     "metadata": {},
     "outputs": [
      {
       "output_type": "stream",
       "stream": "stdout",
       "text": [
        "C:/portal/statmart/data/facts/gen2/cepalstat/gdp-sec/firerba/\n",
        "C:/portal/statmart/data/facts/gen2/cepalstat/gdp-sec/firerba/gdp-sec--firerba_guy_cepalstat.csv"
       ]
      },
      {
       "output_type": "stream",
       "stream": "stdout",
       "text": [
        "\n",
        "C:/portal/statmart/data/facts/gen2/cepalstat/gdp-sec/firerba/gdp-sec--firerba_jam_cepalstat.csv"
       ]
      },
      {
       "output_type": "stream",
       "stream": "stdout",
       "text": [
        "\n",
        "C:/portal/statmart/data/facts/gen2/cepalstat/gdp-sec/firerba/gdp-sec--firerba_vct_cepalstat.csv\n",
        "C:/portal/statmart/data/facts/gen2/cepalstat/gdp-sec/firerba/gdp-sec--firerba_sur_cepalstat.csv"
       ]
      },
      {
       "output_type": "stream",
       "stream": "stdout",
       "text": [
        "\n",
        "C:/portal/statmart/data/facts/gen2/cepalstat/gdp-sec/firerba/gdp-sec--firerba_kna_cepalstat.csv\n",
        "C:/portal/statmart/data/facts/gen2/cepalstat/gdp-sec/firerba/gdp-sec--firerba_dma_cepalstat.csv"
       ]
      },
      {
       "output_type": "stream",
       "stream": "stdout",
       "text": [
        "\n",
        "C:/portal/statmart/data/facts/gen2/cepalstat/gdp-sec/firerba/gdp-sec--firerba_tto_cepalstat.csv\n",
        "C:/portal/statmart/data/facts/gen2/cepalstat/gdp-sec/firerba/gdp-sec--firerba_cub_cepalstat.csv"
       ]
      },
      {
       "output_type": "stream",
       "stream": "stdout",
       "text": [
        "\n",
        "C:/portal/statmart/data/facts/gen2/cepalstat/gdp-sec/firerba/gdp-sec--firerba_brb_cepalstat.csv\n",
        "C:/portal/statmart/data/facts/gen2/cepalstat/gdp-sec/firerba/gdp-sec--firerba_bhs_cepalstat.csv"
       ]
      },
      {
       "output_type": "stream",
       "stream": "stdout",
       "text": [
        "\n",
        "C:/portal/statmart/data/facts/gen2/cepalstat/gdp-sec/firerba/gdp-sec--firerba_atg_cepalstat.csv\n",
        "C:/portal/statmart/data/facts/gen2/cepalstat/gdp-sec/firerba/gdp-sec--firerba_grd_cepalstat.csv"
       ]
      },
      {
       "output_type": "stream",
       "stream": "stdout",
       "text": [
        "\n",
        "C:/portal/statmart/data/facts/gen2/cepalstat/gdp-sec/firerba/gdp-sec--firerba_blz_cepalstat.csv"
       ]
      },
      {
       "output_type": "stream",
       "stream": "stdout",
       "text": [
        "\n",
        "C:/portal/statmart/data/facts/gen2/cepalstat/gdp-sec/firerba/gdp-sec--firerba_dom_cepalstat.csv\n",
        "C:/portal/statmart/data/facts/gen2/cepalstat/gdp-sec/firerba/gdp-sec--firerba_lca_cepalstat.csv"
       ]
      },
      {
       "output_type": "stream",
       "stream": "stdout",
       "text": [
        "\n",
        "C:/portal/statmart/data/facts/gen2/cepalstat/gdp-sec/public/"
       ]
      },
      {
       "output_type": "stream",
       "stream": "stdout",
       "text": [
        "\n",
        "C:/portal/statmart/data/facts/gen2/cepalstat/gdp-sec/public/gdp-sec--public_guy_cepalstat.csv\n",
        "C:/portal/statmart/data/facts/gen2/cepalstat/gdp-sec/public/gdp-sec--public_jam_cepalstat.csv\n",
        "C:/portal/statmart/data/facts/gen2/cepalstat/gdp-sec/public/gdp-sec--public_vct_cepalstat.csv"
       ]
      },
      {
       "output_type": "stream",
       "stream": "stdout",
       "text": [
        "\n",
        "C:/portal/statmart/data/facts/gen2/cepalstat/gdp-sec/public/gdp-sec--public_kna_cepalstat.csv\n",
        "C:/portal/statmart/data/facts/gen2/cepalstat/gdp-sec/public/gdp-sec--public_dma_cepalstat.csv"
       ]
      },
      {
       "output_type": "stream",
       "stream": "stdout",
       "text": [
        "\n",
        "C:/portal/statmart/data/facts/gen2/cepalstat/gdp-sec/public/gdp-sec--public_tto_cepalstat.csv\n",
        "C:/portal/statmart/data/facts/gen2/cepalstat/gdp-sec/public/gdp-sec--public_sur_cepalstat.csv"
       ]
      },
      {
       "output_type": "stream",
       "stream": "stdout",
       "text": [
        "\n",
        "C:/portal/statmart/data/facts/gen2/cepalstat/gdp-sec/public/gdp-sec--public_brb_cepalstat.csv\n",
        "C:/portal/statmart/data/facts/gen2/cepalstat/gdp-sec/public/gdp-sec--public_bhs_cepalstat.csv"
       ]
      },
      {
       "output_type": "stream",
       "stream": "stdout",
       "text": [
        "\n",
        "C:/portal/statmart/data/facts/gen2/cepalstat/gdp-sec/public/gdp-sec--public_cub_cepalstat.csv\n",
        "C:/portal/statmart/data/facts/gen2/cepalstat/gdp-sec/public/gdp-sec--public_atg_cepalstat.csv"
       ]
      },
      {
       "output_type": "stream",
       "stream": "stdout",
       "text": [
        "\n",
        "C:/portal/statmart/data/facts/gen2/cepalstat/gdp-sec/public/gdp-sec--public_grd_cepalstat.csv\n",
        "C:/portal/statmart/data/facts/gen2/cepalstat/gdp-sec/public/gdp-sec--public_blz_cepalstat.csv"
       ]
      },
      {
       "output_type": "stream",
       "stream": "stdout",
       "text": [
        "\n",
        "C:/portal/statmart/data/facts/gen2/cepalstat/gdp-sec/public/gdp-sec--public_dom_cepalstat.csv"
       ]
      },
      {
       "output_type": "stream",
       "stream": "stdout",
       "text": [
        "\n",
        "C:/portal/statmart/data/facts/gen2/cepalstat/gdp-sec/public/gdp-sec--public_lca_cepalstat.csv"
       ]
      },
      {
       "output_type": "stream",
       "stream": "stdout",
       "text": [
        "\n",
        "C:/portal/statmart/data/facts/gen2/cepalstat/gdp-sec/pt/"
       ]
      },
      {
       "output_type": "stream",
       "stream": "stdout",
       "text": [
        "\n",
        "C:/portal/statmart/data/facts/gen2/cepalstat/gdp-sec/pt/gdp-sec--pt_jam_cepalstat.csv\n",
        "C:/portal/statmart/data/facts/gen2/cepalstat/gdp-sec/pt/gdp-sec--pt_vct_cepalstat.csv"
       ]
      },
      {
       "output_type": "stream",
       "stream": "stdout",
       "text": [
        "\n",
        "C:/portal/statmart/data/facts/gen2/cepalstat/gdp-sec/pt/gdp-sec--pt_kna_cepalstat.csv\n",
        "C:/portal/statmart/data/facts/gen2/cepalstat/gdp-sec/pt/gdp-sec--pt_dma_cepalstat.csv"
       ]
      },
      {
       "output_type": "stream",
       "stream": "stdout",
       "text": [
        "\n",
        "C:/portal/statmart/data/facts/gen2/cepalstat/gdp-sec/pt/gdp-sec--pt_dom_cepalstat.csv\n",
        "C:/portal/statmart/data/facts/gen2/cepalstat/gdp-sec/pt/gdp-sec--pt_bhs_cepalstat.csv"
       ]
      },
      {
       "output_type": "stream",
       "stream": "stdout",
       "text": [
        "\n",
        "C:/portal/statmart/data/facts/gen2/cepalstat/gdp-sec/pt/gdp-sec--pt_atg_cepalstat.csv\n",
        "C:/portal/statmart/data/facts/gen2/cepalstat/gdp-sec/pt/gdp-sec--pt_grd_cepalstat.csv"
       ]
      },
      {
       "output_type": "stream",
       "stream": "stdout",
       "text": [
        "\n",
        "C:/portal/statmart/data/facts/gen2/cepalstat/gdp-sec/pt/gdp-sec--pt_blz_cepalstat.csv\n",
        "C:/portal/statmart/data/facts/gen2/cepalstat/gdp-sec/pt/gdp-sec--pt_lca_cepalstat.csv"
       ]
      },
      {
       "output_type": "stream",
       "stream": "stdout",
       "text": [
        "\n",
        "C:/portal/statmart/data/facts/gen2/cepalstat/gdp-sec/cstrn/"
       ]
      },
      {
       "output_type": "stream",
       "stream": "stdout",
       "text": [
        "\n",
        "C:/portal/statmart/data/facts/gen2/cepalstat/gdp-sec/cstrn/gdp-sec--cstrn_guy_cepalstat.csv\n",
        "C:/portal/statmart/data/facts/gen2/cepalstat/gdp-sec/cstrn/gdp-sec--cstrn_jam_cepalstat.csv\n",
        "C:/portal/statmart/data/facts/gen2/cepalstat/gdp-sec/cstrn/gdp-sec--cstrn_vct_cepalstat.csv"
       ]
      },
      {
       "output_type": "stream",
       "stream": "stdout",
       "text": [
        "\n",
        "C:/portal/statmart/data/facts/gen2/cepalstat/gdp-sec/cstrn/gdp-sec--cstrn_sur_cepalstat.csv\n",
        "C:/portal/statmart/data/facts/gen2/cepalstat/gdp-sec/cstrn/gdp-sec--cstrn_kna_cepalstat.csv"
       ]
      },
      {
       "output_type": "stream",
       "stream": "stdout",
       "text": [
        "\n",
        "C:/portal/statmart/data/facts/gen2/cepalstat/gdp-sec/cstrn/gdp-sec--cstrn_dma_cepalstat.csv\n",
        "C:/portal/statmart/data/facts/gen2/cepalstat/gdp-sec/cstrn/gdp-sec--cstrn_tto_cepalstat.csv"
       ]
      },
      {
       "output_type": "stream",
       "stream": "stdout",
       "text": [
        "\n",
        "C:/portal/statmart/data/facts/gen2/cepalstat/gdp-sec/cstrn/gdp-sec--cstrn_cub_cepalstat.csv\n",
        "C:/portal/statmart/data/facts/gen2/cepalstat/gdp-sec/cstrn/gdp-sec--cstrn_brb_cepalstat.csv"
       ]
      },
      {
       "output_type": "stream",
       "stream": "stdout",
       "text": [
        "\n",
        "C:/portal/statmart/data/facts/gen2/cepalstat/gdp-sec/cstrn/gdp-sec--cstrn_blz_cepalstat.csv\n",
        "C:/portal/statmart/data/facts/gen2/cepalstat/gdp-sec/cstrn/gdp-sec--cstrn_bhs_cepalstat.csv"
       ]
      },
      {
       "output_type": "stream",
       "stream": "stdout",
       "text": [
        "\n",
        "C:/portal/statmart/data/facts/gen2/cepalstat/gdp-sec/cstrn/gdp-sec--cstrn_atg_cepalstat.csv\n",
        "C:/portal/statmart/data/facts/gen2/cepalstat/gdp-sec/cstrn/gdp-sec--cstrn_grd_cepalstat.csv"
       ]
      },
      {
       "output_type": "stream",
       "stream": "stdout",
       "text": [
        "\n",
        "C:/portal/statmart/data/facts/gen2/cepalstat/gdp-sec/cstrn/gdp-sec--cstrn_dom_cepalstat.csv\n",
        "C:/portal/statmart/data/facts/gen2/cepalstat/gdp-sec/cstrn/gdp-sec--cstrn_lca_cepalstat.csv"
       ]
      },
      {
       "output_type": "stream",
       "stream": "stdout",
       "text": [
        "\n",
        "C:/portal/statmart/data/facts/gen2/cepalstat/gdp-sec/aghufo/"
       ]
      },
      {
       "output_type": "stream",
       "stream": "stdout",
       "text": [
        "\n",
        "C:/portal/statmart/data/facts/gen2/cepalstat/gdp-sec/aghufo/gdp-sec--aghufo_guy_cepalstat.csv\n",
        "C:/portal/statmart/data/facts/gen2/cepalstat/gdp-sec/aghufo/gdp-sec--aghufo_jam_cepalstat.csv\n",
        "C:/portal/statmart/data/facts/gen2/cepalstat/gdp-sec/aghufo/gdp-sec--aghufo_vct_cepalstat.csv"
       ]
      },
      {
       "output_type": "stream",
       "stream": "stdout",
       "text": [
        "\n",
        "C:/portal/statmart/data/facts/gen2/cepalstat/gdp-sec/aghufo/gdp-sec--aghufo_kna_cepalstat.csv\n",
        "C:/portal/statmart/data/facts/gen2/cepalstat/gdp-sec/aghufo/gdp-sec--aghufo_dma_cepalstat.csv"
       ]
      },
      {
       "output_type": "stream",
       "stream": "stdout",
       "text": [
        "\n",
        "C:/portal/statmart/data/facts/gen2/cepalstat/gdp-sec/aghufo/gdp-sec--aghufo_cub_cepalstat.csv\n",
        "C:/portal/statmart/data/facts/gen2/cepalstat/gdp-sec/aghufo/gdp-sec--aghufo_blz_cepalstat.csv"
       ]
      },
      {
       "output_type": "stream",
       "stream": "stdout",
       "text": [
        "\n",
        "C:/portal/statmart/data/facts/gen2/cepalstat/gdp-sec/aghufo/gdp-sec--aghufo_bhs_cepalstat.csv\n",
        "C:/portal/statmart/data/facts/gen2/cepalstat/gdp-sec/aghufo/gdp-sec--aghufo_atg_cepalstat.csv"
       ]
      },
      {
       "output_type": "stream",
       "stream": "stdout",
       "text": [
        "\n",
        "C:/portal/statmart/data/facts/gen2/cepalstat/gdp-sec/aghufo/gdp-sec--aghufo_grd_cepalstat.csv\n",
        "C:/portal/statmart/data/facts/gen2/cepalstat/gdp-sec/aghufo/gdp-sec--aghufo_dom_cepalstat.csv"
       ]
      },
      {
       "output_type": "stream",
       "stream": "stdout",
       "text": [
        "\n",
        "C:/portal/statmart/data/facts/gen2/cepalstat/gdp-sec/aghufo/gdp-sec--aghufo_lca_cepalstat.csv\n",
        "C:/portal/statmart/data/facts/gen2/cepalstat/gdp-sec/tsc/"
       ]
      },
      {
       "output_type": "stream",
       "stream": "stdout",
       "text": [
        "\n",
        "C:/portal/statmart/data/facts/gen2/cepalstat/gdp-sec/tsc/gdp-sec--tsc_guy_cepalstat.csv\n",
        "C:/portal/statmart/data/facts/gen2/cepalstat/gdp-sec/tsc/gdp-sec--tsc_jam_cepalstat.csv"
       ]
      },
      {
       "output_type": "stream",
       "stream": "stdout",
       "text": [
        "\n",
        "C:/portal/statmart/data/facts/gen2/cepalstat/gdp-sec/tsc/gdp-sec--tsc_vct_cepalstat.csv"
       ]
      },
      {
       "output_type": "stream",
       "stream": "stdout",
       "text": [
        "\n",
        "C:/portal/statmart/data/facts/gen2/cepalstat/gdp-sec/tsc/gdp-sec--tsc_kna_cepalstat.csv"
       ]
      },
      {
       "output_type": "stream",
       "stream": "stdout",
       "text": [
        "\n",
        "C:/portal/statmart/data/facts/gen2/cepalstat/gdp-sec/tsc/gdp-sec--tsc_dma_cepalstat.csv\n",
        "C:/portal/statmart/data/facts/gen2/cepalstat/gdp-sec/tsc/gdp-sec--tsc_tto_cepalstat.csv"
       ]
      },
      {
       "output_type": "stream",
       "stream": "stdout",
       "text": [
        "\n",
        "C:/portal/statmart/data/facts/gen2/cepalstat/gdp-sec/tsc/gdp-sec--tsc_cub_cepalstat.csv\n",
        "C:/portal/statmart/data/facts/gen2/cepalstat/gdp-sec/tsc/gdp-sec--tsc_sur_cepalstat.csv"
       ]
      },
      {
       "output_type": "stream",
       "stream": "stdout",
       "text": [
        "\n",
        "C:/portal/statmart/data/facts/gen2/cepalstat/gdp-sec/tsc/gdp-sec--tsc_blz_cepalstat.csv"
       ]
      },
      {
       "output_type": "stream",
       "stream": "stdout",
       "text": [
        "\n",
        "C:/portal/statmart/data/facts/gen2/cepalstat/gdp-sec/tsc/gdp-sec--tsc_bhs_cepalstat.csv\n",
        "C:/portal/statmart/data/facts/gen2/cepalstat/gdp-sec/tsc/gdp-sec--tsc_brb_cepalstat.csv"
       ]
      },
      {
       "output_type": "stream",
       "stream": "stdout",
       "text": [
        "\n",
        "C:/portal/statmart/data/facts/gen2/cepalstat/gdp-sec/tsc/gdp-sec--tsc_atg_cepalstat.csv\n",
        "C:/portal/statmart/data/facts/gen2/cepalstat/gdp-sec/tsc/gdp-sec--tsc_grd_cepalstat.csv"
       ]
      },
      {
       "output_type": "stream",
       "stream": "stdout",
       "text": [
        "\n",
        "C:/portal/statmart/data/facts/gen2/cepalstat/gdp-sec/tsc/gdp-sec--tsc_dom_cepalstat.csv\n",
        "C:/portal/statmart/data/facts/gen2/cepalstat/gdp-sec/tsc/gdp-sec--tsc_lca_cepalstat.csv"
       ]
      },
      {
       "output_type": "stream",
       "stream": "stdout",
       "text": [
        "\n",
        "C:/portal/statmart/data/facts/gen2/cepalstat/gdp-sec/wrtrghr/"
       ]
      },
      {
       "output_type": "stream",
       "stream": "stdout",
       "text": [
        "\n",
        "C:/portal/statmart/data/facts/gen2/cepalstat/gdp-sec/wrtrghr/gdp-sec--wrtrghr_guy_cepalstat.csv\n",
        "C:/portal/statmart/data/facts/gen2/cepalstat/gdp-sec/wrtrghr/gdp-sec--wrtrghr_jam_cepalstat.csv"
       ]
      },
      {
       "output_type": "stream",
       "stream": "stdout",
       "text": [
        "\n",
        "C:/portal/statmart/data/facts/gen2/cepalstat/gdp-sec/wrtrghr/gdp-sec--wrtrghr_vct_cepalstat.csv"
       ]
      },
      {
       "output_type": "stream",
       "stream": "stdout",
       "text": [
        "\n",
        "C:/portal/statmart/data/facts/gen2/cepalstat/gdp-sec/wrtrghr/gdp-sec--wrtrghr_sur_cepalstat.csv\n",
        "C:/portal/statmart/data/facts/gen2/cepalstat/gdp-sec/wrtrghr/gdp-sec--wrtrghr_kna_cepalstat.csv"
       ]
      },
      {
       "output_type": "stream",
       "stream": "stdout",
       "text": [
        "\n",
        "C:/portal/statmart/data/facts/gen2/cepalstat/gdp-sec/wrtrghr/gdp-sec--wrtrghr_dma_cepalstat.csv\n",
        "C:/portal/statmart/data/facts/gen2/cepalstat/gdp-sec/wrtrghr/gdp-sec--wrtrghr_tto_cepalstat.csv"
       ]
      },
      {
       "output_type": "stream",
       "stream": "stdout",
       "text": [
        "\n",
        "C:/portal/statmart/data/facts/gen2/cepalstat/gdp-sec/wrtrghr/gdp-sec--wrtrghr_cub_cepalstat.csv\n",
        "C:/portal/statmart/data/facts/gen2/cepalstat/gdp-sec/wrtrghr/gdp-sec--wrtrghr_dom_cepalstat.csv"
       ]
      },
      {
       "output_type": "stream",
       "stream": "stdout",
       "text": [
        "\n",
        "C:/portal/statmart/data/facts/gen2/cepalstat/gdp-sec/wrtrghr/gdp-sec--wrtrghr_bhs_cepalstat.csv\n",
        "C:/portal/statmart/data/facts/gen2/cepalstat/gdp-sec/wrtrghr/gdp-sec--wrtrghr_brb_cepalstat.csv"
       ]
      },
      {
       "output_type": "stream",
       "stream": "stdout",
       "text": [
        "\n",
        "C:/portal/statmart/data/facts/gen2/cepalstat/gdp-sec/wrtrghr/gdp-sec--wrtrghr_atg_cepalstat.csv\n",
        "C:/portal/statmart/data/facts/gen2/cepalstat/gdp-sec/wrtrghr/gdp-sec--wrtrghr_grd_cepalstat.csv"
       ]
      },
      {
       "output_type": "stream",
       "stream": "stdout",
       "text": [
        "\n",
        "C:/portal/statmart/data/facts/gen2/cepalstat/gdp-sec/wrtrghr/gdp-sec--wrtrghr_blz_cepalstat.csv\n",
        "C:/portal/statmart/data/facts/gen2/cepalstat/gdp-sec/wrtrghr/gdp-sec--wrtrghr_lca_cepalstat.csv"
       ]
      },
      {
       "output_type": "stream",
       "stream": "stdout",
       "text": [
        "\n",
        "C:/portal/statmart/data/facts/gen2/cepalstat/gdp-sec/gdp/"
       ]
      },
      {
       "output_type": "stream",
       "stream": "stdout",
       "text": [
        "\n",
        "C:/portal/statmart/data/facts/gen2/cepalstat/gdp-sec/gdp/gdp-sec--gdp_guy_cepalstat.csv\n",
        "C:/portal/statmart/data/facts/gen2/cepalstat/gdp-sec/gdp/gdp-sec--gdp_jam_cepalstat.csv\n",
        "C:/portal/statmart/data/facts/gen2/cepalstat/gdp-sec/gdp/gdp-sec--gdp_vct_cepalstat.csv"
       ]
      },
      {
       "output_type": "stream",
       "stream": "stdout",
       "text": [
        "\n",
        "C:/portal/statmart/data/facts/gen2/cepalstat/gdp-sec/gdp/gdp-sec--gdp_kna_cepalstat.csv\n",
        "C:/portal/statmart/data/facts/gen2/cepalstat/gdp-sec/gdp/gdp-sec--gdp_dma_cepalstat.csv"
       ]
      },
      {
       "output_type": "stream",
       "stream": "stdout",
       "text": [
        "\n",
        "C:/portal/statmart/data/facts/gen2/cepalstat/gdp-sec/gdp/gdp-sec--gdp_tto_cepalstat.csv\n",
        "C:/portal/statmart/data/facts/gen2/cepalstat/gdp-sec/gdp/gdp-sec--gdp_brb_cepalstat.csv"
       ]
      },
      {
       "output_type": "stream",
       "stream": "stdout",
       "text": [
        "\n",
        "C:/portal/statmart/data/facts/gen2/cepalstat/gdp-sec/gdp/gdp-sec--gdp_sur_cepalstat.csv\n",
        "C:/portal/statmart/data/facts/gen2/cepalstat/gdp-sec/gdp/gdp-sec--gdp_blz_cepalstat.csv"
       ]
      },
      {
       "output_type": "stream",
       "stream": "stdout",
       "text": [
        "\n",
        "C:/portal/statmart/data/facts/gen2/cepalstat/gdp-sec/gdp/gdp-sec--gdp_bhs_cepalstat.csv"
       ]
      },
      {
       "output_type": "stream",
       "stream": "stdout",
       "text": [
        "\n",
        "C:/portal/statmart/data/facts/gen2/cepalstat/gdp-sec/gdp/gdp-sec--gdp_cub_cepalstat.csv\n",
        "C:/portal/statmart/data/facts/gen2/cepalstat/gdp-sec/gdp/gdp-sec--gdp_hti_cepalstat.csv"
       ]
      },
      {
       "output_type": "stream",
       "stream": "stdout",
       "text": [
        "\n",
        "C:/portal/statmart/data/facts/gen2/cepalstat/gdp-sec/gdp/gdp-sec--gdp_atg_cepalstat.csv\n",
        "C:/portal/statmart/data/facts/gen2/cepalstat/gdp-sec/gdp/gdp-sec--gdp_grd_cepalstat.csv"
       ]
      },
      {
       "output_type": "stream",
       "stream": "stdout",
       "text": [
        "\n",
        "C:/portal/statmart/data/facts/gen2/cepalstat/gdp-sec/gdp/gdp-sec--gdp_dom_cepalstat.csv\n",
        "C:/portal/statmart/data/facts/gen2/cepalstat/gdp-sec/gdp/gdp-sec--gdp_lca_cepalstat.csv"
       ]
      },
      {
       "output_type": "stream",
       "stream": "stdout",
       "text": [
        "\n",
        "C:/portal/statmart/data/facts/gen2/cepalstat/gdp-sec/hr/"
       ]
      },
      {
       "output_type": "stream",
       "stream": "stdout",
       "text": [
        "\n",
        "C:/portal/statmart/data/facts/gen2/cepalstat/gdp-sec/hr/gdp-sec--hr_jam_cepalstat.csv\n",
        "C:/portal/statmart/data/facts/gen2/cepalstat/gdp-sec/hr/gdp-sec--hr_vct_cepalstat.csv"
       ]
      },
      {
       "output_type": "stream",
       "stream": "stdout",
       "text": [
        "\n",
        "C:/portal/statmart/data/facts/gen2/cepalstat/gdp-sec/hr/gdp-sec--hr_kna_cepalstat.csv"
       ]
      },
      {
       "output_type": "stream",
       "stream": "stdout",
       "text": [
        "\n",
        "C:/portal/statmart/data/facts/gen2/cepalstat/gdp-sec/hr/gdp-sec--hr_dma_cepalstat.csv\n",
        "C:/portal/statmart/data/facts/gen2/cepalstat/gdp-sec/hr/gdp-sec--hr_brb_cepalstat.csv"
       ]
      },
      {
       "output_type": "stream",
       "stream": "stdout",
       "text": [
        "\n",
        "C:/portal/statmart/data/facts/gen2/cepalstat/gdp-sec/hr/gdp-sec--hr_blz_cepalstat.csv\n",
        "C:/portal/statmart/data/facts/gen2/cepalstat/gdp-sec/hr/gdp-sec--hr_bhs_cepalstat.csv"
       ]
      },
      {
       "output_type": "stream",
       "stream": "stdout",
       "text": [
        "\n",
        "C:/portal/statmart/data/facts/gen2/cepalstat/gdp-sec/hr/gdp-sec--hr_cub_cepalstat.csv"
       ]
      },
      {
       "output_type": "stream",
       "stream": "stdout",
       "text": [
        "\n",
        "C:/portal/statmart/data/facts/gen2/cepalstat/gdp-sec/hr/gdp-sec--hr_atg_cepalstat.csv\n",
        "C:/portal/statmart/data/facts/gen2/cepalstat/gdp-sec/hr/gdp-sec--hr_grd_cepalstat.csv"
       ]
      },
      {
       "output_type": "stream",
       "stream": "stdout",
       "text": [
        "\n",
        "C:/portal/statmart/data/facts/gen2/cepalstat/gdp-sec/hr/gdp-sec--hr_dom_cepalstat.csv\n",
        "C:/portal/statmart/data/facts/gen2/cepalstat/gdp-sec/hr/gdp-sec--hr_lca_cepalstat.csv"
       ]
      },
      {
       "output_type": "stream",
       "stream": "stdout",
       "text": [
        "\n",
        "C:/portal/statmart/data/facts/gen2/cepalstat/gdp-sec/wrtrg/"
       ]
      },
      {
       "output_type": "stream",
       "stream": "stdout",
       "text": [
        "\n",
        "C:/portal/statmart/data/facts/gen2/cepalstat/gdp-sec/wrtrg/gdp-sec--wrtrg_guy_cepalstat.csv\n",
        "C:/portal/statmart/data/facts/gen2/cepalstat/gdp-sec/wrtrg/gdp-sec--wrtrg_jam_cepalstat.csv\n",
        "C:/portal/statmart/data/facts/gen2/cepalstat/gdp-sec/wrtrg/gdp-sec--wrtrg_vct_cepalstat.csv"
       ]
      },
      {
       "output_type": "stream",
       "stream": "stdout",
       "text": [
        "\n",
        "C:/portal/statmart/data/facts/gen2/cepalstat/gdp-sec/wrtrg/gdp-sec--wrtrg_kna_cepalstat.csv\n",
        "C:/portal/statmart/data/facts/gen2/cepalstat/gdp-sec/wrtrg/gdp-sec--wrtrg_dma_cepalstat.csv"
       ]
      },
      {
       "output_type": "stream",
       "stream": "stdout",
       "text": [
        "\n",
        "C:/portal/statmart/data/facts/gen2/cepalstat/gdp-sec/wrtrg/gdp-sec--wrtrg_brb_cepalstat.csv\n",
        "C:/portal/statmart/data/facts/gen2/cepalstat/gdp-sec/wrtrg/gdp-sec--wrtrg_dom_cepalstat.csv"
       ]
      },
      {
       "output_type": "stream",
       "stream": "stdout",
       "text": [
        "\n",
        "C:/portal/statmart/data/facts/gen2/cepalstat/gdp-sec/wrtrg/gdp-sec--wrtrg_bhs_cepalstat.csv\n",
        "C:/portal/statmart/data/facts/gen2/cepalstat/gdp-sec/wrtrg/gdp-sec--wrtrg_cub_cepalstat.csv"
       ]
      },
      {
       "output_type": "stream",
       "stream": "stdout",
       "text": [
        "\n",
        "C:/portal/statmart/data/facts/gen2/cepalstat/gdp-sec/wrtrg/gdp-sec--wrtrg_atg_cepalstat.csv\n",
        "C:/portal/statmart/data/facts/gen2/cepalstat/gdp-sec/wrtrg/gdp-sec--wrtrg_grd_cepalstat.csv"
       ]
      },
      {
       "output_type": "stream",
       "stream": "stdout",
       "text": [
        "\n",
        "C:/portal/statmart/data/facts/gen2/cepalstat/gdp-sec/wrtrg/gdp-sec--wrtrg_blz_cepalstat.csv\n",
        "C:/portal/statmart/data/facts/gen2/cepalstat/gdp-sec/wrtrg/gdp-sec--wrtrg_lca_cepalstat.csv"
       ]
      },
      {
       "output_type": "stream",
       "stream": "stdout",
       "text": [
        "\n",
        "C:/portal/statmart/data/facts/gen2/cepalstat/gdp-sec/aghufofi/"
       ]
      },
      {
       "output_type": "stream",
       "stream": "stdout",
       "text": [
        "\n",
        "C:/portal/statmart/data/facts/gen2/cepalstat/gdp-sec/aghufofi/gdp-sec--aghufofi_guy_cepalstat.csv\n",
        "C:/portal/statmart/data/facts/gen2/cepalstat/gdp-sec/aghufofi/gdp-sec--aghufofi_jam_cepalstat.csv"
       ]
      },
      {
       "output_type": "stream",
       "stream": "stdout",
       "text": [
        "\n",
        "C:/portal/statmart/data/facts/gen2/cepalstat/gdp-sec/aghufofi/gdp-sec--aghufofi_vct_cepalstat.csv\n",
        "C:/portal/statmart/data/facts/gen2/cepalstat/gdp-sec/aghufofi/gdp-sec--aghufofi_kna_cepalstat.csv"
       ]
      },
      {
       "output_type": "stream",
       "stream": "stdout",
       "text": [
        "\n",
        "C:/portal/statmart/data/facts/gen2/cepalstat/gdp-sec/aghufofi/gdp-sec--aghufofi_dma_cepalstat.csv\n",
        "C:/portal/statmart/data/facts/gen2/cepalstat/gdp-sec/aghufofi/gdp-sec--aghufofi_tto_cepalstat.csv"
       ]
      },
      {
       "output_type": "stream",
       "stream": "stdout",
       "text": [
        "\n",
        "C:/portal/statmart/data/facts/gen2/cepalstat/gdp-sec/aghufofi/gdp-sec--aghufofi_sur_cepalstat.csv\n",
        "C:/portal/statmart/data/facts/gen2/cepalstat/gdp-sec/aghufofi/gdp-sec--aghufofi_dom_cepalstat.csv"
       ]
      },
      {
       "output_type": "stream",
       "stream": "stdout",
       "text": [
        "\n",
        "C:/portal/statmart/data/facts/gen2/cepalstat/gdp-sec/aghufofi/gdp-sec--aghufofi_bhs_cepalstat.csv\n",
        "C:/portal/statmart/data/facts/gen2/cepalstat/gdp-sec/aghufofi/gdp-sec--aghufofi_cub_cepalstat.csv"
       ]
      },
      {
       "output_type": "stream",
       "stream": "stdout",
       "text": [
        "\n",
        "C:/portal/statmart/data/facts/gen2/cepalstat/gdp-sec/aghufofi/gdp-sec--aghufofi_brb_cepalstat.csv\n",
        "C:/portal/statmart/data/facts/gen2/cepalstat/gdp-sec/aghufofi/gdp-sec--aghufofi_atg_cepalstat.csv"
       ]
      },
      {
       "output_type": "stream",
       "stream": "stdout",
       "text": [
        "\n",
        "C:/portal/statmart/data/facts/gen2/cepalstat/gdp-sec/aghufofi/gdp-sec--aghufofi_grd_cepalstat.csv\n",
        "C:/portal/statmart/data/facts/gen2/cepalstat/gdp-sec/aghufofi/gdp-sec--aghufofi_blz_cepalstat.csv"
       ]
      },
      {
       "output_type": "stream",
       "stream": "stdout",
       "text": [
        "\n",
        "C:/portal/statmart/data/facts/gen2/cepalstat/gdp-sec/aghufofi/gdp-sec--aghufofi_lca_cepalstat.csv\n",
        "C:/portal/statmart/data/facts/gen2/cepalstat/gdp-sec/tva/"
       ]
      },
      {
       "output_type": "stream",
       "stream": "stdout",
       "text": [
        "\n",
        "C:/portal/statmart/data/facts/gen2/cepalstat/gdp-sec/tva/gdp-sec--tva_guy_cepalstat.csv\n",
        "C:/portal/statmart/data/facts/gen2/cepalstat/gdp-sec/tva/gdp-sec--tva_jam_cepalstat.csv\n",
        "C:/portal/statmart/data/facts/gen2/cepalstat/gdp-sec/tva/gdp-sec--tva_vct_cepalstat.csv"
       ]
      },
      {
       "output_type": "stream",
       "stream": "stdout",
       "text": [
        "\n",
        "C:/portal/statmart/data/facts/gen2/cepalstat/gdp-sec/tva/gdp-sec--tva_sur_cepalstat.csv\n",
        "C:/portal/statmart/data/facts/gen2/cepalstat/gdp-sec/tva/gdp-sec--tva_kna_cepalstat.csv"
       ]
      },
      {
       "output_type": "stream",
       "stream": "stdout",
       "text": [
        "\n",
        "C:/portal/statmart/data/facts/gen2/cepalstat/gdp-sec/tva/gdp-sec--tva_dma_cepalstat.csv\n",
        "C:/portal/statmart/data/facts/gen2/cepalstat/gdp-sec/tva/gdp-sec--tva_tto_cepalstat.csv"
       ]
      },
      {
       "output_type": "stream",
       "stream": "stdout",
       "text": [
        "\n",
        "C:/portal/statmart/data/facts/gen2/cepalstat/gdp-sec/tva/gdp-sec--tva_brb_cepalstat.csv\n",
        "C:/portal/statmart/data/facts/gen2/cepalstat/gdp-sec/tva/gdp-sec--tva_blz_cepalstat.csv"
       ]
      },
      {
       "output_type": "stream",
       "stream": "stdout",
       "text": [
        "\n",
        "C:/portal/statmart/data/facts/gen2/cepalstat/gdp-sec/tva/gdp-sec--tva_bhs_cepalstat.csv\n",
        "C:/portal/statmart/data/facts/gen2/cepalstat/gdp-sec/tva/gdp-sec--tva_cub_cepalstat.csv"
       ]
      },
      {
       "output_type": "stream",
       "stream": "stdout",
       "text": [
        "\n",
        "C:/portal/statmart/data/facts/gen2/cepalstat/gdp-sec/tva/gdp-sec--tva_atg_cepalstat.csv\n",
        "C:/portal/statmart/data/facts/gen2/cepalstat/gdp-sec/tva/gdp-sec--tva_grd_cepalstat.csv"
       ]
      },
      {
       "output_type": "stream",
       "stream": "stdout",
       "text": [
        "\n",
        "C:/portal/statmart/data/facts/gen2/cepalstat/gdp-sec/tva/gdp-sec--tva_dom_cepalstat.csv\n",
        "C:/portal/statmart/data/facts/gen2/cepalstat/gdp-sec/tva/gdp-sec--tva_lca_cepalstat.csv"
       ]
      },
      {
       "output_type": "stream",
       "stream": "stdout",
       "text": [
        "\n",
        "C:/portal/statmart/data/facts/gen2/cepalstat/gdp-sec/fisim/"
       ]
      },
      {
       "output_type": "stream",
       "stream": "stdout",
       "text": [
        "\n",
        "C:/portal/statmart/data/facts/gen2/cepalstat/gdp-sec/fisim/gdp-sec--fisim_jam_cepalstat.csv\n",
        "C:/portal/statmart/data/facts/gen2/cepalstat/gdp-sec/fisim/gdp-sec--fisim_vct_cepalstat.csv"
       ]
      },
      {
       "output_type": "stream",
       "stream": "stdout",
       "text": [
        "\n",
        "C:/portal/statmart/data/facts/gen2/cepalstat/gdp-sec/fisim/gdp-sec--fisim_kna_cepalstat.csv\n",
        "C:/portal/statmart/data/facts/gen2/cepalstat/gdp-sec/fisim/gdp-sec--fisim_dma_cepalstat.csv"
       ]
      },
      {
       "output_type": "stream",
       "stream": "stdout",
       "text": [
        "\n",
        "C:/portal/statmart/data/facts/gen2/cepalstat/gdp-sec/fisim/gdp-sec--fisim_tto_cepalstat.csv\n",
        "C:/portal/statmart/data/facts/gen2/cepalstat/gdp-sec/fisim/gdp-sec--fisim_blz_cepalstat.csv"
       ]
      },
      {
       "output_type": "stream",
       "stream": "stdout",
       "text": [
        "\n",
        "C:/portal/statmart/data/facts/gen2/cepalstat/gdp-sec/fisim/gdp-sec--fisim_bhs_cepalstat.csv\n",
        "C:/portal/statmart/data/facts/gen2/cepalstat/gdp-sec/fisim/gdp-sec--fisim_atg_cepalstat.csv"
       ]
      },
      {
       "output_type": "stream",
       "stream": "stdout",
       "text": [
        "\n",
        "C:/portal/statmart/data/facts/gen2/cepalstat/gdp-sec/fisim/gdp-sec--fisim_grd_cepalstat.csv\n",
        "C:/portal/statmart/data/facts/gen2/cepalstat/gdp-sec/fisim/gdp-sec--fisim_dom_cepalstat.csv"
       ]
      },
      {
       "output_type": "stream",
       "stream": "stdout",
       "text": [
        "\n",
        "C:/portal/statmart/data/facts/gen2/cepalstat/gdp-sec/fisim/gdp-sec--fisim_lca_cepalstat.csv\n",
        "C:/portal/statmart/data/facts/gen2/cepalstat/gdp-sec/mq/"
       ]
      },
      {
       "output_type": "stream",
       "stream": "stdout",
       "text": [
        "\n",
        "C:/portal/statmart/data/facts/gen2/cepalstat/gdp-sec/mq/gdp-sec--mq_guy_cepalstat.csv\n",
        "C:/portal/statmart/data/facts/gen2/cepalstat/gdp-sec/mq/gdp-sec--mq_jam_cepalstat.csv\n",
        "C:/portal/statmart/data/facts/gen2/cepalstat/gdp-sec/mq/gdp-sec--mq_vct_cepalstat.csv"
       ]
      },
      {
       "output_type": "stream",
       "stream": "stdout",
       "text": [
        "\n",
        "C:/portal/statmart/data/facts/gen2/cepalstat/gdp-sec/mq/gdp-sec--mq_sur_cepalstat.csv\n",
        "C:/portal/statmart/data/facts/gen2/cepalstat/gdp-sec/mq/gdp-sec--mq_kna_cepalstat.csv"
       ]
      },
      {
       "output_type": "stream",
       "stream": "stdout",
       "text": [
        "\n",
        "C:/portal/statmart/data/facts/gen2/cepalstat/gdp-sec/mq/gdp-sec--mq_dma_cepalstat.csv\n",
        "C:/portal/statmart/data/facts/gen2/cepalstat/gdp-sec/mq/gdp-sec--mq_tto_cepalstat.csv"
       ]
      },
      {
       "output_type": "stream",
       "stream": "stdout",
       "text": [
        "\n",
        "C:/portal/statmart/data/facts/gen2/cepalstat/gdp-sec/mq/gdp-sec--mq_brb_cepalstat.csv\n",
        "C:/portal/statmart/data/facts/gen2/cepalstat/gdp-sec/mq/gdp-sec--mq_blz_cepalstat.csv"
       ]
      },
      {
       "output_type": "stream",
       "stream": "stdout",
       "text": [
        "\n",
        "C:/portal/statmart/data/facts/gen2/cepalstat/gdp-sec/mq/gdp-sec--mq_bhs_cepalstat.csv\n",
        "C:/portal/statmart/data/facts/gen2/cepalstat/gdp-sec/mq/gdp-sec--mq_cub_cepalstat.csv"
       ]
      },
      {
       "output_type": "stream",
       "stream": "stdout",
       "text": [
        "\n",
        "C:/portal/statmart/data/facts/gen2/cepalstat/gdp-sec/mq/gdp-sec--mq_atg_cepalstat.csv\n",
        "C:/portal/statmart/data/facts/gen2/cepalstat/gdp-sec/mq/gdp-sec--mq_grd_cepalstat.csv"
       ]
      },
      {
       "output_type": "stream",
       "stream": "stdout",
       "text": [
        "\n",
        "C:/portal/statmart/data/facts/gen2/cepalstat/gdp-sec/mq/gdp-sec--mq_dom_cepalstat.csv\n",
        "C:/portal/statmart/data/facts/gen2/cepalstat/gdp-sec/mq/gdp-sec--mq_lca_cepalstat.csv"
       ]
      },
      {
       "output_type": "stream",
       "stream": "stdout",
       "text": [
        "\n",
        "C:/portal/statmart/data/facts/gen2/cepalstat/gdp-sec/fish/"
       ]
      },
      {
       "output_type": "stream",
       "stream": "stdout",
       "text": [
        "\n",
        "C:/portal/statmart/data/facts/gen2/cepalstat/gdp-sec/fish/gdp-sec--fish_guy_cepalstat.csv\n",
        "C:/portal/statmart/data/facts/gen2/cepalstat/gdp-sec/fish/gdp-sec--fish_jam_cepalstat.csv"
       ]
      },
      {
       "output_type": "stream",
       "stream": "stdout",
       "text": [
        "\n",
        "C:/portal/statmart/data/facts/gen2/cepalstat/gdp-sec/fish/gdp-sec--fish_vct_cepalstat.csv\n",
        "C:/portal/statmart/data/facts/gen2/cepalstat/gdp-sec/fish/gdp-sec--fish_kna_cepalstat.csv"
       ]
      },
      {
       "output_type": "stream",
       "stream": "stdout",
       "text": [
        "\n",
        "C:/portal/statmart/data/facts/gen2/cepalstat/gdp-sec/fish/gdp-sec--fish_dma_cepalstat.csv\n",
        "C:/portal/statmart/data/facts/gen2/cepalstat/gdp-sec/fish/gdp-sec--fish_cub_cepalstat.csv"
       ]
      },
      {
       "output_type": "stream",
       "stream": "stdout",
       "text": [
        "\n",
        "C:/portal/statmart/data/facts/gen2/cepalstat/gdp-sec/fish/gdp-sec--fish_blz_cepalstat.csv"
       ]
      },
      {
       "output_type": "stream",
       "stream": "stdout",
       "text": [
        "\n",
        "C:/portal/statmart/data/facts/gen2/cepalstat/gdp-sec/fish/gdp-sec--fish_bhs_cepalstat.csv\n",
        "C:/portal/statmart/data/facts/gen2/cepalstat/gdp-sec/fish/gdp-sec--fish_atg_cepalstat.csv"
       ]
      },
      {
       "output_type": "stream",
       "stream": "stdout",
       "text": [
        "\n",
        "C:/portal/statmart/data/facts/gen2/cepalstat/gdp-sec/fish/gdp-sec--fish_grd_cepalstat.csv\n",
        "C:/portal/statmart/data/facts/gen2/cepalstat/gdp-sec/fish/gdp-sec--fish_lca_cepalstat.csv"
       ]
      },
      {
       "output_type": "stream",
       "stream": "stdout",
       "text": [
        "\n",
        "C:/portal/statmart/data/facts/gen2/cepalstat/gdp-sec/taxes/"
       ]
      },
      {
       "output_type": "stream",
       "stream": "stdout",
       "text": [
        "\n",
        "C:/portal/statmart/data/facts/gen2/cepalstat/gdp-sec/taxes/gdp-sec--taxes_vct_cepalstat.csv\n",
        "C:/portal/statmart/data/facts/gen2/cepalstat/gdp-sec/taxes/gdp-sec--taxes_kna_cepalstat.csv\n",
        "C:/portal/statmart/data/facts/gen2/cepalstat/gdp-sec/taxes/gdp-sec--taxes_dma_cepalstat.csv"
       ]
      },
      {
       "output_type": "stream",
       "stream": "stdout",
       "text": [
        "\n",
        "C:/portal/statmart/data/facts/gen2/cepalstat/gdp-sec/taxes/gdp-sec--taxes_tto_cepalstat.csv\n",
        "C:/portal/statmart/data/facts/gen2/cepalstat/gdp-sec/taxes/gdp-sec--taxes_cub_cepalstat.csv"
       ]
      },
      {
       "output_type": "stream",
       "stream": "stdout",
       "text": [
        "\n",
        "C:/portal/statmart/data/facts/gen2/cepalstat/gdp-sec/taxes/gdp-sec--taxes_blz_cepalstat.csv\n",
        "C:/portal/statmart/data/facts/gen2/cepalstat/gdp-sec/taxes/gdp-sec--taxes_bhs_cepalstat.csv"
       ]
      },
      {
       "output_type": "stream",
       "stream": "stdout",
       "text": [
        "\n",
        "C:/portal/statmart/data/facts/gen2/cepalstat/gdp-sec/taxes/gdp-sec--taxes_atg_cepalstat.csv\n",
        "C:/portal/statmart/data/facts/gen2/cepalstat/gdp-sec/taxes/gdp-sec--taxes_grd_cepalstat.csv"
       ]
      },
      {
       "output_type": "stream",
       "stream": "stdout",
       "text": [
        "\n",
        "C:/portal/statmart/data/facts/gen2/cepalstat/gdp-sec/taxes/gdp-sec--taxes_dom_cepalstat.csv\n",
        "C:/portal/statmart/data/facts/gen2/cepalstat/gdp-sec/taxes/gdp-sec--taxes_lca_cepalstat.csv"
       ]
      },
      {
       "output_type": "stream",
       "stream": "stdout",
       "text": [
        "\n",
        "C:/portal/statmart/data/facts/gen2/cepalstat/gdp-sec/egws/"
       ]
      },
      {
       "output_type": "stream",
       "stream": "stdout",
       "text": [
        "\n",
        "C:/portal/statmart/data/facts/gen2/cepalstat/gdp-sec/egws/gdp-sec--egws_jam_cepalstat.csv\n",
        "C:/portal/statmart/data/facts/gen2/cepalstat/gdp-sec/egws/gdp-sec--egws_vct_cepalstat.csv\n",
        "C:/portal/statmart/data/facts/gen2/cepalstat/gdp-sec/egws/gdp-sec--egws_sur_cepalstat.csv"
       ]
      },
      {
       "output_type": "stream",
       "stream": "stdout",
       "text": [
        "\n",
        "C:/portal/statmart/data/facts/gen2/cepalstat/gdp-sec/egws/gdp-sec--egws_kna_cepalstat.csv\n",
        "C:/portal/statmart/data/facts/gen2/cepalstat/gdp-sec/egws/gdp-sec--egws_dma_cepalstat.csv"
       ]
      },
      {
       "output_type": "stream",
       "stream": "stdout",
       "text": [
        "\n",
        "C:/portal/statmart/data/facts/gen2/cepalstat/gdp-sec/egws/gdp-sec--egws_tto_cepalstat.csv\n",
        "C:/portal/statmart/data/facts/gen2/cepalstat/gdp-sec/egws/gdp-sec--egws_brb_cepalstat.csv"
       ]
      },
      {
       "output_type": "stream",
       "stream": "stdout",
       "text": [
        "\n",
        "C:/portal/statmart/data/facts/gen2/cepalstat/gdp-sec/egws/gdp-sec--egws_blz_cepalstat.csv\n",
        "C:/portal/statmart/data/facts/gen2/cepalstat/gdp-sec/egws/gdp-sec--egws_bhs_cepalstat.csv"
       ]
      },
      {
       "output_type": "stream",
       "stream": "stdout",
       "text": [
        "\n",
        "C:/portal/statmart/data/facts/gen2/cepalstat/gdp-sec/egws/gdp-sec--egws_cub_cepalstat.csv\n",
        "C:/portal/statmart/data/facts/gen2/cepalstat/gdp-sec/egws/gdp-sec--egws_atg_cepalstat.csv"
       ]
      },
      {
       "output_type": "stream",
       "stream": "stdout",
       "text": [
        "\n",
        "C:/portal/statmart/data/facts/gen2/cepalstat/gdp-sec/egws/gdp-sec--egws_grd_cepalstat.csv\n",
        "C:/portal/statmart/data/facts/gen2/cepalstat/gdp-sec/egws/gdp-sec--egws_dom_cepalstat.csv"
       ]
      },
      {
       "output_type": "stream",
       "stream": "stdout",
       "text": [
        "\n",
        "C:/portal/statmart/data/facts/gen2/cepalstat/gdp-sec/egws/gdp-sec--egws_lca_cepalstat.csv"
       ]
      },
      {
       "output_type": "stream",
       "stream": "stdout",
       "text": [
        "\n",
        "C:/portal/statmart/data/facts/gen2/cepalstat/gdp-sec/discrep/"
       ]
      },
      {
       "output_type": "stream",
       "stream": "stdout",
       "text": [
        "\n",
        "C:/portal/statmart/data/facts/gen2/cepalstat/gdp-sec/discrep/gdp-sec--discrep_guy_cepalstat.csv\n",
        "C:/portal/statmart/data/facts/gen2/cepalstat/gdp-sec/discrep/gdp-sec--discrep_jam_cepalstat.csv"
       ]
      },
      {
       "output_type": "stream",
       "stream": "stdout",
       "text": [
        "\n",
        "C:/portal/statmart/data/facts/gen2/cepalstat/gdp-sec/discrep/gdp-sec--discrep_vct_cepalstat.csv\n",
        "C:/portal/statmart/data/facts/gen2/cepalstat/gdp-sec/discrep/gdp-sec--discrep_kna_cepalstat.csv"
       ]
      },
      {
       "output_type": "stream",
       "stream": "stdout",
       "text": [
        "\n",
        "C:/portal/statmart/data/facts/gen2/cepalstat/gdp-sec/discrep/gdp-sec--discrep_dma_cepalstat.csv"
       ]
      },
      {
       "output_type": "stream",
       "stream": "stdout",
       "text": [
        "\n",
        "C:/portal/statmart/data/facts/gen2/cepalstat/gdp-sec/discrep/gdp-sec--discrep_tto_cepalstat.csv\n",
        "C:/portal/statmart/data/facts/gen2/cepalstat/gdp-sec/discrep/gdp-sec--discrep_sur_cepalstat.csv"
       ]
      },
      {
       "output_type": "stream",
       "stream": "stdout",
       "text": [
        "\n",
        "C:/portal/statmart/data/facts/gen2/cepalstat/gdp-sec/discrep/gdp-sec--discrep_blz_cepalstat.csv\n",
        "C:/portal/statmart/data/facts/gen2/cepalstat/gdp-sec/discrep/gdp-sec--discrep_bhs_cepalstat.csv"
       ]
      },
      {
       "output_type": "stream",
       "stream": "stdout",
       "text": [
        "\n",
        "C:/portal/statmart/data/facts/gen2/cepalstat/gdp-sec/discrep/gdp-sec--discrep_cub_cepalstat.csv\n",
        "C:/portal/statmart/data/facts/gen2/cepalstat/gdp-sec/discrep/gdp-sec--discrep_hti_cepalstat.csv"
       ]
      },
      {
       "output_type": "stream",
       "stream": "stdout",
       "text": [
        "\n",
        "C:/portal/statmart/data/facts/gen2/cepalstat/gdp-sec/discrep/gdp-sec--discrep_brb_cepalstat.csv\n",
        "C:/portal/statmart/data/facts/gen2/cepalstat/gdp-sec/discrep/gdp-sec--discrep_atg_cepalstat.csv"
       ]
      },
      {
       "output_type": "stream",
       "stream": "stdout",
       "text": [
        "\n",
        "C:/portal/statmart/data/facts/gen2/cepalstat/gdp-sec/discrep/gdp-sec--discrep_grd_cepalstat.csv\n",
        "C:/portal/statmart/data/facts/gen2/cepalstat/gdp-sec/discrep/gdp-sec--discrep_dom_cepalstat.csv"
       ]
      },
      {
       "output_type": "stream",
       "stream": "stdout",
       "text": [
        "\n",
        "C:/portal/statmart/data/facts/gen2/cepalstat/gdp-sec/discrep/gdp-sec--discrep_lca_cepalstat.csv\n",
        "C:/portal/statmart/data/facts/gen2/cepalstat/gdp-sec/mfg/"
       ]
      },
      {
       "output_type": "stream",
       "stream": "stdout",
       "text": [
        "\n",
        "C:/portal/statmart/data/facts/gen2/cepalstat/gdp-sec/mfg/gdp-sec--mfg_guy_cepalstat.csv\n",
        "C:/portal/statmart/data/facts/gen2/cepalstat/gdp-sec/mfg/gdp-sec--mfg_jam_cepalstat.csv"
       ]
      },
      {
       "output_type": "stream",
       "stream": "stdout",
       "text": [
        "\n",
        "C:/portal/statmart/data/facts/gen2/cepalstat/gdp-sec/mfg/gdp-sec--mfg_vct_cepalstat.csv\n",
        "C:/portal/statmart/data/facts/gen2/cepalstat/gdp-sec/mfg/gdp-sec--mfg_sur_cepalstat.csv"
       ]
      },
      {
       "output_type": "stream",
       "stream": "stdout",
       "text": [
        "\n",
        "C:/portal/statmart/data/facts/gen2/cepalstat/gdp-sec/mfg/gdp-sec--mfg_kna_cepalstat.csv\n",
        "C:/portal/statmart/data/facts/gen2/cepalstat/gdp-sec/mfg/gdp-sec--mfg_dma_cepalstat.csv"
       ]
      },
      {
       "output_type": "stream",
       "stream": "stdout",
       "text": [
        "\n",
        "C:/portal/statmart/data/facts/gen2/cepalstat/gdp-sec/mfg/gdp-sec--mfg_tto_cepalstat.csv\n",
        "C:/portal/statmart/data/facts/gen2/cepalstat/gdp-sec/mfg/gdp-sec--mfg_brb_cepalstat.csv"
       ]
      },
      {
       "output_type": "stream",
       "stream": "stdout",
       "text": [
        "\n",
        "C:/portal/statmart/data/facts/gen2/cepalstat/gdp-sec/mfg/gdp-sec--mfg_blz_cepalstat.csv\n",
        "C:/portal/statmart/data/facts/gen2/cepalstat/gdp-sec/mfg/gdp-sec--mfg_bhs_cepalstat.csv"
       ]
      },
      {
       "output_type": "stream",
       "stream": "stdout",
       "text": [
        "\n",
        "C:/portal/statmart/data/facts/gen2/cepalstat/gdp-sec/mfg/gdp-sec--mfg_cub_cepalstat.csv\n",
        "C:/portal/statmart/data/facts/gen2/cepalstat/gdp-sec/mfg/gdp-sec--mfg_atg_cepalstat.csv"
       ]
      },
      {
       "output_type": "stream",
       "stream": "stdout",
       "text": [
        "\n",
        "C:/portal/statmart/data/facts/gen2/cepalstat/gdp-sec/mfg/gdp-sec--mfg_grd_cepalstat.csv\n",
        "C:/portal/statmart/data/facts/gen2/cepalstat/gdp-sec/mfg/gdp-sec--mfg_dom_cepalstat.csv"
       ]
      },
      {
       "output_type": "stream",
       "stream": "stdout",
       "text": [
        "\n",
        "C:/portal/statmart/data/facts/gen2/cepalstat/gdp-sec/mfg/gdp-sec--mfg_lca_cepalstat.csv\n",
        "C:/portal/statmart/data/facts/gen2/cepalstat/gdp-sec/tsaa/"
       ]
      },
      {
       "output_type": "stream",
       "stream": "stdout",
       "text": [
        "\n",
        "C:/portal/statmart/data/facts/gen2/cepalstat/gdp-sec/tsaa/gdp-sec--tsaa_jam_cepalstat.csv\n",
        "C:/portal/statmart/data/facts/gen2/cepalstat/gdp-sec/tsaa/gdp-sec--tsaa_vct_cepalstat.csv"
       ]
      },
      {
       "output_type": "stream",
       "stream": "stdout",
       "text": [
        "\n",
        "C:/portal/statmart/data/facts/gen2/cepalstat/gdp-sec/tsaa/gdp-sec--tsaa_kna_cepalstat.csv\n",
        "C:/portal/statmart/data/facts/gen2/cepalstat/gdp-sec/tsaa/gdp-sec--tsaa_dma_cepalstat.csv"
       ]
      },
      {
       "output_type": "stream",
       "stream": "stdout",
       "text": [
        "\n",
        "C:/portal/statmart/data/facts/gen2/cepalstat/gdp-sec/tsaa/gdp-sec--tsaa_dom_cepalstat.csv\n",
        "C:/portal/statmart/data/facts/gen2/cepalstat/gdp-sec/tsaa/gdp-sec--tsaa_bhs_cepalstat.csv"
       ]
      },
      {
       "output_type": "stream",
       "stream": "stdout",
       "text": [
        "\n",
        "C:/portal/statmart/data/facts/gen2/cepalstat/gdp-sec/tsaa/gdp-sec--tsaa_atg_cepalstat.csv\n",
        "C:/portal/statmart/data/facts/gen2/cepalstat/gdp-sec/tsaa/gdp-sec--tsaa_grd_cepalstat.csv"
       ]
      },
      {
       "output_type": "stream",
       "stream": "stdout",
       "text": [
        "\n",
        "C:/portal/statmart/data/facts/gen2/cepalstat/gdp-sec/tsaa/gdp-sec--tsaa_blz_cepalstat.csv\n",
        "C:/portal/statmart/data/facts/gen2/cepalstat/gdp-sec/tsaa/gdp-sec--tsaa_lca_cepalstat.csv"
       ]
      },
      {
       "output_type": "stream",
       "stream": "stdout",
       "text": [
        "\n"
       ]
      },
      {
       "output_type": "stream",
       "stream": "stderr",
       "text": [
        ".\\gen2_cepalstat.py:86: SettingWithCopyWarning: A value is trying to be set on a copy of a slice from a DataFrame.\n",
        "Try using .loc[row_index,col_indexer] = value instead\n",
        "  idf[\"value\"] = idf[\"value\"].apply(lambda x : int(x * mult)).astype(object)\n",
        ".\\gen2_cepalstat.py:87: SettingWithCopyWarning: A value is trying to be set on a copy of a slice from a DataFrame.\n",
        "Try using .loc[row_index,col_indexer] = value instead\n",
        "  idf[\"source\"] = idf[\"source\"].apply(lambda x : config[\"source\"])\n",
        ".\\gen2_cepalstat.py:88: SettingWithCopyWarning: A value is trying to be set on a copy of a slice from a DataFrame.\n",
        "Try using .loc[row_index,col_indexer] = value instead\n",
        "  idf[\"note\"] = idf[\"note\"].apply(lambda x : get_notes(str(x), config))\n"
       ]
      }
     ],
     "prompt_number": 9
    },
    {
     "cell_type": "markdown",
     "metadata": {},
     "source": [
      "Generation 3 - Load the Generation 2 data into the database."
     ]
    },
    {
     "cell_type": "code",
     "collapsed": false,
     "input": [
      "import imp\n",
      "imp.reload(gen3_utils)\n",
      "for config in configs:\n",
      "    data_list = gen3_utils.get_gen2_data(config)\n",
      "    gen3_utils.standard_load_from_data_list(data_list)"
     ],
     "language": "python",
     "metadata": {},
     "outputs": [],
     "prompt_number": 10
    },
    {
     "cell_type": "markdown",
     "metadata": {},
     "source": [
      "Generation 4 - Build a php file that uses javascript to generate SVGs using the data in the database"
     ]
    },
    {
     "cell_type": "code",
     "collapsed": false,
     "input": [
      "\"\"\"import imp\n",
      "imp.reload(gen4_utils)\n",
      "for config in configs:\n",
      "    config = gen4_utils.build_gen4_config(config, unit=\"Value in millions of USD (2013 equivalent)\")\n",
      "    page = gen4_utils.build_d3_line_graph(config)\"\"\""
     ],
     "language": "python",
     "metadata": {},
     "outputs": [],
     "prompt_number": 67
    },
    {
     "cell_type": "code",
     "collapsed": false,
     "input": [],
     "language": "python",
     "metadata": {},
     "outputs": [],
     "prompt_number": 66
    },
    {
     "cell_type": "code",
     "collapsed": false,
     "input": [],
     "language": "python",
     "metadata": {},
     "outputs": []
    }
   ],
   "metadata": {}
  }
 ]
}