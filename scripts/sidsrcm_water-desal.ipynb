{
 "metadata": {
  "name": ""
 },
 "nbformat": 3,
 "nbformat_minor": 0,
 "worksheets": [
  {
   "cells": [
    {
     "cell_type": "heading",
     "level": 1,
     "metadata": {},
     "source": [
      "Build script for Caribbean SIDS RCM water data: Desalination"
     ]
    },
    {
     "cell_type": "markdown",
     "metadata": {},
     "source": [
      "This script moves desalination data from Generation 1 through Generation 3."
     ]
    },
    {
     "cell_type": "code",
     "collapsed": false,
     "input": [
      "import os, imp\n",
      "import pandas as pd\n",
      "\n",
      "from settings_statmart import *\n",
      "import utils_statmart as us\n",
      "\n",
      "import gen3_utils\n",
      "import gen4_utils\n",
      "\n",
      "us.verbose = True"
     ],
     "language": "python",
     "metadata": {},
     "outputs": [],
     "prompt_number": 11
    },
    {
     "cell_type": "markdown",
     "metadata": {},
     "source": [
      "Customize the below per this specfic dataset...."
     ]
    },
    {
     "cell_type": "code",
     "collapsed": false,
     "input": [
      "config = {'gen_1_dir': statmart_facts_gen1 + 'sidsrcm/water/',\n",
      "     'gen_2_dir': statmart_facts_gen2 + 'sidsrcm/water/',\n",
      "     'gen_4_dir': statmart_view_gen4 + 'sidsrcm/',\n",
      "     'description': 'Water desalination plants, and their processing capacity',\n",
      "     'indicator': 'Desalination plant capacity',\n",
      "     'indicator_category': 'Water',\n",
      "     'indicator_type': 'Desalination',\n",
      "     'multiplier': 1,\n",
      "     'prefix': 'water-desal',\n",
      "     'suffix': 'sidsrcm',\n",
      "     'fileprefix': 'desalination'}"
     ],
     "language": "python",
     "metadata": {},
     "outputs": [],
     "prompt_number": 12
    },
    {
     "cell_type": "markdown",
     "metadata": {},
     "source": [
      "Generation 1 - The xls source files this this data have been prepared by an external script. The file name is in the format desalination_country-name.xls. Each file has one worksheet of data, and a second with metadata. The names of these sheet are \"data\" and \"metadata\"."
     ]
    },
    {
     "cell_type": "code",
     "collapsed": false,
     "input": [
      "country_dict = us.load_carib_country_dict(key_column=\"name\")\n",
      "dataset = []\n",
      "for name in sorted(country_dict.keys()):\n",
      "    path = config['gen_1_dir'] + config['fileprefix'] + \"_\" + us.machine_name(name) + \".xls\"\n",
      "    if os.path.exists(path):\n",
      "        xlfile = pd.ExcelFile(path)\n",
      "        df = xlfile.parse(\"data\")\n",
      "        mf = xlfile.parse(\"metadata\")\n",
      "        dataset.append((country_dict[name][\"iso3\"], df, mf))\n",
      "        \n",
      "dataset[0][1] # This is what the data looks like"
     ],
     "language": "python",
     "metadata": {},
     "outputs": [
      {
       "html": [
        "<div style=\"max-height:1000px;max-width:1500px;overflow:auto;\">\n",
        "<table border=\"1\" class=\"dataframe\">\n",
        "  <thead>\n",
        "    <tr style=\"text-align: right;\">\n",
        "      <th></th>\n",
        "      <th>Plant</th>\n",
        "      <th>Capacity</th>\n",
        "    </tr>\n",
        "  </thead>\n",
        "  <tbody>\n",
        "    <tr>\n",
        "      <th>0</th>\n",
        "      <td> Antigua mainland</td>\n",
        "      <td>  600000</td>\n",
        "    </tr>\n",
        "    <tr>\n",
        "      <th>1</th>\n",
        "      <td> Antigua mainland</td>\n",
        "      <td>  600000</td>\n",
        "    </tr>\n",
        "    <tr>\n",
        "      <th>2</th>\n",
        "      <td> Antigua mainland</td>\n",
        "      <td> 3400000</td>\n",
        "    </tr>\n",
        "    <tr>\n",
        "      <th>3</th>\n",
        "      <td> Barbuda mainland</td>\n",
        "      <td>   60000</td>\n",
        "    </tr>\n",
        "    <tr>\n",
        "      <th>4</th>\n",
        "      <td> Barbuda mainland</td>\n",
        "      <td>   60000</td>\n",
        "    </tr>\n",
        "    <tr>\n",
        "      <th>5</th>\n",
        "      <td> Barbuda mainland</td>\n",
        "      <td>  100000</td>\n",
        "    </tr>\n",
        "  </tbody>\n",
        "</table>\n",
        "<p>6 rows \u00d7 2 columns</p>\n",
        "</div>"
       ],
       "metadata": {},
       "output_type": "pyout",
       "prompt_number": 13,
       "text": [
        "              Plant  Capacity\n",
        "0  Antigua mainland    600000\n",
        "1  Antigua mainland    600000\n",
        "2  Antigua mainland   3400000\n",
        "3  Barbuda mainland     60000\n",
        "4  Barbuda mainland     60000\n",
        "5  Barbuda mainland    100000\n",
        "\n",
        "[6 rows x 2 columns]"
       ]
      }
     ],
     "prompt_number": 13
    },
    {
     "cell_type": "code",
     "collapsed": false,
     "input": [
      "dataset[0][2] # This is what the metadata looks like"
     ],
     "language": "python",
     "metadata": {},
     "outputs": [
      {
       "html": [
        "<div style=\"max-height:1000px;max-width:1500px;overflow:auto;\">\n",
        "<table border=\"1\" class=\"dataframe\">\n",
        "  <thead>\n",
        "    <tr style=\"text-align: right;\">\n",
        "      <th></th>\n",
        "      <th>Description</th>\n",
        "      <th>Note</th>\n",
        "      <th>Source</th>\n",
        "      <th>Unit</th>\n",
        "    </tr>\n",
        "  </thead>\n",
        "  <tbody>\n",
        "    <tr>\n",
        "      <th>Indicator</th>\n",
        "      <td> Water desalination plants</td>\n",
        "      <td>                        NaN</td>\n",
        "      <td>                                               NaN</td>\n",
        "      <td>         NaN</td>\n",
        "    </tr>\n",
        "    <tr>\n",
        "      <th>Set Name</th>\n",
        "      <td>       Antigua and Barbuda</td>\n",
        "      <td>                        NaN</td>\n",
        "      <td>                                               NaN</td>\n",
        "      <td>         NaN</td>\n",
        "    </tr>\n",
        "    <tr>\n",
        "      <th>Plant</th>\n",
        "      <td>                       NaN</td>\n",
        "      <td>                        NaN</td>\n",
        "      <td>                                               NaN</td>\n",
        "      <td>         NaN</td>\n",
        "    </tr>\n",
        "    <tr>\n",
        "      <th>Capacity</th>\n",
        "      <td>                    Volume</td>\n",
        "      <td> Plants are reverse osmosis</td>\n",
        "      <td> Water Division, Antigua Public Utilities Autho...</td>\n",
        "      <td> Imp. Ga/day</td>\n",
        "    </tr>\n",
        "  </tbody>\n",
        "</table>\n",
        "<p>4 rows \u00d7 4 columns</p>\n",
        "</div>"
       ],
       "metadata": {},
       "output_type": "pyout",
       "prompt_number": 14,
       "text": [
        "                         Description                        Note  \\\n",
        "Indicator  Water desalination plants                         NaN   \n",
        "Set Name         Antigua and Barbuda                         NaN   \n",
        "Plant                            NaN                         NaN   \n",
        "Capacity                      Volume  Plants are reverse osmosis   \n",
        "\n",
        "                                                      Source         Unit  \n",
        "Indicator                                                NaN          NaN  \n",
        "Set Name                                                 NaN          NaN  \n",
        "Plant                                                    NaN          NaN  \n",
        "Capacity   Water Division, Antigua Public Utilities Autho...  Imp. Ga/day  \n",
        "\n",
        "[4 rows x 4 columns]"
       ]
      }
     ],
     "prompt_number": 14
    },
    {
     "cell_type": "markdown",
     "metadata": {},
     "source": [
      "Generation 2 - Refines the rough csv data from Generation 1 into a standardized csv format common to all data sets. Prepares this data for importing to the database."
     ]
    },
    {
     "cell_type": "markdown",
     "metadata": {},
     "source": [
      "This code follows a fairly standard form, in which it loops through each country's information, writes the data to a .csv file, extracts some metadata and writes that to a .csv file, and then writes a list of all the files that it made to a file called \\_PREFIX.csv"
     ]
    },
    {
     "cell_type": "code",
     "collapsed": false,
     "input": [
      "filelist = []\n",
      "us.mkdirs(config[\"gen_2_dir\"])\n",
      "for (iso3, df, mf) in dataset:\n",
      "    us.log(iso3)\n",
      "    try:\n",
      "        df.columns = [\"description\", \"value\"]\n",
      "    except Exception: # The data for St Kitts only has one column. We are excluding it for now.\n",
      "        us.log(sys.exc_info())\n",
      "        continue\n",
      "    filestem = config[\"prefix\"] + \"_\" + iso3.lower() + \"_\" + config[\"suffix\"]\n",
      "    filename = filestem + \".csv\"\n",
      "    filepath = config[\"gen_2_dir\"] + filename\n",
      "    df.to_csv(filepath, encoding=\"utf8\", float_format='%.3f', index=False)\n",
      "    \n",
      "    country = us.get_country_by_iso3(iso3)    \n",
      "    meta = [(\"name\", \"%s - %s [SIDS RCM]\" % (country, config[\"indicator\"])),\n",
      "        (\"originalsource\", mf.ix[\"Capacity\"][\"Source\"]),\n",
      "        (\"proximatesource\", \"SIDS RCM\"),\n",
      "        (\"dataset\", config[\"indicator\"]),\n",
      "        (\"description\", config[\"description\"]),\n",
      "        (\"note\", mf.ix[\"Capacity\"][\"Note\"]),\n",
      "        (\"unit\", mf.ix[\"Capacity\"][\"Unit\"]),\n",
      "        (\"category\", config[\"indicator_category\"]),\n",
      "        (\"type\", config[\"indicator_type\"]),\n",
      "        (\"file\", filename),\n",
      "        (\"filehash\", us.githash(filepath)),\n",
      "        (\"columns\", \"description,value\")\n",
      "        ]\n",
      " \n",
      "    metafile = config[\"gen_2_dir\"] + filestem + \"_meta.csv\"    \n",
      "    pd.DataFrame(meta,columns = [\"key\",\"value\"]).to_csv(metafile, encoding=\"utf8\", float_format='%.3f',index=False)\n",
      "    filelist.append(filestem)\n",
      "    \n",
      "pd.DataFrame(filelist).to_csv(config[\"gen_2_dir\"] + \"_\" + config[\"prefix\"] + \".csv\", encoding=\"utf8\", index=False, header=False)\n",
      "us.log(\"%i series saved to %s\" % (len(filelist), config[\"gen_2_dir\"]))"
     ],
     "language": "python",
     "metadata": {},
     "outputs": [
      {
       "output_type": "stream",
       "stream": "stdout",
       "text": [
        "ATG\n",
        "BLZ\n",
        "CUB\n",
        "GRD"
       ]
      },
      {
       "output_type": "stream",
       "stream": "stdout",
       "text": [
        "\n",
        "KNA\n",
        "(<class 'ValueError'>, ValueError('Length mismatch: Expected axis has 1 elements, new values have 2 elements',), <traceback object at 0x0000000007443148>)\n",
        "LCA\n",
        "VCT\n",
        "TTO"
       ]
      },
      {
       "output_type": "stream",
       "stream": "stdout",
       "text": [
        "\n",
        "7 series saved to C:/portal/statmart/data/facts/gen2/sidsrcm/water/\n"
       ]
      }
     ],
     "prompt_number": 15
    },
    {
     "cell_type": "markdown",
     "metadata": {},
     "source": [
      "Generation 3 - Load the Generation 2 data into the database."
     ]
    },
    {
     "cell_type": "code",
     "collapsed": false,
     "input": [
      "data_list = gen3_utils.get_gen2_data(config)\n",
      "observation_fields = \"series, description, value, locationid\"\n",
      "gen3_utils.standard_load_from_data_list(data_list, observation_fields)\n",
      "data_list"
     ],
     "language": "python",
     "metadata": {},
     "outputs": [
      {
       "metadata": {},
       "output_type": "pyout",
       "prompt_number": 16,
       "text": [
        "[('water-desal_atg_sidsrcm',\n",
        "  'ATG',\n",
        "  key\n",
        "name               Antigua and Barbuda - Desalination plant capac...\n",
        "originalsource     Water Division, Antigua Public Utilities Autho...\n",
        "proximatesource                                             SIDS RCM\n",
        "dataset                                  Desalination plant capacity\n",
        "description        Water desalination plants, and their processin...\n",
        "note                                      Plants are reverse osmosis\n",
        "unit                                                     Imp. Ga/day\n",
        "category                                                       Water\n",
        "type                                                    Desalination\n",
        "file                                     water-desal_atg_sidsrcm.csv\n",
        "filehash                    0827f45e2921b0999c2eedc4b630bb10801c316e\n",
        "columns                                            description,value\n",
        "Name: value, dtype: object,\n",
        "          description    value\n",
        "0  Antigua mainland   600000\n",
        "1  Antigua mainland   600000\n",
        "2  Antigua mainland  3400000\n",
        "3  Barbuda mainland    60000\n",
        "4  Barbuda mainland    60000\n",
        "5  Barbuda mainland   100000\n",
        "\n",
        "[6 rows x 2 columns]),\n",
        " ('water-desal_blz_sidsrcm',\n",
        "  'BLZ',\n",
        "  key\n",
        "name                 Belize - Desalination plant capacity [SIDS RCM]\n",
        "originalsource                                                   NaN\n",
        "proximatesource                                             SIDS RCM\n",
        "dataset                                  Desalination plant capacity\n",
        "description        Water desalination plants, and their processin...\n",
        "note                                     Plants are reverse osmosis \n",
        "unit                                                     Imp. Ga/day\n",
        "category                                                       Water\n",
        "type                                                    Desalination\n",
        "file                                     water-desal_blz_sidsrcm.csv\n",
        "filehash                    ad522ca7360050e6a731eaeea6d4b9877a2aeb60\n",
        "columns                                            description,value\n",
        "Name: value, dtype: object,\n",
        "                   description       value\n",
        "0  San Pedro, Ambergris Caye  349723.013\n",
        "1              Cayle Caulker  124901.076\n",
        "\n",
        "[2 rows x 2 columns]),\n",
        " ('water-desal_cub_sidsrcm',\n",
        "  'CUB',\n",
        "  key\n",
        "name                   Cuba - Desalination plant capacity [SIDS RCM]\n",
        "originalsource                                                   NaN\n",
        "proximatesource                                             SIDS RCM\n",
        "dataset                                  Desalination plant capacity\n",
        "description        Water desalination plants, and their processin...\n",
        "note               Cayo Largo, Covarrubia and Jibacoa are for tou...\n",
        "unit                                                     Imp. Ga/day\n",
        "category                                                       Water\n",
        "type                                                    Desalination\n",
        "file                                     water-desal_cub_sidsrcm.csv\n",
        "filehash                    f906f51a215305ac7fbe65721caad546c814d0e3\n",
        "columns                                            description,value\n",
        "Name: value, dtype: object,\n",
        "        description      value\n",
        "0      Cayo Largo  84248.000\n",
        "1         Jibacoa  84248.000\n",
        "2     Covarrubias  39594.400\n",
        "3  Manati Harbour   2529.600\n",
        "4      Guamo Pier   3365.528\n",
        "\n",
        "[5 rows x 2 columns]),\n",
        " ('water-desal_grd_sidsrcm',\n",
        "  'GRD',\n",
        "  key\n",
        "name                Grenada - Desalination plant capacity [SIDS RCM]\n",
        "originalsource     Grenada Strategic Program for Resilience (SPRC...\n",
        "proximatesource                                             SIDS RCM\n",
        "dataset                                  Desalination plant capacity\n",
        "description        Water desalination plants, and their processin...\n",
        "note                                                             NaN\n",
        "unit                                                     Imp. Ga/day\n",
        "category                                                       Water\n",
        "type                                                    Desalination\n",
        "file                                     water-desal_grd_sidsrcm.csv\n",
        "filehash                    27f34ffcf88a689f14ed4a03045d48c0f97a9c18\n",
        "columns                                            description,value\n",
        "Name: value, dtype: object,\n",
        "                         description   value\n",
        "0         Saint Georges University  120000\n",
        "1                 La Source Resort   20000\n",
        "2  George Cohen (Calivigny Island)  180000\n",
        "\n",
        "[3 rows x 2 columns]),\n",
        " ('water-desal_lca_sidsrcm',\n",
        "  'LCA',\n",
        "  key\n",
        "name               Saint Lucia - Desalination plant capacity [SID...\n",
        "originalsource                                                   NaN\n",
        "proximatesource                                             SIDS RCM\n",
        "dataset                                  Desalination plant capacity\n",
        "description        Water desalination plants, and their processin...\n",
        "note               TiKaye Plant is a brackish water reserve osmos...\n",
        "unit                                                     Imp. Ga/day\n",
        "category                                                       Water\n",
        "type                                                    Desalination\n",
        "file                                     water-desal_lca_sidsrcm.csv\n",
        "filehash                    3d9401387b2c99d6ae0c74c2358b15ca6077da1a\n",
        "columns                                            description,value\n",
        "Name: value, dtype: object,\n",
        "    description  value\n",
        "0    Ti Kaye    6000\n",
        "\n",
        "[1 rows x 2 columns]),\n",
        " ('water-desal_vct_sidsrcm',\n",
        "  'VCT',\n",
        "  key\n",
        "name               Saint Vincent and The Grenadines - Desalinatio...\n",
        "originalsource                                                   NaN\n",
        "proximatesource                                             SIDS RCM\n",
        "dataset                                  Desalination plant capacity\n",
        "description        Water desalination plants, and their processin...\n",
        "note               Bequia Desalination Plant is a reverse osmosis...\n",
        "unit                                                             NaN\n",
        "category                                                       Water\n",
        "type                                                    Desalination\n",
        "file                                     water-desal_vct_sidsrcm.csv\n",
        "filehash                    cb65e42f6fff2c52b5a8e5ac908a6bd5d9b1c57d\n",
        "columns                                            description,value\n",
        "Name: value, dtype: object,\n",
        "              description  value\n",
        "0  Bequia Desalination   35000\n",
        "\n",
        "[1 rows x 2 columns]),\n",
        " ('water-desal_tto_sidsrcm',\n",
        "  'TTO',\n",
        "  key\n",
        "name               Trinidad and Tobago - Desalination plant capac...\n",
        "originalsource     Desalcott Trinidad & Tobago Ltd. 2012. <http:/...\n",
        "proximatesource                                             SIDS RCM\n",
        "dataset                                  Desalination plant capacity\n",
        "description        Water desalination plants, and their processin...\n",
        "note                                      Plant is a reverse osmosis\n",
        "unit                                                             NaN\n",
        "category                                                       Water\n",
        "type                                                    Desalination\n",
        "file                                     water-desal_tto_sidsrcm.csv\n",
        "filehash                    5dd83cbdda90d4758cc73e4da5a1c1269a4a11cb\n",
        "columns                                            description,value\n",
        "Name: value, dtype: object,\n",
        "                      description     value\n",
        "0  Desalcott Desalination Plant  33980000\n",
        "\n",
        "[1 rows x 2 columns])]"
       ]
      }
     ],
     "prompt_number": 16
    },
    {
     "cell_type": "markdown",
     "metadata": {},
     "source": [
      "Here are the names of the series:"
     ]
    },
    {
     "cell_type": "code",
     "collapsed": false,
     "input": [
      "filelist"
     ],
     "language": "python",
     "metadata": {},
     "outputs": [
      {
       "metadata": {},
       "output_type": "pyout",
       "prompt_number": 7,
       "text": [
        "['water-desal_atg_sidsrcm',\n",
        " 'water-desal_blz_sidsrcm',\n",
        " 'water-desal_cub_sidsrcm',\n",
        " 'water-desal_grd_sidsrcm',\n",
        " 'water-desal_lca_sidsrcm',\n",
        " 'water-desal_vct_sidsrcm',\n",
        " 'water-desal_tto_sidsrcm']"
       ]
      }
     ],
     "prompt_number": 7
    },
    {
     "cell_type": "code",
     "collapsed": false,
     "input": [],
     "language": "python",
     "metadata": {},
     "outputs": []
    }
   ],
   "metadata": {}
  }
 ]
}