{
 "metadata": {
  "name": ""
 },
 "nbformat": 3,
 "nbformat_minor": 0,
 "worksheets": [
  {
   "cells": [
    {
     "cell_type": "code",
     "collapsed": false,
     "input": [
      "import pandas as pd\n",
      "import pymysql\n",
      "import pandas.io.sql as psql\n",
      "\n",
      "from hashlib import sha1\n",
      "\n",
      "from s0000_statmart_settings import *\n",
      "import s0001_statmart_utils as statmart_utils\n",
      "\n",
      "pd.options.mode.chained_assignment = None  # turn off a noisy pandas warning that doesn't apply to our case"
     ],
     "language": "python",
     "metadata": {},
     "outputs": [],
     "prompt_number": 25
    },
    {
     "cell_type": "code",
     "collapsed": false,
     "input": [
      "def parse_meta_file(metafile):\n",
      "    metamap = {}\n",
      "    \n",
      "    mf = pd.read_csv(metafile, encoding=\"utf-8\")\n",
      "    source = mf.ix[mf[\"Key\"] == \"source\"][\"Value\"]\n",
      "    metamap[\"source\"] = clip_period(source[source.index[0]])\n",
      "    \n",
      "    indicator = mf.loc[mf[\"Key\"] == \"indicator\"][\"Value\"]\n",
      "    metamap[\"indicator\"] = clip_period(indicator[indicator.index[0]])\n",
      "    \n",
      "    definition = mf.loc[mf[\"Key\"] == \"definition\"][\"Value\"]\n",
      "    metamap[\"definition\"] = clip_period(definition[definition.index[0]])\n",
      "    \n",
      "    nf = mf.loc[mf[\"Key\"] == \"note\"][[\"ID\",\"Value\"]]\n",
      "    nf = nf.set_index([\"ID\"])\n",
      "\n",
      "    for index in statmart_utils.get_index_set(nf):\n",
      "        note = nf.ix[index][\"Value\"].strip()\n",
      "        note = clip_period(note)\n",
      "        metamap[index] = note\n",
      "    return metamap\n",
      "\n",
      "def get_notes(notes, mmap):\n",
      "    notes = notes.split(\",\")\n",
      "    return \"|\".join(map(lambda x : mmap[int(x)], notes))\n",
      "    \n",
      "    \n",
      " #   get_notes(\"4422,5170\")"
     ],
     "language": "python",
     "metadata": {},
     "outputs": [],
     "prompt_number": 29
    },
    {
     "cell_type": "raw",
     "metadata": {},
     "source": [
      "build_files(df, meta_function, gen_2_dir, prefix, suffix)\n",
      "\n",
      "This will write all the data files and metadata files to the gen_2_dir directory.\n",
      "\n",
      "Parameters:\n",
      "    - df - A DataFrame with national ISO3 values as the index\n",
      "    - meta_function - a function that will return an array of tupples. Each tuple will correspond to a line in the metadata file, and may be uploaded to the Series table of the database during the \"load\" process\n",
      "    - meta_map containing metadata values, including such values as \"source\", \"indicator\", \"definition\", and various notes, identified by their number\n",
      "    - gen_2_dir - the directory these files will be going into\n",
      "    - prefix - a prefix for the .csv files, generally corresponding to the name of the indicator\n",
      "    - suffix - a suffix for the .csv files, generally corresponding to the name of the source\n",
      "\n",
      "Each csv file will be named prefix\\_iso\\_suffix.csv and each metadata file will be named prefix\\_iso\\_suffix\\_meta.csv. Additionally, prefix\\_iso\\_suffix will be used as the Series indicators for this data in the database."
     ]
    },
    {
     "cell_type": "code",
     "collapsed": false,
     "input": [
      "def build_files(df, meta_function, meta_map, gen_2_dir, prefix, suffix):\n",
      "    filelist = []\n",
      "    countrylist = []\n",
      "    for iso3 in statmart_utils.get_index_set(df):\n",
      "        try:\n",
      "            idf = df.ix[iso3]\n",
      "            if type(idf) == pd.Series: #idf a Series if there is only one element in it, but we want a DataFrame always\n",
      "                idf = pd.DataFrame([idf])\n",
      "            idf = idf[[\"Year\",\"Value\",\"Source\",\"Notes\"]]\n",
      "            idf.columns = [\"year\",\"value\",\"source\",\"notes\"]\n",
      "            idf[\"source\"] = idf[\"source\"].apply(lambda x : meta_map[\"source\"])\n",
      "            idf[\"notes\"] = idf[\"notes\"].apply(lambda x : get_notes(str(x), meta_map))\n",
      "            filestem = prefix + \"_\" + iso3.lower() + \"_\" + suffix\n",
      "            filename = filestem + \".csv\"\n",
      "            filepath = gen_2_dir + filename\n",
      "            idf.to_csv(filepath, encoding=\"utf8\", index=False)\n",
      "        \n",
      "            meta = meta_function(iso3, meta_map)\n",
      "            meta.append((\"file\", filename))\n",
      "            meta.append((\"filehash\", statmart_utils.githash(filepath)))\n",
      "            meta.append((\"columns\", \"year,value,source,notes\"))        \n",
      "            metafile = gen_2_dir + filestem + \"_meta.csv\"    \n",
      "            pd.DataFrame(meta,columns = [\"key\",\"value\"]).to_csv(metafile, encoding=\"utf8\", index=False)\n",
      "            filelist.append([filestem])\n",
      "            countrylist.append(statmart_utils.get_country_by_iso3(iso3))\n",
      "        except Exception as strerror:\n",
      "            print (\"ERROR: Failed to build data for %s\" % iso3)\n",
      "            print (strerror)\n",
      "            \n",
      "    fldf = pd.DataFrame(filelist, index=countrylist).sort_index()\n",
      "    fldf.to_csv(gen_2_dir + \"_\" + prefix + \".csv\", encoding=\"utf8\", float_format='%.1f', index=False, header=False)\n",
      "    return fldf"
     ],
     "language": "python",
     "metadata": {},
     "outputs": [],
     "prompt_number": 28
    },
    {
     "cell_type": "markdown",
     "metadata": {},
     "source": [
      "The data is inconsistant with use of the period at the end of a note. So we strip them all"
     ]
    },
    {
     "cell_type": "code",
     "collapsed": false,
     "input": [
      "def clip_period(str):\n",
      "    if str[-1] == \".\":\n",
      "        str = str[0:-1]    \n",
      "    return str"
     ],
     "language": "python",
     "metadata": {},
     "outputs": [],
     "prompt_number": 30
    },
    {
     "cell_type": "code",
     "collapsed": false,
     "input": [],
     "language": "python",
     "metadata": {},
     "outputs": []
    }
   ],
   "metadata": {}
  }
 ]
}