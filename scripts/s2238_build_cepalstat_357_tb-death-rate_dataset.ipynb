{
 "metadata": {
  "name": ""
 },
 "nbformat": 3,
 "nbformat_minor": 0,
 "worksheets": [
  {
   "cells": [
    {
     "cell_type": "heading",
     "level": 1,
     "metadata": {},
     "source": [
      "Build script for CEPALStat indicator #357: Death rate associated with tuberculosis"
     ]
    },
    {
     "cell_type": "markdown",
     "metadata": {},
     "source": [
      "This script creates csv files out of CEPALStat data, in  a format suitable for subsequent loading to the Statmart database. Each country with an available time series will have two csv files representing their data. The first contains the time series data, and the second will contain metadata about the time series. Additionally, the file \"\\_tb-death-rate.csv\" will be created to list all the created files."
     ]
    },
    {
     "cell_type": "code",
     "collapsed": false,
     "input": [
      "import os, imp\n",
      "import pandas as pd\n",
      "\n",
      "from s0000_statmart_settings import *\n",
      "import s0001_statmart_utils as statmart_utils\n",
      "import s2201_cepalstat_utils as cepalstat_utils"
     ],
     "language": "python",
     "metadata": {},
     "outputs": [],
     "prompt_number": 16
    },
    {
     "cell_type": "markdown",
     "metadata": {},
     "source": [
      "Customize the below per this specfic dataset...."
     ]
    },
    {
     "cell_type": "code",
     "collapsed": false,
     "input": [
      "gen_1_dir = statmart_facts_gen1 + \"cepalstat/\"\n",
      "gen_2_dir = statmart_facts_gen2 + \"cepalstat/tb-death-rate/\"\n",
      "\n",
      "prefix = \"tb-death-rate\"\n",
      "suffix = \"cepalstat\"\n",
      "indicator_id = \"357\"\n",
      "indicator_name = \"Death rate associated with tuberculosis\"\n",
      "indicator_category = \"Social\"\n",
      "indicator_type = \"Health\""
     ],
     "language": "python",
     "metadata": {},
     "outputs": [],
     "prompt_number": 17
    },
    {
     "cell_type": "markdown",
     "metadata": {},
     "source": [
      "We have two csv files pulled down from CEPALStat by a previous script. Lets take a look at what is in these files. First, the data file:"
     ]
    },
    {
     "cell_type": "code",
     "collapsed": false,
     "input": [
      "statfile = gen_1_dir + indicator_id + \"_all.csv\"\n",
      "df = pd.read_csv(statfile, encoding=\"utf-8\", index_col=[\"ISO3\"])\n",
      "df[:10] # have a look at a sample of the data"
     ],
     "language": "python",
     "metadata": {},
     "outputs": [
      {
       "html": [
        "<div style=\"max-height:1000px;max-width:1500px;overflow:auto;\">\n",
        "<table border=\"1\" class=\"dataframe\">\n",
        "  <thead>\n",
        "    <tr style=\"text-align: right;\">\n",
        "      <th></th>\n",
        "      <th>Country</th>\n",
        "      <th>Year</th>\n",
        "      <th>Value</th>\n",
        "      <th>Source</th>\n",
        "      <th>Notes</th>\n",
        "    </tr>\n",
        "    <tr>\n",
        "      <th>ISO3</th>\n",
        "      <th></th>\n",
        "      <th></th>\n",
        "      <th></th>\n",
        "      <th></th>\n",
        "      <th></th>\n",
        "    </tr>\n",
        "  </thead>\n",
        "  <tbody>\n",
        "    <tr>\n",
        "      <th>ATG</th>\n",
        "      <td>              Antigua and Barbuda</td>\n",
        "      <td> 1990</td>\n",
        "      <td> 0.1</td>\n",
        "      <td> 51</td>\n",
        "      <td> 1659</td>\n",
        "    </tr>\n",
        "    <tr>\n",
        "      <th>CYM</th>\n",
        "      <td>                   Cayman Islands</td>\n",
        "      <td> 1990</td>\n",
        "      <td> 1.2</td>\n",
        "      <td> 51</td>\n",
        "      <td> 1659</td>\n",
        "    </tr>\n",
        "    <tr>\n",
        "      <th>TTO</th>\n",
        "      <td>              Trinidad and Tobago</td>\n",
        "      <td> 1990</td>\n",
        "      <td> 2.3</td>\n",
        "      <td> 51</td>\n",
        "      <td> 1659</td>\n",
        "    </tr>\n",
        "    <tr>\n",
        "      <th>SUR</th>\n",
        "      <td>                         Suriname</td>\n",
        "      <td> 1990</td>\n",
        "      <td> 3.5</td>\n",
        "      <td> 51</td>\n",
        "      <td> 1659</td>\n",
        "    </tr>\n",
        "    <tr>\n",
        "      <th>LCA</th>\n",
        "      <td>                      Saint Lucia</td>\n",
        "      <td> 1990</td>\n",
        "      <td> 3.7</td>\n",
        "      <td> 51</td>\n",
        "      <td> 1659</td>\n",
        "    </tr>\n",
        "    <tr>\n",
        "      <th>TCA</th>\n",
        "      <td>         Turks and Caicos Islands</td>\n",
        "      <td> 1990</td>\n",
        "      <td> 0.1</td>\n",
        "      <td> 51</td>\n",
        "      <td> 1659</td>\n",
        "    </tr>\n",
        "    <tr>\n",
        "      <th>VCT</th>\n",
        "      <td> Saint Vincent and the Grenadines</td>\n",
        "      <td> 1990</td>\n",
        "      <td> 1.2</td>\n",
        "      <td> 51</td>\n",
        "      <td> 1659</td>\n",
        "    </tr>\n",
        "    <tr>\n",
        "      <th>KNA</th>\n",
        "      <td>            Saint Kitts and Nevis</td>\n",
        "      <td> 1990</td>\n",
        "      <td> 0.1</td>\n",
        "      <td> 51</td>\n",
        "      <td> 1659</td>\n",
        "    </tr>\n",
        "    <tr>\n",
        "      <th>ANT</th>\n",
        "      <td>             Netherlands Antilles</td>\n",
        "      <td> 1990</td>\n",
        "      <td> 0.6</td>\n",
        "      <td> 51</td>\n",
        "      <td> 1659</td>\n",
        "    </tr>\n",
        "    <tr>\n",
        "      <th>BHS</th>\n",
        "      <td>                          Bahamas</td>\n",
        "      <td> 1990</td>\n",
        "      <td> 0.6</td>\n",
        "      <td> 51</td>\n",
        "      <td> 1659</td>\n",
        "    </tr>\n",
        "  </tbody>\n",
        "</table>\n",
        "<p>10 rows \u00d7 5 columns</p>\n",
        "</div>"
       ],
       "metadata": {},
       "output_type": "pyout",
       "prompt_number": 26,
       "text": [
        "                               Country  Year  Value  Source  Notes\n",
        "ISO3                                                              \n",
        "ATG                Antigua and Barbuda  1990    0.1      51   1659\n",
        "CYM                     Cayman Islands  1990    1.2      51   1659\n",
        "TTO                Trinidad and Tobago  1990    2.3      51   1659\n",
        "SUR                           Suriname  1990    3.5      51   1659\n",
        "LCA                        Saint Lucia  1990    3.7      51   1659\n",
        "TCA           Turks and Caicos Islands  1990    0.1      51   1659\n",
        "VCT   Saint Vincent and the Grenadines  1990    1.2      51   1659\n",
        "KNA              Saint Kitts and Nevis  1990    0.1      51   1659\n",
        "ANT               Netherlands Antilles  1990    0.6      51   1659\n",
        "BHS                            Bahamas  1990    0.6      51   1659\n",
        "\n",
        "[10 rows x 5 columns]"
       ]
      }
     ],
     "prompt_number": 26
    },
    {
     "cell_type": "markdown",
     "metadata": {},
     "source": [
      "And the metadata:"
     ]
    },
    {
     "cell_type": "code",
     "collapsed": false,
     "input": [
      "metafile = gen_1_dir + indicator_id + \"_meta.csv\"\n",
      "metamap = cepalstat_utils.parse_meta_file(metafile)\n",
      "metamap"
     ],
     "language": "python",
     "metadata": {},
     "outputs": [
      {
       "metadata": {},
       "output_type": "pyout",
       "prompt_number": 36,
       "text": [
        "{'definition': 'Proportion of registered deaths caused by tuberculosis in total population during the period of one year',\n",
        " 'indicator': 'Death rate associated with tuberculosis',\n",
        " 'source': 'United Nations Statistics Division: Millennium Indicators Database',\n",
        " 1659: 'The figure is estimated by the international agency, when corresponding country data on a specific year or set of years are not available, or when multiple sources exist, or there are issues of data quality.  Estimates are based on national data, such as surveys or administrative records, or other sources but on the same variable being estimated'}"
       ]
      }
     ],
     "prompt_number": 36
    },
    {
     "cell_type": "markdown",
     "metadata": {},
     "source": [
      "This part builds the csv files for each time series. The only thing we have to do is provide a function that customizes the metadata, and then have cepalstat_utils.build_files take care of the rest. Any tweaks to the default metadata values should be set in the get_metadata function."
     ]
    },
    {
     "cell_type": "code",
     "collapsed": false,
     "input": [
      "def get_metadata(iso3, meta_map):\n",
      "    country = statmart_utils.get_country_by_iso3(iso3)    \n",
      "    return [(\"name\", \"%s - %s [CEPALStat]\" % (country, indicator_name)),\n",
      "                (\"originalsource\", meta_map[\"source\"]),\n",
      "                (\"proximatesource\", \"CEPALStat\"),           \n",
      "                (\"dataset\", meta_map[\"indicator\"] + \" [\" + indicator_id + \"]\"),\n",
      "                (\"description\", meta_map[\"definition\"]),\n",
      "                (\"category\", indicator_category),\n",
      "                (\"type\", indicator_type)\n",
      "                ]\n",
      "\n",
      "report = cepalstat_utils.build_files(df, get_metadata, metamap, gen_2_dir, prefix, suffix)\n",
      "print(\"%i series saved to %s\" % (len(report), gen_2_dir))\n",
      "report"
     ],
     "language": "python",
     "metadata": {},
     "outputs": [
      {
       "output_type": "stream",
       "stream": "stdout",
       "text": [
        "ERROR: Failed to build data for ANT\n",
        "'ANT'\n",
        "23 series saved to C:/portal/statmart/data/facts/gen2/cepalstat/tb-death-rate/"
       ]
      },
      {
       "output_type": "stream",
       "stream": "stdout",
       "text": [
        "\n"
       ]
      },
      {
       "html": [
        "<div style=\"max-height:1000px;max-width:1500px;overflow:auto;\">\n",
        "<table border=\"1\" class=\"dataframe\">\n",
        "  <thead>\n",
        "    <tr style=\"text-align: right;\">\n",
        "      <th></th>\n",
        "      <th>0</th>\n",
        "    </tr>\n",
        "  </thead>\n",
        "  <tbody>\n",
        "    <tr>\n",
        "      <th>Antigua and Barbuda</th>\n",
        "      <td> tb-death-rate_atg_cepalstat</td>\n",
        "    </tr>\n",
        "    <tr>\n",
        "      <th>Aruba</th>\n",
        "      <td> tb-death-rate_abw_cepalstat</td>\n",
        "    </tr>\n",
        "    <tr>\n",
        "      <th>Bahamas</th>\n",
        "      <td> tb-death-rate_bhs_cepalstat</td>\n",
        "    </tr>\n",
        "    <tr>\n",
        "      <th>Barbados</th>\n",
        "      <td> tb-death-rate_brb_cepalstat</td>\n",
        "    </tr>\n",
        "    <tr>\n",
        "      <th>Belize</th>\n",
        "      <td> tb-death-rate_blz_cepalstat</td>\n",
        "    </tr>\n",
        "    <tr>\n",
        "      <th>British Virgin Islands</th>\n",
        "      <td> tb-death-rate_vgb_cepalstat</td>\n",
        "    </tr>\n",
        "    <tr>\n",
        "      <th>Cayman Islands</th>\n",
        "      <td> tb-death-rate_cym_cepalstat</td>\n",
        "    </tr>\n",
        "    <tr>\n",
        "      <th>Cuba</th>\n",
        "      <td> tb-death-rate_cub_cepalstat</td>\n",
        "    </tr>\n",
        "    <tr>\n",
        "      <th>Dominica</th>\n",
        "      <td> tb-death-rate_dma_cepalstat</td>\n",
        "    </tr>\n",
        "    <tr>\n",
        "      <th>Dominican Republic</th>\n",
        "      <td> tb-death-rate_dom_cepalstat</td>\n",
        "    </tr>\n",
        "    <tr>\n",
        "      <th>Grenada</th>\n",
        "      <td> tb-death-rate_grd_cepalstat</td>\n",
        "    </tr>\n",
        "    <tr>\n",
        "      <th>Guyana</th>\n",
        "      <td> tb-death-rate_guy_cepalstat</td>\n",
        "    </tr>\n",
        "    <tr>\n",
        "      <th>Haiti</th>\n",
        "      <td> tb-death-rate_hti_cepalstat</td>\n",
        "    </tr>\n",
        "    <tr>\n",
        "      <th>Jamaica</th>\n",
        "      <td> tb-death-rate_jam_cepalstat</td>\n",
        "    </tr>\n",
        "    <tr>\n",
        "      <th>Montserrat</th>\n",
        "      <td> tb-death-rate_msr_cepalstat</td>\n",
        "    </tr>\n",
        "    <tr>\n",
        "      <th>Puerto Rico</th>\n",
        "      <td> tb-death-rate_pri_cepalstat</td>\n",
        "    </tr>\n",
        "    <tr>\n",
        "      <th>Saint Kitts and Nevis</th>\n",
        "      <td> tb-death-rate_kna_cepalstat</td>\n",
        "    </tr>\n",
        "    <tr>\n",
        "      <th>Saint Lucia</th>\n",
        "      <td> tb-death-rate_lca_cepalstat</td>\n",
        "    </tr>\n",
        "    <tr>\n",
        "      <th>Saint Vincent and The Grenadines</th>\n",
        "      <td> tb-death-rate_vct_cepalstat</td>\n",
        "    </tr>\n",
        "    <tr>\n",
        "      <th>Suriname</th>\n",
        "      <td> tb-death-rate_sur_cepalstat</td>\n",
        "    </tr>\n",
        "    <tr>\n",
        "      <th>Trinidad and Tobago</th>\n",
        "      <td> tb-death-rate_tto_cepalstat</td>\n",
        "    </tr>\n",
        "    <tr>\n",
        "      <th>Turks and Caicos Islands</th>\n",
        "      <td> tb-death-rate_tca_cepalstat</td>\n",
        "    </tr>\n",
        "    <tr>\n",
        "      <th>U.S. Virgin Islands</th>\n",
        "      <td> tb-death-rate_vir_cepalstat</td>\n",
        "    </tr>\n",
        "  </tbody>\n",
        "</table>\n",
        "<p>23 rows \u00d7 1 columns</p>\n",
        "</div>"
       ],
       "metadata": {},
       "output_type": "pyout",
       "prompt_number": 37,
       "text": [
        "                                                            0\n",
        "Antigua and Barbuda               tb-death-rate_atg_cepalstat\n",
        "Aruba                             tb-death-rate_abw_cepalstat\n",
        "Bahamas                           tb-death-rate_bhs_cepalstat\n",
        "Barbados                          tb-death-rate_brb_cepalstat\n",
        "Belize                            tb-death-rate_blz_cepalstat\n",
        "British Virgin Islands            tb-death-rate_vgb_cepalstat\n",
        "Cayman Islands                    tb-death-rate_cym_cepalstat\n",
        "Cuba                              tb-death-rate_cub_cepalstat\n",
        "Dominica                          tb-death-rate_dma_cepalstat\n",
        "Dominican Republic                tb-death-rate_dom_cepalstat\n",
        "Grenada                           tb-death-rate_grd_cepalstat\n",
        "Guyana                            tb-death-rate_guy_cepalstat\n",
        "Haiti                             tb-death-rate_hti_cepalstat\n",
        "Jamaica                           tb-death-rate_jam_cepalstat\n",
        "Montserrat                        tb-death-rate_msr_cepalstat\n",
        "Puerto Rico                       tb-death-rate_pri_cepalstat\n",
        "Saint Kitts and Nevis             tb-death-rate_kna_cepalstat\n",
        "Saint Lucia                       tb-death-rate_lca_cepalstat\n",
        "Saint Vincent and The Grenadines  tb-death-rate_vct_cepalstat\n",
        "Suriname                          tb-death-rate_sur_cepalstat\n",
        "Trinidad and Tobago               tb-death-rate_tto_cepalstat\n",
        "Turks and Caicos Islands          tb-death-rate_tca_cepalstat\n",
        "U.S. Virgin Islands               tb-death-rate_vir_cepalstat\n",
        "\n",
        "[23 rows x 1 columns]"
       ]
      }
     ],
     "prompt_number": 37
    },
    {
     "cell_type": "code",
     "collapsed": false,
     "input": [
      "import imp\n",
      "imp.reload(cepalstat_utils)"
     ],
     "language": "python",
     "metadata": {},
     "outputs": [
      {
       "metadata": {},
       "output_type": "pyout",
       "prompt_number": 35,
       "text": [
        "<module 's2201_cepalstat_utils' from '.\\\\s2201_cepalstat_utils.py'>"
       ]
      }
     ],
     "prompt_number": 35
    },
    {
     "cell_type": "code",
     "collapsed": false,
     "input": [],
     "language": "python",
     "metadata": {},
     "outputs": []
    }
   ],
   "metadata": {}
  }
 ]
}