{
 "metadata": {
  "name": ""
 },
 "nbformat": 3,
 "nbformat_minor": 0,
 "worksheets": [
  {
   "cells": [
    {
     "cell_type": "heading",
     "level": 1,
     "metadata": {},
     "source": [
      "Build script for CEPALStat indicator #307: Contraception"
     ]
    },
    {
     "cell_type": "code",
     "collapsed": false,
     "input": [
      "import os, imp\n",
      "import pandas as pd\n",
      "\n",
      "from settings_statmart import *\n",
      "import utils_statmart as us\n",
      "\n",
      "import gen1_cepalstat\n",
      "import gen2_cepalstat\n",
      "import gen3_utils\n",
      "import gen4_utils\n",
      "\n",
      "us.verbose = True"
     ],
     "language": "python",
     "metadata": {},
     "outputs": [],
     "prompt_number": 2
    },
    {
     "cell_type": "markdown",
     "metadata": {},
     "source": [
      "Customize the below per this specfic dataset...."
     ]
    },
    {
     "cell_type": "code",
     "collapsed": false,
     "input": [
      "prefix = \"contraception\"\n",
      "suffix = \"cepalstat\"\n",
      "indicator_id = \"307\"\n",
      "indicator_name = \"Contraceptive use\"\n",
      "indicator_category = \"Social\"\n",
      "indicator_type = \"Health\"\n",
      "\n",
      "config = us.build_config(suffix,prefix,indicator_id,indicator_name,indicator_category,indicator_type)\n",
      "#config[\"source\"] = \"Economic Commission for Latin America and the Caribbean\"\n",
      "#config[\"multiplier\"] = 1000000\n",
      "config[\"multiplier\"] = 0.01\n",
      "\n",
      "config"
     ],
     "language": "python",
     "metadata": {},
     "outputs": [
      {
       "metadata": {},
       "output_type": "pyout",
       "prompt_number": 3,
       "text": [
        "{'gen_1_dir': 'C:/portal/statmart/data/facts/gen1/cepalstat/',\n",
        " 'gen_2_dir': 'C:/portal/statmart/data/facts/gen2/cepalstat/contraception/',\n",
        " 'gen_4_dir': 'C:/portal/statmart/view/gen4/cepalstat/',\n",
        " 'indicator': 'Contraceptive use',\n",
        " 'indicator_category': 'Social',\n",
        " 'indicator_id': '307',\n",
        " 'indicator_type': 'Health',\n",
        " 'multiplier': 0.01,\n",
        " 'prefix': 'contraception',\n",
        " 'suffix': 'cepalstat'}"
       ]
      }
     ],
     "prompt_number": 3
    },
    {
     "cell_type": "markdown",
     "metadata": {},
     "source": [
      "Generation 1 - Downloads XML through the CEPALStat web service and dumps the enclosed data to a csv file."
     ]
    },
    {
     "cell_type": "code",
     "collapsed": false,
     "input": [
      "gen1_cepalstat.download(config)"
     ],
     "language": "python",
     "metadata": {},
     "outputs": [
      {
       "output_type": "stream",
       "stream": "stdout",
       "text": [
        "http://interwp.cepal.org/sisgen/ws/cepalstat/getDataMeta.asp?idIndicator=307&dim_208=213,220,234,237,238,245,246,249,256,261,263,264&dim_29117=29160,29161,29162,29163,29164,29165,29166,29167,29168,29169,29170,29171,29172,29173,29174,29175,29176,29177,29178,29179,29180,29181,29182&language=english&password=ripken8\n",
        "{'29117': {'name': 'Years', 'labels': {'29177': '2007', '29176': '2006', '29182': '2012', '29171': '2001', '29180': '2010', '29181': '2011', '29174': '2004', '29175': '2005', '29173': '2003', '29172': '2002', '29160': '1990', '29161': '1991', '29162': '1992', '29163': '1993', '29164': '1994', '29165': '1995', '29166': '1996', '29167': '1997', '29168': '1998', '29169': '1999', '29170': '2000', '29179': '2009', '29178': '2008'}}, '208': {'name': 'Countries', 'labels': {'261': 'Puerto Rico', '263': 'Suriname', '264': 'Dominican Republic', '220': 'Belize', '256': 'Trinidad and Tobago', '213': 'Anguilla', '249': 'Cuba', '238': 'Haiti', '237': 'Guyana', '234': 'Grenada', '246': 'Jamaica', '245': 'United States Virgin Islands'}}}\n"
       ]
      }
     ],
     "prompt_number": 4
    },
    {
     "cell_type": "markdown",
     "metadata": {},
     "source": [
      "Generation 2 - Refines the rough csv data from Generation 1 into a standardized csv format common to all data sets. Prepares this data for importing to the database."
     ]
    },
    {
     "cell_type": "code",
     "collapsed": false,
     "input": [
      "gen2_cepalstat.build(config)\n",
      "data_list = gen3_utils.get_gen2_data(config)\n",
      "us.log(data_list[0:3]) # have a look at a sample of the data"
     ],
     "language": "python",
     "metadata": {},
     "outputs": [
      {
       "output_type": "stream",
       "stream": "stdout",
       "text": [
        "C:/portal/statmart/data/facts/gen2/cepalstat/contraception/contraception_sur_cepalstat.csv\n",
        "C:/portal/statmart/data/facts/gen2/cepalstat/contraception/contraception_tto_cepalstat.csv"
       ]
      },
      {
       "output_type": "stream",
       "stream": "stdout",
       "text": [
        "\n",
        "C:/portal/statmart/data/facts/gen2/cepalstat/contraception/contraception_pri_cepalstat.csv\n",
        "C:/portal/statmart/data/facts/gen2/cepalstat/contraception/contraception_hti_cepalstat.csv"
       ]
      },
      {
       "output_type": "stream",
       "stream": "stdout",
       "text": [
        "\n",
        "C:/portal/statmart/data/facts/gen2/cepalstat/contraception/contraception_guy_cepalstat.csv\n",
        "C:/portal/statmart/data/facts/gen2/cepalstat/contraception/contraception_cub_cepalstat.csv"
       ]
      },
      {
       "output_type": "stream",
       "stream": "stdout",
       "text": [
        "\n",
        "C:/portal/statmart/data/facts/gen2/cepalstat/contraception/contraception_jam_cepalstat.csv"
       ]
      },
      {
       "output_type": "stream",
       "stream": "stdout",
       "text": [
        "\n",
        "C:/portal/statmart/data/facts/gen2/cepalstat/contraception/contraception_vir_cepalstat.csv\n",
        "C:/portal/statmart/data/facts/gen2/cepalstat/contraception/contraception_blz_cepalstat.csv"
       ]
      },
      {
       "output_type": "stream",
       "stream": "stdout",
       "text": [
        "\n",
        "C:/portal/statmart/data/facts/gen2/cepalstat/contraception/contraception_grd_cepalstat.csv\n",
        "C:/portal/statmart/data/facts/gen2/cepalstat/contraception/contraception_aia_cepalstat.csv"
       ]
      },
      {
       "output_type": "stream",
       "stream": "stdout",
       "text": [
        "\n",
        "C:/portal/statmart/data/facts/gen2/cepalstat/contraception/contraception_dom_cepalstat.csv\n",
        "12 series saved to C:/portal/statmart/data/facts/gen2/cepalstat/contraception/"
       ]
      },
      {
       "output_type": "stream",
       "stream": "stdout",
       "text": [
        "\n",
        "[('contraception_aia_cepalstat', 'AIA', key\n",
        "name                        Anguilla - Contraceptive use [CEPALStat]\n",
        "originalsource     United Nations Statistics Division: Millennium...\n",
        "proximatesource                                            CEPALStat\n",
        "dataset                                      Contraceptive use [307]\n",
        "description        Corresponds to the percentage of women who are...\n",
        "category                                                      Social\n",
        "type                                                          Health\n",
        "file                                 contraception_aia_cepalstat.csv\n",
        "filehash                    3b778aaede97881352aae0ab16cea58d90031b42\n",
        "columns                                      year,value,source,notes\n",
        "Name: value, dtype: object,       value                                             source  \\\n",
        "year                                                             \n",
        "2003   0.43  United Nations Statistics Division: Millennium...   \n",
        "\n",
        "                                                  notes  \n",
        "year                                                     \n",
        "2003  Figures by method do not add up to the total|A...  \n",
        "\n",
        "[1 rows x 3 columns]), ('contraception_blz_cepalstat', 'BLZ', key\n",
        "name                          Belize - Contraceptive use [CEPALStat]\n",
        "originalsource     United Nations Statistics Division: Millennium...\n",
        "proximatesource                                            CEPALStat\n",
        "dataset                                      Contraceptive use [307]\n",
        "description        Corresponds to the percentage of women who are...\n",
        "category                                                      Social\n",
        "type                                                          Health\n",
        "file                                 contraception_blz_cepalstat.csv\n",
        "filehash                    f8d3c59cd1ef4ddd0b310cd502a01eea0813ca82\n",
        "columns                                      year,value,source,notes\n",
        "Name: value, dtype: object,       value                                             source  \\\n",
        "year                                                             \n",
        "1991  0.467  United Nations Statistics Division: Millennium...   \n",
        "1999  0.561  United Nations Statistics Division: Millennium...   \n",
        "2006  0.343  United Nations Statistics Division: Millennium...   \n",
        "2011  0.552  United Nations Statistics Division: Millennium...   \n",
        "\n",
        "                                                  notes  \n",
        "year                                                     \n",
        "1991  Ages 15-44|The figure is the one produced and ...  \n",
        "1999  Years of survey: 1995-1996|The figure is the o...  \n",
        "2006  Data pertain to all women of reproductive age,...  \n",
        "2011  The figure is the one produced and disseminate...  \n",
        "\n",
        "[4 rows x 3 columns]), ('contraception_cub_cepalstat', 'CUB', key\n",
        "name                            Cuba - Contraceptive use [CEPALStat]\n",
        "originalsource     United Nations Statistics Division: Millennium...\n",
        "proximatesource                                            CEPALStat\n",
        "dataset                                      Contraceptive use [307]\n",
        "description        Corresponds to the percentage of women who are...\n",
        "category                                                      Social\n",
        "type                                                          Health\n",
        "file                                 contraception_cub_cepalstat.csv\n",
        "filehash                    7edb179a36fcac951d3ad62ecee71ba6149adeba\n",
        "columns                                      year,value,source,notes\n",
        "Name: value, dtype: object,       value                                             source  \\\n",
        "year                                                             \n",
        "2000  0.733  United Nations Statistics Division: Millennium...   \n",
        "2006  0.726  United Nations Statistics Division: Millennium...   \n",
        "2011  0.743  United Nations Statistics Division: Millennium...   \n",
        "\n",
        "                                                  notes  \n",
        "year                                                     \n",
        "2000  Data pertain to sexually active women of repro...  \n",
        "2006  Data pertain to all women of reproductive age,...  \n",
        "2011  Years of the survey 2010-2011|The figure is th...  \n",
        "\n",
        "[3 rows x 3 columns])]"
       ]
      },
      {
       "output_type": "stream",
       "stream": "stdout",
       "text": [
        "\n"
       ]
      },
      {
       "output_type": "stream",
       "stream": "stderr",
       "text": [
        ".\\gen2_cepalstat.py:84: SettingWithCopyWarning: A value is trying to be set on a copy of a slice from a DataFrame.\n",
        "Try using .loc[row_index,col_indexer] = value instead\n",
        "  idf[\"value\"] = idf[\"value\"].apply(lambda x : x * mult)\n",
        ".\\gen2_cepalstat.py:87: SettingWithCopyWarning: A value is trying to be set on a copy of a slice from a DataFrame.\n",
        "Try using .loc[row_index,col_indexer] = value instead\n",
        "  idf[\"source\"] = idf[\"source\"].apply(lambda x : config[\"source\"])\n",
        ".\\gen2_cepalstat.py:88: SettingWithCopyWarning: A value is trying to be set on a copy of a slice from a DataFrame.\n",
        "Try using .loc[row_index,col_indexer] = value instead\n",
        "  idf[\"notes\"] = idf[\"notes\"].apply(lambda x : get_notes(str(x), config))\n"
       ]
      }
     ],
     "prompt_number": 5
    },
    {
     "cell_type": "markdown",
     "metadata": {},
     "source": [
      "Generation 3 - Load the Generation 2 data into the database."
     ]
    },
    {
     "cell_type": "code",
     "collapsed": false,
     "input": [
      "gen3_utils.standard_load_from_data_list(data_list)"
     ],
     "language": "python",
     "metadata": {},
     "outputs": [],
     "prompt_number": 6
    },
    {
     "cell_type": "markdown",
     "metadata": {},
     "source": [
      "Generation 4 - Build a php file that uses javascript to generate SVGs using the data in the database"
     ]
    },
    {
     "cell_type": "code",
     "collapsed": false,
     "input": [
      "import imp\n",
      "imp.reload(gen4_utils)\n",
      "config = gen4_utils.build_gen4_config(config, unit=\"Percentage of women using contraception\")\n",
      "page = gen4_utils.build_d3_line_graph(config)"
     ],
     "language": "python",
     "metadata": {},
     "outputs": [],
     "prompt_number": 15
    },
    {
     "cell_type": "code",
     "collapsed": false,
     "input": [
      "data_list[1][2][\"description\"]"
     ],
     "language": "python",
     "metadata": {},
     "outputs": [
      {
       "metadata": {},
       "output_type": "pyout",
       "prompt_number": 10,
       "text": [
        "'Corresponds to the percentage of women who are practising, or whose sexual partners are practising any form of contraception. It is usually reported for women ages 15-49 in marital or consensual unions'"
       ]
      }
     ],
     "prompt_number": 10
    },
    {
     "cell_type": "code",
     "collapsed": false,
     "input": [],
     "language": "python",
     "metadata": {},
     "outputs": []
    }
   ],
   "metadata": {}
  }
 ]
}