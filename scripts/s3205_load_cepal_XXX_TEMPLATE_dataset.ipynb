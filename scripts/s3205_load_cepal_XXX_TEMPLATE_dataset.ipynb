{
 "metadata": {
  "name": ""
 },
 "nbformat": 3,
 "nbformat_minor": 0,
 "worksheets": [
  {
   "cells": [
    {
     "cell_type": "heading",
     "level": 1,
     "metadata": {},
     "source": [
      "Load script for CEPALStat indicator \\#XXX: INDICATOR."
     ]
    },
    {
     "cell_type": "markdown",
     "metadata": {},
     "source": [
      "This script imports csv formatted data (generation 2) into the database (generation 3.)\n",
      "\n",
      "This script will import data from all files listed in \"data/facts/gen2/cepalstat/contraception/_PREFIX.csv\"."
     ]
    },
    {
     "cell_type": "code",
     "collapsed": false,
     "input": [
      "import os.path\n",
      "import pandas as pd\n",
      "import pymysql\n",
      "import pandas.io.sql as psql\n",
      "\n",
      "from s0000_statmart_settings import *\n",
      "import s0001_statmart_utils as statmart_utils\n",
      "import s3001_load_utils as load_utils"
     ],
     "language": "python",
     "metadata": {},
     "outputs": [],
     "prompt_number": 2
    },
    {
     "cell_type": "markdown",
     "metadata": {},
     "source": [
      "Settings:"
     ]
    },
    {
     "cell_type": "code",
     "collapsed": false,
     "input": [
      "gen_2_dir = statmart_facts_gen2 + \"cepalstat/PREFIX/\"\n",
      "\n",
      "prefix = \"PREFIX\"\n",
      "suffix = \"cepalstat\"\n",
      "indicator_id = \"XXX\""
     ],
     "language": "python",
     "metadata": {},
     "outputs": [],
     "prompt_number": 3
    },
    {
     "cell_type": "markdown",
     "metadata": {},
     "source": [
      "Bring in all the data and metadata using the load\\_utils.get\\_gen2\\_data function. The data is returned as an array of tupples. Each tupple contains the \"series key\", the ISO3 value of the country, the meta DataFrame, and the dataset DataFrame. "
     ]
    },
    {
     "cell_type": "code",
     "collapsed": false,
     "input": [
      "data_list = load_utils.get_gen2_data(gen_2_dir, prefix)\n",
      "data_list[0:3] # have a look at a sample of the data"
     ],
     "language": "python",
     "metadata": {},
     "outputs": [
      {
       "metadata": {},
       "output_type": "pyout",
       "prompt_number": 5,
       "text": [
        "''"
       ]
      }
     ],
     "prompt_number": 5
    },
    {
     "cell_type": "markdown",
     "metadata": {},
     "source": [
      "Insert the data from data_list into the MySQL database"
     ]
    },
    {
     "cell_type": "code",
     "collapsed": false,
     "input": [
      "load_utils.standard_load_from_data_list(data_list)"
     ],
     "language": "python",
     "metadata": {},
     "outputs": [],
     "prompt_number": 6
    },
    {
     "cell_type": "markdown",
     "metadata": {},
     "source": [
      "Here is an example of how to make an SQL query to retrieve data in the series:"
     ]
    },
    {
     "cell_type": "code",
     "collapsed": false,
     "input": [
      "df = \"\"\n",
      "with statmart_utils.get_db_connection() as cursor:\n",
      "    query = \"\"\"\n",
      "            SELECT L.iso3, L.countryname, D.year, O.value \n",
      "            FROM observation as O \n",
      "            INNER JOIN date as D    ON O.dateid = D.id\n",
      "            INNER JOIN location as L    ON O.locationid = L.id\n",
      "            WHERE O.series like '%s%s%s'\n",
      "            ORDER BY D.year\n",
      "            \"\"\" % (prefix, \"\\_%\\_\", suffix)\n",
      "    df = psql.frame_query(query, con=cursor.connection)\n",
      "    \n",
      "df\n"
     ],
     "language": "python",
     "metadata": {},
     "outputs": [
      {
       "metadata": {},
       "output_type": "pyout",
       "prompt_number": 7,
       "text": [
        "''"
       ]
      }
     ],
     "prompt_number": 7
    }
   ],
   "metadata": {}
  }
 ]
}