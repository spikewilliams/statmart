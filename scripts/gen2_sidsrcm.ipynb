{
 "metadata": {
  "name": ""
 },
 "nbformat": 3,
 "nbformat_minor": 0,
 "worksheets": [
  {
   "cells": [
    {
     "cell_type": "heading",
     "level": 1,
     "metadata": {},
     "source": [
      "Generation 2 CSV file builder library for SIDS RCM"
     ]
    },
    {
     "cell_type": "markdown",
     "metadata": {},
     "source": [
      "This script creates csv files out of CEPALStat data, in  a format suitable for subsequent loading to the Statmart database. Each country with an available time series will have two csv files representing their data. The first contains the time series data, and the second will contain metadata about the time series. Additionally, the file \"\\_PREFIX.csv\" will be created to list all the created files."
     ]
    },
    {
     "cell_type": "markdown",
     "metadata": {},
     "source": [
      "A full set of stats for an indicator is stored in a file called XXX_all.csv, where XXX is the ID of the indicator, as found in CEPALStat"
     ]
    },
    {
     "cell_type": "code",
     "collapsed": false,
     "input": [
      "import os, imp, sys, traceback\n",
      "import pandas as pd\n",
      "\n",
      "from settings_statmart import *\n",
      "import utils_statmart as us\n",
      "import gen1_cepalstat"
     ],
     "language": "python",
     "metadata": {},
     "outputs": [],
     "prompt_number": 101
    },
    {
     "cell_type": "code",
     "collapsed": false,
     "input": [
      "def get_meta_map(mf):\n",
      "    metamap = {}\n",
      "    \n",
      "    mf = pd.read_csv(metafile, encoding=\"utf-8\")\n",
      "    source = mf.ix[mf[\"Key\"] == \"source\"][\"Value\"]\n",
      "    if len(source) > 0:\n",
      "        metamap[\"source\"] = clip_period(source[source.index[0]].strip())\n",
      "    \n",
      "    indicator = mf.loc[mf[\"Key\"] == \"indicator\"][\"Value\"]\n",
      "    metamap[\"indicator\"] = clip_period(indicator[indicator.index[0]].strip())\n",
      "    \n",
      "    definition = mf.loc[mf[\"Key\"] == \"definition\"][\"Value\"]\n",
      "    if len(\"definition\") > 0:\n",
      "        metamap[\"definition\"] = clip_period(definition[definition.index[0]].strip())\n",
      "    \n",
      "    nf = mf.loc[mf[\"Key\"] == \"note\"][[\"ID\",\"Value\"]]\n",
      "    nf = nf.set_index([\"ID\"])\n",
      "\n",
      "    for index in us.get_index_set(nf):\n",
      "        note = nf.ix[index][\"Value\"].strip()\n",
      "        note = clip_period(note)\n",
      "        metamap[str(index)] = note\n",
      "    return metamap\n",
      "\n",
      "def get_notes(notes, mmap):\n",
      "    if notes == \"nan\":\n",
      "        return \"\"\n",
      "    notes = notes.split(\",\")\n",
      "    mynotes = []\n",
      "    for note in notes:\n",
      "        if note in mmap:\n",
      "            mynotes.append(note)\n",
      "    return \"|\".join(map(lambda x : mmap[str(x)], mynotes))\n",
      "\n",
      "def clip_period(str):\n",
      "    if str[-1] == \".\":\n",
      "        str = str[0:-1]    \n",
      "    return str\n"
     ],
     "language": "python",
     "metadata": {},
     "outputs": [],
     "prompt_number": 102
    },
    {
     "cell_type": "code",
     "collapsed": false,
     "input": [
      "def build_files(df, config):\n",
      "    filelist = []\n",
      "    countrylist = []\n",
      "    for iso3 in us.get_index_set(df):\n",
      "        try:\n",
      "            idf = df.ix[iso3]\n",
      "            if type(idf) == pd.Series: #idf a Series if there is only one element in it, but we want a DataFrame always\n",
      "                idf = pd.DataFrame([idf])\n",
      "            idf = idf[[\"Year\",\"Value\",\"Source\",\"Notes\"]]\n",
      "            idf.columns = [\"year\",\"value\",\"source\",\"notes\"]\n",
      "            mult = config[\"multiplier\"]\n",
      "            if mult:\n",
      "                if (mult <= 1 and mult >= -1) or not type(mult) is int:\n",
      "                    idf[\"value\"] = idf[\"value\"].apply(lambda x : x * mult)\n",
      "                else:\n",
      "                    idf[\"value\"] = idf[\"value\"].apply(lambda x : int(x * mult)).astype(object)\n",
      "            idf[\"source\"] = idf[\"source\"].apply(lambda x : config[\"source\"])\n",
      "            idf[\"notes\"] = idf[\"notes\"].apply(lambda x : get_notes(str(x), config))\n",
      "            filestem = config[\"prefix\"] + \"_\" + iso3.lower() + \"_\" + config[\"suffix\"]\n",
      "            filename = filestem + \".csv\"\n",
      "            filepath = config[\"gen_2_dir\"] + filename\n",
      "            us.log(filepath)\n",
      "            idf.to_csv(filepath, encoding=\"utf8\", index=False)\n",
      "                   \n",
      "            country = us.get_country_by_iso3(iso3)    \n",
      "            meta = [(\"name\", \"%s - %s [CEPALStat]\" % (country, config[\"indicator\"])),\n",
      "                (\"originalsource\", config[\"source\"]),\n",
      "                (\"proximatesource\", \"CEPALStat\"),\n",
      "                (\"dataset\", config[\"indicator\"] + \" [\" + config[\"indicator_id\"] + \"]\"),\n",
      "                (\"description\", config[\"definition\"]),\n",
      "                (\"category\", config[\"indicator_category\"]),\n",
      "                (\"type\", config[\"indicator_type\"]),\n",
      "                (\"file\", filename),\n",
      "                (\"filehash\", us.githash(filepath)),\n",
      "                (\"columns\", \"year,value,source,notes\")\n",
      "                ]\n",
      "     \n",
      "            metafile = config[\"gen_2_dir\"] + filestem + \"_meta.csv\"    \n",
      "            pd.DataFrame(meta,columns = [\"key\",\"value\"]).to_csv(metafile, encoding=\"utf8\", float_format='%.3f',index=False)\n",
      "            filelist.append([filestem])\n",
      "            countrylist.append(country)\n",
      "        except Exception as strerror:\n",
      "            us.log(\"ERROR: Failed to build data for %s\" % iso3)\n",
      "            us.log(sys.exc_info())\n",
      "            traceback.print_tb(sys.exc_info()[2])\n",
      "            \n",
      "    fldf = pd.DataFrame(filelist, index=countrylist).sort_index()\n",
      "    fldf.to_csv(config[\"gen_2_dir\"] + \"_\" + config[\"prefix\"] + \".csv\", encoding=\"utf8\", float_format='%.1f', index=False, header=False)\n",
      "    return fldf"
     ],
     "language": "python",
     "metadata": {},
     "outputs": [],
     "prompt_number": 103
    },
    {
     "cell_type": "markdown",
     "metadata": {},
     "source": [
      "This is what gets called by build scripts. The config object should contain all required variables; it can be generated using utils_statmart.build_config()."
     ]
    },
    {
     "cell_type": "code",
     "collapsed": false,
     "input": [
      "def build(config):\n",
      "    statfile = config[\"gen_1_dir\"] + config[\"indicator_id\"] + \"_all.csv\"\n",
      "    df = pd.read_csv(statfile, encoding=\"utf-8\", index_col=[\"ISO3\"], dtype={'Notes':'object'} )\n",
      "    metafile = config[\"gen_1_dir\"] + config[\"indicator_id\"] + \"_meta.csv\"\n",
      "    metamap = parse_meta_file(metafile)\n",
      "    metamap.update(config) # this enables customizations in config to override entries in the meta file\n",
      "    report = build_files(df, metamap)\n",
      "    us.log(\"%i series saved to %s\" % (len(report), config[\"gen_2_dir\"]))\n",
      "    return report\n",
      "    "
     ],
     "language": "python",
     "metadata": {},
     "outputs": [],
     "prompt_number": 104
    }
   ],
   "metadata": {}
  }
 ]
}