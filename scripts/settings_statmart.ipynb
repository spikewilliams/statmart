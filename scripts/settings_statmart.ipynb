{
 "metadata": {
  "name": ""
 },
 "nbformat": 3,
 "nbformat_minor": 0,
 "worksheets": [
  {
   "cells": [
    {
     "cell_type": "markdown",
     "metadata": {},
     "source": [
      "Set the following configurations as appropriate:"
     ]
    },
    {
     "cell_type": "code",
     "collapsed": false,
     "input": [
      "statmart_root = \"C:/statmart/\"\n",
      "statmart_root_url = \"http://localhost:81/\"\n",
      "statmart_d3_path = statmart_root_url + \"js/d3.v3.min.js\"\n",
      "\n",
      "statmart_db_host='127.0.0.1'\n",
      "statmart_db_port=3306\n",
      "statmart_db_user='root'\n",
      "statmart_db_passwd=''\n",
      "statmart_db_schema='statmart'"
     ],
     "language": "python",
     "metadata": {},
     "outputs": [],
     "prompt_number": 1
    },
    {
     "cell_type": "markdown",
     "metadata": {},
     "source": [
      "No additional configuration needed below this point."
     ]
    },
    {
     "cell_type": "code",
     "collapsed": false,
     "input": [
      "statmart_data_root = statmart_root + \"data/\"\n",
      "statmart_dimensions_root = statmart_data_root + \"dimensions/\"\n",
      "statmart_dimensions_gen0 = statmart_dimensions_root + \"gen0/\"\n",
      "statmart_dimensions_gen1 = statmart_dimensions_root + \"gen1/\"\n",
      "statmart_dimensions_gen2 = statmart_dimensions_root + \"gen2/\"\n",
      "statmart_facts_root = statmart_data_root + \"facts/\"\n",
      "statmart_facts_gen0 = statmart_facts_root + \"gen0/\"\n",
      "statmart_facts_gen1 = statmart_facts_root + \"gen1/\"\n",
      "statmart_facts_gen2 = statmart_facts_root + \"gen2/\"\n",
      "statmart_view_root = statmart_data_root = statmart_root + \"view/\"\n",
      "statmart_view_gen4 = statmart_view_root + \"gen4/\""
     ],
     "language": "python",
     "metadata": {},
     "outputs": [],
     "prompt_number": 3
    },
    {
     "cell_type": "code",
     "collapsed": false,
     "input": [],
     "language": "python",
     "metadata": {},
     "outputs": [],
     "prompt_number": 2
    },
    {
     "cell_type": "code",
     "collapsed": false,
     "input": [],
     "language": "python",
     "metadata": {},
     "outputs": [],
     "prompt_number": 2
    },
    {
     "cell_type": "code",
     "collapsed": false,
     "input": [],
     "language": "python",
     "metadata": {},
     "outputs": [],
     "prompt_number": 2
    },
    {
     "cell_type": "code",
     "collapsed": false,
     "input": [],
     "language": "python",
     "metadata": {},
     "outputs": []
    }
   ],
   "metadata": {}
  }
 ]
}