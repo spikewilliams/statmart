{
 "metadata": {
  "name": ""
 },
 "nbformat": 3,
 "nbformat_minor": 0,
 "worksheets": [
  {
   "cells": [
    {
     "cell_type": "heading",
     "level": 1,
     "metadata": {},
     "source": [
      "Generation 1 data fetcher library for CEPALStat"
     ]
    },
    {
     "cell_type": "markdown",
     "metadata": {},
     "source": [
      "The functions in this library grab XML data from CEPALStat and transform it into CSV formatted files - one for the data, and another for the metadata. These files are stored in the gen1/cepalstat directory."
     ]
    },
    {
     "cell_type": "code",
     "collapsed": false,
     "input": [
      "import xml.etree.ElementTree as et\n",
      "import urllib\n",
      "import csv\n",
      "from builtins import *\n",
      "import os\n",
      "\n",
      "import pandas as pd\n",
      "\n",
      "from settings_statmart import *\n",
      "import utils_statmart as us\n",
      "\n",
      "gen_0_dir = statmart_facts_gen0 + \"cepalstat/\"\n",
      "gen_1_dir = statmart_facts_gen1 + \"cepalstat/\"\n",
      "\n",
      "urlroot = \"http://interwp.cepal.org/sisgen/ws/cepalstat/\"\n",
      "cepalstat_token = \"ripken8\""
     ],
     "language": "python",
     "metadata": {},
     "outputs": [],
     "prompt_number": 66
    },
    {
     "cell_type": "code",
     "collapsed": false,
     "input": [
      "def build_url(command,options):\n",
      "\turl = urlroot + command + \".asp?\" + options\n",
      "\turl = url + \"&language=english&password=\" + cepalstat_token\n",
      "\treturn url"
     ],
     "language": "python",
     "metadata": {},
     "outputs": [],
     "prompt_number": 67
    },
    {
     "cell_type": "code",
     "collapsed": false,
     "input": [
      "def get_countries_by_indicator(id_indicator):\t\n",
      "    url = build_url(\"getDimensions\",\"idIndicator=\" + id_indicator)\n",
      "    response = urllib.request.urlopen(url)\n",
      "    xml = response.read()\n",
      "    tree = et.fromstring(xml)\n",
      "    dims = tree.findall(\"dim\")\n",
      "    dim = dims[0] #Countries is the fist dim in the list\n",
      "    clist = []\n",
      "    deses = dim.findall(\"des\") \n",
      "    for des in deses:\n",
      "        if (des.attrib[\"in\"] == \"1\"):\n",
      "            clist.append(des.attrib[\"id\"])\n",
      "    return clist"
     ],
     "language": "python",
     "metadata": {},
     "outputs": [],
     "prompt_number": 68
    },
    {
     "cell_type": "code",
     "collapsed": false,
     "input": [],
     "language": "python",
     "metadata": {},
     "outputs": [],
     "prompt_number": 69
    },
    {
     "cell_type": "code",
     "collapsed": false,
     "input": [
      "def get_dimensions(idIndicator, countryDict):\t\n",
      "    url = build_url(\"getDimensions\",\"idIndicator=\" + idIndicator)\n",
      "    response = urllib.request.urlopen(url)\n",
      "    xml = response.read()\n",
      "    tree = et.fromstring(xml)\n",
      "    dim_dict = {}\n",
      "    for dim in tree.findall(\"dim\"):\n",
      "        deses = dim.findall(\"des\") \n",
      "        dim_map = {}\n",
      "        for des in deses:\n",
      "            if (des.attrib[\"in\"] == \"1\"):\n",
      "                if dim.attrib[\"id\"] == \"208\" and not des.attrib[\"id\"] in countryDict:\n",
      "                    continue\n",
      "                dim_map[des.attrib[\"id\"]] = des.attrib[\"name\"]\n",
      "        dim_dict[dim.attrib[\"id\"]] = {\"name\":dim.attrib[\"name\"],\"labels\":dim_map}\n",
      "    return dim_dict\n",
      "\n",
      "#dimensions = get_dimensions(\"127\", countryDict) \n",
      "#dimensions"
     ],
     "language": "python",
     "metadata": {},
     "outputs": [],
     "prompt_number": 70
    },
    {
     "cell_type": "code",
     "collapsed": false,
     "input": [
      "def build_dimension_options(dimensions):\n",
      "    dims = []\n",
      "    for key in dimensions.keys():\n",
      "        if key==\"1240\": #do not pass in key for \"years\"; we want all by defalt, and it can make the URL too long for CepalStat to handle\n",
      "            continue\n",
      "        labels = dimensions[key][\"labels\"]\n",
      "        keys = sorted(list(labels.keys()))\n",
      "        dims.append(\"dim_%s=%s\" % (key,\",\".join(keys)))\n",
      "    return \"&\".join(sorted(dims))"
     ],
     "language": "python",
     "metadata": {},
     "outputs": [],
     "prompt_number": 78
    },
    {
     "cell_type": "code",
     "collapsed": false,
     "input": [
      "def get_data_by_indicator(id_indicator):\t\n",
      "    dimensions = get_dimensions(id_indicator, us.load_carib_country_dict(key_column=\"cepalid\"))\n",
      "    url = build_url(\"getDataMeta\",\"idIndicator=\" + id_indicator + \"&\" + build_dimension_options(dimensions))\n",
      "    us.log(url)\n",
      "    us.log(dimensions)\n",
      "    response = urllib.request.urlopen(url)\n",
      "    xml = response.read()\n",
      "    tree = et.fromstring(xml)\n",
      "    datos = tree.findall(\"datos\")[0].findall(\"dato\")\n",
      "    data = []\n",
      "    for dat in datos:\n",
      "        row = []\n",
      "        for dim in dimensions.keys():\n",
      "            key = dat.attrib[\"dim_\" + dim]\n",
      "            row.append(dimensions[dim][\"labels\"][key])\n",
      "            #print(dimensions[key][\"name\"])\n",
      "        row.append(dat.attrib[\"valor\"])\n",
      "        row.append(dat.attrib[\"id_fuente\"])\n",
      "        row.append(dat.attrib[\"ids_notas\"])\n",
      "        row.append(dat.attrib[\"iso3\"])\n",
      "        data.append(row)\n",
      "    cols = list(map(lambda k : dimensions[k][\"name\"], list(dimensions.keys())))+ [\"Value\",\"Source\",\"Notes\",\"ISO3\"]\n",
      "    cols[cols.index(\"Countries\")] = \"Country\"\n",
      "    cols[cols.index(\"Years\")] = \"Year\"\n",
      "    df = pd.DataFrame(data, columns=cols)\n",
      "    newCols = [\"Year\",\"Value\",\"Source\",\"Notes\",\"ISO3\"]\n",
      "    for key in cols:\n",
      "        if not key in newCols: # This is O^2\n",
      "            newCols.append(key)\n",
      "    df = df.reindex_axis(newCols, axis=1)\n",
      "    return (df, get_metadata_from_tree(tree))\n",
      "\n",
      "#get_data_by_indicator(\"861\")\n",
      "\n",
      "\n",
      "#http://interwp.cepal.org/sisgen/ws/cepalstat/getDataMeta.asp?dIndicator=2137&language=spanish&dim_10463=10464&dim_28645=28646&dim_28648=28663,28652,28650&password=ripken8"
     ],
     "language": "python",
     "metadata": {},
     "outputs": [],
     "prompt_number": 59
    },
    {
     "cell_type": "code",
     "collapsed": false,
     "input": [
      "def get_metadata_by_indicator(id_indicator):\t\n",
      "    dimensions = get_dimensions(id_indicator, loadCaribCountryDict())\n",
      "    url = build_url(\"getDataMeta\",\"idIndicator=\" + id_indicator + \"&\" + build_dimension_options(dimensions))\n",
      "    #print(url)\n",
      "    response = urllib.request.urlopen(url)\n",
      "    xml = response.read()\n",
      "    tree = et.fromstring(xml)\n",
      "    return get_metadata_from_tree(tree)\n",
      "\n",
      "def get_metadata_from_tree(tree):\n",
      "    md = tree.findall(\"metadatos\")[0]\n",
      "    rows = []\n",
      "    rows.append([5000000,\"indicator-id\",         md.attrib[\"idIndicator\"]])\n",
      "    rows.append([5000001,\"indicator\",            md.attrib[\"indicador\"]])\n",
      "    rows.append([5000002,\"theme\",                md.attrib[\"tema\"]])\n",
      "    rows.append([5000003,\"area\",                 md.attrib[\"area\"]])\n",
      "    rows.append([5000004,\"indicator-note\",       md.attrib[\"nota\"]])\n",
      "    rows.append([5000005,\"unit\",                 md.attrib[\"unidad\"]])\n",
      "    rows.append([5000006,\"definition\",           md.attrib[\"definicion\"]])\n",
      "    rows.append([5000007,\"data-charactaristics\", md.attrib[\"caracteristicas_dato\"]])\n",
      "    rows.append([5000008,\"methodology\",          md.attrib[\"metodologia_calculo\"]])\n",
      "    rows.append([5000009,\"commentary\",           md.attrib[\"comentarios\"]]) \n",
      "    notas = tree.findall(\"notas\")[0].findall(\"nota\")\n",
      "    for nota in notas:\n",
      "        rows.append([int(nota.attrib[\"id\"]), \"note\", nota.attrib[\"descripcion\"]])\n",
      "    fuentes = tree.findall(\"fuentes\")[0].findall(\"fuente\")\n",
      "    for fuente in fuentes:\n",
      "        rows.append([int(fuente.attrib[\"id\"]), \"source\", fuente.attrib[\"nombre_organismo\"] + \": \" + fuente.attrib[\"descripcion\"]])\n",
      "    return pd.DataFrame(rows, columns=[\"ID\",\"Key\",\"Value\"]) \n",
      "   \n",
      "#get_metadata_by_indicator('127')"
     ],
     "language": "python",
     "metadata": {},
     "outputs": [],
     "prompt_number": 75
    },
    {
     "cell_type": "code",
     "collapsed": false,
     "input": [
      "def save_as_csv(path, df, country, prefix, suffix=\"\"):\n",
      "    c = country.strip().lower().replace(\" \",\"-\")\n",
      "    filename = path + prefix + \"_\" + c\n",
      "    if suffix:\n",
      "        filename = filename + \"_\" + suffix\n",
      "    filename = filename + \".csv\"\n",
      "    df.to_csv(filename, encoding=\"utf-8\", index=False)\n",
      "\n",
      "#iso3Dict = loadCaribCountryDict(\"iso3\")\n",
      "def make_country_data_files(indicator, sort=[\"Year\"]):\n",
      "    countryDict = loadCaribCountryDict()\n",
      "    countries = get_countries_by_indicator(indicator)\n",
      "    (df,mdf) = get_data_by_indicator(indicator)\n",
      "    df = df.sort(sort)\n",
      "    save_as_csv(gen_1_dir, df, \"all\", indicator)\n",
      "    save_as_csv(gen_1_dir, mdf, \"meta\", indicator)\n",
      "    \n",
      "#make_country_data_files(\"2216\", sort=[\"Year\",\"Item\"]) #GDP by sector\n",
      "#make_country_data_files(\"861\")\n"
     ],
     "language": "python",
     "metadata": {},
     "outputs": [],
     "prompt_number": 72
    },
    {
     "cell_type": "code",
     "collapsed": false,
     "input": [
      "def download(config):\n",
      "    return make_country_data_files(config[\"indicator_id\"], sort=[\"Year\"]) #Contraception"
     ],
     "language": "python",
     "metadata": {},
     "outputs": [],
     "prompt_number": 77
    },
    {
     "cell_type": "code",
     "collapsed": false,
     "input": [
      "#make_country_data_files(\"307\", sort=[\"Year\"]) #Contraception"
     ],
     "language": "python",
     "metadata": {},
     "outputs": [
      {
       "output_type": "stream",
       "stream": "stdout",
       "text": [
        "http://interwp.cepal.org/sisgen/ws/cepalstat/getDataMeta.asp?idIndicator=307&dim_208=213,220,234,237,238,245,246,249,256,261,263,264&dim_29117=29160,29161,29162,29163,29164,29165,29166,29167,29168,29169,29170,29171,29172,29173,29174,29175,29176,29177,29178,29179,29180,29181,29182&language=english&password=ripken8\n"
       ]
      }
     ],
     "prompt_number": 74
    },
    {
     "cell_type": "code",
     "collapsed": false,
     "input": [
      "#make_country_data_files(\"468\", sort=[\"Year\"]) #Hospital Beds"
     ],
     "language": "python",
     "metadata": {},
     "outputs": [
      {
       "output_type": "stream",
       "stream": "stdout",
       "text": [
        "http://interwp.cepal.org/sisgen/ws/cepalstat/getDataMeta.asp?idIndicator=468&dim_208=20442,214,217,218,219,220,228,234,236,237,238,246,249,256,257,260,261,262,263,264,3272&dim_29117=29128,29133,29138,29139,29140,29141,29142,29143,29144,29145,29146,29147,29150,29151,29152,29153,29154,29155,29156,29157,29158,29159,29160,29161,29162,29163,29164,29165,29166,29167,29168,29169,29170,29171,29172,29173,29174,29175,29176,29177,29178,29179,29180,29181,29182&language=english&password=ripken8\n"
       ]
      }
     ],
     "prompt_number": 76
    },
    {
     "cell_type": "code",
     "collapsed": false,
     "input": [
      "#makeCountryDataFiles(\"465\", sort=[\"Year\"]) #Occupied Units"
     ],
     "language": "python",
     "metadata": {},
     "outputs": [
      {
       "output_type": "stream",
       "stream": "stdout",
       "text": [
        "http://interwp.cepal.org/sisgen/ws/cepalstat/getDimensions.asp?idIndicator=465&language=english&password=ripken8\n",
        "http://interwp.cepal.org/sisgen/ws/cepalstat/getDataMeta.asp?idIndicator=465&dim_1412=1413,1414,1415,2179&dim_208=214,215,219,220,228,234,238,243,246,256,262,264&dim_29117=29150,29152,29155,29158,29161,29162,29164,29166,29170,29171,29172,29173,29175,29177&dim_326=327,330,331&language=english&password=ripken8"
       ]
      },
      {
       "output_type": "stream",
       "stream": "stdout",
       "text": [
        "\n"
       ]
      }
     ],
     "prompt_number": 290
    },
    {
     "cell_type": "code",
     "collapsed": false,
     "input": [
      "#makeCountryDataFiles(\"861\", sort=[\"Year\"]) #External Debt"
     ],
     "language": "python",
     "metadata": {},
     "outputs": [
      {
       "output_type": "stream",
       "stream": "stdout",
       "text": [
        "http://interwp.cepal.org/sisgen/ws/cepalstat/getDimensions.asp?idIndicator=861&language=english&password=ripken8\n",
        "http://interwp.cepal.org/sisgen/ws/cepalstat/getDataMeta.asp?idIndicator=861&dim_208=214,218,219,220,228,234,237,238,246,249,256,257,260,262,263,264&dim_29117=29150,29151,29152,29153,29154,29155,29156,29157,29158,29159,29160,29161,29162,29163,29164,29165,29166,29167,29168,29169,29170,29171,29172,29173,29174,29175,29176,29177,29178,29179,29180,29181,29182&language=english&password=ripken8"
       ]
      },
      {
       "output_type": "stream",
       "stream": "stdout",
       "text": [
        "\n"
       ]
      }
     ],
     "prompt_number": 289
    },
    {
     "cell_type": "code",
     "collapsed": false,
     "input": [
      "#makeCountryDataFiles(\"642\", sort=[\"Year\"]) #Agricultural sector product value"
     ],
     "language": "python",
     "metadata": {},
     "outputs": [
      {
       "output_type": "stream",
       "stream": "stdout",
       "text": [
        "http://interwp.cepal.org/sisgen/ws/cepalstat/getDimensions.asp?idIndicator=642&language=english&password=ripken8\n",
        "http://interwp.cepal.org/sisgen/ws/cepalstat/getDataMeta.asp?idIndicator=642&dim_208=264&dim_2811=2812,2813,2814,2815&dim_29117=29118,29119,29120,29121,29122,29123,29124,29125,29126,29127,29128,29129,29130,29131,29132,29133,29134,29135,29136,29137,29138,29139,29140,29141,29142,29143,29144,29145,29146,29147,29150,29151,29152,29153,29154,29155,29156,29157,29158,29159,29160,29161,29162,29163,29164,29165,29166,29167,29168,29169,29170,29171,29172,29173,29174,29175,29176,29177,29178,29179,29180&language=english&password=ripken8"
       ]
      },
      {
       "output_type": "stream",
       "stream": "stdout",
       "text": [
        "\n"
       ]
      }
     ],
     "prompt_number": 280
    },
    {
     "cell_type": "code",
     "collapsed": false,
     "input": [
      "#makeCountryDataFiles(\"764\", sort=[\"Year\"]) #Core inflation"
     ],
     "language": "python",
     "metadata": {},
     "outputs": [
      {
       "output_type": "stream",
       "stream": "stdout",
       "text": [
        "http://interwp.cepal.org/sisgen/ws/cepalstat/getDimensions.asp?idIndicator=764&language=english&password=ripken8\n",
        "http://interwp.cepal.org/sisgen/ws/cepalstat/getDataMeta.asp?idIndicator=764&dim_208=237,238,264&dim_29117=29160,29161,29162,29163,29164,29165,29166,29167,29168,29169,29170,29171,29172,29173,29174,29175,29176,29177,29178,29179,29180,29181,29182,29183&dim_515=516,517,518,519,821,822,823,824,825,826,827,828&language=english&password=ripken8"
       ]
      },
      {
       "output_type": "stream",
       "stream": "stdout",
       "text": [
        "\n"
       ]
      }
     ],
     "prompt_number": 288
    },
    {
     "cell_type": "code",
     "collapsed": false,
     "input": [
      "#makeCountryDataFiles(\"365\", sort=[\"Year\"]) #Consumer price index"
     ],
     "language": "python",
     "metadata": {},
     "outputs": [
      {
       "output_type": "stream",
       "stream": "stdout",
       "text": [
        "http://interwp.cepal.org/sisgen/ws/cepalstat/getDimensions.asp?idIndicator=365&language=english&password=ripken8\n",
        "http://interwp.cepal.org/sisgen/ws/cepalstat/getDataMeta.asp?idIndicator=365&dim_208=214,217,218,219,220,228,234,236,237,238,246,249,256,257,260,262,263,264&dim_29117=29150,29151,29152,29153,29154,29155,29156,29157,29158,29159,29160,29161,29162,29163,29164,29165,29166,29167,29168,29169,29170,29171,29172,29173,29174,29175,29176,29177,29178,29179,29180,29181,29182,29183&dim_515=516,517,518,519,821,822,823,824,825,826,827,828&language=english&password=ripken8"
       ]
      },
      {
       "output_type": "stream",
       "stream": "stdout",
       "text": [
        "\n"
       ]
      }
     ],
     "prompt_number": 287
    },
    {
     "cell_type": "code",
     "collapsed": false,
     "input": [
      "#makeCountryDataFiles(\"357\", sort=[\"Year\"]) #Death rate tuberculosis"
     ],
     "language": "python",
     "metadata": {},
     "outputs": [
      {
       "output_type": "stream",
       "stream": "stdout",
       "text": [
        "http://interwp.cepal.org/sisgen/ws/cepalstat/getDimensions.asp?idIndicator=357&language=english&password=ripken8\n",
        "http://interwp.cepal.org/sisgen/ws/cepalstat/getDataMeta.asp?idIndicator=357&dim_208=20442,214,215,217,218,219,220,228,234,236,237,238,243,245,246,249,256,257,260,261,262,263,264,3272&dim_29117=29160,29161,29162,29163,29164,29165,29166,29167,29168,29169,29170,29171,29172,29173,29174,29175,29176,29177,29178,29179,29180,29181&language=english&password=ripken8"
       ]
      },
      {
       "output_type": "stream",
       "stream": "stdout",
       "text": [
        "\n"
       ]
      }
     ],
     "prompt_number": 286
    },
    {
     "cell_type": "code",
     "collapsed": false,
     "input": [
      "#makeCountryDataFiles(\"1693\", sort=[\"Year\"]) #Incidence rate tuberculosis"
     ],
     "language": "python",
     "metadata": {},
     "outputs": [
      {
       "output_type": "stream",
       "stream": "stdout",
       "text": [
        "http://interwp.cepal.org/sisgen/ws/cepalstat/getDimensions.asp?idIndicator=1693&language=english&password=ripken8\n",
        "http://interwp.cepal.org/sisgen/ws/cepalstat/getDataMeta.asp?idIndicator=1693&dim_208=20442,213,214,215,217,218,219,220,228,234,236,237,238,243,245,246,249,256,257,260,261,262,263,264,3272&dim_29117=29160,29161,29162,29163,29164,29165,29166,29167,29168,29169,29170,29171,29172,29173,29174,29175,29176,29177,29178,29179,29180,29181&language=english&password=ripken8"
       ]
      },
      {
       "output_type": "stream",
       "stream": "stdout",
       "text": [
        "\n"
       ]
      }
     ],
     "prompt_number": 292
    },
    {
     "cell_type": "code",
     "collapsed": false,
     "input": [
      "#makeCountryDataFiles(\"1010\", sort=[\"Year\"]) #Prison population rate"
     ],
     "language": "python",
     "metadata": {},
     "outputs": [
      {
       "output_type": "stream",
       "stream": "stdout",
       "text": [
        "http://interwp.cepal.org/sisgen/ws/cepalstat/getDimensions.asp?idIndicator=1010&language=english&password=ripken8\n",
        "http://interwp.cepal.org/sisgen/ws/cepalstat/getDataMeta.asp?idIndicator=1010&dim_208=20442,213,214,217,218,219,220,228,234,237,238,243,245,246,249,256,257,260,261,262,263,264,31799,31800&dim_29117=29161,29162,29163,29164,29165,29166,29167,29168,29169,29171,29172,29173,29174,29175,29176,29177,29178,29179,29180,29181,29182,29183&language=english&password=ripken8"
       ]
      },
      {
       "output_type": "stream",
       "stream": "stdout",
       "text": [
        "\n"
       ]
      }
     ],
     "prompt_number": 293
    },
    {
     "cell_type": "code",
     "collapsed": false,
     "input": [
      "#makeCountryDataFiles(\"2179\", sort=[\"Year\"]) #Nominal exchange rate"
     ],
     "language": "python",
     "metadata": {},
     "outputs": [
      {
       "output_type": "stream",
       "stream": "stdout",
       "text": [
        "http://interwp.cepal.org/sisgen/ws/cepalstat/getDimensions.asp?idIndicator=2179&language=english&password=ripken8\n",
        "http://interwp.cepal.org/sisgen/ws/cepalstat/getDataMeta.asp?idIndicator=2179&dim_208=214,218,219,220,228,234,237,238,246,249,256,257,260,262,263,264&dim_29117=29118,29119,29120,29121,29122,29123,29124,29125,29126,29127,29128,29129,29130,29131,29132,29133,29134,29135,29136,29137,29138,29139,29140,29141,29142,29143,29144,29145,29146,29147,29150,29151,29152,29153,29154,29155,29156,29157,29158,29159,29160,29161,29162,29163,29164,29165,29166,29167,29168,29169,29170,29171,29172,29173,29174,29175,29176,29177,29178,29179,29180,29181,29182&language=english&password=ripken8"
       ]
      },
      {
       "output_type": "stream",
       "stream": "stdout",
       "text": [
        "\n"
       ]
      }
     ],
     "prompt_number": 294
    },
    {
     "cell_type": "code",
     "collapsed": false,
     "input": [
      "#makeCountryDataFiles(\"127\", sort=[\"Year\"]) #Unemployment rate"
     ],
     "language": "python",
     "metadata": {},
     "outputs": [
      {
       "output_type": "stream",
       "stream": "stdout",
       "text": [
        "http://interwp.cepal.org/sisgen/ws/cepalstat/getDimensions.asp?idIndicator=127&language=english&password=ripken8\n",
        "http://interwp.cepal.org/sisgen/ws/cepalstat/getDataMeta.asp?idIndicator=127&dim_208=218,219,220,246,249,256,263,264&dim_29117=29150,29151,29152,29153,29154,29155,29156,29157,29158,29159,29160,29161,29162,29163,29164,29165,29166,29167,29168,29169,29170,29171,29172,29173,29174,29175,29176,29177,29178,29179,29180,29181,29182,29183&language=english&password=ripken8"
       ]
      },
      {
       "output_type": "stream",
       "stream": "stdout",
       "text": [
        "\n"
       ]
      }
     ],
     "prompt_number": 295
    },
    {
     "cell_type": "code",
     "collapsed": false,
     "input": [
      "\"\"\"    try:\n",
      "        os.makedirs(path)\n",
      "    except FileExistsError:\n",
      "        pass\"\"\""
     ],
     "language": "python",
     "metadata": {},
     "outputs": []
    },
    {
     "cell_type": "code",
     "collapsed": false,
     "input": [],
     "language": "python",
     "metadata": {},
     "outputs": []
    }
   ],
   "metadata": {}
  }
 ]
}