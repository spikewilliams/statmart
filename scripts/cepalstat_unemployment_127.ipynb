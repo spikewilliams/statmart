{
 "metadata": {
  "name": ""
 },
 "nbformat": 3,
 "nbformat_minor": 0,
 "worksheets": [
  {
   "cells": [
    {
     "cell_type": "heading",
     "level": 1,
     "metadata": {},
     "source": [
      "Build script for CEPALStat indicator #127: Unemployment"
     ]
    },
    {
     "cell_type": "code",
     "collapsed": false,
     "input": [
      "import os, imp\n",
      "import pandas as pd\n",
      "\n",
      "from settings_statmart import *\n",
      "import utils_statmart as us\n",
      "\n",
      "import gen1_cepalstat\n",
      "import gen2_cepalstat\n",
      "import gen3_utils\n",
      "import gen4_utils\n",
      "\n",
      "us.verbose = True"
     ],
     "language": "python",
     "metadata": {},
     "outputs": [],
     "prompt_number": 1
    },
    {
     "cell_type": "markdown",
     "metadata": {},
     "source": [
      "Customize the below per this specfic dataset...."
     ]
    },
    {
     "cell_type": "code",
     "collapsed": false,
     "input": [
      "prefix = \"unemployment\"\n",
      "suffix = \"cepalstat\"\n",
      "indicator_id = \"127\"\n",
      "indicator_name = \"Official unemployment rate\"\n",
      "indicator_category = \"Economic\"\n",
      "indicator_type = \"Unemployment\"\n",
      "\n",
      "config = us.build_config(suffix,prefix,indicator_id,indicator_name,indicator_category,indicator_type)\n",
      "#config[\"source\"] = \"Economic Commission for Latin America and the Caribbean\"\n",
      "#config[\"multiplier\"] = 1000000\n",
      "config[\"multiplier\"] = 0.01\n",
      "\n",
      "config"
     ],
     "language": "python",
     "metadata": {},
     "outputs": [
      {
       "metadata": {},
       "output_type": "pyout",
       "prompt_number": 2,
       "text": [
        "{'gen_1_dir': 'C:/portal/statmart/data/facts/gen1/cepalstat/',\n",
        " 'gen_2_dir': 'C:/portal/statmart/data/facts/gen2/cepalstat/unemployment/',\n",
        " 'gen_4_dir': 'C:/portal/statmart/view/gen4/cepalstat/',\n",
        " 'indicator': 'Official unemployment rate',\n",
        " 'indicator_category': 'Economic',\n",
        " 'indicator_id': '127',\n",
        " 'indicator_type': 'Unemployment',\n",
        " 'multiplier': 0.01,\n",
        " 'prefix': 'unemployment',\n",
        " 'suffix': 'cepalstat'}"
       ]
      }
     ],
     "prompt_number": 2
    },
    {
     "cell_type": "markdown",
     "metadata": {},
     "source": [
      "Generation 1 - Downloads XML through the CEPALStat web service and dumps the enclosed data to a csv file."
     ]
    },
    {
     "cell_type": "code",
     "collapsed": false,
     "input": [
      "gen1_cepalstat.download(config)"
     ],
     "language": "python",
     "metadata": {},
     "outputs": [
      {
       "output_type": "stream",
       "stream": "stdout",
       "text": [
        "http://interwp.cepal.org/sisgen/ws/cepalstat/getDataMeta.asp?idIndicator=127&dim_208=218,219,220,246,249,256,263,264&dim_29117=29150,29151,29152,29153,29154,29155,29156,29157,29158,29159,29160,29161,29162,29163,29164,29165,29166,29167,29168,29169,29170,29171,29172,29173,29174,29175,29176,29177,29178,29179,29180,29181,29182,29183&language=english&password=ripken8\n",
        "{'208': {'labels': {'263': 'Suriname', '264': 'Dominican Republic', '249': 'Cuba', '246': 'Jamaica', '218': 'Bahamas', '219': 'Barbados', '256': 'Trinidad and Tobago', '220': 'Belize'}, 'name': 'Countries'}, '29117': {'labels': {'29154': '1984', '29155': '1985', '29156': '1986', '29157': '1987', '29150': '1980', '29151': '1981', '29152': '1982', '29153': '1983', '29161': '1991', '29160': '1990', '29163': '1993', '29162': '1992', '29158': '1988', '29159': '1989', '29167': '1997', '29164': '1994', '29172': '2002', '29168': '1998', '29170': '2000', '29166': '1996', '29165': '1995', '29183': '2013', '29182': '2012', '29181': '2011', '29180': '2010', '29178': '2008', '29171': '2001', '29179': '2009', '29173': '2003', '29176': '2006', '29175': '2005', '29169': '1999', '29177': '2007', '29174': '2004'}, 'name': 'Years'}}\n"
       ]
      }
     ],
     "prompt_number": 4
    },
    {
     "cell_type": "markdown",
     "metadata": {},
     "source": [
      "Generation 2 - Refines the rough csv data from Generation 1 into a standardized csv format common to all data sets. Prepares this data for importing to the database."
     ]
    },
    {
     "cell_type": "code",
     "collapsed": false,
     "input": [
      "gen2_cepalstat.build(config)\n",
      "data_list = gen3_utils.get_gen2_data(config)\n",
      "us.log(data_list[0:3]) # have a look at a sample of the data"
     ],
     "language": "python",
     "metadata": {},
     "outputs": [
      {
       "output_type": "stream",
       "stream": "stdout",
       "text": [
        "C:/portal/statmart/data/facts/gen2/cepalstat/unemployment/unemployment_brb_cepalstat.csv\n",
        "C:/portal/statmart/data/facts/gen2/cepalstat/unemployment/unemployment_sur_cepalstat.csv"
       ]
      },
      {
       "output_type": "stream",
       "stream": "stdout",
       "text": [
        "\n",
        "C:/portal/statmart/data/facts/gen2/cepalstat/unemployment/unemployment_tto_cepalstat.csv"
       ]
      },
      {
       "output_type": "stream",
       "stream": "stdout",
       "text": [
        "\n",
        "C:/portal/statmart/data/facts/gen2/cepalstat/unemployment/unemployment_dom_cepalstat.csv"
       ]
      },
      {
       "output_type": "stream",
       "stream": "stdout",
       "text": [
        "\n",
        "C:/portal/statmart/data/facts/gen2/cepalstat/unemployment/unemployment_bhs_cepalstat.csv"
       ]
      },
      {
       "output_type": "stream",
       "stream": "stdout",
       "text": [
        "\n",
        "C:/portal/statmart/data/facts/gen2/cepalstat/unemployment/unemployment_blz_cepalstat.csv\n",
        "C:/portal/statmart/data/facts/gen2/cepalstat/unemployment/unemployment_jam_cepalstat.csv"
       ]
      },
      {
       "output_type": "stream",
       "stream": "stdout",
       "text": [
        "\n",
        "C:/portal/statmart/data/facts/gen2/cepalstat/unemployment/unemployment_cub_cepalstat.csv\n",
        "8 series saved to C:/portal/statmart/data/facts/gen2/cepalstat/unemployment/"
       ]
      },
      {
       "output_type": "stream",
       "stream": "stdout",
       "text": [
        "\n",
        "[('unemployment_brb_cepalstat', 'BRB', key\n",
        "name               Barbados - Official unemployment rate [CEPALStat]\n",
        "originalsource     Economic Commission for Latin America and the ...\n",
        "proximatesource                                            CEPALStat\n",
        "dataset                             Official unemployment rate [127]\n",
        "description        Corresponds to the official unemployment rate ...\n",
        "category                                                    Economic\n",
        "type                                                    Unemployment\n",
        "file                                  unemployment_brb_cepalstat.csv\n",
        "filehash                    183e9bb79afd38ccd7b6de770698ac9d3020b4e7\n",
        "columns                                      year,value,source,notes\n",
        "Name: value, dtype: object,       value                                             source  \\\n",
        "year                                                             \n",
        "1986  0.190  Economic Commission for Latin America and the ...   \n",
        "1987  0.189  Economic Commission for Latin America and the ...   \n",
        "1988  0.173  Economic Commission for Latin America and the ...   \n",
        "1989  0.137  Economic Commission for Latin America and the ...   \n",
        "1990  0.147  Economic Commission for Latin America and the ...   \n",
        "1991  0.173  Economic Commission for Latin America and the ...   \n",
        "1992  0.230  Economic Commission for Latin America and the ...   \n",
        "1993  0.243  Economic Commission for Latin America and the ...   \n",
        "1994  0.219  Economic Commission for Latin America and the ...   \n",
        "1995  0.197  Economic Commission for Latin America and the ...   \n",
        "1996  0.156  Economic Commission for Latin America and the ...   \n",
        "1997  0.145  Economic Commission for Latin America and the ...   \n",
        "1998  0.123  Economic Commission for Latin America and the ...   \n",
        "1999  0.104  Economic Commission for Latin America and the ...   \n",
        "2000  0.092  Economic Commission for Latin America and the ...   \n",
        "2001  0.099  Economic Commission for Latin America and the ...   \n",
        "2002  0.103  Economic Commission for Latin America and the ...   \n",
        "2003  0.110  Economic Commission for Latin America and the ...   \n",
        "2004  0.098  Economic Commission for Latin America and the ...   \n",
        "2005  0.091  Economic Commission for Latin America and the ...   \n",
        "2006  0.087  Economic Commission for Latin America and the ...   \n",
        "2007  0.074  Economic Commission for Latin America and the ...   \n",
        "2008  0.081  Economic Commission for Latin America and the ...   \n",
        "2009  0.100  Economic Commission for Latin America and the ...   \n",
        "2010  0.108  Economic Commission for Latin America and the ...   \n",
        "2011  0.112  Economic Commission for Latin America and the ...   \n",
        "2012  0.116  Economic Commission for Latin America and the ...   \n",
        "2013  0.110  Economic Commission for Latin America and the ...   \n",
        "\n",
        "                                                  notes  \n",
        "year                                                     \n",
        "1986      National, total. Includes hidden unemployment  \n",
        "1987      National, total. Includes hidden unemployment  \n",
        "1988      National, total. Includes hidden unemployment  \n",
        "1989      National, total. Includes hidden unemployment  \n",
        "1990      National, total. Includes hidden unemployment  \n",
        "1991      National, total. Includes hidden unemployment  \n",
        "1992      National, total. Includes hidden unemployment  \n",
        "1993      National, total. Includes hidden unemployment  \n",
        "1994      National, total. Includes hidden unemployment  \n",
        "1995      National, total. Includes hidden unemployment  \n",
        "1996      National, total. Includes hidden unemployment  \n",
        "1997      National, total. Includes hidden unemployment  \n",
        "1998      National, total. Includes hidden unemployment  \n",
        "1999      National, total. Includes hidden unemployment  \n",
        "2000      National, total. Includes hidden unemployment  \n",
        "2001      National, total. Includes hidden unemployment  \n",
        "2002      National, total. Includes hidden unemployment  \n",
        "2003      National, total. Includes hidden unemployment  \n",
        "2004      National, total. Includes hidden unemployment  \n",
        "2005      National, total. Includes hidden unemployment  \n",
        "2006      National, total. Includes hidden unemployment  \n",
        "2007      National, total. Includes hidden unemployment  \n",
        "2008      National, total. Includes hidden unemployment  \n",
        "2009      National, total. Includes hidden unemployment  \n",
        "2010      National, total. Includes hidden unemployment  \n",
        "2011      National, total. Includes hidden unemployment  \n",
        "2012      National, total. Includes hidden unemployment  \n",
        "2013  Data based on the average for January-June|Dat...  \n",
        "\n",
        "[28 rows x 3 columns]), ('unemployment_blz_cepalstat', 'BLZ', key\n",
        "name                 Belize - Official unemployment rate [CEPALStat]\n",
        "originalsource     Economic Commission for Latin America and the ...\n",
        "proximatesource                                            CEPALStat\n",
        "dataset                             Official unemployment rate [127]\n",
        "description        Corresponds to the official unemployment rate ...\n",
        "category                                                    Economic\n",
        "type                                                    Unemployment\n",
        "file                                  unemployment_blz_cepalstat.csv\n",
        "filehash                    01900c8372c46690c654d6ed11c05b71c1084669\n",
        "columns                                      year,value,source,notes\n",
        "Name: value, dtype: object,       value                                             source  \\\n",
        "year                                                             \n",
        "1992  0.119  Economic Commission for Latin America and the ...   \n",
        "1993  0.098  Economic Commission for Latin America and the ...   \n",
        "1994  0.090  Economic Commission for Latin America and the ...   \n",
        "1995  0.125  Economic Commission for Latin America and the ...   \n",
        "1996  0.138  Economic Commission for Latin America and the ...   \n",
        "1997  0.127  Economic Commission for Latin America and the ...   \n",
        "1998  0.143  Economic Commission for Latin America and the ...   \n",
        "1999  0.128  Economic Commission for Latin America and the ...   \n",
        "2000  0.111  Economic Commission for Latin America and the ...   \n",
        "2001  0.091  Economic Commission for Latin America and the ...   \n",
        "2002  0.100  Economic Commission for Latin America and the ...   \n",
        "2003  0.129  Economic Commission for Latin America and the ...   \n",
        "2004  0.116  Economic Commission for Latin America and the ...   \n",
        "2005  0.110  Economic Commission for Latin America and the ...   \n",
        "2006  0.094  Economic Commission for Latin America and the ...   \n",
        "2007  0.085  Economic Commission for Latin America and the ...   \n",
        "2008  0.082  Economic Commission for Latin America and the ...   \n",
        "2009  0.131  Economic Commission for Latin America and the ...   \n",
        "2010  0.125  Economic Commission for Latin America and the ...   \n",
        "2012  0.153  Economic Commission for Latin America and the ...   \n",
        "\n",
        "                                              notes  \n",
        "year                                                 \n",
        "1992  National, total. Includes hidden unemployment  \n",
        "1993  National, total. Includes hidden unemployment  \n",
        "1994  National, total. Includes hidden unemployment  \n",
        "1995  National, total. Includes hidden unemployment  \n",
        "1996  National, total. Includes hidden unemployment  \n",
        "1997  National, total. Includes hidden unemployment  \n",
        "1998  National, total. Includes hidden unemployment  \n",
        "1999  National, total. Includes hidden unemployment  \n",
        "2000  National, total. Includes hidden unemployment  \n",
        "2001  National, total. Includes hidden unemployment  \n",
        "2002  National, total. Includes hidden unemployment  \n",
        "2003  National, total. Includes hidden unemployment  \n",
        "2004  National, total. Includes hidden unemployment  \n",
        "2005  National, total. Includes hidden unemployment  \n",
        "2006  National, total. Includes hidden unemployment  \n",
        "2007  National, total. Includes hidden unemployment  \n",
        "2008  National, total. Includes hidden unemployment  \n",
        "2009  National, total. Includes hidden unemployment  \n",
        "2010  National, total. Includes hidden unemployment  \n",
        "2012  National, total. Includes hidden unemployment  \n",
        "\n",
        "[20 rows x 3 columns]), ('unemployment_cub_cepalstat', 'CUB', key\n",
        "name                   Cuba - Official unemployment rate [CEPALStat]\n",
        "originalsource     Economic Commission for Latin America and the ...\n",
        "proximatesource                                            CEPALStat\n",
        "dataset                             Official unemployment rate [127]\n",
        "description        Corresponds to the official unemployment rate ...\n",
        "category                                                    Economic\n",
        "type                                                    Unemployment\n",
        "file                                  unemployment_cub_cepalstat.csv\n",
        "filehash                    862f992540dde11499baf3095dfe593403d14c19\n",
        "columns                                      year,value,source,notes\n",
        "Name: value, dtype: object,       value                                             source           notes\n",
        "year                                                                          \n",
        "1990  0.054  Economic Commission for Latin America and the ...  National total\n",
        "1991  0.051  Economic Commission for Latin America and the ...  National total\n",
        "1992  0.046  Economic Commission for Latin America and the ...  National total\n",
        "1993  0.044  Economic Commission for Latin America and the ...  National total\n",
        "1994  0.065  Economic Commission for Latin America and the ...  National total\n",
        "1995  0.083  Economic Commission for Latin America and the ...  National total\n",
        "1996  0.076  Economic Commission for Latin America and the ...  National total\n",
        "1997  0.071  Economic Commission for Latin America and the ...  National total\n",
        "1998  0.062  Economic Commission for Latin America and the ...  National total\n",
        "1999  0.063  Economic Commission for Latin America and the ...  National total\n",
        "2000  0.054  Economic Commission for Latin America and the ...  National total\n",
        "2001  0.041  Economic Commission for Latin America and the ...  National total\n",
        "2002  0.033  Economic Commission for Latin America and the ...  National total\n",
        "2003  0.023  Economic Commission for Latin America and the ...  National total\n",
        "2004  0.019  Economic Commission for Latin America and the ...  National total\n",
        "2005  0.019  Economic Commission for Latin America and the ...  National total\n",
        "2006  0.019  Economic Commission for Latin America and the ...  National total\n",
        "2007  0.018  Economic Commission for Latin America and the ...  National total\n",
        "2008  0.016  Economic Commission for Latin America and the ...  National total\n",
        "2009  0.017  Economic Commission for Latin America and the ...  National total\n",
        "2010  0.025  Economic Commission for Latin America and the ...  National total\n",
        "2011  0.032  Economic Commission for Latin America and the ...  National total\n",
        "2012  0.038  Economic Commission for Latin America and the ...  National total\n",
        "\n",
        "[23 rows x 3 columns]), ('unemployment_dom_cepalstat', 'DOM', key\n",
        "name               Dominican Republic - Official unemployment rat...\n",
        "originalsource     Economic Commission for Latin America and the ...\n",
        "proximatesource                                            CEPALStat\n",
        "dataset                             Official unemployment rate [127]\n",
        "description        Corresponds to the official unemployment rate ...\n",
        "category                                                    Economic\n",
        "type                                                    Unemployment\n",
        "file                                  unemployment_dom_cepalstat.csv\n",
        "filehash                    436555993cdc2674e590221efc406594bbe33344\n",
        "columns                                      year,value,source,notes\n",
        "Name: value, dtype: object,       value                                             source  \\\n",
        "year                                                             \n",
        "1991  0.196  Economic Commission for Latin America and the ...   \n",
        "1992  0.203  Economic Commission for Latin America and the ...   \n",
        "1993  0.199  Economic Commission for Latin America and the ...   \n",
        "1994  0.160  Economic Commission for Latin America and the ...   \n",
        "1995  0.158  Economic Commission for Latin America and the ...   \n",
        "1996  0.167  Economic Commission for Latin America and the ...   \n",
        "1997  0.160  Economic Commission for Latin America and the ...   \n",
        "1998  0.144  Economic Commission for Latin America and the ...   \n",
        "1999  0.138  Economic Commission for Latin America and the ...   \n",
        "2000  0.063  Economic Commission for Latin America and the ...   \n",
        "2001  0.072  Economic Commission for Latin America and the ...   \n",
        "2002  0.066  Economic Commission for Latin America and the ...   \n",
        "2003  0.067  Economic Commission for Latin America and the ...   \n",
        "2004  0.051  Economic Commission for Latin America and the ...   \n",
        "2005  0.064  Economic Commission for Latin America and the ...   \n",
        "2006  0.055  Economic Commission for Latin America and the ...   \n",
        "2007  0.050  Economic Commission for Latin America and the ...   \n",
        "2008  0.047  Economic Commission for Latin America and the ...   \n",
        "2009  0.053  Economic Commission for Latin America and the ...   \n",
        "2010  0.050  Economic Commission for Latin America and the ...   \n",
        "2011  0.058  Economic Commission for Latin America and the ...   \n",
        "2012  0.065  Economic Commission for Latin America and the ...   \n",
        "2013  0.070  Economic Commission for Latin America and the ...   \n",
        "\n",
        "                                                  notes  \n",
        "year                                                     \n",
        "1991                                     National total  \n",
        "1992                                     National total  \n",
        "1993                                     National total  \n",
        "1994                                     National total  \n",
        "1995                                     National total  \n",
        "1996                                     National total  \n",
        "1997                                     National total  \n",
        "1998                                     National total  \n",
        "1999                                     National total  \n",
        "2000                                     National total  \n",
        "2001                                     National total  \n",
        "2002                                     National total  \n",
        "2003                                     National total  \n",
        "2004                                     National total  \n",
        "2005                                     National total  \n",
        "2006                                     National total  \n",
        "2007                                     National total  \n",
        "2008                                     National total  \n",
        "2009                                     National total  \n",
        "2010                                     National total  \n",
        "2011                                     National total  \n",
        "2012                                     National total  \n",
        "2013  Reference period: April|Data based on the aver...  \n",
        "\n",
        "[23 rows x 3 columns])]"
       ]
      },
      {
       "output_type": "stream",
       "stream": "stdout",
       "text": [
        "\n"
       ]
      },
      {
       "output_type": "stream",
       "stream": "stderr",
       "text": [
        ".\\gen2_cepalstat.py:78: SettingWithCopyWarning: A value is trying to be set on a copy of a slice from a DataFrame.\n",
        "Try using .loc[row_index,col_indexer] = value instead\n",
        "  idf[\"value\"] = idf[\"value\"].apply(lambda x : x * config[\"multiplier\"])\n",
        ".\\gen2_cepalstat.py:79: SettingWithCopyWarning: A value is trying to be set on a copy of a slice from a DataFrame.\n",
        "Try using .loc[row_index,col_indexer] = value instead\n",
        "  idf[\"source\"] = idf[\"source\"].apply(lambda x : meta_map[\"source\"])\n",
        ".\\gen2_cepalstat.py:80: SettingWithCopyWarning: A value is trying to be set on a copy of a slice from a DataFrame.\n",
        "Try using .loc[row_index,col_indexer] = value instead\n",
        "  idf[\"notes\"] = idf[\"notes\"].apply(lambda x : get_notes(str(x), meta_map))\n"
       ]
      }
     ],
     "prompt_number": 15
    },
    {
     "cell_type": "markdown",
     "metadata": {},
     "source": [
      "Generation 3 - Load the Generation 2 data into the database."
     ]
    },
    {
     "cell_type": "code",
     "collapsed": false,
     "input": [
      "gen3_utils.standard_load_from_data_list(data_list)"
     ],
     "language": "python",
     "metadata": {},
     "outputs": [],
     "prompt_number": 6
    },
    {
     "cell_type": "markdown",
     "metadata": {},
     "source": [
      "Generation 4 - Build a php file that uses javascript to generate SVGs using the data in the database"
     ]
    },
    {
     "cell_type": "code",
     "collapsed": false,
     "input": [
      "import imp\n",
      "imp.reload(gen4_utils)\n",
      "config = gen4_utils.build_gen4_config(config)\n",
      "page = gen4_utils.build_d3_line_graph(config)"
     ],
     "language": "python",
     "metadata": {},
     "outputs": [],
     "prompt_number": 13
    },
    {
     "cell_type": "code",
     "collapsed": false,
     "input": [],
     "language": "python",
     "metadata": {},
     "outputs": []
    }
   ],
   "metadata": {}
  }
 ]
}