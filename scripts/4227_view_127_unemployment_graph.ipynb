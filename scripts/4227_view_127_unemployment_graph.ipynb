{
 "metadata": {
  "name": ""
 },
 "nbformat": 3,
 "nbformat_minor": 0,
 "worksheets": [
  {
   "cells": [
    {
     "cell_type": "code",
     "collapsed": false,
     "input": [
      "import json\n",
      "import pymysql\n",
      "import pandas.io.sql as psql\n",
      "import unittest\n",
      "\n",
      "from s0000_statmart_settings import *\n",
      "import s0001_statmart_utils as statmart_utils\n",
      "from s4002_html_tools import *\n",
      "from s4004_js_parts import *"
     ],
     "language": "python",
     "metadata": {},
     "outputs": [],
     "prompt_number": 1
    },
    {
     "cell_type": "code",
     "collapsed": false,
     "input": [
      "gen_4_dir = statmart_view_gen4 + \"cepalstat/\"\n",
      "\n",
      "prefix = \"unemployment\"\n",
      "suffix = \"cepalstat\"\n",
      "\n",
      "page_name = \"%s_%s.php\" % (prefix, suffix);\n",
      "\n",
      "page_title = \"Unemployment data from the United Nations Economic Commission for Latin America and the Caribbean (ECLAC)\"\n",
      "graph_title = \"Official unemployment rate\"\n",
      "y_axis_title = \"Official unemployment rate\""
     ],
     "language": "python",
     "metadata": {},
     "outputs": [],
     "prompt_number": 2
    },
    {
     "cell_type": "code",
     "collapsed": false,
     "input": [
      "df = \"\"\n",
      "with statmart_utils.get_db_connection() as cursor:\n",
      "    query = \"\"\"\n",
      "            SELECT identifier, description\n",
      "            FROM series as S \n",
      "            WHERE S.identifier like '%s%s%s'\n",
      "            \"\"\" % (prefix, \"\\_%\\_\", suffix)\n",
      "    df = psql.frame_query(query, con=cursor.connection)\n",
      "df"
     ],
     "language": "python",
     "metadata": {},
     "outputs": [
      {
       "html": [
        "<div style=\"max-height:1000px;max-width:1500px;overflow:auto;\">\n",
        "<table border=\"1\" class=\"dataframe\">\n",
        "  <thead>\n",
        "    <tr style=\"text-align: right;\">\n",
        "      <th></th>\n",
        "      <th>identifier</th>\n",
        "      <th>description</th>\n",
        "    </tr>\n",
        "  </thead>\n",
        "  <tbody>\n",
        "    <tr>\n",
        "      <th>0</th>\n",
        "      <td> unemployment_blz_cepalstat</td>\n",
        "      <td> Corresponds to the official unemployment rate ...</td>\n",
        "    </tr>\n",
        "    <tr>\n",
        "      <th>1</th>\n",
        "      <td> unemployment_brb_cepalstat</td>\n",
        "      <td> Corresponds to the official unemployment rate ...</td>\n",
        "    </tr>\n",
        "    <tr>\n",
        "      <th>2</th>\n",
        "      <td> unemployment_cub_cepalstat</td>\n",
        "      <td> Corresponds to the official unemployment rate ...</td>\n",
        "    </tr>\n",
        "    <tr>\n",
        "      <th>3</th>\n",
        "      <td> unemployment_dom_cepalstat</td>\n",
        "      <td> Corresponds to the official unemployment rate ...</td>\n",
        "    </tr>\n",
        "    <tr>\n",
        "      <th>4</th>\n",
        "      <td> unemployment_jam_cepalstat</td>\n",
        "      <td> Corresponds to the official unemployment rate ...</td>\n",
        "    </tr>\n",
        "    <tr>\n",
        "      <th>5</th>\n",
        "      <td> unemployment_sur_cepalstat</td>\n",
        "      <td> Corresponds to the official unemployment rate ...</td>\n",
        "    </tr>\n",
        "    <tr>\n",
        "      <th>6</th>\n",
        "      <td> unemployment_tto_cepalstat</td>\n",
        "      <td> Corresponds to the official unemployment rate ...</td>\n",
        "    </tr>\n",
        "  </tbody>\n",
        "</table>\n",
        "<p>7 rows \u00d7 2 columns</p>\n",
        "</div>"
       ],
       "metadata": {},
       "output_type": "pyout",
       "prompt_number": 3,
       "text": [
        "                   identifier  \\\n",
        "0  unemployment_blz_cepalstat   \n",
        "1  unemployment_brb_cepalstat   \n",
        "2  unemployment_cub_cepalstat   \n",
        "3  unemployment_dom_cepalstat   \n",
        "4  unemployment_jam_cepalstat   \n",
        "5  unemployment_sur_cepalstat   \n",
        "6  unemployment_tto_cepalstat   \n",
        "\n",
        "                                         description  \n",
        "0  Corresponds to the official unemployment rate ...  \n",
        "1  Corresponds to the official unemployment rate ...  \n",
        "2  Corresponds to the official unemployment rate ...  \n",
        "3  Corresponds to the official unemployment rate ...  \n",
        "4  Corresponds to the official unemployment rate ...  \n",
        "5  Corresponds to the official unemployment rate ...  \n",
        "6  Corresponds to the official unemployment rate ...  \n",
        "\n",
        "[7 rows x 2 columns]"
       ]
      }
     ],
     "prompt_number": 3
    },
    {
     "cell_type": "code",
     "collapsed": false,
     "input": [],
     "language": "python",
     "metadata": {},
     "outputs": [],
     "prompt_number": 4
    },
    {
     "cell_type": "code",
     "collapsed": false,
     "input": [
      "dataset_list = json.dumps(df.as_matrix().tolist(),indent=4)\n"
     ],
     "language": "python",
     "metadata": {},
     "outputs": [],
     "prompt_number": 5
    },
    {
     "cell_type": "code",
     "collapsed": false,
     "input": [
      "scrpt = (\"\\n\").join([\n",
      "    js_dataset_list % json.dumps(df.as_matrix().tolist(),indent=4),                 \n",
      "    util_function_get_parameters_by_name,\n",
      "    util_currency_converter_2005,\n",
      "    js_series_name_from_s_parameter,\n",
      "    js_data_url_series_query,\n",
      "    include_js_d3_basic_axis,\n",
      "    js_unit_set % (\"percentage\", \"1\"),\n",
      "    js_d3_start_csv,\n",
      "        js_d3_process_annual_csv_data,\n",
      "        js_d3_build_simple_xy_domains,  \n",
      "        js_d3_svg_build_x_axis,\n",
      "        js_d3_svg_build_y_axis_unit_label,\n",
      "        js_d3_svg_draw_area,\n",
      "    js_d3_end_csv\n",
      "    ])\n",
      "    \n",
      "bdy = script(scrpt)\n",
      "page = html(head + body(bdy))"
     ],
     "language": "python",
     "metadata": {},
     "outputs": [],
     "prompt_number": 7
    },
    {
     "cell_type": "code",
     "collapsed": false,
     "input": [
      "page_file = open(gen_4_dir + pageName, \"w\", encoding=\"utf8\")\n",
      "page_file.write(page)\n",
      "page_file.close()"
     ],
     "language": "python",
     "metadata": {},
     "outputs": [
      {
       "ename": "NameError",
       "evalue": "name 'gen4Dir' is not defined",
       "output_type": "pyerr",
       "traceback": [
        "\u001b[1;31m---------------------------------------------------------------------------\u001b[0m\n\u001b[1;31mNameError\u001b[0m                                 Traceback (most recent call last)",
        "\u001b[1;32m<ipython-input-7-48125b836676>\u001b[0m in \u001b[0;36m<module>\u001b[1;34m()\u001b[0m\n\u001b[1;32m----> 1\u001b[1;33m \u001b[0mpageFile\u001b[0m \u001b[1;33m=\u001b[0m \u001b[0mopen\u001b[0m\u001b[1;33m(\u001b[0m\u001b[0mgen4Dir\u001b[0m \u001b[1;33m+\u001b[0m \u001b[0mpageName\u001b[0m\u001b[1;33m,\u001b[0m \u001b[1;34m\"w\"\u001b[0m\u001b[1;33m,\u001b[0m \u001b[0mencoding\u001b[0m\u001b[1;33m=\u001b[0m\u001b[1;34m\"utf8\"\u001b[0m\u001b[1;33m)\u001b[0m\u001b[1;33m\u001b[0m\u001b[0m\n\u001b[0m\u001b[0;32m      2\u001b[0m \u001b[0mpageFile\u001b[0m\u001b[1;33m.\u001b[0m\u001b[0mwrite\u001b[0m\u001b[1;33m(\u001b[0m\u001b[0mpage\u001b[0m\u001b[1;33m)\u001b[0m\u001b[1;33m\u001b[0m\u001b[0m\n\u001b[0;32m      3\u001b[0m \u001b[0mpageFile\u001b[0m\u001b[1;33m.\u001b[0m\u001b[0mclose\u001b[0m\u001b[1;33m(\u001b[0m\u001b[1;33m)\u001b[0m\u001b[1;33m\u001b[0m\u001b[0m\n",
        "\u001b[1;31mNameError\u001b[0m: name 'gen4Dir' is not defined"
       ]
      }
     ],
     "prompt_number": 7
    },
    {
     "cell_type": "code",
     "collapsed": false,
     "input": [
      "import imp\n",
      "imp.reload(s4004_js_parts)"
     ],
     "language": "python",
     "metadata": {},
     "outputs": [
      {
       "ename": "NameError",
       "evalue": "name 's4004_js_parts' is not defined",
       "output_type": "pyerr",
       "traceback": [
        "\u001b[1;31m---------------------------------------------------------------------------\u001b[0m\n\u001b[1;31mNameError\u001b[0m                                 Traceback (most recent call last)",
        "\u001b[1;32m<ipython-input-44-7025dcabed64>\u001b[0m in \u001b[0;36m<module>\u001b[1;34m()\u001b[0m\n\u001b[0;32m      1\u001b[0m \u001b[1;32mimport\u001b[0m \u001b[0mimp\u001b[0m\u001b[1;33m\u001b[0m\u001b[0m\n\u001b[1;32m----> 2\u001b[1;33m \u001b[0mimp\u001b[0m\u001b[1;33m.\u001b[0m\u001b[0mreload\u001b[0m\u001b[1;33m(\u001b[0m\u001b[0ms4004_js_parts\u001b[0m\u001b[1;33m)\u001b[0m\u001b[1;33m\u001b[0m\u001b[0m\n\u001b[0m",
        "\u001b[1;31mNameError\u001b[0m: name 's4004_js_parts' is not defined"
       ]
      }
     ],
     "prompt_number": 44
    },
    {
     "cell_type": "code",
     "collapsed": false,
     "input": [],
     "language": "python",
     "metadata": {},
     "outputs": []
    }
   ],
   "metadata": {}
  }
 ]
}