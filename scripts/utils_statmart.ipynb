{
 "metadata": {
  "name": ""
 },
 "nbformat": 3,
 "nbformat_minor": 0,
 "worksheets": [
  {
   "cells": [
    {
     "cell_type": "code",
     "collapsed": false,
     "input": [
      "import pandas as pd\n",
      "import pymysql\n",
      "import pandas.io.sql as psql\n",
      "\n",
      "from hashlib import sha1\n",
      "\n",
      "from settings_statmart import *"
     ],
     "language": "python",
     "metadata": {},
     "outputs": [],
     "prompt_number": 6
    },
    {
     "cell_type": "markdown",
     "metadata": {},
     "source": [
      "Creates a MySQL database connection using the pymsql connector."
     ]
    },
    {
     "cell_type": "code",
     "collapsed": false,
     "input": [
      "def get_db_connection():\n",
      "    return pymysql.connect(host=statmart_db_host, \n",
      "            port=statmart_db_port, \n",
      "            user=statmart_db_user, \n",
      "            passwd=statmart_db_passwd,\n",
      "            db=statmart_db_schema)"
     ],
     "language": "python",
     "metadata": {},
     "outputs": [],
     "prompt_number": 7
    },
    {
     "cell_type": "markdown",
     "metadata": {},
     "source": [
      "Gets an SHA1 encryption of a file using the same encryption method as git. Note that this has not yet been validated for its intended git compatability."
     ]
    },
    {
     "cell_type": "code",
     "collapsed": false,
     "input": [
      "def githash(filepath):\n",
      "    datafile = open(filepath,\"rb\")\n",
      "    data = datafile.read()\n",
      "    datafile.close()\n",
      "    s = sha1()\n",
      "    s.update((\"blob %u\\0\" % len(data)).encode(\"utf-8\"))\n",
      "    s.update(data)\n",
      "    return s.hexdigest()"
     ],
     "language": "python",
     "metadata": {},
     "outputs": [],
     "prompt_number": 8
    },
    {
     "cell_type": "markdown",
     "metadata": {},
     "source": [
      "These functions retrieve data from country_base.csv, for use in processing datasets."
     ]
    },
    {
     "cell_type": "code",
     "collapsed": false,
     "input": [
      "iso3df = 0\n",
      "\n",
      "def get_iso3_country_df():\n",
      "    return pd.read_csv(statmart_dimensions_gen2 + \"base/country_base.csv\", encoding=\"utf-8\", usecols=[\"iso3\",\"name\"], index_col=[\"iso3\"])\n",
      "\n",
      "def get_country_by_iso3(iso3):\n",
      "    global iso3df\n",
      "    if isinstance(iso3df, int):\n",
      "        iso3df = get_iso3_country_df()\n",
      "    return iso3df.ix[iso3]['name']"
     ],
     "language": "python",
     "metadata": {},
     "outputs": [],
     "prompt_number": 9
    },
    {
     "cell_type": "markdown",
     "metadata": {},
     "source": [
      "This retrieves a set containing all unique index values in a DataFrame."
     ]
    },
    {
     "cell_type": "code",
     "collapsed": false,
     "input": [
      "def get_index_set(df): \n",
      "    myset = set()  \n",
      "    for indx in df.index: \n",
      "        myset.add(indx)\n",
      "    return myset"
     ],
     "language": "python",
     "metadata": {},
     "outputs": [],
     "prompt_number": 10
    },
    {
     "cell_type": "code",
     "collapsed": false,
     "input": [
      "def build_config(group, prefix, indicator_id, indicator, category, itype):\n",
      "    config = {\"gen_1_dir\": statmart_facts_gen1 + group + \"/\",\n",
      "              \"gen_2_dir\": statmart_facts_gen2 + group + \"/\" + prefix + \"/\",\n",
      "              \"gen_4_dir\": statmart_view_gen4 + group + \"/\",\n",
      "              \"prefix\":prefix,\n",
      "              \"suffix\":\"cepalstat\",\n",
      "              \"indicator_id\":indicator_id,\n",
      "              \"indicator\":indicator,\n",
      "              \"indicator_type\":itype,\n",
      "              \"indicator_category\":category,\n",
      "              \"multiplier\":1}\n",
      "    return config"
     ],
     "language": "python",
     "metadata": {},
     "outputs": [],
     "prompt_number": 3
    },
    {
     "cell_type": "code",
     "collapsed": false,
     "input": [
      "def get_gen2_data(gen_2_dir, prefix):\n",
      "    data_list = []\n",
      "    filestems = pd.read_csv(gen_2_dir + \"_\" + prefix + \".csv\", encoding=\"utf-8\", header=False, squeeze=True,  dtype={'value': object})\n",
      "    for filestem in filestems:\n",
      "        iso3 = filestem.split(\"/\")[-1].split(\"_\")[1].upper()\n",
      "        metafile = gen_2_dir + filestem + \"_meta.csv\"\n",
      "        meta = pd.read_csv(metafile, encoding=\"utf-8\", index_col=[\"key\"], squeeze=True)\n",
      "        datafile = gen_2_dir + filestem + \".csv\"\n",
      "        data = pd.read_csv(datafile, encoding=\"utf-8\", index_col=[\"year\"], squeeze=True)\n",
      "        data_list.append((filestem.split(\"/\")[-1],iso3,meta,data))\n",
      "    return data_list"
     ],
     "language": "python",
     "metadata": {},
     "outputs": [],
     "prompt_number": 2
    },
    {
     "cell_type": "code",
     "collapsed": false,
     "input": [
      "verbose = False\n",
      "def log(str):\n",
      "    if verbose:\n",
      "        print(str)"
     ],
     "language": "python",
     "metadata": {},
     "outputs": [],
     "prompt_number": 4
    },
    {
     "cell_type": "code",
     "collapsed": false,
     "input": [],
     "language": "python",
     "metadata": {},
     "outputs": []
    }
   ],
   "metadata": {}
  }
 ]
}