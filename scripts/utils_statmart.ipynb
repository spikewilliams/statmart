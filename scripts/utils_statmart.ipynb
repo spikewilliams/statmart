{
 "metadata": {
  "name": ""
 },
 "nbformat": 3,
 "nbformat_minor": 0,
 "worksheets": [
  {
   "cells": [
    {
     "cell_type": "code",
     "collapsed": false,
     "input": [
      "import os\n",
      "import pandas as pd\n",
      "import pymysql\n",
      "import pandas.io.sql as psql\n",
      "import csv\n",
      "import string\n",
      "from hashlib import sha1\n",
      "\n",
      "from settings_statmart import *"
     ],
     "language": "python",
     "metadata": {},
     "outputs": [],
     "prompt_number": 2
    },
    {
     "cell_type": "markdown",
     "metadata": {},
     "source": [
      "Creates a MySQL database connection using the pymsql connector."
     ]
    },
    {
     "cell_type": "code",
     "collapsed": false,
     "input": [
      "def get_db_connection():\n",
      "    return pymysql.connect(host=statmart_db_host, \n",
      "            port=statmart_db_port, \n",
      "            user=statmart_db_user, \n",
      "            passwd=statmart_db_passwd,\n",
      "            db=statmart_db_schema,\n",
      "            charset='utf8')"
     ],
     "language": "python",
     "metadata": {},
     "outputs": [],
     "prompt_number": 7
    },
    {
     "cell_type": "markdown",
     "metadata": {},
     "source": [
      "Gets an SHA1 encryption of a file using the same encryption method as git. Note that this has not yet been validated for its intended git compatability."
     ]
    },
    {
     "cell_type": "code",
     "collapsed": false,
     "input": [
      "def githash(filepath):\n",
      "    datafile = open(filepath,\"rb\")\n",
      "    data = datafile.read()\n",
      "    datafile.close()\n",
      "    s = sha1()\n",
      "    s.update((\"blob %u\\0\" % len(data)).encode(\"utf-8\"))\n",
      "    s.update(data)\n",
      "    return s.hexdigest()"
     ],
     "language": "python",
     "metadata": {},
     "outputs": [],
     "prompt_number": 8
    },
    {
     "cell_type": "code",
     "collapsed": false,
     "input": [
      "def format_lower_no_spaces(strn):\n",
      "    return(strn.strip().lower().replace(\" \",\"-\"))\n",
      "\n",
      "def machine_name(s):\n",
      "    exclude = set(string.punctuation)\n",
      "    s = ''.join(ch for ch in s if ch not in exclude)\n",
      "    name = format_lower_no_spaces(s)[0:32]\n",
      "    return name"
     ],
     "language": "python",
     "metadata": {},
     "outputs": [
      {
       "metadata": {},
       "output_type": "pyout",
       "prompt_number": 5,
       "text": [
        "'as-dfasssdfa-w4r4w4asdf-asdfasdf'"
       ]
      }
     ],
     "prompt_number": 5
    },
    {
     "cell_type": "markdown",
     "metadata": {},
     "source": [
      "These functions retrieve data from country_base.csv, for use in processing datasets."
     ]
    },
    {
     "cell_type": "code",
     "collapsed": false,
     "input": [
      "iso3df = 0\n",
      "\n",
      "def get_iso3_country_df():\n",
      "    return pd.read_csv(statmart_dimensions_gen2 + \"base/country_base.csv\", encoding=\"utf-8\", usecols=[\"iso3\",\"name\"], index_col=[\"iso3\"])\n",
      "\n",
      "def get_country_by_iso3(iso3):\n",
      "    global iso3df\n",
      "    if isinstance(iso3df, int):\n",
      "        iso3df = get_iso3_country_df()\n",
      "    return iso3df.ix[iso3]['name']"
     ],
     "language": "python",
     "metadata": {},
     "outputs": [],
     "prompt_number": 9
    },
    {
     "cell_type": "code",
     "collapsed": false,
     "input": [
      "countrydf = 0\n",
      "\n",
      "def get_country_iso3_df():\n",
      "    return pd.read_csv(statmart_dimensions_gen2 + \"base/country_base.csv\", encoding=\"utf-8\", usecols=[\"iso3\",\"countryname\"])\n",
      "\n",
      "def get_iso3_by_country(country):\n",
      "    global countrydf\n",
      "    if isinstance(countrydf, int):\n",
      "        countrydf = get_country_iso3_df()\n",
      "        countrydf[\"lname\"] = [format_lower_no_spaces(x) for x in countrydf[\"countryname\"]]\n",
      "        countrydf = countrydf.set_index([\"lname\"])\n",
      "    return countrydf.ix[format_lower_no_spaces(country)]['iso3']\n",
      "\n",
      "#get_iso3_by_country(\"Barbados\")\n",
      "\n"
     ],
     "language": "python",
     "metadata": {},
     "outputs": [
      {
       "metadata": {},
       "output_type": "pyout",
       "prompt_number": 28,
       "text": [
        "'BRB'"
       ]
      }
     ],
     "prompt_number": 28
    },
    {
     "cell_type": "markdown",
     "metadata": {},
     "source": [
      "This retrieves a set containing all unique index values in a DataFrame."
     ]
    },
    {
     "cell_type": "code",
     "collapsed": false,
     "input": [
      "def get_index_set(df): \n",
      "    myset = set()  \n",
      "    for indx in df.index: \n",
      "        myset.add(indx)\n",
      "    return myset"
     ],
     "language": "python",
     "metadata": {},
     "outputs": [],
     "prompt_number": 10
    },
    {
     "cell_type": "code",
     "collapsed": false,
     "input": [
      "def build_config(group, prefix, indicator_id, indicator, category, itype):\n",
      "    config = {\"gen_1_dir\": statmart_facts_gen1 + group + \"/\",\n",
      "              \"gen_2_dir\": statmart_facts_gen2 + group + \"/\" + prefix + \"/\",\n",
      "              \"gen_4_dir\": statmart_view_gen4 + group + \"/\",\n",
      "              \"prefix\":prefix,\n",
      "              \"suffix\":\"cepalstat\",\n",
      "              \"indicator_id\":indicator_id,\n",
      "              \"indicator\":indicator,\n",
      "              \"indicator_type\":itype,\n",
      "              \"indicator_category\":category,\n",
      "              \"multiplier\":1}\n",
      "    return config"
     ],
     "language": "python",
     "metadata": {},
     "outputs": [],
     "prompt_number": 3
    },
    {
     "cell_type": "code",
     "collapsed": false,
     "input": [
      "def get_gen2_data(gen_2_dir, prefix):\n",
      "    data_list = []\n",
      "    filestems = pd.read_csv(gen_2_dir + \"_\" + prefix + \".csv\", encoding=\"utf-8\", header=False, squeeze=True,  dtype={'value': object})\n",
      "    for filestem in filestems:\n",
      "        iso3 = filestem.split(\"/\")[-1].split(\"_\")[1].upper()\n",
      "        metafile = gen_2_dir + filestem + \"_meta.csv\"\n",
      "        meta = pd.read_csv(metafile, encoding=\"utf-8\", index_col=[\"key\"], squeeze=True)\n",
      "        datafile = gen_2_dir + filestem + \".csv\"\n",
      "        data = pd.read_csv(datafile, encoding=\"utf-8\", index_col=[\"year\"], squeeze=True)\n",
      "        data_list.append((filestem.split(\"/\")[-1],iso3,meta,data))\n",
      "    return data_list"
     ],
     "language": "python",
     "metadata": {},
     "outputs": [],
     "prompt_number": 2
    },
    {
     "cell_type": "code",
     "collapsed": false,
     "input": [
      "verbose = False\n",
      "def log(str):\n",
      "    if verbose:\n",
      "        print(str)"
     ],
     "language": "python",
     "metadata": {},
     "outputs": [],
     "prompt_number": 4
    },
    {
     "cell_type": "code",
     "collapsed": false,
     "input": [
      "def multiply_data(df, columns, config):\n",
      "    if not hasattr(df,\"multiplied_flag\"):\n",
      "        for col in columns:\n",
      "            df[col] = df[col].apply(lambda x : x * config[\"multiplier\"]).astype(int)\n",
      "    else:\n",
      "        log(\"WARNING: you must reinitialize the DataFrame before running this code a second time.\")\n",
      "    df.multiplied_flag = True\n",
      "    return df"
     ],
     "language": "python",
     "metadata": {},
     "outputs": []
    },
    {
     "cell_type": "code",
     "collapsed": false,
     "input": [
      "# Deprecated\n",
      "def load_carib_country_dict(key_column=\"iso3\"):\t\n",
      "    country_dict = {}\n",
      "    carib_country_path = statmart_dimensions_gen2 + \"cepalstat/_country_caribbean.csv\"\n",
      "    with open(carib_country_path, 'r') as csvfile:\n",
      "        reader = csv.DictReader(csvfile)\n",
      "        for row in reader:\n",
      "            country_dict[row[key_column]] = row\n",
      "    return country_dict"
     ],
     "language": "python",
     "metadata": {},
     "outputs": []
    },
    {
     "cell_type": "code",
     "collapsed": false,
     "input": [
      "def mkdirs(directory):\n",
      "    if not os.path.exists(directory):\n",
      "        os.makedirs(directory)"
     ],
     "language": "python",
     "metadata": {},
     "outputs": []
    }
   ],
   "metadata": {}
  }
 ]
}