{
 "metadata": {
  "name": ""
 },
 "nbformat": 3,
 "nbformat_minor": 0,
 "worksheets": [
  {
   "cells": [
    {
     "cell_type": "code",
     "collapsed": false,
     "input": [
      "import pandas as pd \n",
      "import urllib\n",
      "import csv\n",
      "import sys, os\n",
      "from time import strftime\n",
      "import json\n",
      "import urllib\n",
      "import http.client\n",
      "import base64\n",
      "\n",
      "from settings_statmart import *\n",
      "import utils_statmart as us\n",
      "\n",
      "\n",
      "\n",
      "config = {'gen_1_dir': statmart_facts_gen1 + 'profiles/',\n",
      "     'gen_2_dir': statmart_facts_gen2 + 'profiles/',\n",
      "     'prefix': 'profile',\n",
      "     'suffix': ''}\n",
      "\n"
     ],
     "language": "python",
     "metadata": {},
     "outputs": [],
     "prompt_number": 15
    },
    {
     "cell_type": "code",
     "collapsed": false,
     "input": [
      "countries = us.get_index_set(pd.DataFrame(us.load_carib_country_dict(key_column=\"name\")).T)\n",
      "\n",
      "chatter = True\n",
      "def elog(s):\n",
      "    if chatter:\n",
      "        print(s)\n",
      "\n",
      "def formatComputerReadableString(strn):\n",
      "    if strn == \"U.S. Virgin Islands\":\n",
      "        strn = \"United States Virgin Islands\"\n",
      "    return(strn.strip().lower().replace(\" \",\"-\"))\n",
      "\n",
      "countries = sorted(list(map(lambda x: (x,formatComputerReadableString(x)), countries)))\n",
      "countries"
     ],
     "language": "python",
     "metadata": {},
     "outputs": [
      {
       "metadata": {},
       "output_type": "pyout",
       "prompt_number": 26,
       "text": [
        "[('Anguilla', 'anguilla'),\n",
        " ('Antigua and Barbuda', 'antigua-and-barbuda'),\n",
        " ('Aruba', 'aruba'),\n",
        " ('Bahamas', 'bahamas'),\n",
        " ('Barbados', 'barbados'),\n",
        " ('Belize', 'belize'),\n",
        " ('Bermuda', 'bermuda'),\n",
        " ('British Virgin Islands', 'british-virgin-islands'),\n",
        " ('Cayman Islands', 'cayman-islands'),\n",
        " ('Cuba', 'cuba'),\n",
        " ('Dominica', 'dominica'),\n",
        " ('Dominican Republic', 'dominican-republic'),\n",
        " ('Grenada', 'grenada'),\n",
        " ('Guadeloupe', 'guadeloupe'),\n",
        " ('Guyana', 'guyana'),\n",
        " ('Haiti', 'haiti'),\n",
        " ('Jamaica', 'jamaica'),\n",
        " ('Montserrat', 'montserrat'),\n",
        " ('Puerto Rico', 'puerto-rico'),\n",
        " ('Saint Kitts and Nevis', 'saint-kitts-and-nevis'),\n",
        " ('Saint Lucia', 'saint-lucia'),\n",
        " ('Saint Vincent and The Grenadines', 'saint-vincent-and-the-grenadines'),\n",
        " ('Suriname', 'suriname'),\n",
        " ('Trinidad and Tobago', 'trinidad-and-tobago'),\n",
        " ('Turks and Caicos Islands', 'turks-and-caicos-islands'),\n",
        " ('U.S. Virgin Islands', 'united-states-virgin-islands')]"
       ]
      }
     ],
     "prompt_number": 26
    },
    {
     "cell_type": "code",
     "collapsed": false,
     "input": [
      "# this is used to massage the individual sheets in the .xls file, to ensure it ends up nicely formatted\n",
      "\n",
      "def processSheet(name, df, country):\n",
      "    description = \"ECLAC country profile - \" + country\n",
      "    \n",
      "    if name == \"quick-facts\":\n",
      "        description = description + \": Quick facts\"\n",
      "        df.columns =  [\"field\",\"value\"]\n",
      "        df[\"field\"] = df[\"field\"].map(formatComputerReadableString)\n",
      "        \n",
      "        #add value calculations here\n",
      "        pop = int(df[df[\"field\"] == \"population\"][\"value\"])\n",
      "        la = float(df[df[\"field\"] == \"land-area\"][\"value\"])\n",
      "        dense = pop/la\n",
      "        df = pd.concat([df,pd.DataFrame([[\"density\",dense]], columns = [\"field\",\"value\"])])\n",
      "        \n",
      "    elif name == \"government-officials\":\n",
      "        description = description + \": Government officials\"\n",
      "        df.columns =  [\"title\",\"name\",\"link\"]\n",
      "        \n",
      "    elif name == \"budget-documents\":\n",
      "        description = description + \": Budget documents\"\n",
      "        df.columns =  [\"title\",\"link\"]\n",
      "\n",
      "    elif name == \"media\":\n",
      "        description = description + \": Local media\"\n",
      "        df.columns =  [\"name\",\"type\",\"link\",\"feed\"]\n",
      "        df = df.sort([\"name\"])\n",
      "        \n",
      "    else: #all other sheets are ignored\n",
      "        return (\"\",\"\")\n",
      "    \n",
      "    return (df, description)"
     ],
     "language": "python",
     "metadata": {},
     "outputs": [],
     "prompt_number": 23
    },
    {
     "cell_type": "code",
     "collapsed": false,
     "input": [
      "#split up the various sheets of the profile_country.xls file into .csv files\n",
      "\n",
      "def turnXLSProfilesIntoCSV():\n",
      "    rows = []\n",
      "    for (country, lcountry) in countries:\n",
      "        elog(country)\n",
      "        profile = config['gen_1_dir'] + \"profile_\" + lcountry + \".xls\"\n",
      "        if not os.path.isfile(profile):\n",
      "            elog(\"Missing profile: \" + profile)\n",
      "            continue\n",
      "        xlfile = pd.ExcelFile(profile)\n",
      "        for sheetname in xlfile.sheet_names:\n",
      "            sheet = xlfile.parse(sheetname)\n",
      "            (sheet, description) = processSheet(sheetname, sheet, country)\n",
      "            if len(sheet) == 0: #sheets without any data, we ignore\n",
      "                continue\n",
      "            filename = lcountry + \"_\" + sheetname + \".csv\"\n",
      "            filepath =  config['gen_2_dir'] + filename\n",
      "            #path,file_location,description\n",
      "            \n",
      "            sheet.to_csv(filepath, index=False)\n",
      "            \n",
      "            identifier = \"%s/%s/%s\" % (\"profile\",lcountry,sheetname)\n",
      "            rows.append([identifier,filename,description])\n",
      "\n",
      "    # return some metadata about the files, which we can later use to tell TDT about our .csv files\n",
      "    return pd.DataFrame(rows, columns=[\"identifier\",\"filename\",\"description\"])\n",
      "\n",
      "tdtdf = turnXLSProfilesIntoCSV()"
     ],
     "language": "python",
     "metadata": {},
     "outputs": [
      {
       "output_type": "stream",
       "stream": "stdout",
       "text": [
        "Anguilla\n",
        "Antigua and Barbuda"
       ]
      },
      {
       "output_type": "stream",
       "stream": "stdout",
       "text": [
        "\n",
        "Aruba"
       ]
      },
      {
       "output_type": "stream",
       "stream": "stdout",
       "text": [
        "\n",
        "Bahamas"
       ]
      },
      {
       "output_type": "stream",
       "stream": "stdout",
       "text": [
        "\n",
        "Barbados"
       ]
      },
      {
       "output_type": "stream",
       "stream": "stdout",
       "text": [
        "\n",
        "Belize"
       ]
      },
      {
       "output_type": "stream",
       "stream": "stdout",
       "text": [
        "\n",
        "Bermuda"
       ]
      },
      {
       "output_type": "stream",
       "stream": "stdout",
       "text": [
        "\n",
        "British Virgin Islands"
       ]
      },
      {
       "output_type": "stream",
       "stream": "stdout",
       "text": [
        "\n",
        "Cayman Islands"
       ]
      },
      {
       "output_type": "stream",
       "stream": "stdout",
       "text": [
        "\n",
        "Cuba\n",
        "Missing profile: C:/statmart/data/facts/gen1/profiles/profile_cuba.xls\n",
        "Dominica\n",
        "Missing profile: C:/statmart/data/facts/gen1/profiles/profile_dominica.xls\n",
        "Dominican Republic\n",
        "Missing profile: C:/statmart/data/facts/gen1/profiles/profile_dominican-republic.xls\n",
        "Grenada\n",
        "Guadeloupe"
       ]
      },
      {
       "output_type": "stream",
       "stream": "stdout",
       "text": [
        "\n",
        "Guyana\n",
        "Haiti"
       ]
      },
      {
       "output_type": "stream",
       "stream": "stdout",
       "text": [
        "\n",
        "Jamaica\n",
        "Montserrat"
       ]
      },
      {
       "output_type": "stream",
       "stream": "stdout",
       "text": [
        "\n",
        "Puerto Rico\n",
        "Saint Kitts and Nevis"
       ]
      },
      {
       "output_type": "stream",
       "stream": "stdout",
       "text": [
        "\n",
        "Saint Lucia\n",
        "Saint Vincent and The Grenadines"
       ]
      },
      {
       "output_type": "stream",
       "stream": "stdout",
       "text": [
        "\n",
        "Suriname"
       ]
      },
      {
       "output_type": "stream",
       "stream": "stdout",
       "text": [
        "\n",
        "Trinidad and Tobago"
       ]
      },
      {
       "output_type": "stream",
       "stream": "stdout",
       "text": [
        "\n",
        "Turks and Caicos Islands"
       ]
      },
      {
       "output_type": "stream",
       "stream": "stdout",
       "text": [
        "\n",
        "U.S. Virgin Islands\n"
       ]
      }
     ],
     "prompt_number": 36
    },
    {
     "cell_type": "code",
     "collapsed": false,
     "input": [
      "#a bunch of configuration and security stuff used by TDT's REST API\n",
      "\n",
      "username = \"admin\"\n",
      "password = \"admin\"\n",
      "apiroot = \"http://drupal01/data/api/definitions/\"\n",
      "hostname = \"drupal01\"\n",
      "\n",
      "encodestring = '%s:%s' % (username, password)\n",
      "auth = base64.encodebytes(encodestring.encode('utf-8'))[:-1]\n",
      "auth =  (\"%s\" % auth)[2:-1]\n",
      "\n",
      "\n",
      "#this function makes the REST API call to inform the TDT server about the .csv files\n",
      "\n",
      "def putDefinitionCSV(path,file_location,description,title,delimiter=\",\",has_header_row=\"1\",start_row=\"0\",\n",
      "                     pk=\"\",date=None,source=\"\",language=\"English\",rights=\"License Not Specified\"):\n",
      "    if date == None:\n",
      "        date = strftime(\"%Y-%m-%d %H:%M:%S\")\n",
      "    \n",
      "    data = {\"type\":\"csv\",\n",
      "            \"uri\":file_location,\n",
      "            \"description\":description,\n",
      "            \"delimiter\":delimiter,\n",
      "            \"has_header_row\":has_header_row,#string or int?\n",
      "            \"start_row\":start_row,\n",
      "            \"pk\":\"\",\n",
      "            \"title\":title,\n",
      "            \"date\":date,\n",
      "            \"source\":source,\n",
      "            \"language\":language,\n",
      "            \"rights\":rights}\n",
      "\n",
      "    h = http.client.HTTPConnection(hostname)\n",
      "    headers = {\"Content-Type\":\"application/tdt.csv\", \n",
      "               \"Accept\":\"*/*\", \n",
      "               \"Authorization\":\"Basic %s\" % auth}\n",
      "    elog(json.dumps(data))\n",
      "    h.request('PUT', apiroot + path, json.dumps(data), headers)\n",
      "    r = h.getresponse()\n",
      "    h.close()\n",
      "    j = (\"%s\" % r.read())[2:-1]\n",
      "    if j:\n",
      "        return json.loads(j)\n",
      "    return None"
     ],
     "language": "python",
     "metadata": {},
     "outputs": [],
     "prompt_number": 37
    },
    {
     "cell_type": "code",
     "collapsed": false,
     "input": [
      "#TODO: move the .csv files onto the server - this is handled manually for now\n",
      "\n",
      "droot = \"/www/datatank/data/profiles/\" #this is the path the the directory of files on the server\n",
      "\n",
      "#tell TDT about the .csv files\n",
      "\n",
      "for index in tdtdf.index:\n",
      "    line = tdtdf.ix[index]\n",
      "    ident = line[\"identifier\"]\n",
      "    fpath = droot + line[\"filename\"]\n",
      "    descr = line[\"description\"]\n",
      "    putDefinitionCSV(ident, fpath, descr, descr) "
     ],
     "language": "python",
     "metadata": {},
     "outputs": [
      {
       "output_type": "stream",
       "stream": "stdout",
       "text": [
        "{\"type\": \"csv\", \"description\": \"ECLAC country profile - Anguilla: Quick facts\", \"rights\": \"License Not Specified\", \"uri\": \"/www/datatank/data/profiles/anguilla_quick-facts.csv\", \"start_row\": \"0\", \"language\": \"English\", \"title\": \"ECLAC country profile - Anguilla: Quick facts\", \"date\": \"2014-03-20 13:18:30\", \"pk\": \"\", \"delimiter\": \",\", \"has_header_row\": \"1\", \"source\": \"\"}\n",
        "{\"type\": \"csv\", \"description\": \"ECLAC country profile - Anguilla: Government officials\", \"rights\": \"License Not Specified\", \"uri\": \"/www/datatank/data/profiles/anguilla_government-officials.csv\", \"start_row\": \"0\", \"language\": \"English\", \"title\": \"ECLAC country profile - Anguilla: Government officials\", \"date\": \"2014-03-20 13:18:31\", \"pk\": \"\", \"delimiter\": \",\", \"has_header_row\": \"1\", \"source\": \"\"}"
       ]
      },
      {
       "output_type": "stream",
       "stream": "stdout",
       "text": [
        "\n",
        "{\"type\": \"csv\", \"description\": \"ECLAC country profile - Anguilla: Budget documents\", \"rights\": \"License Not Specified\", \"uri\": \"/www/datatank/data/profiles/anguilla_budget-documents.csv\", \"start_row\": \"0\", \"language\": \"English\", \"title\": \"ECLAC country profile - Anguilla: Budget documents\", \"date\": \"2014-03-20 13:18:31\", \"pk\": \"\", \"delimiter\": \",\", \"has_header_row\": \"1\", \"source\": \"\"}"
       ]
      },
      {
       "output_type": "stream",
       "stream": "stdout",
       "text": [
        "\n",
        "{\"type\": \"csv\", \"description\": \"ECLAC country profile - Anguilla: Local media\", \"rights\": \"License Not Specified\", \"uri\": \"/www/datatank/data/profiles/anguilla_media.csv\", \"start_row\": \"0\", \"language\": \"English\", \"title\": \"ECLAC country profile - Anguilla: Local media\", \"date\": \"2014-03-20 13:18:32\", \"pk\": \"\", \"delimiter\": \",\", \"has_header_row\": \"1\", \"source\": \"\"}"
       ]
      },
      {
       "output_type": "stream",
       "stream": "stdout",
       "text": [
        "\n",
        "{\"type\": \"csv\", \"description\": \"ECLAC country profile - Antigua and Barbuda: Quick facts\", \"rights\": \"License Not Specified\", \"uri\": \"/www/datatank/data/profiles/antigua-and-barbuda_quick-facts.csv\", \"start_row\": \"0\", \"language\": \"English\", \"title\": \"ECLAC country profile - Antigua and Barbuda: Quick facts\", \"date\": \"2014-03-20 13:18:32\", \"pk\": \"\", \"delimiter\": \",\", \"has_header_row\": \"1\", \"source\": \"\"}"
       ]
      },
      {
       "output_type": "stream",
       "stream": "stdout",
       "text": [
        "\n",
        "{\"type\": \"csv\", \"description\": \"ECLAC country profile - Antigua and Barbuda: Government officials\", \"rights\": \"License Not Specified\", \"uri\": \"/www/datatank/data/profiles/antigua-and-barbuda_government-officials.csv\", \"start_row\": \"0\", \"language\": \"English\", \"title\": \"ECLAC country profile - Antigua and Barbuda: Government officials\", \"date\": \"2014-03-20 13:18:32\", \"pk\": \"\", \"delimiter\": \",\", \"has_header_row\": \"1\", \"source\": \"\"}"
       ]
      },
      {
       "output_type": "stream",
       "stream": "stdout",
       "text": [
        "\n",
        "{\"type\": \"csv\", \"description\": \"ECLAC country profile - Antigua and Barbuda: Budget documents\", \"rights\": \"License Not Specified\", \"uri\": \"/www/datatank/data/profiles/antigua-and-barbuda_budget-documents.csv\", \"start_row\": \"0\", \"language\": \"English\", \"title\": \"ECLAC country profile - Antigua and Barbuda: Budget documents\", \"date\": \"2014-03-20 13:18:32\", \"pk\": \"\", \"delimiter\": \",\", \"has_header_row\": \"1\", \"source\": \"\"}"
       ]
      },
      {
       "output_type": "stream",
       "stream": "stdout",
       "text": [
        "\n",
        "{\"type\": \"csv\", \"description\": \"ECLAC country profile - Antigua and Barbuda: Local media\", \"rights\": \"License Not Specified\", \"uri\": \"/www/datatank/data/profiles/antigua-and-barbuda_media.csv\", \"start_row\": \"0\", \"language\": \"English\", \"title\": \"ECLAC country profile - Antigua and Barbuda: Local media\", \"date\": \"2014-03-20 13:18:33\", \"pk\": \"\", \"delimiter\": \",\", \"has_header_row\": \"1\", \"source\": \"\"}"
       ]
      },
      {
       "output_type": "stream",
       "stream": "stdout",
       "text": [
        "\n",
        "{\"type\": \"csv\", \"description\": \"ECLAC country profile - Aruba: Quick facts\", \"rights\": \"License Not Specified\", \"uri\": \"/www/datatank/data/profiles/aruba_quick-facts.csv\", \"start_row\": \"0\", \"language\": \"English\", \"title\": \"ECLAC country profile - Aruba: Quick facts\", \"date\": \"2014-03-20 13:18:33\", \"pk\": \"\", \"delimiter\": \",\", \"has_header_row\": \"1\", \"source\": \"\"}"
       ]
      },
      {
       "output_type": "stream",
       "stream": "stdout",
       "text": [
        "\n",
        "{\"type\": \"csv\", \"description\": \"ECLAC country profile - Aruba: Government officials\", \"rights\": \"License Not Specified\", \"uri\": \"/www/datatank/data/profiles/aruba_government-officials.csv\", \"start_row\": \"0\", \"language\": \"English\", \"title\": \"ECLAC country profile - Aruba: Government officials\", \"date\": \"2014-03-20 13:18:33\", \"pk\": \"\", \"delimiter\": \",\", \"has_header_row\": \"1\", \"source\": \"\"}"
       ]
      },
      {
       "output_type": "stream",
       "stream": "stdout",
       "text": [
        "\n",
        "{\"type\": \"csv\", \"description\": \"ECLAC country profile - Aruba: Budget documents\", \"rights\": \"License Not Specified\", \"uri\": \"/www/datatank/data/profiles/aruba_budget-documents.csv\", \"start_row\": \"0\", \"language\": \"English\", \"title\": \"ECLAC country profile - Aruba: Budget documents\", \"date\": \"2014-03-20 13:18:33\", \"pk\": \"\", \"delimiter\": \",\", \"has_header_row\": \"1\", \"source\": \"\"}"
       ]
      },
      {
       "output_type": "stream",
       "stream": "stdout",
       "text": [
        "\n",
        "{\"type\": \"csv\", \"description\": \"ECLAC country profile - Aruba: Local media\", \"rights\": \"License Not Specified\", \"uri\": \"/www/datatank/data/profiles/aruba_media.csv\", \"start_row\": \"0\", \"language\": \"English\", \"title\": \"ECLAC country profile - Aruba: Local media\", \"date\": \"2014-03-20 13:18:34\", \"pk\": \"\", \"delimiter\": \",\", \"has_header_row\": \"1\", \"source\": \"\"}"
       ]
      },
      {
       "output_type": "stream",
       "stream": "stdout",
       "text": [
        "\n",
        "{\"type\": \"csv\", \"description\": \"ECLAC country profile - Bahamas: Quick facts\", \"rights\": \"License Not Specified\", \"uri\": \"/www/datatank/data/profiles/bahamas_quick-facts.csv\", \"start_row\": \"0\", \"language\": \"English\", \"title\": \"ECLAC country profile - Bahamas: Quick facts\", \"date\": \"2014-03-20 13:18:34\", \"pk\": \"\", \"delimiter\": \",\", \"has_header_row\": \"1\", \"source\": \"\"}"
       ]
      },
      {
       "output_type": "stream",
       "stream": "stdout",
       "text": [
        "\n",
        "{\"type\": \"csv\", \"description\": \"ECLAC country profile - Bahamas: Government officials\", \"rights\": \"License Not Specified\", \"uri\": \"/www/datatank/data/profiles/bahamas_government-officials.csv\", \"start_row\": \"0\", \"language\": \"English\", \"title\": \"ECLAC country profile - Bahamas: Government officials\", \"date\": \"2014-03-20 13:18:34\", \"pk\": \"\", \"delimiter\": \",\", \"has_header_row\": \"1\", \"source\": \"\"}"
       ]
      },
      {
       "output_type": "stream",
       "stream": "stdout",
       "text": [
        "\n",
        "{\"type\": \"csv\", \"description\": \"ECLAC country profile - Bahamas: Budget documents\", \"rights\": \"License Not Specified\", \"uri\": \"/www/datatank/data/profiles/bahamas_budget-documents.csv\", \"start_row\": \"0\", \"language\": \"English\", \"title\": \"ECLAC country profile - Bahamas: Budget documents\", \"date\": \"2014-03-20 13:18:34\", \"pk\": \"\", \"delimiter\": \",\", \"has_header_row\": \"1\", \"source\": \"\"}"
       ]
      },
      {
       "output_type": "stream",
       "stream": "stdout",
       "text": [
        "\n",
        "{\"type\": \"csv\", \"description\": \"ECLAC country profile - Bahamas: Local media\", \"rights\": \"License Not Specified\", \"uri\": \"/www/datatank/data/profiles/bahamas_media.csv\", \"start_row\": \"0\", \"language\": \"English\", \"title\": \"ECLAC country profile - Bahamas: Local media\", \"date\": \"2014-03-20 13:18:35\", \"pk\": \"\", \"delimiter\": \",\", \"has_header_row\": \"1\", \"source\": \"\"}"
       ]
      },
      {
       "output_type": "stream",
       "stream": "stdout",
       "text": [
        "\n",
        "{\"type\": \"csv\", \"description\": \"ECLAC country profile - Barbados: Quick facts\", \"rights\": \"License Not Specified\", \"uri\": \"/www/datatank/data/profiles/barbados_quick-facts.csv\", \"start_row\": \"0\", \"language\": \"English\", \"title\": \"ECLAC country profile - Barbados: Quick facts\", \"date\": \"2014-03-20 13:18:35\", \"pk\": \"\", \"delimiter\": \",\", \"has_header_row\": \"1\", \"source\": \"\"}"
       ]
      },
      {
       "output_type": "stream",
       "stream": "stdout",
       "text": [
        "\n",
        "{\"type\": \"csv\", \"description\": \"ECLAC country profile - Barbados: Government officials\", \"rights\": \"License Not Specified\", \"uri\": \"/www/datatank/data/profiles/barbados_government-officials.csv\", \"start_row\": \"0\", \"language\": \"English\", \"title\": \"ECLAC country profile - Barbados: Government officials\", \"date\": \"2014-03-20 13:18:35\", \"pk\": \"\", \"delimiter\": \",\", \"has_header_row\": \"1\", \"source\": \"\"}"
       ]
      },
      {
       "output_type": "stream",
       "stream": "stdout",
       "text": [
        "\n",
        "{\"type\": \"csv\", \"description\": \"ECLAC country profile - Barbados: Budget documents\", \"rights\": \"License Not Specified\", \"uri\": \"/www/datatank/data/profiles/barbados_budget-documents.csv\", \"start_row\": \"0\", \"language\": \"English\", \"title\": \"ECLAC country profile - Barbados: Budget documents\", \"date\": \"2014-03-20 13:18:35\", \"pk\": \"\", \"delimiter\": \",\", \"has_header_row\": \"1\", \"source\": \"\"}"
       ]
      },
      {
       "output_type": "stream",
       "stream": "stdout",
       "text": [
        "\n",
        "{\"type\": \"csv\", \"description\": \"ECLAC country profile - Barbados: Local media\", \"rights\": \"License Not Specified\", \"uri\": \"/www/datatank/data/profiles/barbados_media.csv\", \"start_row\": \"0\", \"language\": \"English\", \"title\": \"ECLAC country profile - Barbados: Local media\", \"date\": \"2014-03-20 13:18:36\", \"pk\": \"\", \"delimiter\": \",\", \"has_header_row\": \"1\", \"source\": \"\"}"
       ]
      },
      {
       "output_type": "stream",
       "stream": "stdout",
       "text": [
        "\n",
        "{\"type\": \"csv\", \"description\": \"ECLAC country profile - Belize: Quick facts\", \"rights\": \"License Not Specified\", \"uri\": \"/www/datatank/data/profiles/belize_quick-facts.csv\", \"start_row\": \"0\", \"language\": \"English\", \"title\": \"ECLAC country profile - Belize: Quick facts\", \"date\": \"2014-03-20 13:18:36\", \"pk\": \"\", \"delimiter\": \",\", \"has_header_row\": \"1\", \"source\": \"\"}"
       ]
      },
      {
       "output_type": "stream",
       "stream": "stdout",
       "text": [
        "\n",
        "{\"type\": \"csv\", \"description\": \"ECLAC country profile - Belize: Government officials\", \"rights\": \"License Not Specified\", \"uri\": \"/www/datatank/data/profiles/belize_government-officials.csv\", \"start_row\": \"0\", \"language\": \"English\", \"title\": \"ECLAC country profile - Belize: Government officials\", \"date\": \"2014-03-20 13:18:36\", \"pk\": \"\", \"delimiter\": \",\", \"has_header_row\": \"1\", \"source\": \"\"}"
       ]
      },
      {
       "output_type": "stream",
       "stream": "stdout",
       "text": [
        "\n",
        "{\"type\": \"csv\", \"description\": \"ECLAC country profile - Belize: Budget documents\", \"rights\": \"License Not Specified\", \"uri\": \"/www/datatank/data/profiles/belize_budget-documents.csv\", \"start_row\": \"0\", \"language\": \"English\", \"title\": \"ECLAC country profile - Belize: Budget documents\", \"date\": \"2014-03-20 13:18:36\", \"pk\": \"\", \"delimiter\": \",\", \"has_header_row\": \"1\", \"source\": \"\"}"
       ]
      },
      {
       "output_type": "stream",
       "stream": "stdout",
       "text": [
        "\n",
        "{\"type\": \"csv\", \"description\": \"ECLAC country profile - Belize: Local media\", \"rights\": \"License Not Specified\", \"uri\": \"/www/datatank/data/profiles/belize_media.csv\", \"start_row\": \"0\", \"language\": \"English\", \"title\": \"ECLAC country profile - Belize: Local media\", \"date\": \"2014-03-20 13:18:37\", \"pk\": \"\", \"delimiter\": \",\", \"has_header_row\": \"1\", \"source\": \"\"}"
       ]
      },
      {
       "output_type": "stream",
       "stream": "stdout",
       "text": [
        "\n",
        "{\"type\": \"csv\", \"description\": \"ECLAC country profile - Bermuda: Quick facts\", \"rights\": \"License Not Specified\", \"uri\": \"/www/datatank/data/profiles/bermuda_quick-facts.csv\", \"start_row\": \"0\", \"language\": \"English\", \"title\": \"ECLAC country profile - Bermuda: Quick facts\", \"date\": \"2014-03-20 13:18:37\", \"pk\": \"\", \"delimiter\": \",\", \"has_header_row\": \"1\", \"source\": \"\"}"
       ]
      },
      {
       "output_type": "stream",
       "stream": "stdout",
       "text": [
        "\n",
        "{\"type\": \"csv\", \"description\": \"ECLAC country profile - Bermuda: Government officials\", \"rights\": \"License Not Specified\", \"uri\": \"/www/datatank/data/profiles/bermuda_government-officials.csv\", \"start_row\": \"0\", \"language\": \"English\", \"title\": \"ECLAC country profile - Bermuda: Government officials\", \"date\": \"2014-03-20 13:18:37\", \"pk\": \"\", \"delimiter\": \",\", \"has_header_row\": \"1\", \"source\": \"\"}"
       ]
      },
      {
       "output_type": "stream",
       "stream": "stdout",
       "text": [
        "\n",
        "{\"type\": \"csv\", \"description\": \"ECLAC country profile - Bermuda: Budget documents\", \"rights\": \"License Not Specified\", \"uri\": \"/www/datatank/data/profiles/bermuda_budget-documents.csv\", \"start_row\": \"0\", \"language\": \"English\", \"title\": \"ECLAC country profile - Bermuda: Budget documents\", \"date\": \"2014-03-20 13:18:37\", \"pk\": \"\", \"delimiter\": \",\", \"has_header_row\": \"1\", \"source\": \"\"}"
       ]
      },
      {
       "output_type": "stream",
       "stream": "stdout",
       "text": [
        "\n",
        "{\"type\": \"csv\", \"description\": \"ECLAC country profile - Bermuda: Local media\", \"rights\": \"License Not Specified\", \"uri\": \"/www/datatank/data/profiles/bermuda_media.csv\", \"start_row\": \"0\", \"language\": \"English\", \"title\": \"ECLAC country profile - Bermuda: Local media\", \"date\": \"2014-03-20 13:18:38\", \"pk\": \"\", \"delimiter\": \",\", \"has_header_row\": \"1\", \"source\": \"\"}"
       ]
      },
      {
       "output_type": "stream",
       "stream": "stdout",
       "text": [
        "\n",
        "{\"type\": \"csv\", \"description\": \"ECLAC country profile - British Virgin Islands: Quick facts\", \"rights\": \"License Not Specified\", \"uri\": \"/www/datatank/data/profiles/british-virgin-islands_quick-facts.csv\", \"start_row\": \"0\", \"language\": \"English\", \"title\": \"ECLAC country profile - British Virgin Islands: Quick facts\", \"date\": \"2014-03-20 13:18:38\", \"pk\": \"\", \"delimiter\": \",\", \"has_header_row\": \"1\", \"source\": \"\"}"
       ]
      },
      {
       "output_type": "stream",
       "stream": "stdout",
       "text": [
        "\n",
        "{\"type\": \"csv\", \"description\": \"ECLAC country profile - British Virgin Islands: Government officials\", \"rights\": \"License Not Specified\", \"uri\": \"/www/datatank/data/profiles/british-virgin-islands_government-officials.csv\", \"start_row\": \"0\", \"language\": \"English\", \"title\": \"ECLAC country profile - British Virgin Islands: Government officials\", \"date\": \"2014-03-20 13:18:38\", \"pk\": \"\", \"delimiter\": \",\", \"has_header_row\": \"1\", \"source\": \"\"}"
       ]
      },
      {
       "output_type": "stream",
       "stream": "stdout",
       "text": [
        "\n",
        "{\"type\": \"csv\", \"description\": \"ECLAC country profile - British Virgin Islands: Budget documents\", \"rights\": \"License Not Specified\", \"uri\": \"/www/datatank/data/profiles/british-virgin-islands_budget-documents.csv\", \"start_row\": \"0\", \"language\": \"English\", \"title\": \"ECLAC country profile - British Virgin Islands: Budget documents\", \"date\": \"2014-03-20 13:18:39\", \"pk\": \"\", \"delimiter\": \",\", \"has_header_row\": \"1\", \"source\": \"\"}"
       ]
      },
      {
       "output_type": "stream",
       "stream": "stdout",
       "text": [
        "\n",
        "{\"type\": \"csv\", \"description\": \"ECLAC country profile - British Virgin Islands: Local media\", \"rights\": \"License Not Specified\", \"uri\": \"/www/datatank/data/profiles/british-virgin-islands_media.csv\", \"start_row\": \"0\", \"language\": \"English\", \"title\": \"ECLAC country profile - British Virgin Islands: Local media\", \"date\": \"2014-03-20 13:18:39\", \"pk\": \"\", \"delimiter\": \",\", \"has_header_row\": \"1\", \"source\": \"\"}"
       ]
      },
      {
       "output_type": "stream",
       "stream": "stdout",
       "text": [
        "\n",
        "{\"type\": \"csv\", \"description\": \"ECLAC country profile - Cayman Islands: Quick facts\", \"rights\": \"License Not Specified\", \"uri\": \"/www/datatank/data/profiles/cayman-islands_quick-facts.csv\", \"start_row\": \"0\", \"language\": \"English\", \"title\": \"ECLAC country profile - Cayman Islands: Quick facts\", \"date\": \"2014-03-20 13:18:39\", \"pk\": \"\", \"delimiter\": \",\", \"has_header_row\": \"1\", \"source\": \"\"}"
       ]
      },
      {
       "output_type": "stream",
       "stream": "stdout",
       "text": [
        "\n",
        "{\"type\": \"csv\", \"description\": \"ECLAC country profile - Cayman Islands: Budget documents\", \"rights\": \"License Not Specified\", \"uri\": \"/www/datatank/data/profiles/cayman-islands_budget-documents.csv\", \"start_row\": \"0\", \"language\": \"English\", \"title\": \"ECLAC country profile - Cayman Islands: Budget documents\", \"date\": \"2014-03-20 13:18:39\", \"pk\": \"\", \"delimiter\": \",\", \"has_header_row\": \"1\", \"source\": \"\"}"
       ]
      },
      {
       "output_type": "stream",
       "stream": "stdout",
       "text": [
        "\n",
        "{\"type\": \"csv\", \"description\": \"ECLAC country profile - Cayman Islands: Local media\", \"rights\": \"License Not Specified\", \"uri\": \"/www/datatank/data/profiles/cayman-islands_media.csv\", \"start_row\": \"0\", \"language\": \"English\", \"title\": \"ECLAC country profile - Cayman Islands: Local media\", \"date\": \"2014-03-20 13:18:40\", \"pk\": \"\", \"delimiter\": \",\", \"has_header_row\": \"1\", \"source\": \"\"}"
       ]
      },
      {
       "output_type": "stream",
       "stream": "stdout",
       "text": [
        "\n",
        "{\"type\": \"csv\", \"description\": \"ECLAC country profile - Grenada: Quick facts\", \"rights\": \"License Not Specified\", \"uri\": \"/www/datatank/data/profiles/grenada_quick-facts.csv\", \"start_row\": \"0\", \"language\": \"English\", \"title\": \"ECLAC country profile - Grenada: Quick facts\", \"date\": \"2014-03-20 13:18:40\", \"pk\": \"\", \"delimiter\": \",\", \"has_header_row\": \"1\", \"source\": \"\"}"
       ]
      },
      {
       "output_type": "stream",
       "stream": "stdout",
       "text": [
        "\n",
        "{\"type\": \"csv\", \"description\": \"ECLAC country profile - Grenada: Government officials\", \"rights\": \"License Not Specified\", \"uri\": \"/www/datatank/data/profiles/grenada_government-officials.csv\", \"start_row\": \"0\", \"language\": \"English\", \"title\": \"ECLAC country profile - Grenada: Government officials\", \"date\": \"2014-03-20 13:18:40\", \"pk\": \"\", \"delimiter\": \",\", \"has_header_row\": \"1\", \"source\": \"\"}"
       ]
      },
      {
       "output_type": "stream",
       "stream": "stdout",
       "text": [
        "\n",
        "{\"type\": \"csv\", \"description\": \"ECLAC country profile - Grenada: Budget documents\", \"rights\": \"License Not Specified\", \"uri\": \"/www/datatank/data/profiles/grenada_budget-documents.csv\", \"start_row\": \"0\", \"language\": \"English\", \"title\": \"ECLAC country profile - Grenada: Budget documents\", \"date\": \"2014-03-20 13:18:40\", \"pk\": \"\", \"delimiter\": \",\", \"has_header_row\": \"1\", \"source\": \"\"}"
       ]
      },
      {
       "output_type": "stream",
       "stream": "stdout",
       "text": [
        "\n",
        "{\"type\": \"csv\", \"description\": \"ECLAC country profile - Grenada: Local media\", \"rights\": \"License Not Specified\", \"uri\": \"/www/datatank/data/profiles/grenada_media.csv\", \"start_row\": \"0\", \"language\": \"English\", \"title\": \"ECLAC country profile - Grenada: Local media\", \"date\": \"2014-03-20 13:18:41\", \"pk\": \"\", \"delimiter\": \",\", \"has_header_row\": \"1\", \"source\": \"\"}"
       ]
      },
      {
       "output_type": "stream",
       "stream": "stdout",
       "text": [
        "\n",
        "{\"type\": \"csv\", \"description\": \"ECLAC country profile - Guadeloupe: Quick facts\", \"rights\": \"License Not Specified\", \"uri\": \"/www/datatank/data/profiles/guadeloupe_quick-facts.csv\", \"start_row\": \"0\", \"language\": \"English\", \"title\": \"ECLAC country profile - Guadeloupe: Quick facts\", \"date\": \"2014-03-20 13:18:41\", \"pk\": \"\", \"delimiter\": \",\", \"has_header_row\": \"1\", \"source\": \"\"}"
       ]
      },
      {
       "output_type": "stream",
       "stream": "stdout",
       "text": [
        "\n",
        "{\"type\": \"csv\", \"description\": \"ECLAC country profile - Guadeloupe: Government officials\", \"rights\": \"License Not Specified\", \"uri\": \"/www/datatank/data/profiles/guadeloupe_government-officials.csv\", \"start_row\": \"0\", \"language\": \"English\", \"title\": \"ECLAC country profile - Guadeloupe: Government officials\", \"date\": \"2014-03-20 13:18:41\", \"pk\": \"\", \"delimiter\": \",\", \"has_header_row\": \"1\", \"source\": \"\"}"
       ]
      },
      {
       "output_type": "stream",
       "stream": "stdout",
       "text": [
        "\n",
        "{\"type\": \"csv\", \"description\": \"ECLAC country profile - Guyana: Quick facts\", \"rights\": \"License Not Specified\", \"uri\": \"/www/datatank/data/profiles/guyana_quick-facts.csv\", \"start_row\": \"0\", \"language\": \"English\", \"title\": \"ECLAC country profile - Guyana: Quick facts\", \"date\": \"2014-03-20 13:18:41\", \"pk\": \"\", \"delimiter\": \",\", \"has_header_row\": \"1\", \"source\": \"\"}"
       ]
      },
      {
       "output_type": "stream",
       "stream": "stdout",
       "text": [
        "\n",
        "{\"type\": \"csv\", \"description\": \"ECLAC country profile - Guyana: Government officials\", \"rights\": \"License Not Specified\", \"uri\": \"/www/datatank/data/profiles/guyana_government-officials.csv\", \"start_row\": \"0\", \"language\": \"English\", \"title\": \"ECLAC country profile - Guyana: Government officials\", \"date\": \"2014-03-20 13:18:42\", \"pk\": \"\", \"delimiter\": \",\", \"has_header_row\": \"1\", \"source\": \"\"}"
       ]
      },
      {
       "output_type": "stream",
       "stream": "stdout",
       "text": [
        "\n",
        "{\"type\": \"csv\", \"description\": \"ECLAC country profile - Haiti: Quick facts\", \"rights\": \"License Not Specified\", \"uri\": \"/www/datatank/data/profiles/haiti_quick-facts.csv\", \"start_row\": \"0\", \"language\": \"English\", \"title\": \"ECLAC country profile - Haiti: Quick facts\", \"date\": \"2014-03-20 13:18:42\", \"pk\": \"\", \"delimiter\": \",\", \"has_header_row\": \"1\", \"source\": \"\"}"
       ]
      },
      {
       "output_type": "stream",
       "stream": "stdout",
       "text": [
        "\n",
        "{\"type\": \"csv\", \"description\": \"ECLAC country profile - Haiti: Government officials\", \"rights\": \"License Not Specified\", \"uri\": \"/www/datatank/data/profiles/haiti_government-officials.csv\", \"start_row\": \"0\", \"language\": \"English\", \"title\": \"ECLAC country profile - Haiti: Government officials\", \"date\": \"2014-03-20 13:18:42\", \"pk\": \"\", \"delimiter\": \",\", \"has_header_row\": \"1\", \"source\": \"\"}"
       ]
      },
      {
       "output_type": "stream",
       "stream": "stdout",
       "text": [
        "\n",
        "{\"type\": \"csv\", \"description\": \"ECLAC country profile - Jamaica: Quick facts\", \"rights\": \"License Not Specified\", \"uri\": \"/www/datatank/data/profiles/jamaica_quick-facts.csv\", \"start_row\": \"0\", \"language\": \"English\", \"title\": \"ECLAC country profile - Jamaica: Quick facts\", \"date\": \"2014-03-20 13:18:42\", \"pk\": \"\", \"delimiter\": \",\", \"has_header_row\": \"1\", \"source\": \"\"}"
       ]
      },
      {
       "output_type": "stream",
       "stream": "stdout",
       "text": [
        "\n",
        "{\"type\": \"csv\", \"description\": \"ECLAC country profile - Jamaica: Government officials\", \"rights\": \"License Not Specified\", \"uri\": \"/www/datatank/data/profiles/jamaica_government-officials.csv\", \"start_row\": \"0\", \"language\": \"English\", \"title\": \"ECLAC country profile - Jamaica: Government officials\", \"date\": \"2014-03-20 13:18:43\", \"pk\": \"\", \"delimiter\": \",\", \"has_header_row\": \"1\", \"source\": \"\"}"
       ]
      },
      {
       "output_type": "stream",
       "stream": "stdout",
       "text": [
        "\n",
        "{\"type\": \"csv\", \"description\": \"ECLAC country profile - Montserrat: Quick facts\", \"rights\": \"License Not Specified\", \"uri\": \"/www/datatank/data/profiles/montserrat_quick-facts.csv\", \"start_row\": \"0\", \"language\": \"English\", \"title\": \"ECLAC country profile - Montserrat: Quick facts\", \"date\": \"2014-03-20 13:18:43\", \"pk\": \"\", \"delimiter\": \",\", \"has_header_row\": \"1\", \"source\": \"\"}"
       ]
      },
      {
       "output_type": "stream",
       "stream": "stdout",
       "text": [
        "\n",
        "{\"type\": \"csv\", \"description\": \"ECLAC country profile - Montserrat: Government officials\", \"rights\": \"License Not Specified\", \"uri\": \"/www/datatank/data/profiles/montserrat_government-officials.csv\", \"start_row\": \"0\", \"language\": \"English\", \"title\": \"ECLAC country profile - Montserrat: Government officials\", \"date\": \"2014-03-20 13:18:43\", \"pk\": \"\", \"delimiter\": \",\", \"has_header_row\": \"1\", \"source\": \"\"}"
       ]
      },
      {
       "output_type": "stream",
       "stream": "stdout",
       "text": [
        "\n",
        "{\"type\": \"csv\", \"description\": \"ECLAC country profile - Puerto Rico: Quick facts\", \"rights\": \"License Not Specified\", \"uri\": \"/www/datatank/data/profiles/puerto-rico_quick-facts.csv\", \"start_row\": \"0\", \"language\": \"English\", \"title\": \"ECLAC country profile - Puerto Rico: Quick facts\", \"date\": \"2014-03-20 13:18:43\", \"pk\": \"\", \"delimiter\": \",\", \"has_header_row\": \"1\", \"source\": \"\"}"
       ]
      },
      {
       "output_type": "stream",
       "stream": "stdout",
       "text": [
        "\n",
        "{\"type\": \"csv\", \"description\": \"ECLAC country profile - Puerto Rico: Government officials\", \"rights\": \"License Not Specified\", \"uri\": \"/www/datatank/data/profiles/puerto-rico_government-officials.csv\", \"start_row\": \"0\", \"language\": \"English\", \"title\": \"ECLAC country profile - Puerto Rico: Government officials\", \"date\": \"2014-03-20 13:18:44\", \"pk\": \"\", \"delimiter\": \",\", \"has_header_row\": \"1\", \"source\": \"\"}"
       ]
      },
      {
       "output_type": "stream",
       "stream": "stdout",
       "text": [
        "\n",
        "{\"type\": \"csv\", \"description\": \"ECLAC country profile - Saint Kitts and Nevis: Quick facts\", \"rights\": \"License Not Specified\", \"uri\": \"/www/datatank/data/profiles/saint-kitts-and-nevis_quick-facts.csv\", \"start_row\": \"0\", \"language\": \"English\", \"title\": \"ECLAC country profile - Saint Kitts and Nevis: Quick facts\", \"date\": \"2014-03-20 13:18:44\", \"pk\": \"\", \"delimiter\": \",\", \"has_header_row\": \"1\", \"source\": \"\"}"
       ]
      },
      {
       "output_type": "stream",
       "stream": "stdout",
       "text": [
        "\n",
        "{\"type\": \"csv\", \"description\": \"ECLAC country profile - Saint Kitts and Nevis: Government officials\", \"rights\": \"License Not Specified\", \"uri\": \"/www/datatank/data/profiles/saint-kitts-and-nevis_government-officials.csv\", \"start_row\": \"0\", \"language\": \"English\", \"title\": \"ECLAC country profile - Saint Kitts and Nevis: Government officials\", \"date\": \"2014-03-20 13:18:44\", \"pk\": \"\", \"delimiter\": \",\", \"has_header_row\": \"1\", \"source\": \"\"}"
       ]
      },
      {
       "output_type": "stream",
       "stream": "stdout",
       "text": [
        "\n",
        "{\"type\": \"csv\", \"description\": \"ECLAC country profile - Saint Kitts and Nevis: Budget documents\", \"rights\": \"License Not Specified\", \"uri\": \"/www/datatank/data/profiles/saint-kitts-and-nevis_budget-documents.csv\", \"start_row\": \"0\", \"language\": \"English\", \"title\": \"ECLAC country profile - Saint Kitts and Nevis: Budget documents\", \"date\": \"2014-03-20 13:18:44\", \"pk\": \"\", \"delimiter\": \",\", \"has_header_row\": \"1\", \"source\": \"\"}"
       ]
      },
      {
       "output_type": "stream",
       "stream": "stdout",
       "text": [
        "\n",
        "{\"type\": \"csv\", \"description\": \"ECLAC country profile - Saint Kitts and Nevis: Local media\", \"rights\": \"License Not Specified\", \"uri\": \"/www/datatank/data/profiles/saint-kitts-and-nevis_media.csv\", \"start_row\": \"0\", \"language\": \"English\", \"title\": \"ECLAC country profile - Saint Kitts and Nevis: Local media\", \"date\": \"2014-03-20 13:18:45\", \"pk\": \"\", \"delimiter\": \",\", \"has_header_row\": \"1\", \"source\": \"\"}"
       ]
      },
      {
       "output_type": "stream",
       "stream": "stdout",
       "text": [
        "\n",
        "{\"type\": \"csv\", \"description\": \"ECLAC country profile - Saint Lucia: Quick facts\", \"rights\": \"License Not Specified\", \"uri\": \"/www/datatank/data/profiles/saint-lucia_quick-facts.csv\", \"start_row\": \"0\", \"language\": \"English\", \"title\": \"ECLAC country profile - Saint Lucia: Quick facts\", \"date\": \"2014-03-20 13:18:45\", \"pk\": \"\", \"delimiter\": \",\", \"has_header_row\": \"1\", \"source\": \"\"}"
       ]
      },
      {
       "output_type": "stream",
       "stream": "stdout",
       "text": [
        "\n",
        "{\"type\": \"csv\", \"description\": \"ECLAC country profile - Saint Lucia: Government officials\", \"rights\": \"License Not Specified\", \"uri\": \"/www/datatank/data/profiles/saint-lucia_government-officials.csv\", \"start_row\": \"0\", \"language\": \"English\", \"title\": \"ECLAC country profile - Saint Lucia: Government officials\", \"date\": \"2014-03-20 13:18:45\", \"pk\": \"\", \"delimiter\": \",\", \"has_header_row\": \"1\", \"source\": \"\"}"
       ]
      },
      {
       "output_type": "stream",
       "stream": "stdout",
       "text": [
        "\n",
        "{\"type\": \"csv\", \"description\": \"ECLAC country profile - Saint Lucia: Budget documents\", \"rights\": \"License Not Specified\", \"uri\": \"/www/datatank/data/profiles/saint-lucia_budget-documents.csv\", \"start_row\": \"0\", \"language\": \"English\", \"title\": \"ECLAC country profile - Saint Lucia: Budget documents\", \"date\": \"2014-03-20 13:18:45\", \"pk\": \"\", \"delimiter\": \",\", \"has_header_row\": \"1\", \"source\": \"\"}"
       ]
      },
      {
       "output_type": "stream",
       "stream": "stdout",
       "text": [
        "\n",
        "{\"type\": \"csv\", \"description\": \"ECLAC country profile - Saint Lucia: Local media\", \"rights\": \"License Not Specified\", \"uri\": \"/www/datatank/data/profiles/saint-lucia_media.csv\", \"start_row\": \"0\", \"language\": \"English\", \"title\": \"ECLAC country profile - Saint Lucia: Local media\", \"date\": \"2014-03-20 13:18:46\", \"pk\": \"\", \"delimiter\": \",\", \"has_header_row\": \"1\", \"source\": \"\"}"
       ]
      },
      {
       "output_type": "stream",
       "stream": "stdout",
       "text": [
        "\n",
        "{\"type\": \"csv\", \"description\": \"ECLAC country profile - Saint Vincent and The Grenadines: Quick facts\", \"rights\": \"License Not Specified\", \"uri\": \"/www/datatank/data/profiles/saint-vincent-and-the-grenadines_quick-facts.csv\", \"start_row\": \"0\", \"language\": \"English\", \"title\": \"ECLAC country profile - Saint Vincent and The Grenadines: Quick facts\", \"date\": \"2014-03-20 13:18:46\", \"pk\": \"\", \"delimiter\": \",\", \"has_header_row\": \"1\", \"source\": \"\"}"
       ]
      },
      {
       "output_type": "stream",
       "stream": "stdout",
       "text": [
        "\n",
        "{\"type\": \"csv\", \"description\": \"ECLAC country profile - Saint Vincent and The Grenadines: Government officials\", \"rights\": \"License Not Specified\", \"uri\": \"/www/datatank/data/profiles/saint-vincent-and-the-grenadines_government-officials.csv\", \"start_row\": \"0\", \"language\": \"English\", \"title\": \"ECLAC country profile - Saint Vincent and The Grenadines: Government officials\", \"date\": \"2014-03-20 13:18:46\", \"pk\": \"\", \"delimiter\": \",\", \"has_header_row\": \"1\", \"source\": \"\"}"
       ]
      },
      {
       "output_type": "stream",
       "stream": "stdout",
       "text": [
        "\n",
        "{\"type\": \"csv\", \"description\": \"ECLAC country profile - Saint Vincent and The Grenadines: Budget documents\", \"rights\": \"License Not Specified\", \"uri\": \"/www/datatank/data/profiles/saint-vincent-and-the-grenadines_budget-documents.csv\", \"start_row\": \"0\", \"language\": \"English\", \"title\": \"ECLAC country profile - Saint Vincent and The Grenadines: Budget documents\", \"date\": \"2014-03-20 13:18:46\", \"pk\": \"\", \"delimiter\": \",\", \"has_header_row\": \"1\", \"source\": \"\"}"
       ]
      },
      {
       "output_type": "stream",
       "stream": "stdout",
       "text": [
        "\n",
        "{\"type\": \"csv\", \"description\": \"ECLAC country profile - Saint Vincent and The Grenadines: Local media\", \"rights\": \"License Not Specified\", \"uri\": \"/www/datatank/data/profiles/saint-vincent-and-the-grenadines_media.csv\", \"start_row\": \"0\", \"language\": \"English\", \"title\": \"ECLAC country profile - Saint Vincent and The Grenadines: Local media\", \"date\": \"2014-03-20 13:18:47\", \"pk\": \"\", \"delimiter\": \",\", \"has_header_row\": \"1\", \"source\": \"\"}"
       ]
      },
      {
       "output_type": "stream",
       "stream": "stdout",
       "text": [
        "\n",
        "{\"type\": \"csv\", \"description\": \"ECLAC country profile - Suriname: Quick facts\", \"rights\": \"License Not Specified\", \"uri\": \"/www/datatank/data/profiles/suriname_quick-facts.csv\", \"start_row\": \"0\", \"language\": \"English\", \"title\": \"ECLAC country profile - Suriname: Quick facts\", \"date\": \"2014-03-20 13:18:47\", \"pk\": \"\", \"delimiter\": \",\", \"has_header_row\": \"1\", \"source\": \"\"}"
       ]
      },
      {
       "output_type": "stream",
       "stream": "stdout",
       "text": [
        "\n",
        "{\"type\": \"csv\", \"description\": \"ECLAC country profile - Suriname: Government officials\", \"rights\": \"License Not Specified\", \"uri\": \"/www/datatank/data/profiles/suriname_government-officials.csv\", \"start_row\": \"0\", \"language\": \"English\", \"title\": \"ECLAC country profile - Suriname: Government officials\", \"date\": \"2014-03-20 13:18:47\", \"pk\": \"\", \"delimiter\": \",\", \"has_header_row\": \"1\", \"source\": \"\"}"
       ]
      },
      {
       "output_type": "stream",
       "stream": "stdout",
       "text": [
        "\n",
        "{\"type\": \"csv\", \"description\": \"ECLAC country profile - Suriname: Budget documents\", \"rights\": \"License Not Specified\", \"uri\": \"/www/datatank/data/profiles/suriname_budget-documents.csv\", \"start_row\": \"0\", \"language\": \"English\", \"title\": \"ECLAC country profile - Suriname: Budget documents\", \"date\": \"2014-03-20 13:18:47\", \"pk\": \"\", \"delimiter\": \",\", \"has_header_row\": \"1\", \"source\": \"\"}"
       ]
      },
      {
       "output_type": "stream",
       "stream": "stdout",
       "text": [
        "\n",
        "{\"type\": \"csv\", \"description\": \"ECLAC country profile - Trinidad and Tobago: Quick facts\", \"rights\": \"License Not Specified\", \"uri\": \"/www/datatank/data/profiles/trinidad-and-tobago_quick-facts.csv\", \"start_row\": \"0\", \"language\": \"English\", \"title\": \"ECLAC country profile - Trinidad and Tobago: Quick facts\", \"date\": \"2014-03-20 13:18:48\", \"pk\": \"\", \"delimiter\": \",\", \"has_header_row\": \"1\", \"source\": \"\"}"
       ]
      },
      {
       "output_type": "stream",
       "stream": "stdout",
       "text": [
        "\n",
        "{\"type\": \"csv\", \"description\": \"ECLAC country profile - Trinidad and Tobago: Government officials\", \"rights\": \"License Not Specified\", \"uri\": \"/www/datatank/data/profiles/trinidad-and-tobago_government-officials.csv\", \"start_row\": \"0\", \"language\": \"English\", \"title\": \"ECLAC country profile - Trinidad and Tobago: Government officials\", \"date\": \"2014-03-20 13:18:48\", \"pk\": \"\", \"delimiter\": \",\", \"has_header_row\": \"1\", \"source\": \"\"}"
       ]
      },
      {
       "output_type": "stream",
       "stream": "stdout",
       "text": [
        "\n",
        "{\"type\": \"csv\", \"description\": \"ECLAC country profile - Trinidad and Tobago: Budget documents\", \"rights\": \"License Not Specified\", \"uri\": \"/www/datatank/data/profiles/trinidad-and-tobago_budget-documents.csv\", \"start_row\": \"0\", \"language\": \"English\", \"title\": \"ECLAC country profile - Trinidad and Tobago: Budget documents\", \"date\": \"2014-03-20 13:18:48\", \"pk\": \"\", \"delimiter\": \",\", \"has_header_row\": \"1\", \"source\": \"\"}"
       ]
      },
      {
       "output_type": "stream",
       "stream": "stdout",
       "text": [
        "\n",
        "{\"type\": \"csv\", \"description\": \"ECLAC country profile - Trinidad and Tobago: Local media\", \"rights\": \"License Not Specified\", \"uri\": \"/www/datatank/data/profiles/trinidad-and-tobago_media.csv\", \"start_row\": \"0\", \"language\": \"English\", \"title\": \"ECLAC country profile - Trinidad and Tobago: Local media\", \"date\": \"2014-03-20 13:18:49\", \"pk\": \"\", \"delimiter\": \",\", \"has_header_row\": \"1\", \"source\": \"\"}"
       ]
      },
      {
       "output_type": "stream",
       "stream": "stdout",
       "text": [
        "\n",
        "{\"type\": \"csv\", \"description\": \"ECLAC country profile - Turks and Caicos Islands: Quick facts\", \"rights\": \"License Not Specified\", \"uri\": \"/www/datatank/data/profiles/turks-and-caicos-islands_quick-facts.csv\", \"start_row\": \"0\", \"language\": \"English\", \"title\": \"ECLAC country profile - Turks and Caicos Islands: Quick facts\", \"date\": \"2014-03-20 13:18:49\", \"pk\": \"\", \"delimiter\": \",\", \"has_header_row\": \"1\", \"source\": \"\"}"
       ]
      },
      {
       "output_type": "stream",
       "stream": "stdout",
       "text": [
        "\n",
        "{\"type\": \"csv\", \"description\": \"ECLAC country profile - Turks and Caicos Islands: Budget documents\", \"rights\": \"License Not Specified\", \"uri\": \"/www/datatank/data/profiles/turks-and-caicos-islands_budget-documents.csv\", \"start_row\": \"0\", \"language\": \"English\", \"title\": \"ECLAC country profile - Turks and Caicos Islands: Budget documents\", \"date\": \"2014-03-20 13:18:49\", \"pk\": \"\", \"delimiter\": \",\", \"has_header_row\": \"1\", \"source\": \"\"}"
       ]
      },
      {
       "output_type": "stream",
       "stream": "stdout",
       "text": [
        "\n",
        "{\"type\": \"csv\", \"description\": \"ECLAC country profile - U.S. Virgin Islands: Quick facts\", \"rights\": \"License Not Specified\", \"uri\": \"/www/datatank/data/profiles/united-states-virgin-islands_quick-facts.csv\", \"start_row\": \"0\", \"language\": \"English\", \"title\": \"ECLAC country profile - U.S. Virgin Islands: Quick facts\", \"date\": \"2014-03-20 13:18:49\", \"pk\": \"\", \"delimiter\": \",\", \"has_header_row\": \"1\", \"source\": \"\"}"
       ]
      },
      {
       "output_type": "stream",
       "stream": "stdout",
       "text": [
        "\n",
        "{\"type\": \"csv\", \"description\": \"ECLAC country profile - U.S. Virgin Islands: Government officials\", \"rights\": \"License Not Specified\", \"uri\": \"/www/datatank/data/profiles/united-states-virgin-islands_government-officials.csv\", \"start_row\": \"0\", \"language\": \"English\", \"title\": \"ECLAC country profile - U.S. Virgin Islands: Government officials\", \"date\": \"2014-03-20 13:18:50\", \"pk\": \"\", \"delimiter\": \",\", \"has_header_row\": \"1\", \"source\": \"\"}"
       ]
      },
      {
       "output_type": "stream",
       "stream": "stdout",
       "text": [
        "\n",
        "{\"type\": \"csv\", \"description\": \"ECLAC country profile - U.S. Virgin Islands: Budget documents\", \"rights\": \"License Not Specified\", \"uri\": \"/www/datatank/data/profiles/united-states-virgin-islands_budget-documents.csv\", \"start_row\": \"0\", \"language\": \"English\", \"title\": \"ECLAC country profile - U.S. Virgin Islands: Budget documents\", \"date\": \"2014-03-20 13:18:50\", \"pk\": \"\", \"delimiter\": \",\", \"has_header_row\": \"1\", \"source\": \"\"}"
       ]
      },
      {
       "output_type": "stream",
       "stream": "stdout",
       "text": [
        "\n",
        "{\"type\": \"csv\", \"description\": \"ECLAC country profile - U.S. Virgin Islands: Local media\", \"rights\": \"License Not Specified\", \"uri\": \"/www/datatank/data/profiles/united-states-virgin-islands_media.csv\", \"start_row\": \"0\", \"language\": \"English\", \"title\": \"ECLAC country profile - U.S. Virgin Islands: Local media\", \"date\": \"2014-03-20 13:18:50\", \"pk\": \"\", \"delimiter\": \",\", \"has_header_row\": \"1\", \"source\": \"\"}"
       ]
      },
      {
       "output_type": "stream",
       "stream": "stdout",
       "text": [
        "\n"
       ]
      }
     ],
     "prompt_number": 38
    },
    {
     "cell_type": "code",
     "collapsed": false,
     "input": [
      "chatter = True"
     ],
     "language": "python",
     "metadata": {},
     "outputs": [],
     "prompt_number": 152
    },
    {
     "cell_type": "code",
     "collapsed": false,
     "input": [],
     "language": "python",
     "metadata": {},
     "outputs": []
    }
   ],
   "metadata": {}
  }
 ]
}