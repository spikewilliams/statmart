{
 "metadata": {
  "name": ""
 },
 "nbformat": 3,
 "nbformat_minor": 0,
 "worksheets": [
  {
   "cells": [
    {
     "cell_type": "heading",
     "level": 1,
     "metadata": {},
     "source": [
      "Build script for Caribbean SIDS RCM water data: Usage"
     ]
    },
    {
     "cell_type": "code",
     "collapsed": false,
     "input": [
      "import os, imp\n",
      "import pandas as pd\n",
      "\n",
      "from settings_statmart import *\n",
      "import utils_statmart as us\n",
      "\n",
      "import gen1_sidsrcm\n",
      "import gen3_utils\n",
      "import gen4_utils\n",
      "\n",
      "us.verbose = True"
     ],
     "language": "python",
     "metadata": {},
     "outputs": [],
     "prompt_number": 1
    },
    {
     "cell_type": "markdown",
     "metadata": {},
     "source": [
      "Customize the below per this specfic dataset...."
     ]
    },
    {
     "cell_type": "code",
     "collapsed": false,
     "input": [
      "config = {'gen_1_dir': statmart_facts_gen1 + 'sidsrcm/water/',\n",
      "     'gen_2_dir': statmart_facts_gen2 + 'sidsrcm/water/',\n",
      "     'gen_4_dir': statmart_view_gen4 + 'sidsrcm/',\n",
      "     'description': 'Water usage',\n",
      "     'indicator': 'Water usage',\n",
      "     'indicator_category': 'Water',\n",
      "     'indicator_type': 'Reservoirs',\n",
      "     'multiplier': 1,\n",
      "     'prefix': 'water-usage',\n",
      "     'suffix': 'sidsrcm',\n",
      "     'fileprefix': 'usage',\n",
      "     'filesuffix': 'annual'}\n",
      "\n",
      "gen0_config = {\n",
      "    \"description\":config[\"indicator\"],\n",
      "    \"descriptor\":\"usage\",\n",
      "    \"fileName\":\"Water_5a_Waterusage.xlsx\",\n",
      "    \"generation\":\"0\",\n",
      "    \"path\":\"water/\",\n",
      "    \"timeseries\":True\n",
      "}"
     ],
     "language": "python",
     "metadata": {},
     "outputs": [],
     "prompt_number": 158
    },
    {
     "cell_type": "markdown",
     "metadata": {},
     "source": [
      "Generation 0 - Prepare the original xls file by converting it into a somewhat more standardized xls formation for use in Gen 1. Each outputted xls has one worksheet of data, and a second with metadata. The names of these sheet are \"data\" and \"metadata\"."
     ]
    },
    {
     "cell_type": "code",
     "collapsed": false,
     "input": [
      "import imp\n",
      "imp.reload(gen1_sidsrcm)\n",
      "gen1_sidsrcm.process_gen0_xls(gen0_config)"
     ],
     "language": "python",
     "metadata": {},
     "outputs": [
      {
       "output_type": "stream",
       "stream": "stdout",
       "text": [
        "{'fileName': 'Water_5a_Waterusage.xlsx', 'timeseries': True, 'descriptor': 'usage', 'path': 'water/', 'generation': '0', 'description': 'Water usage'}\n",
        "Cuba"
       ]
      },
      {
       "output_type": "stream",
       "stream": "stdout",
       "text": [
        "\n",
        "Jamaica"
       ]
      },
      {
       "output_type": "stream",
       "stream": "stdout",
       "text": [
        "\n",
        "Suriname"
       ]
      },
      {
       "output_type": "stream",
       "stream": "stdout",
       "text": [
        "\n",
        "Trinidad and Tobago"
       ]
      },
      {
       "output_type": "stream",
       "stream": "stdout",
       "text": [
        "\n",
        "Grenada"
       ]
      },
      {
       "output_type": "stream",
       "stream": "stdout",
       "text": [
        "\n",
        "Antigua and Barbuda"
       ]
      },
      {
       "output_type": "stream",
       "stream": "stdout",
       "text": [
        "\n",
        "<class 'pandas.tseries.index.DatetimeIndex'>\n",
        "[2001-01-01 00:00:00, ..., 2011-12-01 00:00:00]\n",
        "Length: 124, Freq: None, Timezone: None"
       ]
      },
      {
       "output_type": "stream",
       "stream": "stdout",
       "text": [
        "\n",
        "Saint Kitts and Nevis"
       ]
      },
      {
       "output_type": "stream",
       "stream": "stdout",
       "text": [
        "\n",
        "Dominica"
       ]
      },
      {
       "output_type": "stream",
       "stream": "stdout",
       "text": [
        "\n",
        "Data from 8 countries"
       ]
      },
      {
       "output_type": "stream",
       "stream": "stdout",
       "text": [
        "\n"
       ]
      }
     ],
     "prompt_number": 167
    },
    {
     "cell_type": "markdown",
     "metadata": {},
     "source": [
      "Generation 1"
     ]
    },
    {
     "cell_type": "code",
     "collapsed": false,
     "input": [
      "country_dict = us.load_carib_country_dict(key_column=\"name\")\n",
      "dataset = []\n",
      "for name in sorted(country_dict.keys()):\n",
      "    path = config['gen_1_dir'] + config['fileprefix'] + \"_\" + us.machine_name(name) + \"_\" + config[\"filesuffix\"] + \".xls\"\n",
      "    if os.path.exists(path):\n",
      "        xlfile = pd.ExcelFile(path)\n",
      "        df = xlfile.parse(\"data\")\n",
      "        mf = xlfile.parse(\"metadata\")\n",
      "        iso3 = country_dict[name][\"iso3\"]\n",
      "        #if len(df.columns) == 2:\n",
      "        dataset.append((iso3, df, mf))\n",
      "        \n",
      "dataset[2][1] # This is what the data looks like\n",
      "print(dataset)"
     ],
     "language": "python",
     "metadata": {},
     "outputs": [
      {
       "output_type": "stream",
       "stream": "stdout",
       "text": [
        "[('ATG',     Year  Antigua and Barbuda                                  Notes\n",
        "0   2001           747.313486                                    NaN\n",
        "1   2002           719.216985                                    NaN\n",
        "2   2003           663.995152                                    NaN\n",
        "3   2004           672.677101                                    NaN\n",
        "4   2005           788.922808                                    NaN\n",
        "5   2006           853.548414                                    NaN\n",
        "6   2007           895.151051                                    NaN\n",
        "7   2008          1026.411632   Estimated, based on 8 months of data\n",
        "8   2009          1108.607010   Estimated, based on 9 months of data\n",
        "9   2010           946.051429  Estimated, based on 11 months of data\n",
        "10  2011           972.247011                                    NaN\n",
        "\n",
        "[11 rows x 3 columns],                             Description                   Note  Source  \\\n",
        "Indicator                   Water usage                    NaN     NaN   \n",
        "Set Name            Antigua and Barbuda                    NaN     NaN   \n",
        "Unnamed: 2_level_1               Volume  National water demand     NaN   \n",
        "\n",
        "                       Unit  \n",
        "Indicator               NaN  \n",
        "Set Name                NaN  \n",
        "Unnamed: 2_level_1  Imp. MG  \n",
        "\n",
        "[3 rows x 4 columns]), ('CUB',     Year  Cuba\n",
        "0   1990  2933\n",
        "1   1991  2933\n",
        "2   1992  2933\n",
        "3   1993  2933\n",
        "4   1994  2933\n",
        "5   1995  2998\n",
        "6   1996  2997\n",
        "7   1997  2997\n",
        "8   1998  3004\n",
        "9   1999  3000\n",
        "10  2000  3001\n",
        "11  2001  3001\n",
        "12  2002  3001\n",
        "13  2003  3001\n",
        "14  2004  3001\n",
        "15  2005  3006\n",
        "16  2006  3006\n",
        "17  2007  3006\n",
        "18  2008  3006\n",
        "19  2009  3006\n",
        "20  2010  3006\n",
        "\n",
        "[21 rows x 2 columns],                     Description                   Note  Source     Unit\n",
        "Indicator           Water usage                    NaN     NaN      NaN\n",
        "Set Name                   Cuba                    NaN     NaN      NaN\n",
        "Unnamed: 3_level_1       Volume  National water demand     NaN  Imp. MG\n",
        "\n",
        "[3 rows x 4 columns]), ('DMA',    Year  Domestic  Industrial  Commercial  Government\n",
        "0  2000   336.071      35.648      60.343     123.993\n",
        "1  2001   358.543      25.541      68.044         NaN\n",
        "2  2002   373.160      27.210      68.700         NaN\n",
        "3  2003   395.108      29.553      68.724         NaN\n",
        "4  2004   363.104      22.201      72.837     172.953\n",
        "5  2005   465.883      22.243      86.831     172.646\n",
        "6  2006   473.600      18.920      90.506     168.345\n",
        "\n",
        "[7 rows x 5 columns],             Description  Note                             Source     Unit\n",
        "Indicator   Water usage   NaN                                NaN      NaN\n",
        "Set Name       Dominica   NaN                                NaN      NaN\n",
        "Domestic         Volume   NaN  Dominica Water & Sewerage Company  Imp. MG\n",
        "Industrial       Volume   NaN  Dominica Water & Sewerage Company  Imp. MG\n",
        "Commercial       Volume   NaN  Dominica Water & Sewerage Company  Imp. MG\n",
        "Government       Volume   NaN  Dominica Water & Sewerage Company  Imp. MG\n",
        "\n",
        "[6 rows x 4 columns]), ('GRD',    Year  North   South\n",
        "0  2001   1700  969.57\n",
        "1  2002   1700     NaN\n",
        "\n",
        "[2 rows x 3 columns],            Description  Note  \\\n",
        "Indicator  Water usage   NaN   \n",
        "Set Name       Grenada   NaN   \n",
        "North           Volume   NaN   \n",
        "South           Volume   NaN   \n",
        "\n",
        "                                                      Source     Unit  \n",
        "Indicator                                                NaN      NaN  \n",
        "Set Name                                                 NaN      NaN  \n",
        "North      Economic Valuation of parks and protected area...  Imp. MG  \n",
        "South      Economic Valuation of parks and protected area...  Imp. MG  \n",
        "\n",
        "[4 rows x 4 columns]), ('JAM',     Year       Jamaica\n",
        "0   1996  17605.658853\n",
        "1   1997  20968.324956\n",
        "2   1998  22350.390183\n",
        "3   1999  22903.832187\n",
        "4   2000  21956.425704\n",
        "5   2001  20646.510309\n",
        "6   2002  20917.732086\n",
        "7   2003  21189.393801\n",
        "8   2004  20837.443401\n",
        "9   2005  20768.527113\n",
        "10  2006  20967.005142\n",
        "11  2007  21956.469698\n",
        "12  2008  19944.897187\n",
        "\n",
        "[13 rows x 2 columns],                      Description  Note                                 Source  \\\n",
        "Indicator            Water usage   NaN                                    NaN   \n",
        "Set Name                 Jamaica   NaN                                    NaN   \n",
        "Unnamed: 10_level_1       Volume   NaN  Economic and Social Survey of Jamaica   \n",
        "\n",
        "                        Unit  \n",
        "Indicator                NaN  \n",
        "Set Name                 NaN  \n",
        "Unnamed: 10_level_1  Imp. MG  \n",
        "\n",
        "[3 rows x 4 columns]), ('KNA',    Year  Surface  Ground\n",
        "0  2001      670    1011\n",
        "1  2002      639    1062\n",
        "2  2003      628    1047\n",
        "3  2004      595    1135\n",
        "4  2005      718    1017\n",
        "5  2007      971     921\n",
        "6  2008      998    1006\n",
        "7  2009      921     870\n",
        "8  2010      841    1182\n",
        "9  2011      751    1310\n",
        "\n",
        "[10 rows x 3 columns],                      Description  Note                              Source  \\\n",
        "Indicator            Water usage   NaN                                 NaN   \n",
        "Set Name   Saint Kitts and Nevis   NaN                                 NaN   \n",
        "Surface                   Volume   NaN  Water Services Department, Jamaica   \n",
        "Ground                    Volume   NaN                                 NaN   \n",
        "\n",
        "              Unit  \n",
        "Indicator      NaN  \n",
        "Set Name       NaN  \n",
        "Surface    Imp. MG  \n",
        "Ground     Imp. MG  \n",
        "\n",
        "[4 rows x 4 columns]), ('SUR',    Year     Suriname\n",
        "0  2002  3551.475262\n",
        "1  2003  3497.431932\n",
        "2  2004  3619.112077\n",
        "\n",
        "[3 rows x 2 columns],                      Description  Note  \\\n",
        "Indicator            Water usage   NaN   \n",
        "Set Name                Suriname   NaN   \n",
        "Unnamed: 13_level_1       Volume   NaN   \n",
        "\n",
        "                                                     Source     Unit  \n",
        "Indicator                                               NaN      NaN  \n",
        "Set Name                                                NaN      NaN  \n",
        "Unnamed: 13_level_1  Surinaamsche Waterleiding Maatschappij  Imp. MG  \n",
        "\n",
        "[3 rows x 4 columns]), ('TTO',     Year  Trinidad and Tobago\n",
        "0   1972         29200.000000\n",
        "1   1973         31244.000000\n",
        "2   1974         33562.480000\n",
        "3   1975         35782.045000\n",
        "4   1976         38209.295000\n",
        "5   1977         40884.015000\n",
        "6   1978         43745.980000\n",
        "7   1979         46808.330000\n",
        "8   1980         50084.935000\n",
        "9   1981         53590.760000\n",
        "10  1982         57342.230000\n",
        "11  1983         61356.135000\n",
        "12  1984         65651.090000\n",
        "13  1985         70245.710000\n",
        "14  1997         84767.279121\n",
        "15  1998         86091.767857\n",
        "16  1999         87151.358846\n",
        "17  2000         90595.029560\n",
        "18  2001         92449.313791\n",
        "19  2002         97482.370989\n",
        "20  2003         86870.000000\n",
        "21  2004         89425.000000\n",
        "22  2005         91615.000000\n",
        "23  2006         95630.000000\n",
        "24  2007         73000.000000\n",
        "25  2008         80665.000000\n",
        "26  2010         82490.000000\n",
        "\n",
        "[27 rows x 2 columns],                              Description                   Note  Source  \\\n",
        "Indicator                    Water usage                    NaN     NaN   \n",
        "Set Name             Trinidad and Tobago                    NaN     NaN   \n",
        "Unnamed: 14_level_1               Volume  National water demand     NaN   \n",
        "\n",
        "                        Unit  \n",
        "Indicator                NaN  \n",
        "Set Name                 NaN  \n",
        "Unnamed: 14_level_1  Imp. MG  \n",
        "\n",
        "[3 rows x 4 columns])]\n"
       ]
      }
     ],
     "prompt_number": 170
    },
    {
     "cell_type": "code",
     "collapsed": false,
     "input": [
      "dataset[3][2] # This is what the metadata looks like"
     ],
     "language": "python",
     "metadata": {},
     "outputs": [
      {
       "html": [
        "<div style=\"max-height:1000px;max-width:1500px;overflow:auto;\">\n",
        "<table border=\"1\" class=\"dataframe\">\n",
        "  <thead>\n",
        "    <tr style=\"text-align: right;\">\n",
        "      <th></th>\n",
        "      <th>Description</th>\n",
        "      <th>Note</th>\n",
        "      <th>Source</th>\n",
        "      <th>Unit</th>\n",
        "    </tr>\n",
        "  </thead>\n",
        "  <tbody>\n",
        "    <tr>\n",
        "      <th>Indicator</th>\n",
        "      <td> Water usage</td>\n",
        "      <td>NaN</td>\n",
        "      <td>                                               NaN</td>\n",
        "      <td>     NaN</td>\n",
        "    </tr>\n",
        "    <tr>\n",
        "      <th>Set Name</th>\n",
        "      <td>     Grenada</td>\n",
        "      <td>NaN</td>\n",
        "      <td>                                               NaN</td>\n",
        "      <td>     NaN</td>\n",
        "    </tr>\n",
        "    <tr>\n",
        "      <th>North</th>\n",
        "      <td>      Volume</td>\n",
        "      <td>NaN</td>\n",
        "      <td> Economic Valuation of parks and protected area...</td>\n",
        "      <td> Imp. MG</td>\n",
        "    </tr>\n",
        "    <tr>\n",
        "      <th>South</th>\n",
        "      <td>      Volume</td>\n",
        "      <td>NaN</td>\n",
        "      <td> Economic Valuation of parks and protected area...</td>\n",
        "      <td> Imp. MG</td>\n",
        "    </tr>\n",
        "  </tbody>\n",
        "</table>\n",
        "<p>4 rows \u00d7 4 columns</p>\n",
        "</div>"
       ],
       "metadata": {},
       "output_type": "pyout",
       "prompt_number": 169,
       "text": [
        "           Description  Note  \\\n",
        "Indicator  Water usage   NaN   \n",
        "Set Name       Grenada   NaN   \n",
        "North           Volume   NaN   \n",
        "South           Volume   NaN   \n",
        "\n",
        "                                                      Source     Unit  \n",
        "Indicator                                                NaN      NaN  \n",
        "Set Name                                                 NaN      NaN  \n",
        "North      Economic Valuation of parks and protected area...  Imp. MG  \n",
        "South      Economic Valuation of parks and protected area...  Imp. MG  \n",
        "\n",
        "[4 rows x 4 columns]"
       ]
      }
     ],
     "prompt_number": 169
    },
    {
     "cell_type": "markdown",
     "metadata": {},
     "source": [
      "Generation 2 - Refines the rough csv data from Generation 1 into a standardized csv format common to all data sets. Prepares this data for importing to the database."
     ]
    },
    {
     "cell_type": "markdown",
     "metadata": {},
     "source": [
      "This code follows a fairly standard form, in which it loops through each country's information, writes the data to a .csv file, extracts some metadata and writes that to a .csv file, and then writes a list of all the files that it made to a file called \\_PREFIX.csv"
     ]
    },
    {
     "cell_type": "code",
     "collapsed": false,
     "input": [
      "keycol = \"Total\"\n",
      "\n",
      "filelist = []\n",
      "us.mkdirs(config[\"gen_2_dir\"])\n",
      "for (iso3, df, mf) in dataset:\n",
      "    us.log(iso3)\n",
      "    try:\n",
      "        if len(df.columns) == 2:\n",
      "            df.columns = [\"year\", \"value\"]\n",
      "        else:\n",
      "            df.columns = [\"year\", \"value\", \"notes\"]\n",
      "        \n",
      "    except Exception: # The data for St Kitts only has one column. We are excluding it for now.\n",
      "        us.log(sys.exc_info())\n",
      "        continue\n",
      "    filestem = config[\"prefix\"] + \"_\" + iso3.lower() + \"_\" + config[\"suffix\"]\n",
      "    filename = filestem + \".csv\"\n",
      "    filepath = config[\"gen_2_dir\"] + filename\n",
      "    df.to_csv(filepath, encoding=\"utf8\", float_format='%.3f', index=False)\n",
      "    \n",
      "    country = us.get_country_by_iso3(iso3)\n",
      "    meta = [(\"name\", \"%s - %s [SIDS RCM]\" % (country, config[\"indicator\"])),\n",
      "      #  (\"originalsource\", mf.ix[keycol][\"Source\"]),\n",
      "        (\"originalsource\", \"SIDS RCM\"),\n",
      "        (\"proximatesource\", \"SIDS RCM\"),\n",
      "        (\"dataset\", config[\"indicator\"]),\n",
      "        (\"description\", config[\"description\"]),\n",
      "      #  (\"note\", mf.ix[keycol][\"Note\"]),\n",
      "      #  (\"unit\", mf.ix[keycol][\"Unit\"]),\n",
      "        (\"category\", config[\"indicator_category\"]),\n",
      "        (\"type\", config[\"indicator_type\"]),\n",
      "        (\"file\", filename),\n",
      "        (\"filehash\", us.githash(filepath)),\n",
      "        (\"columns\", \"description,value\")\n",
      "        ]\n",
      " \n",
      "    metafile = config[\"gen_2_dir\"] + filestem + \"_meta.csv\"\n",
      "    try:\n",
      "        pd.DataFrame(meta,columns = [\"key\",\"value\"]).to_csv(metafile, encoding=\"utf8\", float_format='%.3f',index=False)\n",
      "    except Exception: \n",
      "        pd.DataFrame(meta,columns = [\"key\",\"value\",\"notes\"]).to_csv(metafile, encoding=\"utf8\", float_format='%.3f',index=False)\n",
      "       \n",
      "    filelist.append(filestem)\n",
      "    \n",
      "pd.DataFrame(filelist).to_csv(config[\"gen_2_dir\"] + \"_\" + config[\"prefix\"] + \".csv\", encoding=\"utf8\", index=False, header=False)\n",
      "us.log(\"%i series saved to %s\" % (len(filelist), config[\"gen_2_dir\"]))"
     ],
     "language": "python",
     "metadata": {},
     "outputs": [
      {
       "output_type": "stream",
       "stream": "stdout",
       "text": [
        "ATG\n",
        "CUB\n",
        "DMA\n",
        "(<class 'ValueError'>, ValueError('Length mismatch: Expected axis has 5 elements, new values have 3 elements',), <traceback object at 0x0000000007C07F88>)\n",
        "GRD\n",
        "JAM"
       ]
      },
      {
       "output_type": "stream",
       "stream": "stdout",
       "text": [
        "\n",
        "KNA\n",
        "SUR\n",
        "TTO\n",
        "7 series saved to C:/portal/statmart/data/facts/gen2/sidsrcm/water/"
       ]
      },
      {
       "output_type": "stream",
       "stream": "stdout",
       "text": [
        "\n"
       ]
      }
     ],
     "prompt_number": 166
    },
    {
     "cell_type": "markdown",
     "metadata": {},
     "source": [
      "Generation 3 - Load the Generation 2 data into the database."
     ]
    },
    {
     "cell_type": "code",
     "collapsed": false,
     "input": [
      "data_list = gen3_utils.get_gen2_data(config)\n",
      "gen3_utils.standard_load_from_data_list(data_list)\n",
      "data_list[0][1]"
     ],
     "language": "python",
     "metadata": {},
     "outputs": [
      {
       "metadata": {},
       "output_type": "pyout",
       "prompt_number": 157,
       "text": [
        "'ATG'"
       ]
      }
     ],
     "prompt_number": 157
    },
    {
     "cell_type": "markdown",
     "metadata": {},
     "source": [
      "Here are the names of the series:"
     ]
    },
    {
     "cell_type": "code",
     "collapsed": false,
     "input": [
      "filelist"
     ],
     "language": "python",
     "metadata": {},
     "outputs": [
      {
       "metadata": {},
       "output_type": "pyout",
       "prompt_number": 156,
       "text": [
        "['water-usage_atg_sidsrcm',\n",
        " 'water-usage_cub_sidsrcm',\n",
        " 'water-usage_grd_sidsrcm',\n",
        " 'water-usage_jam_sidsrcm',\n",
        " 'water-usage_kna_sidsrcm',\n",
        " 'water-usage_sur_sidsrcm',\n",
        " 'water-usage_tto_sidsrcm']"
       ]
      }
     ],
     "prompt_number": 156
    },
    {
     "cell_type": "markdown",
     "metadata": {},
     "source": [
      "Generation 4 - Build a php file that uses javascript to generate SVGs using the data in the database"
     ]
    },
    {
     "cell_type": "code",
     "collapsed": false,
     "input": [
      "import imp\n",
      "imp.reload(gen4_utils)\n",
      "config = gen4_utils.build_gen4_config(config, y_axis_label='$Unit of imperial mega gallons')\n",
      "page = gen4_utils.build_d3_line_graph(config)"
     ],
     "language": "python",
     "metadata": {},
     "outputs": [],
     "prompt_number": 59
    },
    {
     "cell_type": "code",
     "collapsed": false,
     "input": [],
     "language": "python",
     "metadata": {},
     "outputs": []
    }
   ],
   "metadata": {}
  }
 ]
}