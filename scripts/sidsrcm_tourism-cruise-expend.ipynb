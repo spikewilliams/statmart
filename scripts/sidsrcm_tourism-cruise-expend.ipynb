{
 "metadata": {
  "name": ""
 },
 "nbformat": 3,
 "nbformat_minor": 0,
 "worksheets": [
  {
   "cells": [
    {
     "cell_type": "heading",
     "level": 1,
     "metadata": {},
     "source": [
      "Build script for Caribbean SIDS RCM tourism data: Cruise visitor expenditures"
     ]
    },
    {
     "cell_type": "code",
     "collapsed": false,
     "input": [
      "import os, imp\n",
      "import pandas as pd\n",
      "\n",
      "from settings_statmart import *\n",
      "import utils_statmart as us\n",
      "\n",
      "import gen1_sidsrcm\n",
      "import gen3_utils\n",
      "import gen4_utils\n",
      "\n",
      "us.verbose = True"
     ],
     "language": "python",
     "metadata": {},
     "outputs": [],
     "prompt_number": 2
    },
    {
     "cell_type": "markdown",
     "metadata": {},
     "source": [
      "Customize the below per this specfic dataset...."
     ]
    },
    {
     "cell_type": "code",
     "collapsed": false,
     "input": [
      "config = {'gen_1_dir': statmart_facts_gen1 + 'sidsrcm/tourism/',\n",
      "     'gen_2_dir': statmart_facts_gen2 + 'sidsrcm/tourism/',\n",
      "     'gen_4_dir': statmart_view_gen4 + 'sidsrcm/',\n",
      "     'description': 'Cruise-ship visitor expenditure per day',\n",
      "     'indicator': 'Cruise-ship visitor expenditure per day',\n",
      "     'indicator_category': 'Tourism',\n",
      "     'indicator_type': 'Cruise visitor expenditure',\n",
      "     'multiplier': 1,\n",
      "     'prefix': 'tourism-cruise-expend',\n",
      "     'suffix': 'sidsrcm',\n",
      "     'fileprefix': 'cruise-expend',\n",
      "     'filesuffix': 'annual'}\n",
      "\n",
      "gen0_config = {\n",
      "    \"description\":config[\"indicator\"],\n",
      "    \"descriptor\":\"cruise-expend\",\n",
      "    \"fileName\":\"Tourism_1c_CruiseVisitorExpen.xlsx\",\n",
      "    \"generation\":\"0\",\n",
      "    \"path\":\"tourism/\",\n",
      "    \"timeseries\":True\n",
      "}"
     ],
     "language": "python",
     "metadata": {},
     "outputs": [],
     "prompt_number": 3
    },
    {
     "cell_type": "markdown",
     "metadata": {},
     "source": [
      "Generation 0 - Prepare the original xls file by converting it into a somewhat more standardized xls formation for use in Gen 1. Each outputted xls has one worksheet of data, and a second with metadata. The names of these sheet are \"data\" and \"metadata\"."
     ]
    },
    {
     "cell_type": "code",
     "collapsed": false,
     "input": [
      "import imp\n",
      "imp.reload(gen1_sidsrcm)\n",
      "gen1_sidsrcm.process_gen0_xls(gen0_config)"
     ],
     "language": "python",
     "metadata": {},
     "outputs": [
      {
       "output_type": "stream",
       "stream": "stdout",
       "text": [
        "{'path': 'tourism/', 'description': 'Cruise-ship visitor expenditure per day', 'generation': '0', 'descriptor': 'cruise-expend', 'timeseries': True, 'fileName': 'Tourism_1c_CruiseVisitorExpen.xlsx'}\n",
        "Jamaica"
       ]
      },
      {
       "output_type": "stream",
       "stream": "stdout",
       "text": [
        "\n",
        "Saint Lucia"
       ]
      },
      {
       "output_type": "stream",
       "stream": "stdout",
       "text": [
        "\n",
        "Antigua and Barbuda"
       ]
      },
      {
       "output_type": "stream",
       "stream": "stdout",
       "text": [
        "\n",
        "Dominica"
       ]
      },
      {
       "output_type": "stream",
       "stream": "stdout",
       "text": [
        "\n",
        "Data from 4 countries"
       ]
      },
      {
       "output_type": "stream",
       "stream": "stdout",
       "text": [
        "\n"
       ]
      }
     ],
     "prompt_number": 5
    },
    {
     "cell_type": "markdown",
     "metadata": {},
     "source": [
      "Generation 1"
     ]
    },
    {
     "cell_type": "code",
     "collapsed": false,
     "input": [
      "country_dict = us.load_carib_country_dict(key_column=\"name\")\n",
      "dataset = []\n",
      "for name in sorted(country_dict.keys()):\n",
      "    path = config['gen_1_dir'] + config['fileprefix'] + \"_\" + us.machine_name(name) + \"_\" + config[\"filesuffix\"] + \".xls\"\n",
      "    if os.path.exists(path):\n",
      "        xlfile = pd.ExcelFile(path)\n",
      "        df = xlfile.parse(\"data\")\n",
      "        mf = xlfile.parse(\"metadata\")\n",
      "        iso3 = country_dict[name][\"iso3\"]\n",
      "        #if len(df.columns) == 2:\n",
      "        dataset.append((iso3, df, mf))\n",
      "        \n",
      "dataset[2][1] # This is what the data looks like"
     ],
     "language": "python",
     "metadata": {},
     "outputs": [
      {
       "html": [
        "<div style=\"max-height:1000px;max-width:1500px;overflow:auto;\">\n",
        "<table border=\"1\" class=\"dataframe\">\n",
        "  <thead>\n",
        "    <tr style=\"text-align: right;\">\n",
        "      <th></th>\n",
        "      <th>Year</th>\n",
        "      <th>Cruise</th>\n",
        "    </tr>\n",
        "  </thead>\n",
        "  <tbody>\n",
        "    <tr>\n",
        "      <th>0 </th>\n",
        "      <td> 1987</td>\n",
        "      <td> 50.00</td>\n",
        "    </tr>\n",
        "    <tr>\n",
        "      <th>1 </th>\n",
        "      <td> 1988</td>\n",
        "      <td> 50.00</td>\n",
        "    </tr>\n",
        "    <tr>\n",
        "      <th>2 </th>\n",
        "      <td> 1989</td>\n",
        "      <td> 48.00</td>\n",
        "    </tr>\n",
        "    <tr>\n",
        "      <th>3 </th>\n",
        "      <td> 1990</td>\n",
        "      <td> 70.00</td>\n",
        "    </tr>\n",
        "    <tr>\n",
        "      <th>4 </th>\n",
        "      <td> 1991</td>\n",
        "      <td> 73.00</td>\n",
        "    </tr>\n",
        "    <tr>\n",
        "      <th>5 </th>\n",
        "      <td> 1992</td>\n",
        "      <td> 51.00</td>\n",
        "    </tr>\n",
        "    <tr>\n",
        "      <th>6 </th>\n",
        "      <td> 1993</td>\n",
        "      <td> 69.00</td>\n",
        "    </tr>\n",
        "    <tr>\n",
        "      <th>7 </th>\n",
        "      <td> 1994</td>\n",
        "      <td> 83.08</td>\n",
        "    </tr>\n",
        "    <tr>\n",
        "      <th>8 </th>\n",
        "      <td> 1995</td>\n",
        "      <td> 82.72</td>\n",
        "    </tr>\n",
        "    <tr>\n",
        "      <th>9 </th>\n",
        "      <td> 1996</td>\n",
        "      <td> 85.35</td>\n",
        "    </tr>\n",
        "    <tr>\n",
        "      <th>10</th>\n",
        "      <td> 1997</td>\n",
        "      <td> 84.72</td>\n",
        "    </tr>\n",
        "    <tr>\n",
        "      <th>11</th>\n",
        "      <td> 1998</td>\n",
        "      <td> 84.69</td>\n",
        "    </tr>\n",
        "    <tr>\n",
        "      <th>12</th>\n",
        "      <td> 1999</td>\n",
        "      <td> 79.95</td>\n",
        "    </tr>\n",
        "    <tr>\n",
        "      <th>13</th>\n",
        "      <td> 2000</td>\n",
        "      <td> 80.62</td>\n",
        "    </tr>\n",
        "    <tr>\n",
        "      <th>14</th>\n",
        "      <td> 2001</td>\n",
        "      <td> 85.79</td>\n",
        "    </tr>\n",
        "    <tr>\n",
        "      <th>15</th>\n",
        "      <td> 2002</td>\n",
        "      <td> 80.71</td>\n",
        "    </tr>\n",
        "    <tr>\n",
        "      <th>16</th>\n",
        "      <td> 2003</td>\n",
        "      <td> 80.87</td>\n",
        "    </tr>\n",
        "    <tr>\n",
        "      <th>17</th>\n",
        "      <td> 2004</td>\n",
        "      <td> 84.33</td>\n",
        "    </tr>\n",
        "    <tr>\n",
        "      <th>18</th>\n",
        "      <td> 2005</td>\n",
        "      <td> 85.21</td>\n",
        "    </tr>\n",
        "    <tr>\n",
        "      <th>19</th>\n",
        "      <td> 2006</td>\n",
        "      <td> 88.92</td>\n",
        "    </tr>\n",
        "    <tr>\n",
        "      <th>20</th>\n",
        "      <td> 2007</td>\n",
        "      <td> 97.24</td>\n",
        "    </tr>\n",
        "    <tr>\n",
        "      <th>21</th>\n",
        "      <td> 2008</td>\n",
        "      <td> 94.19</td>\n",
        "    </tr>\n",
        "    <tr>\n",
        "      <th>22</th>\n",
        "      <td> 2009</td>\n",
        "      <td> 83.36</td>\n",
        "    </tr>\n",
        "    <tr>\n",
        "      <th>23</th>\n",
        "      <td> 2010</td>\n",
        "      <td> 87.35</td>\n",
        "    </tr>\n",
        "  </tbody>\n",
        "</table>\n",
        "<p>24 rows \u00d7 2 columns</p>\n",
        "</div>"
       ],
       "metadata": {},
       "output_type": "pyout",
       "prompt_number": 6,
       "text": [
        "    Year  Cruise\n",
        "0   1987   50.00\n",
        "1   1988   50.00\n",
        "2   1989   48.00\n",
        "3   1990   70.00\n",
        "4   1991   73.00\n",
        "5   1992   51.00\n",
        "6   1993   69.00\n",
        "7   1994   83.08\n",
        "8   1995   82.72\n",
        "9   1996   85.35\n",
        "10  1997   84.72\n",
        "11  1998   84.69\n",
        "12  1999   79.95\n",
        "13  2000   80.62\n",
        "14  2001   85.79\n",
        "15  2002   80.71\n",
        "16  2003   80.87\n",
        "17  2004   84.33\n",
        "18  2005   85.21\n",
        "19  2006   88.92\n",
        "20  2007   97.24\n",
        "21  2008   94.19\n",
        "22  2009   83.36\n",
        "23  2010   87.35\n",
        "\n",
        "[24 rows x 2 columns]"
       ]
      }
     ],
     "prompt_number": 6
    },
    {
     "cell_type": "code",
     "collapsed": false,
     "input": [
      "dataset[3][2] # This is what the metadata looks like"
     ],
     "language": "python",
     "metadata": {},
     "outputs": [
      {
       "html": [
        "<div style=\"max-height:1000px;max-width:1500px;overflow:auto;\">\n",
        "<table border=\"1\" class=\"dataframe\">\n",
        "  <thead>\n",
        "    <tr style=\"text-align: right;\">\n",
        "      <th></th>\n",
        "      <th>Description</th>\n",
        "      <th>Note</th>\n",
        "      <th>Source</th>\n",
        "      <th>Unit</th>\n",
        "    </tr>\n",
        "  </thead>\n",
        "  <tbody>\n",
        "    <tr>\n",
        "      <th>Indicator</th>\n",
        "      <td> Cruise-ship visitor expenditure per day</td>\n",
        "      <td>NaN</td>\n",
        "      <td>                       NaN</td>\n",
        "      <td> NaN</td>\n",
        "    </tr>\n",
        "    <tr>\n",
        "      <th>Set Name</th>\n",
        "      <td>                             Saint Lucia</td>\n",
        "      <td>NaN</td>\n",
        "      <td>                       NaN</td>\n",
        "      <td> NaN</td>\n",
        "    </tr>\n",
        "    <tr>\n",
        "      <th>Cruise</th>\n",
        "      <td>                                Currency</td>\n",
        "      <td>NaN</td>\n",
        "      <td> Saint Lucia Tourist Board</td>\n",
        "      <td> USD</td>\n",
        "    </tr>\n",
        "  </tbody>\n",
        "</table>\n",
        "<p>3 rows \u00d7 4 columns</p>\n",
        "</div>"
       ],
       "metadata": {},
       "output_type": "pyout",
       "prompt_number": 7,
       "text": [
        "                                       Description  Note  \\\n",
        "Indicator  Cruise-ship visitor expenditure per day   NaN   \n",
        "Set Name                               Saint Lucia   NaN   \n",
        "Cruise                                    Currency   NaN   \n",
        "\n",
        "                              Source Unit  \n",
        "Indicator                        NaN  NaN  \n",
        "Set Name                         NaN  NaN  \n",
        "Cruise     Saint Lucia Tourist Board  USD  \n",
        "\n",
        "[3 rows x 4 columns]"
       ]
      }
     ],
     "prompt_number": 7
    },
    {
     "cell_type": "markdown",
     "metadata": {},
     "source": [
      "Generation 2 - Refines the rough csv data from Generation 1 into a standardized csv format common to all data sets. Prepares this data for importing to the database."
     ]
    },
    {
     "cell_type": "markdown",
     "metadata": {},
     "source": [
      "This code follows a fairly standard form, in which it loops through each country's information, writes the data to a .csv file, extracts some metadata and writes that to a .csv file, and then writes a list of all the files that it made to a file called \\_PREFIX.csv"
     ]
    },
    {
     "cell_type": "code",
     "collapsed": false,
     "input": [
      "keycol = \"Total\"\n",
      "\n",
      "filelist = []\n",
      "us.mkdirs(config[\"gen_2_dir\"])\n",
      "for (iso3, df, mf) in dataset:\n",
      "    us.log(iso3)\n",
      "    try:\n",
      "        if len(df.columns) == 2:\n",
      "            df.columns = [\"year\", \"value\"]\n",
      "        else:\n",
      "            df.columns = [\"year\", \"value\", \"notes\"]\n",
      "        \n",
      "    except Exception: # The data for St Kitts only has one column. We are excluding it for now.\n",
      "        us.log(sys.exc_info())\n",
      "        continue\n",
      "    filestem = config[\"prefix\"] + \"_\" + iso3.lower() + \"_\" + config[\"suffix\"]\n",
      "    filename = filestem + \".csv\"\n",
      "    filepath = config[\"gen_2_dir\"] + filename\n",
      "    df.to_csv(filepath, encoding=\"utf8\", float_format='%.3f', index=False)\n",
      "    \n",
      "    country = us.get_country_by_iso3(iso3)\n",
      "    meta = [(\"name\", \"%s - %s [SIDS RCM]\" % (country, config[\"indicator\"])),\n",
      "      #  (\"originalsource\", mf.ix[keycol][\"Source\"]),\n",
      "        (\"originalsource\", \"SIDS RCM\"),\n",
      "        (\"proximatesource\", \"SIDS RCM\"),\n",
      "        (\"dataset\", config[\"indicator\"]),\n",
      "        (\"description\", config[\"description\"]),\n",
      "      #  (\"note\", mf.ix[keycol][\"Note\"]),\n",
      "      #  (\"unit\", mf.ix[keycol][\"Unit\"]),\n",
      "        (\"category\", config[\"indicator_category\"]),\n",
      "        (\"type\", config[\"indicator_type\"]),\n",
      "        (\"file\", filename),\n",
      "        (\"filehash\", us.githash(filepath)),\n",
      "        (\"columns\", \"description,value\")\n",
      "        ]\n",
      " \n",
      "    metafile = config[\"gen_2_dir\"] + filestem + \"_meta.csv\"\n",
      "    try:\n",
      "        pd.DataFrame(meta,columns = [\"key\",\"value\"]).to_csv(metafile, encoding=\"utf8\", float_format='%.3f',index=False)\n",
      "    except Exception: \n",
      "        pd.DataFrame(meta,columns = [\"key\",\"value\",\"notes\"]).to_csv(metafile, encoding=\"utf8\", float_format='%.3f',index=False)\n",
      "       \n",
      "    filelist.append(filestem)\n",
      "    \n",
      "pd.DataFrame(filelist).to_csv(config[\"gen_2_dir\"] + \"_\" + config[\"prefix\"] + \".csv\", encoding=\"utf8\", index=False, header=False)\n",
      "us.log(\"%i series saved to %s\" % (len(filelist), config[\"gen_2_dir\"]))"
     ],
     "language": "python",
     "metadata": {},
     "outputs": [
      {
       "output_type": "stream",
       "stream": "stdout",
       "text": [
        "ATG\n",
        "DMA"
       ]
      },
      {
       "output_type": "stream",
       "stream": "stdout",
       "text": [
        "\n",
        "JAM\n",
        "LCA"
       ]
      },
      {
       "output_type": "stream",
       "stream": "stdout",
       "text": [
        "\n",
        "4 series saved to C:/portal/statmart/data/facts/gen2/sidsrcm/tourism/"
       ]
      },
      {
       "output_type": "stream",
       "stream": "stdout",
       "text": [
        "\n"
       ]
      }
     ],
     "prompt_number": 8
    },
    {
     "cell_type": "markdown",
     "metadata": {},
     "source": [
      "Generation 3 - Load the Generation 2 data into the database."
     ]
    },
    {
     "cell_type": "code",
     "collapsed": false,
     "input": [
      "data_list = gen3_utils.get_gen2_data(config)\n",
      "gen3_utils.standard_load_from_data_list(data_list)\n",
      "data_list[0][1]"
     ],
     "language": "python",
     "metadata": {},
     "outputs": [
      {
       "metadata": {},
       "output_type": "pyout",
       "prompt_number": 9,
       "text": [
        "'ATG'"
       ]
      }
     ],
     "prompt_number": 9
    },
    {
     "cell_type": "markdown",
     "metadata": {},
     "source": [
      "Here are the names of the series:"
     ]
    },
    {
     "cell_type": "code",
     "collapsed": false,
     "input": [
      "filelist"
     ],
     "language": "python",
     "metadata": {},
     "outputs": [
      {
       "metadata": {},
       "output_type": "pyout",
       "prompt_number": 10,
       "text": [
        "['tourism-cruise-expend_atg_sidsrcm',\n",
        " 'tourism-cruise-expend_dma_sidsrcm',\n",
        " 'tourism-cruise-expend_jam_sidsrcm',\n",
        " 'tourism-cruise-expend_lca_sidsrcm']"
       ]
      }
     ],
     "prompt_number": 10
    },
    {
     "cell_type": "code",
     "collapsed": false,
     "input": [
      "\",\".join(filelist)"
     ],
     "language": "python",
     "metadata": {},
     "outputs": [
      {
       "metadata": {},
       "output_type": "pyout",
       "prompt_number": 11,
       "text": [
        "'tourism-cruise-expend_atg_sidsrcm,tourism-cruise-expend_dma_sidsrcm,tourism-cruise-expend_jam_sidsrcm,tourism-cruise-expend_lca_sidsrcm'"
       ]
      }
     ],
     "prompt_number": 11
    },
    {
     "cell_type": "code",
     "collapsed": false,
     "input": [],
     "language": "python",
     "metadata": {},
     "outputs": []
    }
   ],
   "metadata": {}
  }
 ]
}