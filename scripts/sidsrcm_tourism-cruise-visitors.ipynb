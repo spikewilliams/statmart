{
 "metadata": {
  "name": ""
 },
 "nbformat": 3,
 "nbformat_minor": 0,
 "worksheets": [
  {
   "cells": [
    {
     "cell_type": "heading",
     "level": 1,
     "metadata": {},
     "source": [
      "Build script for Caribbean SIDS RCM tourism data: Cruise visitors"
     ]
    },
    {
     "cell_type": "code",
     "collapsed": false,
     "input": [
      "import os, imp\n",
      "import pandas as pd\n",
      "\n",
      "from settings_statmart import *\n",
      "import utils_statmart as us\n",
      "\n",
      "import gen1_sidsrcm\n",
      "import gen3_utils\n",
      "import gen4_utils\n",
      "\n",
      "us.verbose = True"
     ],
     "language": "python",
     "metadata": {},
     "outputs": [],
     "prompt_number": 1
    },
    {
     "cell_type": "markdown",
     "metadata": {},
     "source": [
      "Customize the below per this specfic dataset...."
     ]
    },
    {
     "cell_type": "code",
     "collapsed": false,
     "input": [
      "config = {'gen_1_dir': statmart_facts_gen1 + 'sidsrcm/tourism/',\n",
      "     'gen_2_dir': statmart_facts_gen2 + 'sidsrcm/tourism/',\n",
      "     'gen_4_dir': statmart_view_gen4 + 'sidsrcm/',\n",
      "     'description': 'Number of cruise-ship visitors ',\n",
      "     'indicator': 'Number of cruise-ship visitors ',\n",
      "     'indicator_category': 'Tourism',\n",
      "     'indicator_type': 'Cruise visitors',\n",
      "     'multiplier': 1,\n",
      "     'prefix': 'tourism-cruise-visitors',\n",
      "     'suffix': 'sidsrcm',\n",
      "     'fileprefix': 'cruise-visitors',\n",
      "     'filesuffix': 'annual'}\n",
      "\n",
      "gen0_config = {\n",
      "    \"description\":config[\"indicator\"],\n",
      "    \"descriptor\":\"cruise-visitors\",\n",
      "    \"fileName\":\"Coastal&Marine_1b_CruiseVisitors.xlsx\",\n",
      "    \"generation\":\"0\",\n",
      "    \"path\":\"tourism/\",\n",
      "    \"timeseries\":True\n",
      "}"
     ],
     "language": "python",
     "metadata": {},
     "outputs": [],
     "prompt_number": 27
    },
    {
     "cell_type": "markdown",
     "metadata": {},
     "source": [
      "Generation 0 - Prepare the original xls file by converting it into a somewhat more standardized xls formation for use in Gen 1. Each outputted xls has one worksheet of data, and a second with metadata. The names of these sheet are \"data\" and \"metadata\"."
     ]
    },
    {
     "cell_type": "code",
     "collapsed": false,
     "input": [
      "import imp\n",
      "imp.reload(gen1_sidsrcm)\n",
      "gen1_sidsrcm.process_gen0_xls(gen0_config)"
     ],
     "language": "python",
     "metadata": {},
     "outputs": [
      {
       "output_type": "stream",
       "stream": "stdout",
       "text": [
        "{'description': 'Number of cruise-ship visitors ', 'timeseries': True, 'descriptor': 'cruise-visitors', 'generation': '0', 'path': 'tourism/', 'fileName': 'Coastal&Marine_1b_CruiseVisitors.xlsx'}\n",
        "Barbados"
       ]
      },
      {
       "output_type": "stream",
       "stream": "stdout",
       "text": [
        "\n",
        "<class 'pandas.tseries.index.DatetimeIndex'>\n",
        "[2001-01-01 00:00:00, ..., 2010-12-01 00:00:00]\n",
        "Length: 113, Freq: None, Timezone: None"
       ]
      },
      {
       "output_type": "stream",
       "stream": "stdout",
       "text": [
        "\n",
        "Trinidad and Tobago"
       ]
      },
      {
       "output_type": "stream",
       "stream": "stdout",
       "text": [
        "\n",
        "<class 'pandas.tseries.index.DatetimeIndex'>\n",
        "[2001-01-01 00:00:00, ..., 2010-06-01 00:00:00]\n",
        "Length: 114, Freq: None, Timezone: None"
       ]
      },
      {
       "output_type": "stream",
       "stream": "stdout",
       "text": [
        "\n",
        "Haiti"
       ]
      },
      {
       "output_type": "stream",
       "stream": "stdout",
       "text": [
        "\n",
        "<class 'pandas.tseries.index.DatetimeIndex'>\n",
        "[2005-01-01 00:00:00, ..., 2010-12-01 00:00:00]\n",
        "Length: 72, Freq: None, Timezone: None"
       ]
      },
      {
       "output_type": "stream",
       "stream": "stdout",
       "text": [
        "\n",
        "Grenada"
       ]
      },
      {
       "output_type": "stream",
       "stream": "stdout",
       "text": [
        "\n",
        "<class 'pandas.tseries.index.DatetimeIndex'>\n",
        "[2000-01-01 00:00:00, ..., 2009-12-01 00:00:00]\n",
        "Length: 120, Freq: None, Timezone: None"
       ]
      },
      {
       "output_type": "stream",
       "stream": "stdout",
       "text": [
        "\n",
        "Jamaica"
       ]
      },
      {
       "output_type": "stream",
       "stream": "stdout",
       "text": [
        "\n",
        "Saint Kitts and Nevis"
       ]
      },
      {
       "output_type": "stream",
       "stream": "stdout",
       "text": [
        "\n",
        "Saint Vincent and the Grenadines"
       ]
      },
      {
       "output_type": "stream",
       "stream": "stdout",
       "text": [
        "\n",
        "Bahamas"
       ]
      },
      {
       "output_type": "stream",
       "stream": "stdout",
       "text": [
        "\n",
        "Cuba"
       ]
      },
      {
       "output_type": "stream",
       "stream": "stdout",
       "text": [
        "\n",
        "Antigua and Barbuda"
       ]
      },
      {
       "output_type": "stream",
       "stream": "stdout",
       "text": [
        "\n",
        "<class 'pandas.tseries.index.DatetimeIndex'>\n",
        "[2000-01-01 00:00:00, ..., 2010-12-01 00:00:00]\n",
        "Length: 132, Freq: None, Timezone: None"
       ]
      },
      {
       "output_type": "stream",
       "stream": "stdout",
       "text": [
        "\n",
        "Dominica"
       ]
      },
      {
       "output_type": "stream",
       "stream": "stdout",
       "text": [
        "\n",
        "<class 'pandas.tseries.index.DatetimeIndex'>\n",
        "[2000-01-01 00:00:00, ..., 2011-12-01 00:00:00]\n",
        "Length: 144, Freq: None, Timezone: None"
       ]
      },
      {
       "output_type": "stream",
       "stream": "stdout",
       "text": [
        "\n",
        "Dominican Republic"
       ]
      },
      {
       "output_type": "stream",
       "stream": "stdout",
       "text": [
        "\n",
        "Saint Lucia"
       ]
      },
      {
       "output_type": "stream",
       "stream": "stdout",
       "text": [
        "\n",
        "<class 'pandas.tseries.index.DatetimeIndex'>\n",
        "[2000-01-01 00:00:00, ..., 2011-11-01 00:00:00]\n",
        "Length: 143, Freq: None, Timezone: None"
       ]
      },
      {
       "output_type": "stream",
       "stream": "stdout",
       "text": [
        "\n",
        "Belize"
       ]
      },
      {
       "output_type": "stream",
       "stream": "stdout",
       "text": [
        "\n",
        "Data from 14 countries"
       ]
      },
      {
       "output_type": "stream",
       "stream": "stdout",
       "text": [
        "\n"
       ]
      }
     ],
     "prompt_number": 34
    },
    {
     "cell_type": "markdown",
     "metadata": {},
     "source": [
      "Generation 1"
     ]
    },
    {
     "cell_type": "code",
     "collapsed": false,
     "input": [
      "country_dict = us.load_carib_country_dict(key_column=\"name\")\n",
      "dataset = []\n",
      "for name in sorted(country_dict.keys()):\n",
      "    path = config['gen_1_dir'] + config['fileprefix'] + \"_\" + us.machine_name(name) + \"_\" + config[\"filesuffix\"] + \".xls\"\n",
      "    if os.path.exists(path):\n",
      "        xlfile = pd.ExcelFile(path)\n",
      "        df = xlfile.parse(\"data\")\n",
      "        mf = xlfile.parse(\"metadata\")\n",
      "        iso3 = country_dict[name][\"iso3\"]\n",
      "        #if len(df.columns) == 2:\n",
      "        dataset.append((iso3, df, mf))\n",
      "        \n",
      "dataset[2][1] # This is what the data looks like"
     ],
     "language": "python",
     "metadata": {},
     "outputs": [
      {
       "html": [
        "<div style=\"max-height:1000px;max-width:1500px;overflow:auto;\">\n",
        "<table border=\"1\" class=\"dataframe\">\n",
        "  <thead>\n",
        "    <tr style=\"text-align: right;\">\n",
        "      <th></th>\n",
        "      <th>Year</th>\n",
        "      <th>Barbados</th>\n",
        "      <th>Notes</th>\n",
        "    </tr>\n",
        "  </thead>\n",
        "  <tbody>\n",
        "    <tr>\n",
        "      <th>0</th>\n",
        "      <td> 2001</td>\n",
        "      <td> 529919.0</td>\n",
        "      <td>  Estimated, based on 9 months of data</td>\n",
        "    </tr>\n",
        "    <tr>\n",
        "      <th>1</th>\n",
        "      <td> 2002</td>\n",
        "      <td> 521005.0</td>\n",
        "      <td>  Estimated, based on 9 months of data</td>\n",
        "    </tr>\n",
        "    <tr>\n",
        "      <th>2</th>\n",
        "      <td> 2003</td>\n",
        "      <td> 530331.5</td>\n",
        "      <td> Estimated, based on 11 months of data</td>\n",
        "    </tr>\n",
        "    <tr>\n",
        "      <th>3</th>\n",
        "      <td> 2004</td>\n",
        "      <td> 551502.0</td>\n",
        "      <td>                                   NaN</td>\n",
        "    </tr>\n",
        "    <tr>\n",
        "      <th>4</th>\n",
        "      <td> 2005</td>\n",
        "      <td> 547520.0</td>\n",
        "      <td>                                   NaN</td>\n",
        "    </tr>\n",
        "    <tr>\n",
        "      <th>5</th>\n",
        "      <td> 2006</td>\n",
        "      <td> 562558.0</td>\n",
        "      <td>                                   NaN</td>\n",
        "    </tr>\n",
        "    <tr>\n",
        "      <th>6</th>\n",
        "      <td> 2007</td>\n",
        "      <td> 566487.0</td>\n",
        "      <td>                                   NaN</td>\n",
        "    </tr>\n",
        "    <tr>\n",
        "      <th>7</th>\n",
        "      <td> 2008</td>\n",
        "      <td> 567667.0</td>\n",
        "      <td>                                   NaN</td>\n",
        "    </tr>\n",
        "    <tr>\n",
        "      <th>8</th>\n",
        "      <td> 2009</td>\n",
        "      <td> 518564.0</td>\n",
        "      <td>                                   NaN</td>\n",
        "    </tr>\n",
        "    <tr>\n",
        "      <th>9</th>\n",
        "      <td> 2010</td>\n",
        "      <td> 532180.0</td>\n",
        "      <td>                                   NaN</td>\n",
        "    </tr>\n",
        "  </tbody>\n",
        "</table>\n",
        "<p>10 rows \u00d7 3 columns</p>\n",
        "</div>"
       ],
       "metadata": {},
       "output_type": "pyout",
       "prompt_number": 35,
       "text": [
        "   Year  Barbados                                  Notes\n",
        "0  2001  529919.0   Estimated, based on 9 months of data\n",
        "1  2002  521005.0   Estimated, based on 9 months of data\n",
        "2  2003  530331.5  Estimated, based on 11 months of data\n",
        "3  2004  551502.0                                    NaN\n",
        "4  2005  547520.0                                    NaN\n",
        "5  2006  562558.0                                    NaN\n",
        "6  2007  566487.0                                    NaN\n",
        "7  2008  567667.0                                    NaN\n",
        "8  2009  518564.0                                    NaN\n",
        "9  2010  532180.0                                    NaN\n",
        "\n",
        "[10 rows x 3 columns]"
       ]
      }
     ],
     "prompt_number": 35
    },
    {
     "cell_type": "code",
     "collapsed": false,
     "input": [
      "dataset[3][2] # This is what the metadata looks like"
     ],
     "language": "python",
     "metadata": {},
     "outputs": [
      {
       "html": [
        "<div style=\"max-height:1000px;max-width:1500px;overflow:auto;\">\n",
        "<table border=\"1\" class=\"dataframe\">\n",
        "  <thead>\n",
        "    <tr style=\"text-align: right;\">\n",
        "      <th></th>\n",
        "      <th>Description</th>\n",
        "      <th>Note</th>\n",
        "      <th>Source</th>\n",
        "      <th>Unit</th>\n",
        "    </tr>\n",
        "  </thead>\n",
        "  <tbody>\n",
        "    <tr>\n",
        "      <th>Indicator</th>\n",
        "      <td> Number of cruise-ship visitors </td>\n",
        "      <td>   NaN</td>\n",
        "      <td>                                 NaN</td>\n",
        "      <td>   NaN</td>\n",
        "    </tr>\n",
        "    <tr>\n",
        "      <th>Set Name</th>\n",
        "      <td>                          Belize</td>\n",
        "      <td>   NaN</td>\n",
        "      <td>                                 NaN</td>\n",
        "      <td>   NaN</td>\n",
        "    </tr>\n",
        "    <tr>\n",
        "      <th>Belize</th>\n",
        "      <td>                        Quantity</td>\n",
        "      <td> 58131</td>\n",
        "      <td> Belize Tourism Board, Belize (2012)</td>\n",
        "      <td> Count</td>\n",
        "    </tr>\n",
        "  </tbody>\n",
        "</table>\n",
        "<p>3 rows \u00d7 4 columns</p>\n",
        "</div>"
       ],
       "metadata": {},
       "output_type": "pyout",
       "prompt_number": 36,
       "text": [
        "                               Description   Note  \\\n",
        "Indicator  Number of cruise-ship visitors     NaN   \n",
        "Set Name                            Belize    NaN   \n",
        "Belize                            Quantity  58131   \n",
        "\n",
        "                                        Source   Unit  \n",
        "Indicator                                  NaN    NaN  \n",
        "Set Name                                   NaN    NaN  \n",
        "Belize     Belize Tourism Board, Belize (2012)  Count  \n",
        "\n",
        "[3 rows x 4 columns]"
       ]
      }
     ],
     "prompt_number": 36
    },
    {
     "cell_type": "markdown",
     "metadata": {},
     "source": [
      "Generation 2 - Refines the rough csv data from Generation 1 into a standardized csv format common to all data sets. Prepares this data for importing to the database."
     ]
    },
    {
     "cell_type": "markdown",
     "metadata": {},
     "source": [
      "This code follows a fairly standard form, in which it loops through each country's information, writes the data to a .csv file, extracts some metadata and writes that to a .csv file, and then writes a list of all the files that it made to a file called \\_PREFIX.csv"
     ]
    },
    {
     "cell_type": "code",
     "collapsed": false,
     "input": [
      "keycol = \"Total\"\n",
      "\n",
      "filelist = []\n",
      "us.mkdirs(config[\"gen_2_dir\"])\n",
      "for (iso3, df, mf) in dataset:\n",
      "    us.log(iso3)\n",
      "    try:\n",
      "        if len(df.columns) == 2:\n",
      "            df.columns = [\"year\", \"value\"]\n",
      "        else:\n",
      "            df.columns = [\"year\", \"value\", \"notes\"]\n",
      "        \n",
      "    except Exception: # The data for St Kitts only has one column. We are excluding it for now.\n",
      "        us.log(sys.exc_info())\n",
      "        continue\n",
      "    filestem = config[\"prefix\"] + \"_\" + iso3.lower() + \"_\" + config[\"suffix\"]\n",
      "    filename = filestem + \".csv\"\n",
      "    filepath = config[\"gen_2_dir\"] + filename\n",
      "    df.to_csv(filepath, encoding=\"utf8\", float_format='%.3f', index=False)\n",
      "    \n",
      "    country = us.get_country_by_iso3(iso3)\n",
      "    meta = [(\"name\", \"%s - %s [SIDS RCM]\" % (country, config[\"indicator\"])),\n",
      "      #  (\"originalsource\", mf.ix[keycol][\"Source\"]),\n",
      "        (\"originalsource\", \"SIDS RCM\"),\n",
      "        (\"proximatesource\", \"SIDS RCM\"),\n",
      "        (\"dataset\", config[\"indicator\"]),\n",
      "        (\"description\", config[\"description\"]),\n",
      "      #  (\"note\", mf.ix[keycol][\"Note\"]),\n",
      "      #  (\"unit\", mf.ix[keycol][\"Unit\"]),\n",
      "        (\"category\", config[\"indicator_category\"]),\n",
      "        (\"type\", config[\"indicator_type\"]),\n",
      "        (\"file\", filename),\n",
      "        (\"filehash\", us.githash(filepath)),\n",
      "        (\"columns\", \"description,value\")\n",
      "        ]\n",
      " \n",
      "    metafile = config[\"gen_2_dir\"] + filestem + \"_meta.csv\"\n",
      "    try:\n",
      "        pd.DataFrame(meta,columns = [\"key\",\"value\"]).to_csv(metafile, encoding=\"utf8\", float_format='%.3f',index=False)\n",
      "    except Exception: \n",
      "        pd.DataFrame(meta,columns = [\"key\",\"value\",\"notes\"]).to_csv(metafile, encoding=\"utf8\", float_format='%.3f',index=False)\n",
      "       \n",
      "    filelist.append(filestem)\n",
      "    \n",
      "pd.DataFrame(filelist).to_csv(config[\"gen_2_dir\"] + \"_\" + config[\"prefix\"] + \".csv\", encoding=\"utf8\", index=False, header=False)\n",
      "us.log(\"%i series saved to %s\" % (len(filelist), config[\"gen_2_dir\"]))"
     ],
     "language": "python",
     "metadata": {},
     "outputs": [
      {
       "output_type": "stream",
       "stream": "stdout",
       "text": [
        "ATG\n",
        "BHS\n",
        "BRB\n",
        "BLZ\n",
        "CUB"
       ]
      },
      {
       "output_type": "stream",
       "stream": "stdout",
       "text": [
        "\n",
        "DMA\n",
        "DOM\n",
        "GRD"
       ]
      },
      {
       "output_type": "stream",
       "stream": "stdout",
       "text": [
        "\n",
        "HTI\n",
        "JAM\n",
        "KNA"
       ]
      },
      {
       "output_type": "stream",
       "stream": "stdout",
       "text": [
        "\n",
        "LCA\n",
        "VCT\n",
        "TTO"
       ]
      },
      {
       "output_type": "stream",
       "stream": "stdout",
       "text": [
        "\n",
        "14 series saved to C:/portal/statmart/data/facts/gen2/sidsrcm/tourism/\n"
       ]
      }
     ],
     "prompt_number": 37
    },
    {
     "cell_type": "markdown",
     "metadata": {},
     "source": [
      "Generation 3 - Load the Generation 2 data into the database."
     ]
    },
    {
     "cell_type": "code",
     "collapsed": false,
     "input": [
      "data_list = gen3_utils.get_gen2_data(config)\n",
      "gen3_utils.standard_load_from_data_list(data_list)\n",
      "data_list[0][1]"
     ],
     "language": "python",
     "metadata": {},
     "outputs": [
      {
       "metadata": {},
       "output_type": "pyout",
       "prompt_number": 38,
       "text": [
        "'ATG'"
       ]
      }
     ],
     "prompt_number": 38
    },
    {
     "cell_type": "markdown",
     "metadata": {},
     "source": [
      "Here are the names of the series:"
     ]
    },
    {
     "cell_type": "code",
     "collapsed": false,
     "input": [
      "filelist"
     ],
     "language": "python",
     "metadata": {},
     "outputs": [
      {
       "metadata": {},
       "output_type": "pyout",
       "prompt_number": 39,
       "text": [
        "['tourism-cruise-visitors_atg_sidsrcm',\n",
        " 'tourism-cruise-visitors_bhs_sidsrcm',\n",
        " 'tourism-cruise-visitors_brb_sidsrcm',\n",
        " 'tourism-cruise-visitors_blz_sidsrcm',\n",
        " 'tourism-cruise-visitors_cub_sidsrcm',\n",
        " 'tourism-cruise-visitors_dma_sidsrcm',\n",
        " 'tourism-cruise-visitors_dom_sidsrcm',\n",
        " 'tourism-cruise-visitors_grd_sidsrcm',\n",
        " 'tourism-cruise-visitors_hti_sidsrcm',\n",
        " 'tourism-cruise-visitors_jam_sidsrcm',\n",
        " 'tourism-cruise-visitors_kna_sidsrcm',\n",
        " 'tourism-cruise-visitors_lca_sidsrcm',\n",
        " 'tourism-cruise-visitors_vct_sidsrcm',\n",
        " 'tourism-cruise-visitors_tto_sidsrcm']"
       ]
      }
     ],
     "prompt_number": 39
    },
    {
     "cell_type": "code",
     "collapsed": false,
     "input": [
      "\",\".join(filelist)"
     ],
     "language": "python",
     "metadata": {},
     "outputs": [
      {
       "metadata": {},
       "output_type": "pyout",
       "prompt_number": 40,
       "text": [
        "'tourism-cruise-visitors_atg_sidsrcm,tourism-cruise-visitors_bhs_sidsrcm,tourism-cruise-visitors_brb_sidsrcm,tourism-cruise-visitors_blz_sidsrcm,tourism-cruise-visitors_cub_sidsrcm,tourism-cruise-visitors_dma_sidsrcm,tourism-cruise-visitors_dom_sidsrcm,tourism-cruise-visitors_grd_sidsrcm,tourism-cruise-visitors_hti_sidsrcm,tourism-cruise-visitors_jam_sidsrcm,tourism-cruise-visitors_kna_sidsrcm,tourism-cruise-visitors_lca_sidsrcm,tourism-cruise-visitors_vct_sidsrcm,tourism-cruise-visitors_tto_sidsrcm'"
       ]
      }
     ],
     "prompt_number": 40
    },
    {
     "cell_type": "code",
     "collapsed": false,
     "input": [],
     "language": "python",
     "metadata": {},
     "outputs": []
    }
   ],
   "metadata": {}
  }
 ]
}