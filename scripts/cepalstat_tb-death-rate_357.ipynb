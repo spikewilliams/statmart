{
 "metadata": {
  "name": ""
 },
 "nbformat": 3,
 "nbformat_minor": 0,
 "worksheets": [
  {
   "cells": [
    {
     "cell_type": "heading",
     "level": 1,
     "metadata": {},
     "source": [
      "Build script for CEPALStat indicator #347: Tuburculosis death rate"
     ]
    },
    {
     "cell_type": "code",
     "collapsed": false,
     "input": [
      "import os, imp\n",
      "import pandas as pd\n",
      "\n",
      "from settings_statmart import *\n",
      "import utils_statmart as us\n",
      "\n",
      "import gen1_cepalstat\n",
      "import gen2_cepalstat\n",
      "import gen3_utils\n",
      "import gen4_utils\n",
      "\n",
      "us.verbose = True"
     ],
     "language": "python",
     "metadata": {},
     "outputs": [],
     "prompt_number": 13
    },
    {
     "cell_type": "markdown",
     "metadata": {},
     "source": [
      "Customize the below per this specfic dataset...."
     ]
    },
    {
     "cell_type": "code",
     "collapsed": false,
     "input": [
      "prefix = \"tb-death-rate\"\n",
      "suffix = \"cepalstat\"\n",
      "indicator_id = \"357\"\n",
      "indicator_name = \"Death rate associated with tuberculosis\"\n",
      "indicator_category = \"Social\"\n",
      "indicator_type = \"Health\"\n",
      "\n",
      "config = us.build_config(suffix,prefix,indicator_id,indicator_name,indicator_category,indicator_type)\n",
      "#config[\"source\"] = \"Economic Commission for Latin America and the Caribbean\"\n",
      "#config[\"multiplier\"] = 1000000\n",
      "config[\"multiplier\"] = 1\n",
      "\n",
      "config"
     ],
     "language": "python",
     "metadata": {},
     "outputs": [
      {
       "metadata": {},
       "output_type": "pyout",
       "prompt_number": 14,
       "text": [
        "{'gen_1_dir': 'C:/portal/statmart/data/facts/gen1/cepalstat/',\n",
        " 'gen_2_dir': 'C:/portal/statmart/data/facts/gen2/cepalstat/tb-death-rate/',\n",
        " 'gen_4_dir': 'C:/portal/statmart/view/gen4/cepalstat/',\n",
        " 'indicator': 'Death rate associated with tuberculosis',\n",
        " 'indicator_category': 'Social',\n",
        " 'indicator_id': '357',\n",
        " 'indicator_type': 'Health',\n",
        " 'multiplier': 1,\n",
        " 'prefix': 'tb-death-rate',\n",
        " 'suffix': 'cepalstat'}"
       ]
      }
     ],
     "prompt_number": 14
    },
    {
     "cell_type": "markdown",
     "metadata": {},
     "source": [
      "Generation 1 - Downloads XML through the CEPALStat web service and dumps the enclosed data to a csv file."
     ]
    },
    {
     "cell_type": "code",
     "collapsed": false,
     "input": [
      "gen1_cepalstat.download(config)"
     ],
     "language": "python",
     "metadata": {},
     "outputs": [
      {
       "output_type": "stream",
       "stream": "stdout",
       "text": [
        "http://interwp.cepal.org/sisgen/ws/cepalstat/getDataMeta.asp?idIndicator=357&dim_208=20442,214,217,218,219,220,228,234,236,237,238,243,245,246,249,256,257,260,261,262,263,264,3272&dim_29117=29160,29161,29162,29163,29164,29165,29166,29167,29168,29169,29170,29171,29172,29173,29174,29175,29176,29177,29178,29179,29180,29181&language=english&password=ripken8\n",
        "{'29117': {'name': 'Years', 'labels': {'29179': '2009', '29181': '2011', '29180': '2010', '29176': '2006', '29177': '2007', '29172': '2002', '29173': '2003', '29170': '2000', '29171': '2001', '29169': '1999', '29168': '1998', '29174': '2004', '29175': '2005', '29165': '1995', '29164': '1994', '29167': '1997', '29166': '1996', '29161': '1991', '29160': '1990', '29163': '1993', '29162': '1992', '29178': '2008'}}, '208': {'name': 'Countries', 'labels': {'220': 'Belize', '249': 'Cuba', '257': 'Saint Kitts and Nevis', '236': 'Montserrat', '237': 'Guyana', '234': 'Grenada', '243': 'British Virgin Islands', '228': 'Dominica', '238': 'Haiti', '261': 'Puerto Rico', '246': 'Jamaica', '245': 'United States Virgin Islands', '260': 'Saint Vincent and the Grenadines', '218': 'Bahamas', '219': 'Barbados', '263': 'Suriname', '262': 'Saint Lucia', '214': 'Antigua and Barbuda', '217': 'Aruba', '20442': 'Cayman Islands', '256': 'Trinidad and Tobago', '264': 'Dominican Republic', '3272': 'Turks and Caicos Islands'}}}\n"
       ]
      }
     ],
     "prompt_number": 15
    },
    {
     "cell_type": "markdown",
     "metadata": {},
     "source": [
      "Generation 2 - Refines the rough csv data from Generation 1 into a standardized csv format common to all data sets. Prepares this data for importing to the database."
     ]
    },
    {
     "cell_type": "code",
     "collapsed": false,
     "input": [
      "gen2_cepalstat.build(config)\n",
      "data_list = gen3_utils.get_gen2_data(config)\n",
      "us.log(data_list[0:3]) # have a look at a sample of the data"
     ],
     "language": "python",
     "metadata": {},
     "outputs": [
      {
       "output_type": "stream",
       "stream": "stdout",
       "text": [
        "C:/portal/statmart/data/facts/gen2/cepalstat/tb-death-rate/tb-death-rate_guy_cepalstat.csv\n",
        "C:/portal/statmart/data/facts/gen2/cepalstat/tb-death-rate/tb-death-rate_sur_cepalstat.csv\n",
        "C:/portal/statmart/data/facts/gen2/cepalstat/tb-death-rate/tb-death-rate_msr_cepalstat.csv"
       ]
      },
      {
       "output_type": "stream",
       "stream": "stdout",
       "text": [
        "\n",
        "C:/portal/statmart/data/facts/gen2/cepalstat/tb-death-rate/tb-death-rate_dom_cepalstat.csv\n",
        "C:/portal/statmart/data/facts/gen2/cepalstat/tb-death-rate/tb-death-rate_dma_cepalstat.csv"
       ]
      },
      {
       "output_type": "stream",
       "stream": "stdout",
       "text": [
        "\n",
        "C:/portal/statmart/data/facts/gen2/cepalstat/tb-death-rate/tb-death-rate_cym_cepalstat.csv\n",
        "C:/portal/statmart/data/facts/gen2/cepalstat/tb-death-rate/tb-death-rate_tca_cepalstat.csv"
       ]
      },
      {
       "output_type": "stream",
       "stream": "stdout",
       "text": [
        "\n",
        "C:/portal/statmart/data/facts/gen2/cepalstat/tb-death-rate/tb-death-rate_tto_cepalstat.csv\n",
        "C:/portal/statmart/data/facts/gen2/cepalstat/tb-death-rate/tb-death-rate_pri_cepalstat.csv"
       ]
      },
      {
       "output_type": "stream",
       "stream": "stdout",
       "text": [
        "\n",
        "C:/portal/statmart/data/facts/gen2/cepalstat/tb-death-rate/tb-death-rate_atg_cepalstat.csv\n",
        "C:/portal/statmart/data/facts/gen2/cepalstat/tb-death-rate/tb-death-rate_abw_cepalstat.csv"
       ]
      },
      {
       "output_type": "stream",
       "stream": "stdout",
       "text": [
        "\n",
        "C:/portal/statmart/data/facts/gen2/cepalstat/tb-death-rate/tb-death-rate_vct_cepalstat.csv\n",
        "C:/portal/statmart/data/facts/gen2/cepalstat/tb-death-rate/tb-death-rate_cub_cepalstat.csv"
       ]
      },
      {
       "output_type": "stream",
       "stream": "stdout",
       "text": [
        "\n",
        "C:/portal/statmart/data/facts/gen2/cepalstat/tb-death-rate/tb-death-rate_grd_cepalstat.csv\n",
        "C:/portal/statmart/data/facts/gen2/cepalstat/tb-death-rate/tb-death-rate_jam_cepalstat.csv"
       ]
      },
      {
       "output_type": "stream",
       "stream": "stdout",
       "text": [
        "\n",
        "C:/portal/statmart/data/facts/gen2/cepalstat/tb-death-rate/tb-death-rate_vgb_cepalstat.csv\n",
        "C:/portal/statmart/data/facts/gen2/cepalstat/tb-death-rate/tb-death-rate_kna_cepalstat.csv"
       ]
      },
      {
       "output_type": "stream",
       "stream": "stdout",
       "text": [
        "\n",
        "C:/portal/statmart/data/facts/gen2/cepalstat/tb-death-rate/tb-death-rate_blz_cepalstat.csv\n",
        "C:/portal/statmart/data/facts/gen2/cepalstat/tb-death-rate/tb-death-rate_brb_cepalstat.csv"
       ]
      },
      {
       "output_type": "stream",
       "stream": "stdout",
       "text": [
        "\n",
        "C:/portal/statmart/data/facts/gen2/cepalstat/tb-death-rate/tb-death-rate_bhs_cepalstat.csv\n",
        "C:/portal/statmart/data/facts/gen2/cepalstat/tb-death-rate/tb-death-rate_lca_cepalstat.csv"
       ]
      },
      {
       "output_type": "stream",
       "stream": "stdout",
       "text": [
        "\n",
        "C:/portal/statmart/data/facts/gen2/cepalstat/tb-death-rate/tb-death-rate_vir_cepalstat.csv\n",
        "C:/portal/statmart/data/facts/gen2/cepalstat/tb-death-rate/tb-death-rate_hti_cepalstat.csv"
       ]
      },
      {
       "output_type": "stream",
       "stream": "stdout",
       "text": [
        "\n",
        "23 series saved to C:/portal/statmart/data/facts/gen2/cepalstat/tb-death-rate/\n",
        "[('tb-death-rate_abw_cepalstat', 'ABW', key\n",
        "name               Aruba - Death rate associated with tuberculosi...\n",
        "originalsource     United Nations Statistics Division: Millennium...\n",
        "proximatesource                                            CEPALStat\n",
        "dataset                Death rate associated with tuberculosis [357]\n",
        "description        Proportion of registered deaths caused by tube...\n",
        "category                                                      Social\n",
        "type                                                          Health\n",
        "file                                 tb-death-rate_abw_cepalstat.csv\n",
        "filehash                    ff69535a924a1ae9d723de64bdc60742af975d4a\n",
        "columns                                      year,value,source,notes\n",
        "Name: value, dtype: object,       value                                             source  \\\n",
        "year                                                             \n",
        "1990    0.7  United Nations Statistics Division: Millennium...   \n",
        "1991    0.7  United Nations Statistics Division: Millennium...   \n",
        "1992    0.7  United Nations Statistics Division: Millennium...   \n",
        "1993    0.7  United Nations Statistics Division: Millennium...   \n",
        "1994    0.7  United Nations Statistics Division: Millennium...   \n",
        "1995    0.7  United Nations Statistics Division: Millennium...   \n",
        "1996    0.7  United Nations Statistics Division: Millennium...   \n",
        "1997    0.7  United Nations Statistics Division: Millennium...   \n",
        "1998    0.7  United Nations Statistics Division: Millennium...   \n",
        "1999    0.7  United Nations Statistics Division: Millennium...   \n",
        "2000    0.7  United Nations Statistics Division: Millennium...   \n",
        "2001    0.7  United Nations Statistics Division: Millennium...   \n",
        "2002    0.7  United Nations Statistics Division: Millennium...   \n",
        "2003    0.7  United Nations Statistics Division: Millennium...   \n",
        "2004    0.7  United Nations Statistics Division: Millennium...   \n",
        "2005    0.7  United Nations Statistics Division: Millennium...   \n",
        "2006    0.7  United Nations Statistics Division: Millennium...   \n",
        "2007    0.7  United Nations Statistics Division: Millennium...   \n",
        "2008    0.7  United Nations Statistics Division: Millennium...   \n",
        "2009    0.7  United Nations Statistics Division: Millennium...   \n",
        "2010    0.7  United Nations Statistics Division: Millennium...   \n",
        "2011    0.7  United Nations Statistics Division: Millennium...   \n",
        "\n",
        "                                                  notes  \n",
        "year                                                     \n",
        "1990  The figure is estimated by the international a...  \n",
        "1991  The figure is estimated by the international a...  \n",
        "1992  The figure is estimated by the international a...  \n",
        "1993  The figure is estimated by the international a...  \n",
        "1994  The figure is estimated by the international a...  \n",
        "1995  The figure is estimated by the international a...  \n",
        "1996  The figure is estimated by the international a...  \n",
        "1997  The figure is estimated by the international a...  \n",
        "1998  The figure is estimated by the international a...  \n",
        "1999  The figure is estimated by the international a...  \n",
        "2000  The figure is estimated by the international a...  \n",
        "2001  The figure is estimated by the international a...  \n",
        "2002  The figure is estimated by the international a...  \n",
        "2003  The figure is estimated by the international a...  \n",
        "2004  The figure is estimated by the international a...  \n",
        "2005  The figure is estimated by the international a...  \n",
        "2006  The figure is estimated by the international a...  \n",
        "2007  The figure is estimated by the international a...  \n",
        "2008  The figure is estimated by the international a...  \n",
        "2009  The figure is estimated by the international a...  \n",
        "2010  The figure is estimated by the international a...  \n",
        "2011  The figure is estimated by the international a...  \n",
        "\n",
        "[22 rows x 3 columns]), ('tb-death-rate_bhs_cepalstat', 'BHS', key\n",
        "name               Bahamas - Death rate associated with tuberculo...\n",
        "originalsource     United Nations Statistics Division: Millennium...\n",
        "proximatesource                                            CEPALStat\n",
        "dataset                Death rate associated with tuberculosis [357]\n",
        "description        Proportion of registered deaths caused by tube...\n",
        "category                                                      Social\n",
        "type                                                          Health\n",
        "file                                 tb-death-rate_bhs_cepalstat.csv\n",
        "filehash                    f16944a0d0c841ce8faf097ac79529daa61ebd9d\n",
        "columns                                      year,value,source,notes\n",
        "Name: value, dtype: object,       value                                             source  \\\n",
        "year                                                             \n",
        "1990    0.6  United Nations Statistics Division: Millennium...   \n",
        "1991    0.6  United Nations Statistics Division: Millennium...   \n",
        "1992    6.2  United Nations Statistics Division: Millennium...   \n",
        "1993    5.5  United Nations Statistics Division: Millennium...   \n",
        "1994    4.9  United Nations Statistics Division: Millennium...   \n",
        "1995    4.3  United Nations Statistics Division: Millennium...   \n",
        "1996    3.8  United Nations Statistics Division: Millennium...   \n",
        "1997    3.2  United Nations Statistics Division: Millennium...   \n",
        "1998    2.8  United Nations Statistics Division: Millennium...   \n",
        "1999    2.4  United Nations Statistics Division: Millennium...   \n",
        "2000    2.0  United Nations Statistics Division: Millennium...   \n",
        "2001    1.8  United Nations Statistics Division: Millennium...   \n",
        "2002    1.6  United Nations Statistics Division: Millennium...   \n",
        "2003    1.4  United Nations Statistics Division: Millennium...   \n",
        "2004    1.3  United Nations Statistics Division: Millennium...   \n",
        "2005    1.1  United Nations Statistics Division: Millennium...   \n",
        "2006    1.0  United Nations Statistics Division: Millennium...   \n",
        "2007    0.9  United Nations Statistics Division: Millennium...   \n",
        "2008    0.8  United Nations Statistics Division: Millennium...   \n",
        "2009    0.8  United Nations Statistics Division: Millennium...   \n",
        "2010    0.7  United Nations Statistics Division: Millennium...   \n",
        "2011    0.6  United Nations Statistics Division: Millennium...   \n",
        "\n",
        "                                                  notes  \n",
        "year                                                     \n",
        "1990  The figure is estimated by the international a...  \n",
        "1991  The figure is estimated by the international a...  \n",
        "1992  The figure is estimated by the international a...  \n",
        "1993  The figure is estimated by the international a...  \n",
        "1994  The figure is estimated by the international a...  \n",
        "1995  The figure is estimated by the international a...  \n",
        "1996  The figure is estimated by the international a...  \n",
        "1997  The figure is estimated by the international a...  \n",
        "1998  The figure is estimated by the international a...  \n",
        "1999  The figure is estimated by the international a...  \n",
        "2000  The figure is estimated by the international a...  \n",
        "2001  The figure is estimated by the international a...  \n",
        "2002  The figure is estimated by the international a...  \n",
        "2003  The figure is estimated by the international a...  \n",
        "2004  The figure is estimated by the international a...  \n",
        "2005  The figure is estimated by the international a...  \n",
        "2006  The figure is estimated by the international a...  \n",
        "2007  The figure is estimated by the international a...  \n",
        "2008  The figure is estimated by the international a...  \n",
        "2009  The figure is estimated by the international a...  \n",
        "2010  The figure is estimated by the international a...  \n",
        "2011  The figure is estimated by the international a...  \n",
        "\n",
        "[22 rows x 3 columns]), ('tb-death-rate_brb_cepalstat', 'BRB', key\n",
        "name               Barbados - Death rate associated with tubercul...\n",
        "originalsource     United Nations Statistics Division: Millennium...\n",
        "proximatesource                                            CEPALStat\n",
        "dataset                Death rate associated with tuberculosis [357]\n",
        "description        Proportion of registered deaths caused by tube...\n",
        "category                                                      Social\n",
        "type                                                          Health\n",
        "file                                 tb-death-rate_brb_cepalstat.csv\n",
        "filehash                    916608ae8addd2123e10385fac63435b81459064\n",
        "columns                                      year,value,source,notes\n",
        "Name: value, dtype: object,       value                                             source  \\\n",
        "year                                                             \n",
        "1990    0.1  United Nations Statistics Division: Millennium...   \n",
        "1991    0.2  United Nations Statistics Division: Millennium...   \n",
        "1992    0.4  United Nations Statistics Division: Millennium...   \n",
        "1993    0.6  United Nations Statistics Division: Millennium...   \n",
        "1994    0.8  United Nations Statistics Division: Millennium...   \n",
        "1995    0.1  United Nations Statistics Division: Millennium...   \n",
        "1996    0.1  United Nations Statistics Division: Millennium...   \n",
        "1997    0.1  United Nations Statistics Division: Millennium...   \n",
        "1998    0.1  United Nations Statistics Division: Millennium...   \n",
        "1999    0.6  United Nations Statistics Division: Millennium...   \n",
        "2000    0.6  United Nations Statistics Division: Millennium...   \n",
        "2001    0.5  United Nations Statistics Division: Millennium...   \n",
        "2002    0.5  United Nations Statistics Division: Millennium...   \n",
        "2003    0.5  United Nations Statistics Division: Millennium...   \n",
        "2004    0.5  United Nations Statistics Division: Millennium...   \n",
        "2005    0.5  United Nations Statistics Division: Millennium...   \n",
        "2006    0.5  United Nations Statistics Division: Millennium...   \n",
        "2007    0.5  United Nations Statistics Division: Millennium...   \n",
        "2008    0.5  United Nations Statistics Division: Millennium...   \n",
        "2009    0.5  United Nations Statistics Division: Millennium...   \n",
        "2010    0.0  United Nations Statistics Division: Millennium...   \n",
        "2011    0.6  United Nations Statistics Division: Millennium...   \n",
        "\n",
        "                                                  notes  \n",
        "year                                                     \n",
        "1990  The figure is estimated by the international a...  \n",
        "1991  The figure is estimated by the international a...  \n",
        "1992  The figure is estimated by the international a...  \n",
        "1993  The figure is estimated by the international a...  \n",
        "1994  The figure is estimated by the international a...  \n",
        "1995  The figure is estimated by the international a...  \n",
        "1996  The figure is estimated by the international a...  \n",
        "1997  The figure is estimated by the international a...  \n",
        "1998  The figure is estimated by the international a...  \n",
        "1999  The figure is estimated by the international a...  \n",
        "2000  The figure is estimated by the international a...  \n",
        "2001  The figure is estimated by the international a...  \n",
        "2002  The figure is estimated by the international a...  \n",
        "2003  The figure is estimated by the international a...  \n",
        "2004  The figure is estimated by the international a...  \n",
        "2005  The figure is estimated by the international a...  \n",
        "2006  The figure is estimated by the international a...  \n",
        "2007  The figure is estimated by the international a...  \n",
        "2008  The figure is estimated by the international a...  \n",
        "2009  The figure is estimated by the international a...  \n",
        "2010  The figure is estimated by the international a...  \n",
        "2011  The figure is estimated by the international a...  \n",
        "\n",
        "[22 rows x 3 columns])]"
       ]
      },
      {
       "output_type": "stream",
       "stream": "stdout",
       "text": [
        "\n"
       ]
      }
     ],
     "prompt_number": 16
    },
    {
     "cell_type": "markdown",
     "metadata": {},
     "source": [
      "Generation 3 - Load the Generation 2 data into the database."
     ]
    },
    {
     "cell_type": "code",
     "collapsed": false,
     "input": [
      "gen3_utils.standard_load_from_data_list(data_list)"
     ],
     "language": "python",
     "metadata": {},
     "outputs": [],
     "prompt_number": 17
    },
    {
     "cell_type": "markdown",
     "metadata": {},
     "source": [
      "Generation 4 - Build a php file that uses javascript to generate SVGs using the data in the database"
     ]
    },
    {
     "cell_type": "code",
     "collapsed": false,
     "input": [
      "import imp\n",
      "imp.reload(gen4_utils)\n",
      "config = gen4_utils.build_gen4_config(config, title=\"Death rate - Tuberculosis\", unit=\"Percentage of registered deaths\")\n",
      "page = gen4_utils.build_d3_line_graph(config)"
     ],
     "language": "python",
     "metadata": {},
     "outputs": [],
     "prompt_number": 22
    },
    {
     "cell_type": "code",
     "collapsed": false,
     "input": [],
     "language": "python",
     "metadata": {},
     "outputs": []
    }
   ],
   "metadata": {}
  }
 ]
}