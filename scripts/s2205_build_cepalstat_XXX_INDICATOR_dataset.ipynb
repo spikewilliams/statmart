{
 "metadata": {
  "name": ""
 },
 "nbformat": 3,
 "nbformat_minor": 0,
 "worksheets": [
  {
   "cells": [
    {
     "cell_type": "heading",
     "level": 1,
     "metadata": {},
     "source": [
      "Build script for CEPALStat indicator #XXX: INDICATOR"
     ]
    },
    {
     "cell_type": "markdown",
     "metadata": {},
     "source": [
      "This script creates csv files out of CEPALStat data, in  a format suitable for subsequent loading to the Statmart database. Each country with an available time series will have two csv files representing their data. The first contains the time series data, and the second will contain metadata about the time series. Additionally, the file \"\\_PREFIX.csv\" will be created to list all the created files."
     ]
    },
    {
     "cell_type": "code",
     "collapsed": false,
     "input": [
      "import os, imp\n",
      "import pandas as pd\n",
      "\n",
      "from s0000_statmart_settings import *\n",
      "import s0001_statmart_utils as statmart_utils\n",
      "import s2201_cepalstat_utils as cepalstat_utils"
     ],
     "language": "python",
     "metadata": {},
     "outputs": [],
     "prompt_number": 1
    },
    {
     "cell_type": "markdown",
     "metadata": {},
     "source": [
      "Customize the below per this specfic dataset...."
     ]
    },
    {
     "cell_type": "code",
     "collapsed": false,
     "input": [
      "gen_1_dir = statmart_facts_gen1 + \"cepalstat/\"\n",
      "gen_2_dir = statmart_facts_gen2 + \"cepalstat/PREFIX/\"\n",
      "\n",
      "prefix = \"PREFIX\"\n",
      "suffix = \"cepalstat\"\n",
      "indicator_id = \"XXX\"\n",
      "indicator_name = \"INDICATOR\"\n",
      "indicator_category = \"CATEGORY\"\n",
      "indicator_type = \"TYPE\""
     ],
     "language": "python",
     "metadata": {},
     "outputs": [
      {
       "metadata": {},
       "output_type": "pyout",
       "prompt_number": 3,
       "text": [
        "''"
       ]
      }
     ],
     "prompt_number": 3
    },
    {
     "cell_type": "markdown",
     "metadata": {},
     "source": [
      "We have two csv files pulled down from CEPALStat by a previous script. Lets take a look at what is in these files. First, the data file:"
     ]
    },
    {
     "cell_type": "code",
     "collapsed": false,
     "input": [
      "statfile = gen_1_dir + indicator_id + \"_all.csv\"\n",
      "df = pd.read_csv(statfile, encoding=\"utf-8\", index_col=[\"ISO3\"])\n",
      "df[:10] # have a look at a sample of the data"
     ],
     "language": "python",
     "metadata": {},
     "outputs": [
      {
       "metadata": {},
       "output_type": "pyout",
       "prompt_number": 3,
       "text": [
        "''"
       ]
      }
     ],
     "prompt_number": 3
    },
    {
     "cell_type": "markdown",
     "metadata": {},
     "source": [
      "And the metadata:"
     ]
    },
    {
     "cell_type": "code",
     "collapsed": false,
     "input": [
      "metafile = gen_1_dir + indicator_id + \"_meta.csv\"\n",
      "metamap = cepalstat_utils.parse_meta_file(metafile)\n",
      "metamap"
     ],
     "language": "python",
     "metadata": {},
     "outputs": [
      {
       "metadata": {},
       "output_type": "pyout",
       "prompt_number": 5,
       "text": [
        "''"
       ]
      }
     ],
     "prompt_number": 5
    },
    {
     "cell_type": "markdown",
     "metadata": {},
     "source": [
      "This part builds the csv files for each time series. The only thing we have to do is provide a function that customizes the metadata, and then have cepalstat_utils.build_files take care of the rest. Any tweaks to the default metadata values should be set in the get_metadata function."
     ]
    },
    {
     "cell_type": "code",
     "collapsed": false,
     "input": [
      "def get_metadata(iso3, meta_map):\n",
      "    country = statmart_utils.get_country_by_iso3(iso3)    \n",
      "    return [(\"name\", \"%s - %s [CEPALStat]\" % (country, indicator_name)),\n",
      "                (\"originalsource\", meta_map[\"source\"]),\n",
      "                (\"proximatesource\", \"CEPALStat\"),\n",
      "                (\"dataset\", meta_map[\"indicator\"] + \" [\" + indicator_id + \"]\"),\n",
      "                (\"description\", meta_map[\"definition\"]),\n",
      "                (\"category\", indicator_category),\n",
      "                (\"type\", indicator_type)\n",
      "                ]\n",
      "\n",
      "report = cepalstat_utils.build_files(df, get_metadata, metamap, gen_2_dir, prefix, suffix)\n",
      "print(\"%i series saved to %s\" % (len(report), gen_2_dir))\n",
      "report"
     ],
     "language": "python",
     "metadata": {},
     "outputs": [
      {
       "output_type": "stream",
       "stream": "stdout",
       "text": [
        "\n"
       ]
      }
     ],
     "prompt_number": 8
    },
    {
     "cell_type": "code",
     "collapsed": false,
     "input": [],
     "language": "python",
     "metadata": {},
     "outputs": []
    }
   ],
   "metadata": {}
  }
 ]
}