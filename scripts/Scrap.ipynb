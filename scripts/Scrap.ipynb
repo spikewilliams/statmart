{
 "metadata": {
  "name": ""
 },
 "nbformat": 3,
 "nbformat_minor": 0,
 "worksheets": [
  {
   "cells": [
    {
     "cell_type": "code",
     "collapsed": false,
     "input": [
      "import xml.etree.ElementTree as et\n",
      "import pandas as pd\n",
      "\n",
      "dataRoot = \"C:/portal/statmart/data/\"\n",
      "sourceDir = dataRoot + \"dimensions/source/\"\n",
      "dimensionsDir = dataRoot + \"dimensions/\"\n",
      "\n",
      "df = pd.read_csv(dimensionsDir + \"country_base.csv\", encoding = \"utf-8\", dtype={'isonum': object})\n",
      "\n",
      "iso39912 = sourceDir + \"iso_3166_2.xml\"\n",
      "tree = et.parse(iso39912)\n",
      "root = tree.getroot()\n",
      "dlist = []\n",
      "for country in root.findall(\"iso_3166_country\"):\n",
      "    c = country.attrib[\"code\"]\n",
      "    cdf = df[[\"country\",\"iso2\",\"iso3\",\"isonum\"]][df[\"iso2\"] == c]\n",
      "    for subset in country.findall(\"iso_3166_subset\"):\n",
      "        for division in subset.findall(\"iso_3166_2_entry\"):\n",
      "            d = division.attrib\n",
      "            lis = [c,d[\"code\"],d[\"name\"],\"\",\"\"]\n",
      "            sdf = pd.DataFrame([lis], columns = [\"iso2\", \"iso31662\", \"division\", \"latitude\", \"longitude\"])\n",
      "            md = pd.merge(cdf,sdf,on=[\"iso2\"])\n",
      "            dlist.append(md)\n",
      "ldf = pd.concat(dlist)\n",
      "ldf.to_csv(dimensionsDir + \"division_base.csv\", encoding = \"utf-8\", float_format='%.6f', index=False)"
     ],
     "language": "python",
     "metadata": {},
     "outputs": [],
     "prompt_number": 39
    },
    {
     "cell_type": "code",
     "collapsed": false,
     "input": [
      "ddf = pd.read_csv(dimensionsDir + \"division_base.csv\", encoding = \"utf-8\", dtype={'isonum': object})"
     ],
     "language": "python",
     "metadata": {},
     "outputs": [],
     "prompt_number": 40
    },
    {
     "cell_type": "code",
     "collapsed": false,
     "input": [
      "sdf = pd.DataFrame([[\"AX\",\"bar\"]])\n",
      "sdf.columns=[\"iso2\",\"b\"]\n",
      "pd.merge(cdf,sdf,on=[\"iso2\"])"
     ],
     "language": "python",
     "metadata": {},
     "outputs": [
      {
       "html": [
        "<div style=\"max-height:1000px;max-width:1500px;overflow:auto;\">\n",
        "<table border=\"1\" class=\"dataframe\">\n",
        "  <tbody>\n",
        "    <tr>\n",
        "      <td>Int64Index([], dtype='int64')</td>\n",
        "      <td>Empty DataFrame</td>\n",
        "    </tr>\n",
        "  </tbody>\n",
        "</table>\n",
        "<p>0 rows \u00d7 5 columns</p>\n",
        "</div>"
       ],
       "metadata": {},
       "output_type": "pyout",
       "prompt_number": 21,
       "text": [
        "Empty DataFrame\n",
        "Columns: [country, iso2, iso3, isonum, b]\n",
        "Index: []\n",
        "\n",
        "[0 rows x 5 columns]"
       ]
      }
     ],
     "prompt_number": 21
    },
    {
     "cell_type": "code",
     "collapsed": false,
     "input": [
      "import geopy\n",
      "from geopy.geocoders import GoogleV3\n",
      "from geopy.geocoders import Nominatim\n",
      "geolocator = Nominatim()\n",
      "\n",
      "with open(dimensionsDir + \"division_log.csv\",\"w\") as log:\n",
      "    for line in ddf.index:\n",
      "        try:\n",
      "            o = ddf.ix[line]\n",
      "            location = o.country + \", \" + o.division\n",
      "            address, (latitude, longitude) = geolocator.geocode(location)\n",
      "            ddf.ix[line,\"latitude\"] = latitude\n",
      "            ddf.ix[line,\"longitude\"] = longitude\n",
      "            log.write(\"%s,%s,%s\" % (ddf.ix[line,\"iso31662\"],latitude,longitude))\n",
      "        except:\n",
      "            pass\n",
      "ddf"
     ],
     "language": "python",
     "metadata": {},
     "outputs": [],
     "prompt_number": "*"
    },
    {
     "cell_type": "code",
     "collapsed": false,
     "input": [
      "sdf = pd.DataFrame([[\"AX\",\"bar\"]])\n",
      "edf = pd.DataFrame([[\"dX\",\"bar\"]])\n",
      "pd.concat([sdf,edf])[1][0]"
     ],
     "language": "python",
     "metadata": {},
     "outputs": [
      {
       "metadata": {},
       "output_type": "pyout",
       "prompt_number": 25,
       "text": [
        "0    bar\n",
        "0    bar\n",
        "Name: 1, dtype: object"
       ]
      }
     ],
     "prompt_number": 25
    },
    {
     "cell_type": "code",
     "collapsed": false,
     "input": [
      "import pandas.io.sql as psql\n",
      "import pymysql\n",
      "\n",
      "conn = pymysql.connect(host='127.0.0.1', port=3306, user='root', passwd='', db='caribstat')\n",
      "\n",
      "locations = psql.frame_query('select locationid, countryname, isonum from LOCATION WHERE DIVISIONNAME IS NULL AND CITY IS NULL;', con=conn)    \n",
      "print('loaded dataframe from MySQL. records: %s' % len(df_mysql))\n",
      "conn.close()\n",
      "table = pd.merge(locations[[\"countryname\",\"isonum\"]],df,left_on=[\"isonum\"], right_on=[\"Country code\"])\n",
      "\n",
      "table"
     ],
     "language": "python",
     "metadata": {},
     "outputs": [],
     "prompt_number": 16
    },
    {
     "cell_type": "code",
     "collapsed": false,
     "input": [
      "import pandas.io.sql as psql\n",
      "import pymysql\n",
      "\n",
      "conn = pymysql.connect(host='127.0.0.1', port=3306, user='root', passwd='', db='caribstat')\n",
      "\n",
      "locations = psql.frame_query('select locationid, countryname, isonum from LOCATION WHERE DIVISIONNAME IS NULL AND CITY IS NULL;', con=conn)    \n",
      "print('loaded dataframe from MySQL. records: %s' % len(df_mysql))\n",
      "conn.close()\n",
      "table = pd.merge(locations[[\"countryname\",\"isonum\"]],df,left_on=[\"isonum\"], right_on=[\"Country code\"])\n",
      "\n",
      "table"
     ],
     "language": "python",
     "metadata": {},
     "outputs": [],
     "prompt_number": 16
    },
    {
     "cell_type": "code",
     "collapsed": false,
     "input": [
      "ipython profile create"
     ],
     "language": "python",
     "metadata": {},
     "outputs": [
      {
       "ename": "SyntaxError",
       "evalue": "invalid syntax (<ipython-input-1-45737eb99c31>, line 1)",
       "output_type": "pyerr",
       "traceback": [
        "\u001b[1;36m  File \u001b[1;32m\"<ipython-input-1-45737eb99c31>\"\u001b[1;36m, line \u001b[1;32m1\u001b[0m\n\u001b[1;33m    ipython profile create\u001b[0m\n\u001b[1;37m                  ^\u001b[0m\n\u001b[1;31mSyntaxError\u001b[0m\u001b[1;31m:\u001b[0m invalid syntax\n"
       ]
      }
     ],
     "prompt_number": 1
    },
    {
     "cell_type": "code",
     "collapsed": false,
     "input": [
      "c = get_config()"
     ],
     "language": "python",
     "metadata": {},
     "outputs": [
      {
       "ename": "NameError",
       "evalue": "name 'get_config' is not defined",
       "output_type": "pyerr",
       "traceback": [
        "\u001b[1;31m---------------------------------------------------------------------------\u001b[0m\n\u001b[1;31mNameError\u001b[0m                                 Traceback (most recent call last)",
        "\u001b[1;32m<ipython-input-3-8b941c722a8c>\u001b[0m in \u001b[0;36m<module>\u001b[1;34m()\u001b[0m\n\u001b[1;32m----> 1\u001b[1;33m \u001b[0mc\u001b[0m \u001b[1;33m=\u001b[0m \u001b[0mget_config\u001b[0m\u001b[1;33m(\u001b[0m\u001b[1;33m)\u001b[0m\u001b[1;33m\u001b[0m\u001b[0m\n\u001b[0m",
        "\u001b[1;31mNameError\u001b[0m: name 'get_config' is not defined"
       ]
      }
     ],
     "prompt_number": 3
    },
    {
     "cell_type": "code",
     "collapsed": false,
     "input": [
      "from statmart_config import *"
     ],
     "language": "python",
     "metadata": {},
     "outputs": [
      {
       "output_type": "stream",
       "stream": "stdout",
       "text": [
        "hello\n"
       ]
      }
     ],
     "prompt_number": 1
    },
    {
     "cell_type": "code",
     "collapsed": false,
     "input": [
      "statmart_facts_gen2"
     ],
     "language": "python",
     "metadata": {},
     "outputs": [
      {
       "metadata": {},
       "output_type": "pyout",
       "prompt_number": 2,
       "text": [
        "'C:/portal/statmart/data/root/gen2/'"
       ]
      }
     ],
     "prompt_number": 2
    },
    {
     "cell_type": "code",
     "collapsed": false,
     "input": [],
     "language": "python",
     "metadata": {},
     "outputs": []
    }
   ],
   "metadata": {}
  }
 ]
}