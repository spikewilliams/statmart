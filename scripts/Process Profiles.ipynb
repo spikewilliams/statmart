{
 "metadata": {
  "name": ""
 },
 "nbformat": 3,
 "nbformat_minor": 0,
 "worksheets": [
  {
   "cells": [
    {
     "cell_type": "code",
     "collapsed": false,
     "input": [
      "import pandas as pd \n",
      "import urllib\n",
      "import csv\n",
      "import sys, os\n",
      "from time import strftime\n",
      "import json\n",
      "import urllib\n",
      "import http.client\n",
      "import base64\n",
      "\n",
      "proot = \"C:/Users/rwilliams/Documents/portal/\"\n",
      "profiledir = proot + \"content/profiles/\"\n",
      "profileoutputdir = proot + \"data/profiles/\""
     ],
     "language": "python",
     "metadata": {},
     "outputs": [],
     "prompt_number": 110
    },
    {
     "cell_type": "code",
     "collapsed": false,
     "input": [
      "#utility functions\n",
      "\n",
      "chatter = False\n",
      "def elog(s):\n",
      "    if chatter:\n",
      "        print(s)\n",
      "\n",
      "def formatComputerReadableString(strn):\n",
      "    return(strn.strip().lower().replace(\" \",\"-\"))\n"
     ],
     "language": "python",
     "metadata": {},
     "outputs": [],
     "prompt_number": 57
    },
    {
     "cell_type": "code",
     "collapsed": false,
     "input": [
      "# this is used to massage the individual sheets in the .xls file, to ensure it ends up nicely formatted\n",
      "\n",
      "def processSheet(name, df, country):\n",
      "    description = \"ECLAC country profile - \" + country\n",
      "    \n",
      "    if name == \"quick-facts\":\n",
      "        description = description + \": Quick facts\"\n",
      "        df.columns =  [\"field\",\"value\"]\n",
      "        df[\"field\"] = df[\"field\"].map(formatComputerReadableString)\n",
      "        \n",
      "        #add value calculations here\n",
      "        pop = int(df[df[\"field\"] == \"population\"][\"value\"])\n",
      "        la = float(df[df[\"field\"] == \"land-area\"][\"value\"])\n",
      "        dense = pop/la\n",
      "        df = pd.concat([df,pd.DataFrame([[\"density\",dense]], columns = [\"field\",\"value\"])])\n",
      "        \n",
      "    elif name == \"government-officials\":\n",
      "        description = description + \": Government officials\"\n",
      "        df.columns =  [\"title\",\"name\",\"link\"]\n",
      "        \n",
      "    elif name == \"budget-documents\":\n",
      "        description = description + \": Budget documents\"\n",
      "        df.columns =  [\"title\",\"link\"]\n",
      "\n",
      "    elif name == \"media\":\n",
      "        description = description + \": Local media\"\n",
      "        df.columns =  [\"name\",\"type\",\"link\",\"feed\"]\n",
      "        df = df.sort([\"name\"])\n",
      "        \n",
      "    else: #all other sheets are ignored\n",
      "        return (\"\",\"\")\n",
      "    \n",
      "    return (df, description)"
     ],
     "language": "python",
     "metadata": {},
     "outputs": [],
     "prompt_number": 172
    },
    {
     "cell_type": "code",
     "collapsed": false,
     "input": [
      "#split up the various sheets of the profile_country.xls file into .csv files\n",
      "\n",
      "def turnXLSProfilesIntoCSV():\n",
      "    c = open (proot + \"Countries.txt\",\"r\")\n",
      "    rows = []\n",
      "    for country in c.readlines():\n",
      "        country = country.strip()\n",
      "        elog(country)\n",
      "        lcountry = formatComputerReadableString(country)\n",
      "        profile = profiledir + \"profile_\" + lcountry + \".xls\"\n",
      "        if not os.path.isfile(profile):\n",
      "            elog(\"Missing profile: \" + profile)\n",
      "            continue\n",
      "        xlfile = pd.ExcelFile(profile)\n",
      "        for sheetname in xlfile.sheet_names:\n",
      "            sheet = xlfile.parse(sheetname)\n",
      "            (sheet, description) = processSheet(sheetname, sheet, country)\n",
      "            if len(sheet) == 0: #sheets without any data, we ignore\n",
      "                continue\n",
      "            filename = lcountry + \"_\" + sheetname + \".csv\"\n",
      "            filepath = profileoutputdir + filename\n",
      "            #path,file_location,description\n",
      "            \n",
      "            sheet.to_csv(filepath, index=False)\n",
      "            \n",
      "            identifier = \"%s/%s/%s\" % (\"profile\",lcountry,sheetname)\n",
      "            rows.append([identifier,filename,description])\n",
      "\n",
      "    # return some metadata about the files, which we can later use to tell TDT about our .csv files\n",
      "    return pd.DataFrame(rows, columns=[\"identifier\",\"filename\",\"description\"])\n",
      "\n",
      "tdtdf = turnXLSProfilesIntoCSV()"
     ],
     "language": "python",
     "metadata": {},
     "outputs": [
      {
       "output_type": "stream",
       "stream": "stdout",
       "text": [
        "Anguilla\n",
        "Antigua and Barbuda"
       ]
      },
      {
       "output_type": "stream",
       "stream": "stdout",
       "text": [
        "\n",
        "Aruba\n",
        "Bahamas"
       ]
      },
      {
       "output_type": "stream",
       "stream": "stdout",
       "text": [
        "\n",
        "Barbados\n",
        "Belize"
       ]
      },
      {
       "output_type": "stream",
       "stream": "stdout",
       "text": [
        "\n",
        "Bermuda\n",
        "Missing profile: C:/Users/rwilliams/Documents/portal/content/profiles/profile_bermuda.xls\n",
        "British Virgin Islands\n",
        "Cayman Islands"
       ]
      },
      {
       "output_type": "stream",
       "stream": "stdout",
       "text": [
        "\n",
        "Missing profile: C:/Users/rwilliams/Documents/portal/content/profiles/profile_cayman-islands.xls\n",
        "Cuba\n",
        "Cura\u00e7ao\n",
        "Missing profile: C:/Users/rwilliams/Documents/portal/content/profiles/profile_cura\u00e7ao.xls"
       ]
      },
      {
       "output_type": "stream",
       "stream": "stdout",
       "text": [
        "\n",
        "Dominica\n",
        "Dominican Republic\n",
        "Grenada"
       ]
      },
      {
       "output_type": "stream",
       "stream": "stdout",
       "text": [
        "\n",
        "Guadeloupe"
       ]
      },
      {
       "output_type": "stream",
       "stream": "stdout",
       "text": [
        "\n",
        "Missing profile: C:/Users/rwilliams/Documents/portal/content/profiles/profile_guadeloupe.xls\n",
        "Guyana\n",
        "Haiti"
       ]
      },
      {
       "output_type": "stream",
       "stream": "stdout",
       "text": [
        "\n",
        "Jamaica\n",
        "Martinique"
       ]
      },
      {
       "output_type": "stream",
       "stream": "stdout",
       "text": [
        "\n",
        "Missing profile: C:/Users/rwilliams/Documents/portal/content/profiles/profile_martinique.xls\n",
        "Montserrat\n",
        "Puerto Rico\n",
        "Saint Kitts and Nevis"
       ]
      },
      {
       "output_type": "stream",
       "stream": "stdout",
       "text": [
        "\n",
        "Saint Lucia\n",
        "Saint Vincent and the Grenadines"
       ]
      },
      {
       "output_type": "stream",
       "stream": "stdout",
       "text": [
        "\n",
        "Suriname\n",
        "Trinidad and Tobago"
       ]
      },
      {
       "output_type": "stream",
       "stream": "stdout",
       "text": [
        "\n",
        "Turks and Caicos Islands\n",
        "Missing profile: C:/Users/rwilliams/Documents/portal/content/profiles/profile_turks-and-caicos-islands.xls\n",
        "United States Virgin Islands\n"
       ]
      }
     ],
     "prompt_number": 173
    },
    {
     "cell_type": "code",
     "collapsed": false,
     "input": [
      "#a bunch of configuration and security stuff used by TDT's REST API\n",
      "\n",
      "username = \"admin\"\n",
      "password = \"admin\"\n",
      "apiroot = \"http://drupal01/data/api/definitions/\"\n",
      "hostname = \"drupal01\"\n",
      "\n",
      "encodestring = '%s:%s' % (username, password)\n",
      "auth = base64.encodebytes(encodestring.encode('utf-8'))[:-1]\n",
      "auth =  (\"%s\" % auth)[2:-1]\n",
      "\n",
      "\n",
      "#this function makes the REST API call to inform the TDT server about the .csv files\n",
      "\n",
      "def putDefinitionCSV(path,file_location,description,title,delimiter=\",\",has_header_row=\"1\",start_row=\"0\",\n",
      "                     pk=\"\",date=None,source=\"\",language=\"English\",rights=\"License Not Specified\"):\n",
      "    if date == None:\n",
      "        date = strftime(\"%Y-%m-%d %H:%M:%S\")\n",
      "    \n",
      "    data = {\"type\":\"csv\",\n",
      "            \"uri\":file_location,\n",
      "            \"description\":description,\n",
      "            \"delimiter\":delimiter,\n",
      "            \"has_header_row\":has_header_row,#string or int?\n",
      "            \"start_row\":start_row,\n",
      "            \"pk\":\"\",\n",
      "            \"title\":title,\n",
      "            \"date\":date,\n",
      "            \"source\":source,\n",
      "            \"language\":language,\n",
      "            \"rights\":rights}\n",
      "\n",
      "    h = http.client.HTTPConnection(hostname)\n",
      "    headers = {\"Content-Type\":\"application/tdt.csv\", \n",
      "               \"Accept\":\"*/*\", \n",
      "               \"Authorization\":\"Basic %s\" % auth}\n",
      "    elog(json.dumps(data))\n",
      "    h.request('PUT', apiroot + path, json.dumps(data), headers)\n",
      "    r = h.getresponse()\n",
      "    h.close()\n",
      "    j = (\"%s\" % r.read())[2:-1]\n",
      "    if j:\n",
      "        return json.loads(j)\n",
      "    return None"
     ],
     "language": "python",
     "metadata": {},
     "outputs": [],
     "prompt_number": 169
    },
    {
     "cell_type": "code",
     "collapsed": false,
     "input": [
      "#TODO: move the .csv files onto the server - this is handled manually for now\n",
      "\n",
      "droot = \"/www/datatank/data/profiles/\" #this is the path the the directory of files on the server\n",
      "\n",
      "#tell TDT about the .csv files\n",
      "\n",
      "for index in tdtdf.index:\n",
      "    line = tdtdf.ix[index]\n",
      "    ident = line[\"identifier\"]\n",
      "    fpath = droot + line[\"filename\"]\n",
      "    descr = line[\"description\"]\n",
      "    putDefinitionCSV(ident, fpath, descr, descr) "
     ],
     "language": "python",
     "metadata": {},
     "outputs": [
      {
       "output_type": "stream",
       "stream": "stdout",
       "text": [
        "{\"source\": \"\", \"delimiter\": \",\", \"type\": \"csv\", \"date\": \"2014-02-20 11:35:37\", \"pk\": \"\", \"start_row\": \"0\", \"description\": \"ECLAC country profile - Anguilla: Quick facts\", \"language\": \"English\", \"title\": \"ECLAC country profile - Anguilla: Quick facts\", \"rights\": \"License Not Specified\", \"uri\": \"/www/datatank/data/profiles/anguilla_quick-facts.csv\", \"has_header_row\": \"1\"}\n",
        "{\"source\": \"\", \"delimiter\": \",\", \"type\": \"csv\", \"date\": \"2014-02-20 11:35:37\", \"pk\": \"\", \"start_row\": \"0\", \"description\": \"ECLAC country profile - Anguilla: Government officials\", \"language\": \"English\", \"title\": \"ECLAC country profile - Anguilla: Government officials\", \"rights\": \"License Not Specified\", \"uri\": \"/www/datatank/data/profiles/anguilla_government-officials.csv\", \"has_header_row\": \"1\"}"
       ]
      },
      {
       "output_type": "stream",
       "stream": "stdout",
       "text": [
        "\n",
        "{\"source\": \"\", \"delimiter\": \",\", \"type\": \"csv\", \"date\": \"2014-02-20 11:35:37\", \"pk\": \"\", \"start_row\": \"0\", \"description\": \"ECLAC country profile - Anguilla: Budget documents\", \"language\": \"English\", \"title\": \"ECLAC country profile - Anguilla: Budget documents\", \"rights\": \"License Not Specified\", \"uri\": \"/www/datatank/data/profiles/anguilla_budget-documents.csv\", \"has_header_row\": \"1\"}"
       ]
      },
      {
       "output_type": "stream",
       "stream": "stdout",
       "text": [
        "\n",
        "{\"source\": \"\", \"delimiter\": \",\", \"type\": \"csv\", \"date\": \"2014-02-20 11:35:37\", \"pk\": \"\", \"start_row\": \"0\", \"description\": \"ECLAC country profile - Antigua and Barbuda: Quick facts\", \"language\": \"English\", \"title\": \"ECLAC country profile - Antigua and Barbuda: Quick facts\", \"rights\": \"License Not Specified\", \"uri\": \"/www/datatank/data/profiles/antigua-and-barbuda_quick-facts.csv\", \"has_header_row\": \"1\"}"
       ]
      },
      {
       "output_type": "stream",
       "stream": "stdout",
       "text": [
        "\n",
        "{\"source\": \"\", \"delimiter\": \",\", \"type\": \"csv\", \"date\": \"2014-02-20 11:35:38\", \"pk\": \"\", \"start_row\": \"0\", \"description\": \"ECLAC country profile - Antigua and Barbuda: Government officials\", \"language\": \"English\", \"title\": \"ECLAC country profile - Antigua and Barbuda: Government officials\", \"rights\": \"License Not Specified\", \"uri\": \"/www/datatank/data/profiles/antigua-and-barbuda_government-officials.csv\", \"has_header_row\": \"1\"}"
       ]
      },
      {
       "output_type": "stream",
       "stream": "stdout",
       "text": [
        "\n",
        "{\"source\": \"\", \"delimiter\": \",\", \"type\": \"csv\", \"date\": \"2014-02-20 11:35:38\", \"pk\": \"\", \"start_row\": \"0\", \"description\": \"ECLAC country profile - Antigua and Barbuda: Budget documents\", \"language\": \"English\", \"title\": \"ECLAC country profile - Antigua and Barbuda: Budget documents\", \"rights\": \"License Not Specified\", \"uri\": \"/www/datatank/data/profiles/antigua-and-barbuda_budget-documents.csv\", \"has_header_row\": \"1\"}"
       ]
      },
      {
       "output_type": "stream",
       "stream": "stdout",
       "text": [
        "\n",
        "{\"source\": \"\", \"delimiter\": \",\", \"type\": \"csv\", \"date\": \"2014-02-20 11:35:38\", \"pk\": \"\", \"start_row\": \"0\", \"description\": \"ECLAC country profile - Aruba: Quick facts\", \"language\": \"English\", \"title\": \"ECLAC country profile - Aruba: Quick facts\", \"rights\": \"License Not Specified\", \"uri\": \"/www/datatank/data/profiles/aruba_quick-facts.csv\", \"has_header_row\": \"1\"}"
       ]
      },
      {
       "output_type": "stream",
       "stream": "stdout",
       "text": [
        "\n",
        "{\"source\": \"\", \"delimiter\": \",\", \"type\": \"csv\", \"date\": \"2014-02-20 11:35:38\", \"pk\": \"\", \"start_row\": \"0\", \"description\": \"ECLAC country profile - Aruba: Government officials\", \"language\": \"English\", \"title\": \"ECLAC country profile - Aruba: Government officials\", \"rights\": \"License Not Specified\", \"uri\": \"/www/datatank/data/profiles/aruba_government-officials.csv\", \"has_header_row\": \"1\"}"
       ]
      },
      {
       "output_type": "stream",
       "stream": "stdout",
       "text": [
        "\n",
        "{\"source\": \"\", \"delimiter\": \",\", \"type\": \"csv\", \"date\": \"2014-02-20 11:35:39\", \"pk\": \"\", \"start_row\": \"0\", \"description\": \"ECLAC country profile - Bahamas: Quick facts\", \"language\": \"English\", \"title\": \"ECLAC country profile - Bahamas: Quick facts\", \"rights\": \"License Not Specified\", \"uri\": \"/www/datatank/data/profiles/bahamas_quick-facts.csv\", \"has_header_row\": \"1\"}"
       ]
      },
      {
       "output_type": "stream",
       "stream": "stdout",
       "text": [
        "\n",
        "{\"source\": \"\", \"delimiter\": \",\", \"type\": \"csv\", \"date\": \"2014-02-20 11:35:39\", \"pk\": \"\", \"start_row\": \"0\", \"description\": \"ECLAC country profile - Bahamas: Government officials\", \"language\": \"English\", \"title\": \"ECLAC country profile - Bahamas: Government officials\", \"rights\": \"License Not Specified\", \"uri\": \"/www/datatank/data/profiles/bahamas_government-officials.csv\", \"has_header_row\": \"1\"}"
       ]
      },
      {
       "output_type": "stream",
       "stream": "stdout",
       "text": [
        "\n",
        "{\"source\": \"\", \"delimiter\": \",\", \"type\": \"csv\", \"date\": \"2014-02-20 11:35:39\", \"pk\": \"\", \"start_row\": \"0\", \"description\": \"ECLAC country profile - Barbados: Quick facts\", \"language\": \"English\", \"title\": \"ECLAC country profile - Barbados: Quick facts\", \"rights\": \"License Not Specified\", \"uri\": \"/www/datatank/data/profiles/barbados_quick-facts.csv\", \"has_header_row\": \"1\"}"
       ]
      },
      {
       "output_type": "stream",
       "stream": "stdout",
       "text": [
        "\n",
        "{\"source\": \"\", \"delimiter\": \",\", \"type\": \"csv\", \"date\": \"2014-02-20 11:35:39\", \"pk\": \"\", \"start_row\": \"0\", \"description\": \"ECLAC country profile - Barbados: Government officials\", \"language\": \"English\", \"title\": \"ECLAC country profile - Barbados: Government officials\", \"rights\": \"License Not Specified\", \"uri\": \"/www/datatank/data/profiles/barbados_government-officials.csv\", \"has_header_row\": \"1\"}"
       ]
      },
      {
       "output_type": "stream",
       "stream": "stdout",
       "text": [
        "\n",
        "{\"source\": \"\", \"delimiter\": \",\", \"type\": \"csv\", \"date\": \"2014-02-20 11:35:40\", \"pk\": \"\", \"start_row\": \"0\", \"description\": \"ECLAC country profile - Barbados: Budget documents\", \"language\": \"English\", \"title\": \"ECLAC country profile - Barbados: Budget documents\", \"rights\": \"License Not Specified\", \"uri\": \"/www/datatank/data/profiles/barbados_budget-documents.csv\", \"has_header_row\": \"1\"}"
       ]
      },
      {
       "output_type": "stream",
       "stream": "stdout",
       "text": [
        "\n",
        "{\"source\": \"\", \"delimiter\": \",\", \"type\": \"csv\", \"date\": \"2014-02-20 11:35:40\", \"pk\": \"\", \"start_row\": \"0\", \"description\": \"ECLAC country profile - Barbados: Local media\", \"language\": \"English\", \"title\": \"ECLAC country profile - Barbados: Local media\", \"rights\": \"License Not Specified\", \"uri\": \"/www/datatank/data/profiles/barbados_media.csv\", \"has_header_row\": \"1\"}"
       ]
      },
      {
       "output_type": "stream",
       "stream": "stdout",
       "text": [
        "\n",
        "{\"source\": \"\", \"delimiter\": \",\", \"type\": \"csv\", \"date\": \"2014-02-20 11:35:40\", \"pk\": \"\", \"start_row\": \"0\", \"description\": \"ECLAC country profile - Belize: Quick facts\", \"language\": \"English\", \"title\": \"ECLAC country profile - Belize: Quick facts\", \"rights\": \"License Not Specified\", \"uri\": \"/www/datatank/data/profiles/belize_quick-facts.csv\", \"has_header_row\": \"1\"}"
       ]
      },
      {
       "output_type": "stream",
       "stream": "stdout",
       "text": [
        "\n",
        "{\"source\": \"\", \"delimiter\": \",\", \"type\": \"csv\", \"date\": \"2014-02-20 11:35:40\", \"pk\": \"\", \"start_row\": \"0\", \"description\": \"ECLAC country profile - Belize: Government officials\", \"language\": \"English\", \"title\": \"ECLAC country profile - Belize: Government officials\", \"rights\": \"License Not Specified\", \"uri\": \"/www/datatank/data/profiles/belize_government-officials.csv\", \"has_header_row\": \"1\"}"
       ]
      },
      {
       "output_type": "stream",
       "stream": "stdout",
       "text": [
        "\n",
        "{\"source\": \"\", \"delimiter\": \",\", \"type\": \"csv\", \"date\": \"2014-02-20 11:35:41\", \"pk\": \"\", \"start_row\": \"0\", \"description\": \"ECLAC country profile - British Virgin Islands: Quick facts\", \"language\": \"English\", \"title\": \"ECLAC country profile - British Virgin Islands: Quick facts\", \"rights\": \"License Not Specified\", \"uri\": \"/www/datatank/data/profiles/british-virgin-islands_quick-facts.csv\", \"has_header_row\": \"1\"}"
       ]
      },
      {
       "output_type": "stream",
       "stream": "stdout",
       "text": [
        "\n",
        "{\"source\": \"\", \"delimiter\": \",\", \"type\": \"csv\", \"date\": \"2014-02-20 11:35:41\", \"pk\": \"\", \"start_row\": \"0\", \"description\": \"ECLAC country profile - British Virgin Islands: Government officials\", \"language\": \"English\", \"title\": \"ECLAC country profile - British Virgin Islands: Government officials\", \"rights\": \"License Not Specified\", \"uri\": \"/www/datatank/data/profiles/british-virgin-islands_government-officials.csv\", \"has_header_row\": \"1\"}"
       ]
      },
      {
       "output_type": "stream",
       "stream": "stdout",
       "text": [
        "\n",
        "{\"source\": \"\", \"delimiter\": \",\", \"type\": \"csv\", \"date\": \"2014-02-20 11:35:41\", \"pk\": \"\", \"start_row\": \"0\", \"description\": \"ECLAC country profile - Cuba: Quick facts\", \"language\": \"English\", \"title\": \"ECLAC country profile - Cuba: Quick facts\", \"rights\": \"License Not Specified\", \"uri\": \"/www/datatank/data/profiles/cuba_quick-facts.csv\", \"has_header_row\": \"1\"}"
       ]
      },
      {
       "output_type": "stream",
       "stream": "stdout",
       "text": [
        "\n",
        "{\"source\": \"\", \"delimiter\": \",\", \"type\": \"csv\", \"date\": \"2014-02-20 11:35:41\", \"pk\": \"\", \"start_row\": \"0\", \"description\": \"ECLAC country profile - Cuba: Government officials\", \"language\": \"English\", \"title\": \"ECLAC country profile - Cuba: Government officials\", \"rights\": \"License Not Specified\", \"uri\": \"/www/datatank/data/profiles/cuba_government-officials.csv\", \"has_header_row\": \"1\"}"
       ]
      },
      {
       "output_type": "stream",
       "stream": "stdout",
       "text": [
        "\n",
        "{\"source\": \"\", \"delimiter\": \",\", \"type\": \"csv\", \"date\": \"2014-02-20 11:35:42\", \"pk\": \"\", \"start_row\": \"0\", \"description\": \"ECLAC country profile - Dominica: Quick facts\", \"language\": \"English\", \"title\": \"ECLAC country profile - Dominica: Quick facts\", \"rights\": \"License Not Specified\", \"uri\": \"/www/datatank/data/profiles/dominica_quick-facts.csv\", \"has_header_row\": \"1\"}"
       ]
      },
      {
       "output_type": "stream",
       "stream": "stdout",
       "text": [
        "\n",
        "{\"source\": \"\", \"delimiter\": \",\", \"type\": \"csv\", \"date\": \"2014-02-20 11:35:42\", \"pk\": \"\", \"start_row\": \"0\", \"description\": \"ECLAC country profile - Dominica: Government officials\", \"language\": \"English\", \"title\": \"ECLAC country profile - Dominica: Government officials\", \"rights\": \"License Not Specified\", \"uri\": \"/www/datatank/data/profiles/dominica_government-officials.csv\", \"has_header_row\": \"1\"}"
       ]
      },
      {
       "output_type": "stream",
       "stream": "stdout",
       "text": [
        "\n",
        "{\"source\": \"\", \"delimiter\": \",\", \"type\": \"csv\", \"date\": \"2014-02-20 11:35:42\", \"pk\": \"\", \"start_row\": \"0\", \"description\": \"ECLAC country profile - Dominican Republic: Quick facts\", \"language\": \"English\", \"title\": \"ECLAC country profile - Dominican Republic: Quick facts\", \"rights\": \"License Not Specified\", \"uri\": \"/www/datatank/data/profiles/dominican-republic_quick-facts.csv\", \"has_header_row\": \"1\"}"
       ]
      },
      {
       "output_type": "stream",
       "stream": "stdout",
       "text": [
        "\n",
        "{\"source\": \"\", \"delimiter\": \",\", \"type\": \"csv\", \"date\": \"2014-02-20 11:35:42\", \"pk\": \"\", \"start_row\": \"0\", \"description\": \"ECLAC country profile - Dominican Republic: Government officials\", \"language\": \"English\", \"title\": \"ECLAC country profile - Dominican Republic: Government officials\", \"rights\": \"License Not Specified\", \"uri\": \"/www/datatank/data/profiles/dominican-republic_government-officials.csv\", \"has_header_row\": \"1\"}"
       ]
      },
      {
       "output_type": "stream",
       "stream": "stdout",
       "text": [
        "\n",
        "{\"source\": \"\", \"delimiter\": \",\", \"type\": \"csv\", \"date\": \"2014-02-20 11:35:43\", \"pk\": \"\", \"start_row\": \"0\", \"description\": \"ECLAC country profile - Grenada: Quick facts\", \"language\": \"English\", \"title\": \"ECLAC country profile - Grenada: Quick facts\", \"rights\": \"License Not Specified\", \"uri\": \"/www/datatank/data/profiles/grenada_quick-facts.csv\", \"has_header_row\": \"1\"}"
       ]
      },
      {
       "output_type": "stream",
       "stream": "stdout",
       "text": [
        "\n",
        "{\"source\": \"\", \"delimiter\": \",\", \"type\": \"csv\", \"date\": \"2014-02-20 11:35:43\", \"pk\": \"\", \"start_row\": \"0\", \"description\": \"ECLAC country profile - Grenada: Government officials\", \"language\": \"English\", \"title\": \"ECLAC country profile - Grenada: Government officials\", \"rights\": \"License Not Specified\", \"uri\": \"/www/datatank/data/profiles/grenada_government-officials.csv\", \"has_header_row\": \"1\"}"
       ]
      },
      {
       "output_type": "stream",
       "stream": "stdout",
       "text": [
        "\n",
        "{\"source\": \"\", \"delimiter\": \",\", \"type\": \"csv\", \"date\": \"2014-02-20 11:35:43\", \"pk\": \"\", \"start_row\": \"0\", \"description\": \"ECLAC country profile - Grenada: Local media\", \"language\": \"English\", \"title\": \"ECLAC country profile - Grenada: Local media\", \"rights\": \"License Not Specified\", \"uri\": \"/www/datatank/data/profiles/grenada_media.csv\", \"has_header_row\": \"1\"}"
       ]
      },
      {
       "output_type": "stream",
       "stream": "stdout",
       "text": [
        "\n",
        "{\"source\": \"\", \"delimiter\": \",\", \"type\": \"csv\", \"date\": \"2014-02-20 11:35:43\", \"pk\": \"\", \"start_row\": \"0\", \"description\": \"ECLAC country profile - Guyana: Quick facts\", \"language\": \"English\", \"title\": \"ECLAC country profile - Guyana: Quick facts\", \"rights\": \"License Not Specified\", \"uri\": \"/www/datatank/data/profiles/guyana_quick-facts.csv\", \"has_header_row\": \"1\"}"
       ]
      },
      {
       "output_type": "stream",
       "stream": "stdout",
       "text": [
        "\n",
        "{\"source\": \"\", \"delimiter\": \",\", \"type\": \"csv\", \"date\": \"2014-02-20 11:35:44\", \"pk\": \"\", \"start_row\": \"0\", \"description\": \"ECLAC country profile - Guyana: Government officials\", \"language\": \"English\", \"title\": \"ECLAC country profile - Guyana: Government officials\", \"rights\": \"License Not Specified\", \"uri\": \"/www/datatank/data/profiles/guyana_government-officials.csv\", \"has_header_row\": \"1\"}"
       ]
      },
      {
       "output_type": "stream",
       "stream": "stdout",
       "text": [
        "\n",
        "{\"source\": \"\", \"delimiter\": \",\", \"type\": \"csv\", \"date\": \"2014-02-20 11:35:44\", \"pk\": \"\", \"start_row\": \"0\", \"description\": \"ECLAC country profile - Haiti: Quick facts\", \"language\": \"English\", \"title\": \"ECLAC country profile - Haiti: Quick facts\", \"rights\": \"License Not Specified\", \"uri\": \"/www/datatank/data/profiles/haiti_quick-facts.csv\", \"has_header_row\": \"1\"}"
       ]
      },
      {
       "output_type": "stream",
       "stream": "stdout",
       "text": [
        "\n",
        "{\"source\": \"\", \"delimiter\": \",\", \"type\": \"csv\", \"date\": \"2014-02-20 11:35:44\", \"pk\": \"\", \"start_row\": \"0\", \"description\": \"ECLAC country profile - Haiti: Government officials\", \"language\": \"English\", \"title\": \"ECLAC country profile - Haiti: Government officials\", \"rights\": \"License Not Specified\", \"uri\": \"/www/datatank/data/profiles/haiti_government-officials.csv\", \"has_header_row\": \"1\"}"
       ]
      },
      {
       "output_type": "stream",
       "stream": "stdout",
       "text": [
        "\n",
        "{\"source\": \"\", \"delimiter\": \",\", \"type\": \"csv\", \"date\": \"2014-02-20 11:35:44\", \"pk\": \"\", \"start_row\": \"0\", \"description\": \"ECLAC country profile - Jamaica: Quick facts\", \"language\": \"English\", \"title\": \"ECLAC country profile - Jamaica: Quick facts\", \"rights\": \"License Not Specified\", \"uri\": \"/www/datatank/data/profiles/jamaica_quick-facts.csv\", \"has_header_row\": \"1\"}"
       ]
      },
      {
       "output_type": "stream",
       "stream": "stdout",
       "text": [
        "\n",
        "{\"source\": \"\", \"delimiter\": \",\", \"type\": \"csv\", \"date\": \"2014-02-20 11:35:45\", \"pk\": \"\", \"start_row\": \"0\", \"description\": \"ECLAC country profile - Jamaica: Government officials\", \"language\": \"English\", \"title\": \"ECLAC country profile - Jamaica: Government officials\", \"rights\": \"License Not Specified\", \"uri\": \"/www/datatank/data/profiles/jamaica_government-officials.csv\", \"has_header_row\": \"1\"}"
       ]
      },
      {
       "output_type": "stream",
       "stream": "stdout",
       "text": [
        "\n",
        "{\"source\": \"\", \"delimiter\": \",\", \"type\": \"csv\", \"date\": \"2014-02-20 11:35:45\", \"pk\": \"\", \"start_row\": \"0\", \"description\": \"ECLAC country profile - Montserrat: Quick facts\", \"language\": \"English\", \"title\": \"ECLAC country profile - Montserrat: Quick facts\", \"rights\": \"License Not Specified\", \"uri\": \"/www/datatank/data/profiles/montserrat_quick-facts.csv\", \"has_header_row\": \"1\"}"
       ]
      },
      {
       "output_type": "stream",
       "stream": "stdout",
       "text": [
        "\n",
        "{\"source\": \"\", \"delimiter\": \",\", \"type\": \"csv\", \"date\": \"2014-02-20 11:35:45\", \"pk\": \"\", \"start_row\": \"0\", \"description\": \"ECLAC country profile - Montserrat: Government officials\", \"language\": \"English\", \"title\": \"ECLAC country profile - Montserrat: Government officials\", \"rights\": \"License Not Specified\", \"uri\": \"/www/datatank/data/profiles/montserrat_government-officials.csv\", \"has_header_row\": \"1\"}"
       ]
      },
      {
       "output_type": "stream",
       "stream": "stdout",
       "text": [
        "\n",
        "{\"source\": \"\", \"delimiter\": \",\", \"type\": \"csv\", \"date\": \"2014-02-20 11:35:45\", \"pk\": \"\", \"start_row\": \"0\", \"description\": \"ECLAC country profile - Puerto Rico: Quick facts\", \"language\": \"English\", \"title\": \"ECLAC country profile - Puerto Rico: Quick facts\", \"rights\": \"License Not Specified\", \"uri\": \"/www/datatank/data/profiles/puerto-rico_quick-facts.csv\", \"has_header_row\": \"1\"}"
       ]
      },
      {
       "output_type": "stream",
       "stream": "stdout",
       "text": [
        "\n",
        "{\"source\": \"\", \"delimiter\": \",\", \"type\": \"csv\", \"date\": \"2014-02-20 11:35:46\", \"pk\": \"\", \"start_row\": \"0\", \"description\": \"ECLAC country profile - Puerto Rico: Government officials\", \"language\": \"English\", \"title\": \"ECLAC country profile - Puerto Rico: Government officials\", \"rights\": \"License Not Specified\", \"uri\": \"/www/datatank/data/profiles/puerto-rico_government-officials.csv\", \"has_header_row\": \"1\"}"
       ]
      },
      {
       "output_type": "stream",
       "stream": "stdout",
       "text": [
        "\n",
        "{\"source\": \"\", \"delimiter\": \",\", \"type\": \"csv\", \"date\": \"2014-02-20 11:35:46\", \"pk\": \"\", \"start_row\": \"0\", \"description\": \"ECLAC country profile - Saint Kitts and Nevis: Quick facts\", \"language\": \"English\", \"title\": \"ECLAC country profile - Saint Kitts and Nevis: Quick facts\", \"rights\": \"License Not Specified\", \"uri\": \"/www/datatank/data/profiles/saint-kitts-and-nevis_quick-facts.csv\", \"has_header_row\": \"1\"}"
       ]
      },
      {
       "output_type": "stream",
       "stream": "stdout",
       "text": [
        "\n",
        "{\"source\": \"\", \"delimiter\": \",\", \"type\": \"csv\", \"date\": \"2014-02-20 11:35:46\", \"pk\": \"\", \"start_row\": \"0\", \"description\": \"ECLAC country profile - Saint Kitts and Nevis: Government officials\", \"language\": \"English\", \"title\": \"ECLAC country profile - Saint Kitts and Nevis: Government officials\", \"rights\": \"License Not Specified\", \"uri\": \"/www/datatank/data/profiles/saint-kitts-and-nevis_government-officials.csv\", \"has_header_row\": \"1\"}"
       ]
      },
      {
       "output_type": "stream",
       "stream": "stdout",
       "text": [
        "\n",
        "{\"source\": \"\", \"delimiter\": \",\", \"type\": \"csv\", \"date\": \"2014-02-20 11:35:47\", \"pk\": \"\", \"start_row\": \"0\", \"description\": \"ECLAC country profile - Saint Lucia: Quick facts\", \"language\": \"English\", \"title\": \"ECLAC country profile - Saint Lucia: Quick facts\", \"rights\": \"License Not Specified\", \"uri\": \"/www/datatank/data/profiles/saint-lucia_quick-facts.csv\", \"has_header_row\": \"1\"}"
       ]
      },
      {
       "output_type": "stream",
       "stream": "stdout",
       "text": [
        "\n",
        "{\"source\": \"\", \"delimiter\": \",\", \"type\": \"csv\", \"date\": \"2014-02-20 11:35:47\", \"pk\": \"\", \"start_row\": \"0\", \"description\": \"ECLAC country profile - Saint Lucia: Government officials\", \"language\": \"English\", \"title\": \"ECLAC country profile - Saint Lucia: Government officials\", \"rights\": \"License Not Specified\", \"uri\": \"/www/datatank/data/profiles/saint-lucia_government-officials.csv\", \"has_header_row\": \"1\"}"
       ]
      },
      {
       "output_type": "stream",
       "stream": "stdout",
       "text": [
        "\n",
        "{\"source\": \"\", \"delimiter\": \",\", \"type\": \"csv\", \"date\": \"2014-02-20 11:35:47\", \"pk\": \"\", \"start_row\": \"0\", \"description\": \"ECLAC country profile - Saint Vincent and the Grenadines: Quick facts\", \"language\": \"English\", \"title\": \"ECLAC country profile - Saint Vincent and the Grenadines: Quick facts\", \"rights\": \"License Not Specified\", \"uri\": \"/www/datatank/data/profiles/saint-vincent-and-the-grenadines_quick-facts.csv\", \"has_header_row\": \"1\"}"
       ]
      },
      {
       "output_type": "stream",
       "stream": "stdout",
       "text": [
        "\n",
        "{\"source\": \"\", \"delimiter\": \",\", \"type\": \"csv\", \"date\": \"2014-02-20 11:35:47\", \"pk\": \"\", \"start_row\": \"0\", \"description\": \"ECLAC country profile - Saint Vincent and the Grenadines: Government officials\", \"language\": \"English\", \"title\": \"ECLAC country profile - Saint Vincent and the Grenadines: Government officials\", \"rights\": \"License Not Specified\", \"uri\": \"/www/datatank/data/profiles/saint-vincent-and-the-grenadines_government-officials.csv\", \"has_header_row\": \"1\"}"
       ]
      },
      {
       "output_type": "stream",
       "stream": "stdout",
       "text": [
        "\n",
        "{\"source\": \"\", \"delimiter\": \",\", \"type\": \"csv\", \"date\": \"2014-02-20 11:35:48\", \"pk\": \"\", \"start_row\": \"0\", \"description\": \"ECLAC country profile - Suriname: Quick facts\", \"language\": \"English\", \"title\": \"ECLAC country profile - Suriname: Quick facts\", \"rights\": \"License Not Specified\", \"uri\": \"/www/datatank/data/profiles/suriname_quick-facts.csv\", \"has_header_row\": \"1\"}"
       ]
      },
      {
       "output_type": "stream",
       "stream": "stdout",
       "text": [
        "\n",
        "{\"source\": \"\", \"delimiter\": \",\", \"type\": \"csv\", \"date\": \"2014-02-20 11:35:48\", \"pk\": \"\", \"start_row\": \"0\", \"description\": \"ECLAC country profile - Suriname: Government officials\", \"language\": \"English\", \"title\": \"ECLAC country profile - Suriname: Government officials\", \"rights\": \"License Not Specified\", \"uri\": \"/www/datatank/data/profiles/suriname_government-officials.csv\", \"has_header_row\": \"1\"}"
       ]
      },
      {
       "output_type": "stream",
       "stream": "stdout",
       "text": [
        "\n",
        "{\"source\": \"\", \"delimiter\": \",\", \"type\": \"csv\", \"date\": \"2014-02-20 11:35:48\", \"pk\": \"\", \"start_row\": \"0\", \"description\": \"ECLAC country profile - Trinidad and Tobago: Quick facts\", \"language\": \"English\", \"title\": \"ECLAC country profile - Trinidad and Tobago: Quick facts\", \"rights\": \"License Not Specified\", \"uri\": \"/www/datatank/data/profiles/trinidad-and-tobago_quick-facts.csv\", \"has_header_row\": \"1\"}"
       ]
      },
      {
       "output_type": "stream",
       "stream": "stdout",
       "text": [
        "\n",
        "{\"source\": \"\", \"delimiter\": \",\", \"type\": \"csv\", \"date\": \"2014-02-20 11:35:48\", \"pk\": \"\", \"start_row\": \"0\", \"description\": \"ECLAC country profile - Trinidad and Tobago: Government officials\", \"language\": \"English\", \"title\": \"ECLAC country profile - Trinidad and Tobago: Government officials\", \"rights\": \"License Not Specified\", \"uri\": \"/www/datatank/data/profiles/trinidad-and-tobago_government-officials.csv\", \"has_header_row\": \"1\"}"
       ]
      },
      {
       "output_type": "stream",
       "stream": "stdout",
       "text": [
        "\n",
        "{\"source\": \"\", \"delimiter\": \",\", \"type\": \"csv\", \"date\": \"2014-02-20 11:35:49\", \"pk\": \"\", \"start_row\": \"0\", \"description\": \"ECLAC country profile - United States Virgin Islands: Quick facts\", \"language\": \"English\", \"title\": \"ECLAC country profile - United States Virgin Islands: Quick facts\", \"rights\": \"License Not Specified\", \"uri\": \"/www/datatank/data/profiles/united-states-virgin-islands_quick-facts.csv\", \"has_header_row\": \"1\"}"
       ]
      },
      {
       "output_type": "stream",
       "stream": "stdout",
       "text": [
        "\n",
        "{\"source\": \"\", \"delimiter\": \",\", \"type\": \"csv\", \"date\": \"2014-02-20 11:35:49\", \"pk\": \"\", \"start_row\": \"0\", \"description\": \"ECLAC country profile - United States Virgin Islands: Government officials\", \"language\": \"English\", \"title\": \"ECLAC country profile - United States Virgin Islands: Government officials\", \"rights\": \"License Not Specified\", \"uri\": \"/www/datatank/data/profiles/united-states-virgin-islands_government-officials.csv\", \"has_header_row\": \"1\"}"
       ]
      },
      {
       "output_type": "stream",
       "stream": "stdout",
       "text": [
        "\n"
       ]
      }
     ],
     "prompt_number": 174
    },
    {
     "cell_type": "code",
     "collapsed": false,
     "input": [
      "chatter = True"
     ],
     "language": "python",
     "metadata": {},
     "outputs": [],
     "prompt_number": 152
    },
    {
     "cell_type": "code",
     "collapsed": false,
     "input": [],
     "language": "python",
     "metadata": {},
     "outputs": []
    }
   ],
   "metadata": {}
  }
 ]
}