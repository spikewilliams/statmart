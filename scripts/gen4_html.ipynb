{
 "metadata": {
  "name": ""
 },
 "nbformat": 3,
 "nbformat_minor": 0,
 "worksheets": [
  {
   "cells": [
    {
     "cell_type": "code",
     "collapsed": false,
     "input": [
      "from settings_statmart import *\n",
      "import unittest\n",
      "\n",
      "TEST = unittest.TestCase()\n"
     ],
     "language": "python",
     "metadata": {},
     "outputs": [],
     "prompt_number": 7
    },
    {
     "cell_type": "code",
     "collapsed": false,
     "input": [
      "def tag(tag, html, attributes=[]):\n",
      "    attribute_str = \"\";\n",
      "    space = \"\"\n",
      "    for (name, value) in attributes:\n",
      "        attribute_str = attribute_str + space + name + \"='\" + value + \"'\";\n",
      "        space = \" \"\n",
      "    attribute_str = space + attribute_str\n",
      "    return \"<\" + tag + attribute_str + \">\" + html + \"</\" + tag + \">\"\n",
      "\n",
      "def html(html, attributes=[]):\n",
      "    doctype = \"<!DOCTYPE html>\\n\"\n",
      "    return doctype + tag(\"html\", html, attributes)\n",
      "\n",
      "def head(html, attributes=[]):\n",
      "    return tag(\"head\", html, attributes)\n",
      "\n",
      "def meta(attributes=[]):\n",
      "    attribute_str = \"\";\n",
      "    space = \"\"\n",
      "    for (name, value) in attributes:\n",
      "        attribute_str = attribute_str + space + name + \"='\" + value + \"'\";\n",
      "        space = \" \"\n",
      "    return \"<meta \" + attribute_str + \"/>\"\n",
      "\n",
      "def title(html, attributes=[]):\n",
      "    return tag(\"title\", html, attributes)\n",
      "\n",
      "def style(html, attributes=[]):\n",
      "    return tag(\"style\", html, attributes)\n",
      "\n",
      "def body(html, attributes=[]):\n",
      "    return tag(\"body\", html, attributes)\n",
      "\n",
      "def div(html, attributes=[]):\n",
      "    return tag(\"div\", html, attributes)\n",
      "\n",
      "def script(js):\n",
      "    cdata = \"//<![CDATA[\\n\"\n",
      "    cdataend = \"\\n//]]>\"\n",
      "    return tag(\"script\", cdata + js + cdataend, [(\"type\",\"text/javascript\")])\n",
      "\n",
      "def script_ext(path):\n",
      "    return \"<script type='text/javascript' src='%s'></script>\" % (path)\n",
      "\n",
      "def php_include(filepath):\n",
      "    return \"<?php include('%s'); ?>\" % (filepath) #this is providing the full path\n",
      "    \n",
      "TEST.assertEqual(body(\"hello\", [(\"foo\",\"bar\"),(\"woo\",\"war\")]),\"<body foo='bar' woo='war'>hello</body>\")"
     ],
     "language": "python",
     "metadata": {},
     "outputs": [],
     "prompt_number": 11
    },
    {
     "cell_type": "code",
     "collapsed": false,
     "input": [
      "\n",
      "                    \n",
      "\n"
     ],
     "language": "python",
     "metadata": {},
     "outputs": [],
     "prompt_number": 10
    },
    {
     "cell_type": "code",
     "collapsed": false,
     "input": [],
     "language": "python",
     "metadata": {},
     "outputs": []
    }
   ],
   "metadata": {}
  }
 ]
}