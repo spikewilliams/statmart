{
 "metadata": {
  "name": ""
 },
 "nbformat": 3,
 "nbformat_minor": 0,
 "worksheets": [
  {
   "cells": [
    {
     "cell_type": "heading",
     "level": 1,
     "metadata": {},
     "source": [
      "Generation 3 database population library"
     ]
    },
    {
     "cell_type": "code",
     "collapsed": false,
     "input": [
      "import pandas as pd\n",
      "import pymysql\n",
      "\n",
      "import utils_statmart as us"
     ],
     "language": "python",
     "metadata": {},
     "outputs": [],
     "prompt_number": 2
    },
    {
     "cell_type": "markdown",
     "metadata": {},
     "source": [
      "Returns all data and metadata listed in the gen_2_dir/_prefix.csv file."
     ]
    },
    {
     "cell_type": "code",
     "collapsed": false,
     "input": [
      "def get_gen2_data(config):\n",
      "    data_list = []\n",
      "    filestems = pd.read_csv(config[\"gen_2_dir\"] + \"_\" + config[\"prefix\"] + \".csv\", encoding=\"utf-8\", header=False, squeeze=True,  dtype={'value': object})\n",
      "    for filestem in filestems:\n",
      "        iso3 = filestem.split(\"/\")[-1].split(\"_\")[1].upper()\n",
      "        metafile = config[\"gen_2_dir\"] + filestem + \"_meta.csv\"\n",
      "        meta = pd.read_csv(metafile, encoding=\"utf-8\", index_col=[\"key\"], squeeze=True)\n",
      "        datafile = config[\"gen_2_dir\"] + filestem + \".csv\"\n",
      "        data = pd.read_csv(datafile, encoding=\"utf-8\", index_col=[\"year\"], squeeze=True)\n",
      "        data_list.append((filestem.split(\"/\")[-1], iso3, meta, data))\n",
      "    return data_list"
     ],
     "language": "python",
     "metadata": {},
     "outputs": [],
     "prompt_number": 1
    },
    {
     "cell_type": "code",
     "collapsed": false,
     "input": [
      "def standard_load_from_data_list(data_list):\n",
      "    with us.get_db_connection() as cursor:\n",
      "        for (series_key, iso3, meta, data) in data_list:\n",
      "            cursor.execute(\"SELECT ID FROM location WHERE iso3 = %s AND divisionname IS NULL AND city IS NULL\", [iso3])\n",
      "            locationid = list(cursor)[0][0]\n",
      "            \n",
      "            cursor.execute(\"DELETE FROM series WHERE identifier = %s\", series_key)\n",
      "            cursor.execute(\"DELETE FROM observation WHERE series = %s\", series_key)\n",
      "            \n",
      "            series_fields = \"identifier, dataset, file, filehash, category, type, name, \" + \\\n",
      "                            \"description, originalsource, proximatesource, originalsourcelink, proximatesourcelink\"\n",
      "            insert_series = \"INSERT INTO series (\" + series_fields +\") VALUES (%s, %s, %s, %s, %s, %s, %s, %s, %s, %s, %s, %s)\" \n",
      "            values = [series_key]\n",
      "            for field in series_fields.split(\",\")[1:]:\n",
      "                field = field.strip()\n",
      "                if field in meta:\n",
      "                    values.append(meta[field])\n",
      "                else:\n",
      "                    values.append(None)\n",
      "            cursor.execute(insert_series, values)\n",
      "            \n",
      "            for date in data.index:\n",
      "                cursor.execute(\"SELECT ID FROM date WHERE year = %s AND month IS NULL AND day IS NULL\", [str(date)])\n",
      "                dateid = list(cursor)[0][0]\n",
      "                observation_fields = \"series, locationid, dateid, value, source, note\" \n",
      "                #full list of fields: `OBSERVATIONID`, `SERIESID`, `LOCATIONID`, `DATEID`, `NOTEID`, `DESCRIPTIONID`, `VALUE`, `UNITID`, `STATUSID`\n",
      "                insert_observation = \"INSERT INTO observation(\" + observation_fields + \") VALUES (%s, %s, %s, %s, %s, %s)\"\n",
      "                record = data.ix[date];\n",
      "                values  = [series_key, locationid, dateid, str(record[\"value\"]), str(record[\"source\"]), str(record[\"notes\"])]\n",
      "                cursor.execute(insert_observation, values)\n",
      "            cursor.execute(\"COMMIT\")"
     ],
     "language": "python",
     "metadata": {},
     "outputs": [],
     "prompt_number": 1
    }
   ],
   "metadata": {}
  }
 ]
}