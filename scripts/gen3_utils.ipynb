{
 "metadata": {
  "name": ""
 },
 "nbformat": 3,
 "nbformat_minor": 0,
 "worksheets": [
  {
   "cells": [
    {
     "cell_type": "heading",
     "level": 1,
     "metadata": {},
     "source": [
      "Generation 3 database population library"
     ]
    },
    {
     "cell_type": "code",
     "collapsed": false,
     "input": [
      "import pandas as pd\n",
      "import pymysql\n",
      "\n",
      "from settings_statmart import *\n",
      "\n",
      "import utils_statmart as us\n",
      "\n",
      "verbose = False"
     ],
     "language": "python",
     "metadata": {},
     "outputs": [],
     "prompt_number": 10
    },
    {
     "cell_type": "markdown",
     "metadata": {},
     "source": [
      "Returns all data and metadata listed in the gen_2_dir/_prefix.csv file."
     ]
    },
    {
     "cell_type": "code",
     "collapsed": false,
     "input": [
      "def get_gen2_data(config):\n",
      "    data_list = []\n",
      "    filestems = pd.read_csv(config[\"gen_2_dir\"] + \"_\" + config[\"prefix\"] + \".csv\", encoding=\"utf-8\", header=None, squeeze=True,  dtype={'value': object})\n",
      "    #filestems = open(config[\"gen_2_dir\"] + \"_\" + config[\"prefix\"] + \".csv\", \"r\").readlines()\n",
      "    for filestem in filestems:\n",
      "        iso3 = filestem.split(\"/\")[-1].split(\"_\")[1].upper()\n",
      "        metafile = config[\"gen_2_dir\"] + filestem + \"_meta.csv\"\n",
      "        meta = pd.read_csv(metafile, encoding=\"utf-8\", index_col=[\"key\"], squeeze=True)\n",
      "        datafile = config[\"gen_2_dir\"] + filestem + \".csv\"\n",
      "        data = pd.read_csv(datafile, encoding=\"utf-8\", squeeze=False)\n",
      "        data_list.append((filestem.split(\"/\")[-1], iso3, meta, data))\n",
      "    return data_list"
     ],
     "language": "python",
     "metadata": {},
     "outputs": [],
     "prompt_number": 2
    },
    {
     "cell_type": "code",
     "collapsed": false,
     "input": [
      "def get_translated_field(data, record, field):\n",
      "    val = \"\"\n",
      "    if field in list(data.columns): #meh\n",
      "        if (pd.isnull(record[field])):\n",
      "            val = \"\"\n",
      "        else:\n",
      "            val = get_translation_id(str(record[field]))\n",
      "    return val\n",
      "        \n",
      "def standard_load_from_data_list(data_list, observation_fields=\"series, locationid, dateid, value, source, note\"):\n",
      "    with us.get_db_connection() as cursor:\n",
      "        for (series_key, iso3, meta, data) in data_list:\n",
      "            cursor.execute(\"SELECT ID FROM location WHERE iso3 = %s AND divisionname IS NULL AND city IS NULL\", [iso3])\n",
      "            locationid = list(cursor)[0][0]\n",
      "            \n",
      "            cursor.execute(\"DELETE FROM series WHERE identifier = %s\", series_key)\n",
      "            cursor.execute(\"DELETE FROM observation WHERE series = %s\", series_key)\n",
      "            \n",
      "            series_fields = \"identifier, dataset, file, filehash, category, type, name, \" + \\\n",
      "                            \"description, originalsource, proximatesource, originalsourcelink, proximatesourcelink\"\n",
      "            insert_series = \"INSERT INTO series (\" + series_fields +\") VALUES (%s, %s, %s, %s, %s, %s, %s, %s, %s, %s, %s, %s)\" \n",
      "            values = [series_key]\n",
      "            for field in series_fields.split(\",\")[1:]:\n",
      "                field = field.strip()\n",
      "                if field in meta:\n",
      "                    if pd.isnull(meta[field]):\n",
      "                        values.append(None)\n",
      "                    else:\n",
      "                        values.append(meta[field])\n",
      "                else:\n",
      "                    values.append(None)\n",
      "            cursor.execute(insert_series, values)\n",
      "\n",
      "            for indx in data.index:\n",
      "                record = data.ix[indx];\n",
      "                values = []\n",
      "                valplaces = []\n",
      "                for field in observation_fields.split(\",\"):\n",
      "                    valplaces.append(\"%s\")\n",
      "                    field = field.strip()\n",
      "                    if field == \"dateid\": #TODO: this needs to be revisited; it assumes that \"year\" is the only date value\n",
      "                        cursor.execute(\"SELECT ID FROM date WHERE year = %s AND month IS NULL AND day IS NULL\", [str(record[\"year\"])])\n",
      "                        dateid = list(cursor)[0][0]        \n",
      "                        values.append(dateid)      \n",
      "                    \n",
      "                    if field == \"description\":\n",
      "                        values.append(get_translated_field(data, record, \"description\"))\n",
      "                \n",
      "                    if field == \"locationid\": #TODO: this needs to be revisited\n",
      "                        values.append(locationid)   \n",
      "                        \n",
      "                    if field == \"note\":        \n",
      "                        values.append(get_translated_field(data, record, \"note\"))\n",
      "                \n",
      "                    if field == \"series\":\n",
      "                        values.append(series_key)\n",
      "                        \n",
      "                    if field == \"source\":               \n",
      "                        values.append(get_translated_field(data, record, \"source\"))     \n",
      "                \n",
      "                    if field == \"value\":\n",
      "                        values.append(str(record[\"value\"]).strip())\n",
      "                                \n",
      "                insert_observation = \"INSERT INTO observation(\" + observation_fields + \") VALUES (\" + \", \".join(valplaces) + \")\"\n",
      "                # this logging can be very chatty\n",
      "                if verbose:\n",
      "                    us.log(insert_observation)\n",
      "                    us.log(values)\n",
      "                cursor.execute(insert_observation, values)\n",
      "            cursor.execute(\"COMMIT\")\n"
     ],
     "language": "python",
     "metadata": {},
     "outputs": [],
     "prompt_number": 12
    },
    {
     "cell_type": "code",
     "collapsed": false,
     "input": [
      "translation_id_cache = {}\n",
      "\n",
      "def get_translation_id(strn, lang=statmart_default_language):\n",
      "    cache_key = lang + \" \" + strn\n",
      "    if cache_key in translation_id_cache:\n",
      "        return translation_id_cache[cache_key]\n",
      "    if len(lang) > 2: # Since 'lang' is used outside of the prepared statement, we need to protect against SQL injection\n",
      "        raise Exception(\"Bad language: '%s' - this value must be a maximum of two characters.\")\n",
      "    with us.get_db_connection() as cursor:\n",
      "        query = \"SELECT id FROM translation WHERE \" + lang + \" = %s;\" \n",
      "        count = cursor.execute(query, [strn])\n",
      "        if count == 1:\n",
      "            id = list(cursor)[0][0]\n",
      "            translation_id_cache[cache_key] = id\n",
      "            return id\n",
      "        if count > 1:\n",
      "            raise Exception(\"There are multiple instances of the phrase '%s' in the database. This case is not currently supported.\")\n",
      "        query = \"INSERT INTO translation (\" + lang + \") VALUES (%s);\"\n",
      "        cursor.execute(query, [strn.strip()])\n",
      "        cursor.execute(\"SELECT LAST_INSERT_ID();\")\n",
      "        id = list(cursor)[0][0]\n",
      "        translation_id_cache[cache_key] = id\n",
      "        cursor.execute(\"COMMIT\")\n",
      "        return id"
     ],
     "language": "python",
     "metadata": {},
     "outputs": [],
     "prompt_number": 34
    },
    {
     "cell_type": "code",
     "collapsed": false,
     "input": [],
     "language": "python",
     "metadata": {},
     "outputs": [],
     "prompt_number": 27
    },
    {
     "cell_type": "code",
     "collapsed": false,
     "input": [],
     "language": "python",
     "metadata": {},
     "outputs": [],
     "prompt_number": 2
    },
    {
     "cell_type": "code",
     "collapsed": false,
     "input": [],
     "language": "python",
     "metadata": {},
     "outputs": []
    }
   ],
   "metadata": {}
  }
 ]
}