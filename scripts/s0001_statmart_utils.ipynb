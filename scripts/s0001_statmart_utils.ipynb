{
 "metadata": {
  "name": ""
 },
 "nbformat": 3,
 "nbformat_minor": 0,
 "worksheets": [
  {
   "cells": [
    {
     "cell_type": "code",
     "collapsed": false,
     "input": [
      "import pandas as pd\n",
      "import pymysql\n",
      "import pandas.io.sql as psql\n",
      "\n",
      "from hashlib import sha1\n",
      "\n",
      "\n",
      "from s0000_statmart_settings import *"
     ],
     "language": "python",
     "metadata": {},
     "outputs": [],
     "prompt_number": 6
    },
    {
     "cell_type": "markdown",
     "metadata": {},
     "source": [
      "Creates a MySQL database connection using the pymsql connector."
     ]
    },
    {
     "cell_type": "code",
     "collapsed": false,
     "input": [
      "def get_db_connection():\n",
      "    return pymysql.connect(host=statmart_db_host, \n",
      "            port=statmart_db_port, \n",
      "            user=statmart_db_user, \n",
      "            passwd=statmart_db_passwd,\n",
      "            db=statmart_db_schema)"
     ],
     "language": "python",
     "metadata": {},
     "outputs": [],
     "prompt_number": 7
    },
    {
     "cell_type": "markdown",
     "metadata": {},
     "source": [
      "Gets an SHA1 encryption of a file using the same encryption method as git. Note that this has not yet been validated for its intended git compatability."
     ]
    },
    {
     "cell_type": "code",
     "collapsed": false,
     "input": [
      "def githash(filepath):\n",
      "    datafile = open(filepath,\"rb\")\n",
      "    data = datafile.read()\n",
      "    datafile.close()\n",
      "    s = sha1()\n",
      "    s.update((\"blob %u\\0\" % len(data)).encode(\"utf-8\"))\n",
      "    s.update(data)\n",
      "    return s.hexdigest()"
     ],
     "language": "python",
     "metadata": {},
     "outputs": [],
     "prompt_number": 8
    },
    {
     "cell_type": "markdown",
     "metadata": {},
     "source": [
      "These functions retrieve data from country_base.csv, for use in processing datasets."
     ]
    },
    {
     "cell_type": "code",
     "collapsed": false,
     "input": [
      "iso3df = 0\n",
      "\n",
      "def get_iso3_country_df():\n",
      "    return pd.read_csv(statmart_dimensions_gen2 + \"base/country_base.csv\", encoding=\"utf-8\", usecols=[\"iso3\",\"name\"], index_col=[\"iso3\"])\n",
      "\n",
      "def get_country_by_iso3(iso3):\n",
      "    global iso3df\n",
      "    if isinstance(iso3df, int):\n",
      "        iso3df = get_iso3_country_df()\n",
      "    return iso3df.ix[iso3]['name']"
     ],
     "language": "python",
     "metadata": {},
     "outputs": [],
     "prompt_number": 9
    },
    {
     "cell_type": "markdown",
     "metadata": {},
     "source": [
      "This retrieves a set containing all unique index values in a DataFrame."
     ]
    },
    {
     "cell_type": "code",
     "collapsed": false,
     "input": [
      "def get_index_set(df): \n",
      "    myset = set()  \n",
      "    for indx in df.index: \n",
      "        myset.add(indx)\n",
      "    return myset"
     ],
     "language": "python",
     "metadata": {},
     "outputs": [],
     "prompt_number": 10
    },
    {
     "cell_type": "code",
     "collapsed": false,
     "input": [],
     "language": "python",
     "metadata": {},
     "outputs": []
    }
   ],
   "metadata": {}
  }
 ]
}