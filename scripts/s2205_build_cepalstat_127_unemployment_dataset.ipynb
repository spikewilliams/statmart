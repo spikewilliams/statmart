{
 "metadata": {
  "name": ""
 },
 "nbformat": 3,
 "nbformat_minor": 0,
 "worksheets": [
  {
   "cells": [
    {
     "cell_type": "heading",
     "level": 1,
     "metadata": {},
     "source": [
      "Build script for CEPALStat indicator #127: Unemployment"
     ]
    },
    {
     "cell_type": "markdown",
     "metadata": {},
     "source": [
      "This script creates csv files out of CEPALStat data, in  a format suitable for subsequent loading to the Statmart database. Each country with an available time series will have two csv files representing their data. The first contains the time series data, and the second will contain metadata about the time series. Additionally, the file \"\\_unemployment.csv\" will be created to list all the created files."
     ]
    },
    {
     "cell_type": "code",
     "collapsed": false,
     "input": [
      "import os, imp\n",
      "import pandas as pd\n",
      "\n",
      "from s0000_statmart_settings import *\n",
      "import s0001_statmart_utils as statmart_utils\n",
      "import s2201_cepalstat_utils as cepalstat_utils"
     ],
     "language": "python",
     "metadata": {},
     "outputs": [],
     "prompt_number": 1
    },
    {
     "cell_type": "markdown",
     "metadata": {},
     "source": [
      "Customize the below per this specfic dataset...."
     ]
    },
    {
     "cell_type": "code",
     "collapsed": false,
     "input": [
      "gen_1_dir = statmart_facts_gen1 + \"cepalstat/\"\n",
      "gen_2_dir = statmart_facts_gen2 + \"cepalstat/unemployment/\"\n",
      "\n",
      "prefix = \"unemployment\"\n",
      "suffix = \"cepalstat\"\n",
      "indicator_id = \"127\"\n",
      "indicator_name = \"Official unemployment rate\"\n",
      "indicator_category = \"Economic\"\n",
      "indicator_type = \"Unemployment\""
     ],
     "language": "python",
     "metadata": {},
     "outputs": [],
     "prompt_number": 2
    },
    {
     "cell_type": "markdown",
     "metadata": {},
     "source": [
      "We have two csv files pulled down from CEPALStat by a previous script. Lets take a look at what is in these files. First, the data file:"
     ]
    },
    {
     "cell_type": "code",
     "collapsed": false,
     "input": [
      "statfile = gen_1_dir + indicator_id + \"_all.csv\"\n",
      "df = pd.read_csv(statfile, encoding=\"utf-8\", index_col=[\"ISO3\"])\n",
      "df[:10] # have a look at a sample of the data"
     ],
     "language": "python",
     "metadata": {},
     "outputs": [
      {
       "html": [
        "<div style=\"max-height:1000px;max-width:1500px;overflow:auto;\">\n",
        "<table border=\"1\" class=\"dataframe\">\n",
        "  <thead>\n",
        "    <tr style=\"text-align: right;\">\n",
        "      <th></th>\n",
        "      <th>Country</th>\n",
        "      <th>Year</th>\n",
        "      <th>Value</th>\n",
        "      <th>Source</th>\n",
        "      <th>Notes</th>\n",
        "    </tr>\n",
        "    <tr>\n",
        "      <th>ISO3</th>\n",
        "      <th></th>\n",
        "      <th></th>\n",
        "      <th></th>\n",
        "      <th></th>\n",
        "      <th></th>\n",
        "    </tr>\n",
        "  </thead>\n",
        "  <tbody>\n",
        "    <tr>\n",
        "      <th>TTO</th>\n",
        "      <td> Trinidad and Tobago</td>\n",
        "      <td> 1986</td>\n",
        "      <td> 17.2</td>\n",
        "      <td> 36</td>\n",
        "      <td> 153</td>\n",
        "    </tr>\n",
        "    <tr>\n",
        "      <th>BRB</th>\n",
        "      <td>            Barbados</td>\n",
        "      <td> 1986</td>\n",
        "      <td> 19.0</td>\n",
        "      <td> 36</td>\n",
        "      <td> 153</td>\n",
        "    </tr>\n",
        "    <tr>\n",
        "      <th>JAM</th>\n",
        "      <td>             Jamaica</td>\n",
        "      <td> 1986</td>\n",
        "      <td> 23.7</td>\n",
        "      <td> 36</td>\n",
        "      <td> 153</td>\n",
        "    </tr>\n",
        "    <tr>\n",
        "      <th>BRB</th>\n",
        "      <td>            Barbados</td>\n",
        "      <td> 1987</td>\n",
        "      <td> 18.9</td>\n",
        "      <td> 36</td>\n",
        "      <td> 153</td>\n",
        "    </tr>\n",
        "    <tr>\n",
        "      <th>TTO</th>\n",
        "      <td> Trinidad and Tobago</td>\n",
        "      <td> 1987</td>\n",
        "      <td> 22.3</td>\n",
        "      <td> 36</td>\n",
        "      <td> 153</td>\n",
        "    </tr>\n",
        "    <tr>\n",
        "      <th>JAM</th>\n",
        "      <td>             Jamaica</td>\n",
        "      <td> 1987</td>\n",
        "      <td> 21.0</td>\n",
        "      <td> 36</td>\n",
        "      <td> 153</td>\n",
        "    </tr>\n",
        "    <tr>\n",
        "      <th>TTO</th>\n",
        "      <td> Trinidad and Tobago</td>\n",
        "      <td> 1988</td>\n",
        "      <td> 21.9</td>\n",
        "      <td> 36</td>\n",
        "      <td> 153</td>\n",
        "    </tr>\n",
        "    <tr>\n",
        "      <th>JAM</th>\n",
        "      <td>             Jamaica</td>\n",
        "      <td> 1988</td>\n",
        "      <td> 18.9</td>\n",
        "      <td> 36</td>\n",
        "      <td> 153</td>\n",
        "    </tr>\n",
        "    <tr>\n",
        "      <th>BRB</th>\n",
        "      <td>            Barbados</td>\n",
        "      <td> 1988</td>\n",
        "      <td> 17.3</td>\n",
        "      <td> 36</td>\n",
        "      <td> 153</td>\n",
        "    </tr>\n",
        "    <tr>\n",
        "      <th>JAM</th>\n",
        "      <td>             Jamaica</td>\n",
        "      <td> 1989</td>\n",
        "      <td> 18.0</td>\n",
        "      <td> 36</td>\n",
        "      <td> 153</td>\n",
        "    </tr>\n",
        "  </tbody>\n",
        "</table>\n",
        "<p>10 rows \u00d7 5 columns</p>\n",
        "</div>"
       ],
       "metadata": {},
       "output_type": "pyout",
       "prompt_number": 3,
       "text": [
        "                  Country  Year  Value  Source Notes\n",
        "ISO3                                                \n",
        "TTO   Trinidad and Tobago  1986   17.2      36   153\n",
        "BRB              Barbados  1986   19.0      36   153\n",
        "JAM               Jamaica  1986   23.7      36   153\n",
        "BRB              Barbados  1987   18.9      36   153\n",
        "TTO   Trinidad and Tobago  1987   22.3      36   153\n",
        "JAM               Jamaica  1987   21.0      36   153\n",
        "TTO   Trinidad and Tobago  1988   21.9      36   153\n",
        "JAM               Jamaica  1988   18.9      36   153\n",
        "BRB              Barbados  1988   17.3      36   153\n",
        "JAM               Jamaica  1989   18.0      36   153\n",
        "\n",
        "[10 rows x 5 columns]"
       ]
      }
     ],
     "prompt_number": 3
    },
    {
     "cell_type": "markdown",
     "metadata": {},
     "source": [
      "And the metadata:"
     ]
    },
    {
     "cell_type": "code",
     "collapsed": false,
     "input": [
      "metafile = gen_1_dir + indicator_id + \"_meta.csv\"\n",
      "metamap = cepalstat_utils.parse_meta_file(metafile)\n",
      "metamap"
     ],
     "language": "python",
     "metadata": {},
     "outputs": [
      {
       "metadata": {},
       "output_type": "pyout",
       "prompt_number": 4,
       "text": [
        "{258: 'New measurement since 2002; data are not comparable with previous years',\n",
        " 'source': 'Economic Commission for Latin America and the Caribbean: Economic Development Division.                                                                                                                                                                                                                                                                                                                                                                                  ',\n",
        " 6732: 'Data based on the average March, June and September',\n",
        " 4528: 'Data based on the average for January-June',\n",
        " 4529: 'Data based on the average for January-October',\n",
        " 339: 'Reference period: April',\n",
        " 5844: 'New measurement since 2010; data are not comparable with previous years',\n",
        " 'definition': 'Corresponds to the official unemployment rate of each country',\n",
        " 153: 'National, total. Includes hidden unemployment',\n",
        " 6554: 'Data based on the average for January-July',\n",
        " 156: 'National total',\n",
        " 'indicator': 'Unemployment rate (ECLAC)'}"
       ]
      }
     ],
     "prompt_number": 4
    },
    {
     "cell_type": "markdown",
     "metadata": {},
     "source": [
      "This part builds the csv files for each time series. The only thing we have to do is provide a function that customizes the metadata, and then have cepalstat_utils.build_files take care of the rest. Any tweaks to the default metadata values should be set in the get_metadata function."
     ]
    },
    {
     "cell_type": "code",
     "collapsed": false,
     "input": [
      "def get_metadata(iso3, meta_map):\n",
      "    country = statmart_utils.get_country_by_iso3(iso3)    \n",
      "    return [(\"name\", \"%s - %s [CEPALStat]\" % (country, indicator_name)),\n",
      "                (\"originalsource\", meta_map[\"source\"]),\n",
      "                (\"proximatesource\", \"CEPALStat\"),\n",
      "                (\"dataset\", meta_map[\"indicator\"] + \" [\" + indicator_id + \"]\"),\n",
      "                (\"description\", meta_map[\"definition\"]),\n",
      "                (\"category\", indicator_category),\n",
      "                (\"type\", indicator_type)\n",
      "                ]\n",
      "\n",
      "report = cepalstat_utils.build_files(df, get_metadata, metamap, gen_2_dir, prefix, suffix)\n",
      "print(\"%i series saved to %s\" % (len(report), gen_2_dir))\n",
      "report"
     ],
     "language": "python",
     "metadata": {},
     "outputs": [
      {
       "output_type": "stream",
       "stream": "stdout",
       "text": [
        "8 series saved to C:/portal/statmart/data/facts/gen2/cepalstat/unemployment/\n"
       ]
      },
      {
       "html": [
        "<div style=\"max-height:1000px;max-width:1500px;overflow:auto;\">\n",
        "<table border=\"1\" class=\"dataframe\">\n",
        "  <thead>\n",
        "    <tr style=\"text-align: right;\">\n",
        "      <th></th>\n",
        "      <th>0</th>\n",
        "    </tr>\n",
        "  </thead>\n",
        "  <tbody>\n",
        "    <tr>\n",
        "      <th>Bahamas</th>\n",
        "      <td> unemployment_bhs_cepalstat</td>\n",
        "    </tr>\n",
        "    <tr>\n",
        "      <th>Barbados</th>\n",
        "      <td> unemployment_brb_cepalstat</td>\n",
        "    </tr>\n",
        "    <tr>\n",
        "      <th>Belize</th>\n",
        "      <td> unemployment_blz_cepalstat</td>\n",
        "    </tr>\n",
        "    <tr>\n",
        "      <th>Cuba</th>\n",
        "      <td> unemployment_cub_cepalstat</td>\n",
        "    </tr>\n",
        "    <tr>\n",
        "      <th>Dominican Republic</th>\n",
        "      <td> unemployment_dom_cepalstat</td>\n",
        "    </tr>\n",
        "    <tr>\n",
        "      <th>Jamaica</th>\n",
        "      <td> unemployment_jam_cepalstat</td>\n",
        "    </tr>\n",
        "    <tr>\n",
        "      <th>Suriname</th>\n",
        "      <td> unemployment_sur_cepalstat</td>\n",
        "    </tr>\n",
        "    <tr>\n",
        "      <th>Trinidad and Tobago</th>\n",
        "      <td> unemployment_tto_cepalstat</td>\n",
        "    </tr>\n",
        "  </tbody>\n",
        "</table>\n",
        "<p>8 rows \u00d7 1 columns</p>\n",
        "</div>"
       ],
       "metadata": {},
       "output_type": "pyout",
       "prompt_number": 5,
       "text": [
        "                                              0\n",
        "Bahamas              unemployment_bhs_cepalstat\n",
        "Barbados             unemployment_brb_cepalstat\n",
        "Belize               unemployment_blz_cepalstat\n",
        "Cuba                 unemployment_cub_cepalstat\n",
        "Dominican Republic   unemployment_dom_cepalstat\n",
        "Jamaica              unemployment_jam_cepalstat\n",
        "Suriname             unemployment_sur_cepalstat\n",
        "Trinidad and Tobago  unemployment_tto_cepalstat\n",
        "\n",
        "[8 rows x 1 columns]"
       ]
      }
     ],
     "prompt_number": 5
    },
    {
     "cell_type": "code",
     "collapsed": false,
     "input": [],
     "language": "python",
     "metadata": {},
     "outputs": []
    }
   ],
   "metadata": {}
  }
 ]
}